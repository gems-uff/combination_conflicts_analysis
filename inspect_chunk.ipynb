{
 "cells": [
  {
   "cell_type": "code",
   "execution_count": 1,
   "metadata": {},
   "outputs": [],
   "source": [
    "from inspect_util import Chunk\n",
    "from inspect_util import print_line_with_context\n",
    "from partial_order import has_partial_order\n",
    "from partial_order import get_clean_solution\n",
    "from partial_order import get_violation_line\n",
    "from partial_order import print_matrix\n",
    "from partial_order import normalize_lines\n",
    "from partial_order import remove_empty_lines"
   ]
  },
  {
   "cell_type": "markdown",
   "metadata": {},
   "source": [
    "# Conflict chunk"
   ]
  },
  {
   "cell_type": "code",
   "execution_count": 2,
   "metadata": {
    "scrolled": false
   },
   "outputs": [
    {
     "name": "stdout",
     "output_type": "stream",
     "text": [
      "True\n"
     ]
    }
   ],
   "source": [
    "CHUNK_ID = 778801\n",
    "chunk = Chunk(CHUNK_ID)\n",
    "clean_solution = get_clean_solution(chunk.resolution, chunk.before_context, chunk.after_context)\n",
    "violates = False\n",
    "solution_matrix = []\n",
    "if clean_solution != None:\n",
    "        partial_order, solution_matrix = has_partial_order(chunk.v1, chunk.v2, chunk.before_context, chunk.after_context, clean_solution, CHUNK_ID)\n",
    "        violates = not partial_order\n",
    "else:\n",
    "    print('The resolution cannot be isolated from the context.')\n",
    "print(violates)"
   ]
  },
  {
   "cell_type": "markdown",
   "metadata": {},
   "source": [
    "First line in the resolution that violates the partial order from one of the sides"
   ]
  },
  {
   "cell_type": "code",
   "execution_count": 3,
   "metadata": {},
   "outputs": [
    {
     "name": "stdout",
     "output_type": "stream",
     "text": [
      "\n",
      "/**\n",
      "*Zeemotecontroller\n",
      "----\n",
      "*/\n",
      "----\n",
      "//Controllercontroller=null;\n",
      "ControllerAndroidUicontrollerUi;\n",
      "\n"
     ]
    }
   ],
   "source": [
    "if violates:\n",
    "    violation_line, index_violation, match = get_violation_line(solution_matrix, clean_solution)\n",
    "    print_line_with_context(clean_solution, index_violation, context_lines_amount = 3)"
   ]
  },
  {
   "cell_type": "markdown",
   "metadata": {},
   "source": [
    "Conflict text"
   ]
  },
  {
   "cell_type": "code",
   "execution_count": 4,
   "metadata": {
    "scrolled": false
   },
   "outputs": [
    {
     "name": "stdout",
     "output_type": "stream",
     "text": [
      "     */    \n",
      " \tprivate GestureDetector gestureDetector;\n",
      " \tView.OnTouchListener gestureListener;\n",
      "<<<<<<<\n",
      "\n",
      "\t/**\n",
      "     * Gesture Allocation\n",
      "     */\n",
      " \tprivate int mGestureSwipeUp;\n",
      " \tprivate int mGestureSwipeDown;\n",
      " \tprivate int mGestureSwipeLeft;\n",
      " \tprivate int mGestureSwipeRight;\n",
      " \tprivate int mGestureShake;\n",
      " \tprivate int mGestureDoubleTap;\n",
      " \tprivate int mGestureTapLeft;\n",
      " \tprivate int mGestureTapRight;\n",
      " \tprivate int mGestureTapTop;\n",
      " \tprivate int mGestureTapBottom;\n",
      "\n",
      " \tprivate static final int GESTURE_NOTHING = 0;\n",
      " \tprivate static final int GESTURE_ANSWER_EASE1 = 1;\n",
      " \tprivate static final int GESTURE_ANSWER_EASE2 = 2;\n",
      " \tprivate static final int GESTURE_ANSWER_EASE3 = 3;\n",
      " \tprivate static final int GESTURE_ANSWER_EASE4 = 4;\n",
      " \tprivate static final int GESTURE_ANSWER_RECOMMENDED = 5;\n",
      " \tprivate static final int GESTURE_ANSWER_BETTER_THAN_RECOMMENDED = 6;\n",
      " \tprivate static final int GESTURE_UNDO = 7;\n",
      " \tprivate static final int GESTURE_REDO = 8;\n",
      " \tprivate static final int GESTURE_EDIT = 9;\n",
      " \tprivate static final int GESTURE_MARK = 10;\n",
      " \tprivate static final int GESTURE_LOOKUP = 11;\n",
      " \tprivate static final int GESTURE_BURY= 12;\n",
      " \tprivate static final int GESTURE_SUSPEND = 13;\n",
      " \tprivate static final int GESTURE_DELETE = 14;\n",
      " \tprivate static final int GESTURE_CLEAR_WHITEBOARD = 15;\n",
      " \tprivate static final int GESTURE_EXIT = 16;\n",
      "\n",
      "=======\n",
      " \t\n",
      " \tprivate int zEase;\n",
      " \t\n",
      " \t/**\n",
      " \t * Zeemote controller\n",
      " \t */\n",
      " \t//Controller controller = null;\n",
      " \tControllerAndroidUi controllerUi;\n",
      ">>>>>>>\n",
      "\n",
      "    // ----------------------------------------------------------------------------\n",
      "    // LISTENERS\n",
      "\n",
      "\n"
     ]
    }
   ],
   "source": [
    "print(chunk.get_conflict_text())"
   ]
  },
  {
   "cell_type": "markdown",
   "metadata": {},
   "source": [
    "# Resolution"
   ]
  },
  {
   "cell_type": "code",
   "execution_count": 5,
   "metadata": {
    "scrolled": false
   },
   "outputs": [
    {
     "name": "stdout",
     "output_type": "stream",
     "text": [
      "     */    \n",
      " \tprivate GestureDetector gestureDetector;\n",
      " \tView.OnTouchListener gestureListener;\n",
      "\n",
      "\t/**\n",
      "     * Gesture Allocation\n",
      "     */\n",
      " \tprivate int mGestureSwipeUp;\n",
      " \tprivate int mGestureSwipeDown;\n",
      " \tprivate int mGestureSwipeLeft;\n",
      " \tprivate int mGestureSwipeRight;\n",
      " \tprivate int mGestureShake;\n",
      " \tprivate int mGestureDoubleTap;\n",
      " \tprivate int mGestureTapLeft;\n",
      " \tprivate int mGestureTapRight;\n",
      " \tprivate int mGestureTapTop;\n",
      " \tprivate int mGestureTapBottom;\n",
      "\n",
      " \tprivate static final int GESTURE_NOTHING = 0;\n",
      " \tprivate static final int GESTURE_ANSWER_EASE1 = 1;\n",
      " \tprivate static final int GESTURE_ANSWER_EASE2 = 2;\n",
      " \tprivate static final int GESTURE_ANSWER_EASE3 = 3;\n",
      " \tprivate static final int GESTURE_ANSWER_EASE4 = 4;\n",
      " \tprivate static final int GESTURE_ANSWER_RECOMMENDED = 5;\n",
      " \tprivate static final int GESTURE_ANSWER_BETTER_THAN_RECOMMENDED = 6;\n",
      " \tprivate static final int GESTURE_UNDO = 7;\n",
      " \tprivate static final int GESTURE_REDO = 8;\n",
      " \tprivate static final int GESTURE_EDIT = 9;\n",
      " \tprivate static final int GESTURE_MARK = 10;\n",
      " \tprivate static final int GESTURE_LOOKUP = 11;\n",
      " \tprivate static final int GESTURE_BURY= 12;\n",
      " \tprivate static final int GESTURE_SUSPEND = 13;\n",
      " \tprivate static final int GESTURE_DELETE = 14;\n",
      " \tprivate static final int GESTURE_CLEAR_WHITEBOARD = 15;\n",
      " \tprivate static final int GESTURE_EXIT = 16;\n",
      "\n",
      " \t/**\n",
      " \t * Zeemote controller\n",
      " \t */\n",
      " \t//Controller controller = null;\n",
      " \tControllerAndroidUi controllerUi;\n",
      "\n",
      "    private int zEase;\n",
      "    \n",
      "    // ----------------------------------------------------------------------------\n",
      "    // LISTENERS\n",
      "\n"
     ]
    }
   ],
   "source": [
    "print(chunk.resolution)\n",
    "# text omitted, too big"
   ]
  },
  {
   "cell_type": "code",
   "execution_count": 6,
   "metadata": {},
   "outputs": [
    {
     "name": "stdout",
     "output_type": "stream",
     "text": [
      "[0, 0, 1, 1, 1, 1, 1]\n",
      "[1, 1, 1, 1, 1, 1, 1]\n",
      "[2, 2, 2, 2, 3, 3, 3]\n",
      "[3, 3, 3, 3, 3, 3, 3]\n",
      "[4, 4, 4, 4, 4, 4, 4]\n",
      "[5, 5, 5, 5, 5, 5, 5]\n",
      "[6, 6, 6, 6, 6, 6, 6]\n",
      "[7, 7, 7, 7, 7, 7, 7]\n",
      "[8, 8, 8, 8, 8, 8, 8]\n",
      "[9, 9, 9, 9, 9, 9, 9]\n",
      "[10, 10, 10, 10, 10, 10, 10]\n",
      "[11, 11, 11, 11, 11, 11, 11]\n",
      "[12, 12, 12, 12, 12, 12, 12]\n",
      "[13, 13, 13, 13, 13, 13, 13]\n",
      "[14, 14, 14, 14, 14, 14, 14]\n",
      "[15, 15, 15, 15, 15, 15, 15]\n",
      "[16, 16, 16, 16, 16, 16, 16]\n",
      "[17, 17, 17, 17, 17, 17, 17]\n",
      "[18, 18, 18, 18, 18, 18, 18]\n",
      "[19, 19, 19, 19, 19, 19, 19]\n",
      "[20, 20, 20, 20, 20, 20, 20]\n",
      "[21, 21, 21, 21, 21, 21, 21]\n",
      "[22, 22, 22, 22, 22, 22, 22]\n",
      "[23, 23, 23, 23, 23, 23, 23]\n",
      "[24, 24, 24, 24, 24, 24, 24]\n",
      "[25, 25, 25, 25, 25, 25, 25]\n",
      "[26, 26, 26, 26, 26, 26, 26]\n",
      "[27, 27, 27, 27, 27, 27, 27]\n",
      "[28, 28, 28, 28, 28, 28, 28]\n",
      "[29, 29, 29, 29, 29, 29, 29]\n",
      "[30, 30, 31, 32, 33, 34, 35]\n",
      "\n"
     ]
    }
   ],
   "source": [
    "print_matrix(solution_matrix)"
   ]
  },
  {
   "cell_type": "code",
   "execution_count": 7,
   "metadata": {
    "scrolled": false
   },
   "outputs": [
    {
     "data": {
      "text/plain": [
       "[]"
      ]
     },
     "execution_count": 7,
     "metadata": {},
     "output_type": "execute_result"
    }
   ],
   "source": [
    "match"
   ]
  },
  {
   "cell_type": "code",
   "execution_count": null,
   "metadata": {},
   "outputs": [],
   "source": []
  }
 ],
 "metadata": {
  "interpreter": {
   "hash": "ba8b8902bd6837e679b9c6dd4fd4f388514857329c6f0a22599e2859d4d8f900"
  },
  "kernelspec": {
   "display_name": "Python 3",
   "language": "python",
   "name": "python3"
  },
  "language_info": {
   "codemirror_mode": {
    "name": "ipython",
    "version": 3
   },
   "file_extension": ".py",
   "mimetype": "text/x-python",
   "name": "python",
   "nbconvert_exporter": "python",
   "pygments_lexer": "ipython3",
   "version": "3.8.5"
  }
 },
 "nbformat": 4,
 "nbformat_minor": 4
}
