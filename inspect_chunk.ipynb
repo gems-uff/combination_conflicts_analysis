{
 "cells": [
  {
   "cell_type": "code",
   "execution_count": 1,
   "metadata": {},
   "outputs": [],
   "source": [
    "from inspect_util import Chunk\n",
    "from inspect_util import print_line_with_context\n",
    "from partial_order import has_partial_order\n",
    "from partial_order import get_clean_solution\n",
    "from partial_order import get_violation_line\n",
    "from partial_order import print_matrix\n",
    "from partial_order import normalize_lines\n",
    "from partial_order import remove_empty_lines"
   ]
  },
  {
   "cell_type": "markdown",
   "metadata": {},
   "source": [
    "# Conflict chunk"
   ]
  },
  {
   "cell_type": "code",
   "execution_count": 2,
   "metadata": {
    "scrolled": false
   },
   "outputs": [
    {
     "name": "stdout",
     "output_type": "stream",
     "text": [
      "True\n"
     ]
    }
   ],
   "source": [
    "CHUNK_ID = 964098\n",
    "\n",
    "chunk = Chunk(CHUNK_ID)\n",
    "clean_solution = get_clean_solution(chunk.resolution, chunk.before_context, chunk.after_context)\n",
    "violates = False\n",
    "solution_matrix = []\n",
    "if clean_solution != None:\n",
    "        partial_order, solution_matrix = has_partial_order(chunk.v1, chunk.v2, chunk.before_context, chunk.after_context, clean_solution, CHUNK_ID)\n",
    "        violates = not partial_order\n",
    "else:\n",
    "    print('The resolution cannot be isolated from the context.')\n",
    "print(violates)"
   ]
  },
  {
   "cell_type": "markdown",
   "metadata": {},
   "source": [
    "First line in the resolution that violates the partial order from one of the sides"
   ]
  },
  {
   "cell_type": "code",
   "execution_count": 3,
   "metadata": {},
   "outputs": [
    {
     "name": "stdout",
     "output_type": "stream",
     "text": [
      "----\n",
      "//========================================================================\n",
      "----\n",
      "\n",
      "//Usedforcheckingoriginorrefererisanoriginpolicyisenabled\n",
      "privateStringextractOriginOrReferer(HttpExchangepExchange){\n"
     ]
    }
   ],
   "source": [
    "if violates:\n",
    "    violation_line, index_violation, match = get_violation_line(solution_matrix, clean_solution)\n",
    "    print_line_with_context(clean_solution, index_violation, context_lines_amount = 3)"
   ]
  },
  {
   "cell_type": "markdown",
   "metadata": {},
   "source": [
    "Conflict text"
   ]
  },
  {
   "cell_type": "code",
   "execution_count": 4,
   "metadata": {
    "scrolled": false
   },
   "outputs": [
    {
     "name": "stdout",
     "output_type": "stream",
     "text": [
      "        }\n",
      "    }\n",
      "\n",
      "<<<<<<<\n",
      "=======\n",
      "\n",
      "    private Restrictor createRestrictor(Configuration pConfig) {\n",
      "        String location = pConfig.get(ConfigKey.POLICY_LOCATION);\n",
      "        try {\n",
      "            Restrictor ret = RestrictorFactory.lookupPolicyRestrictor(location);\n",
      "            if (ret != null) {\n",
      "                logHandler.info(\"Using access restrictor \" + location);\n",
      "                return ret;\n",
      "            } else {\n",
      "                logHandler.info(\"No access restrictor found, access to all MBean is allowed\");\n",
      "                return new AllowAllRestrictor();\n",
      "            }\n",
      "        } catch (IOException e) {\n",
      "            logHandler.error(\"Error while accessing access restrictor at \" + location +\n",
      "                             \". Denying all access to MBeans for security reasons. Exception: \" + e, e);\n",
      "            return new DenyAllRestrictor();\n",
      "        }\n",
      "    }\n",
      "\n",
      "\n",
      "    // Used for checking origin or referer is an origin policy is enabled\n",
      "    private String extractOriginOrReferer(HttpExchange pExchange) {\n",
      "        Headers headers = pExchange.getRequestHeaders();\n",
      "        String origin = headers.getFirst(\"Origin\");\n",
      "        if (origin == null) {\n",
      "            origin = headers.getFirst(\"Referer\");\n",
      "        }\n",
      "        return origin != null ? origin.replaceAll(\"[\\\\n\\\\r]*\",\"\") : null;\n",
      "    }\n",
      "\n",
      ">>>>>>>\n",
      "    private JSONAware executeGetRequest(ParsedUri parsedUri) {\n",
      "        return requestHandler.handleGetRequest(parsedUri.getUri().toString(),parsedUri.getPathInfo(), parsedUri.getParameterMap());\n",
      "    }\n",
      "\n",
      "\n"
     ]
    }
   ],
   "source": [
    "print(chunk.get_conflict_text())"
   ]
  },
  {
   "cell_type": "markdown",
   "metadata": {},
   "source": [
    "# Resolution"
   ]
  },
  {
   "cell_type": "code",
   "execution_count": 5,
   "metadata": {
    "scrolled": false
   },
   "outputs": [
    {
     "name": "stdout",
     "output_type": "stream",
     "text": [
      "        }\n",
      "    }\n",
      "\n",
      "    // ========================================================================\n",
      "\n",
      "    // Used for checking origin or referer is an origin policy is enabled\n",
      "    private String extractOriginOrReferer(HttpExchange pExchange) {\n",
      "        Headers headers = pExchange.getRequestHeaders();\n",
      "        String origin = headers.getFirst(\"Origin\");\n",
      "        if (origin == null) {\n",
      "            origin = headers.getFirst(\"Referer\");\n",
      "        }\n",
      "        return origin != null ? origin.replaceAll(\"[\\\\n\\\\r]*\",\"\") : null;\n",
      "    }\n",
      "\n",
      "    private JSONAware executeGetRequest(ParsedUri parsedUri) {\n",
      "        return requestHandler.handleGetRequest(parsedUri.getUri().toString(),parsedUri.getPathInfo(), parsedUri.getParameterMap());\n",
      "    }\n",
      "\n"
     ]
    }
   ],
   "source": [
    "print(chunk.resolution)\n",
    "# text omitted, too big"
   ]
  },
  {
   "cell_type": "code",
   "execution_count": 6,
   "metadata": {},
   "outputs": [
    {
     "name": "stdout",
     "output_type": "stream",
     "text": [
      "[0, 0]\n",
      "[1, 1]\n",
      "[2, 2]\n",
      "[3, 3]\n",
      "[4, 4]\n",
      "[5, 5]\n",
      "[6, 6]\n",
      "[7, 7]\n",
      "[8, 8]\n",
      "[9, 9]\n",
      "[10, 10]\n",
      "[11, 11]\n",
      "[12, 12]\n",
      "[13, 13]\n",
      "[14, 14]\n",
      "[15, 16]\n",
      "[None, None]\n",
      "\n"
     ]
    }
   ],
   "source": [
    "print_matrix(solution_matrix)"
   ]
  },
  {
   "cell_type": "code",
   "execution_count": 7,
   "metadata": {
    "scrolled": false
   },
   "outputs": [
    {
     "ename": "NameError",
     "evalue": "name 'match' is not defined",
     "output_type": "error",
     "traceback": [
      "\u001b[0;31m---------------------------------------------------------------------------\u001b[0m",
      "\u001b[0;31mNameError\u001b[0m                                 Traceback (most recent call last)",
      "\u001b[0;32m<ipython-input-7-ac43cdef79f4>\u001b[0m in \u001b[0;36m<module>\u001b[0;34m\u001b[0m\n\u001b[0;32m----> 1\u001b[0;31m \u001b[0mmatch\u001b[0m\u001b[0;34m\u001b[0m\u001b[0;34m\u001b[0m\u001b[0m\n\u001b[0m",
      "\u001b[0;31mNameError\u001b[0m: name 'match' is not defined"
     ]
    }
   ],
   "source": [
    "match"
   ]
  },
  {
   "cell_type": "code",
   "execution_count": null,
   "metadata": {},
   "outputs": [],
   "source": []
  }
 ],
 "metadata": {
  "interpreter": {
   "hash": "ba8b8902bd6837e679b9c6dd4fd4f388514857329c6f0a22599e2859d4d8f900"
  },
  "kernelspec": {
   "display_name": "Python 3",
   "language": "python",
   "name": "python3"
  },
  "language_info": {
   "codemirror_mode": {
    "name": "ipython",
    "version": 3
   },
   "file_extension": ".py",
   "mimetype": "text/x-python",
   "name": "python",
   "nbconvert_exporter": "python",
   "pygments_lexer": "ipython3",
   "version": "3.7.4"
  }
 },
 "nbformat": 4,
 "nbformat_minor": 4
}
