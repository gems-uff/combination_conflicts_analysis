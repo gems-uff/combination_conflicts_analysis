{
 "cells": [
  {
   "cell_type": "code",
   "execution_count": 1,
   "metadata": {},
   "outputs": [],
   "source": [
    "from inspect_util import Chunk"
   ]
  },
  {
   "cell_type": "markdown",
   "metadata": {},
   "source": [
    "# Conflict chunk"
   ]
  },
  {
   "cell_type": "code",
   "execution_count": 18,
   "metadata": {
    "scrolled": false
   },
   "outputs": [
    {
     "name": "stdout",
     "output_type": "stream",
     "text": [
      "    } else {\n",
      "      // lexically-scoped variables should be read from their scope each time\n",
      "      int result = context.currentScope().allocateTempValue();\n",
      "<<<<<<<\n",
      "      Access A = new Access(name, getEntityName(E), result);\n",
      "      context.cfg().addInstruction(new AstLexicalRead(context.cfg().currentInstruction, A));\n",
      "=======\n",
      "//<<<<<<< .mine\n",
      "//      Access A = new Access(name, context.getEntityName(E), result);\n",
      "      Access A = new Access(name, entityName, result);\n",
      ">>>>>>>\n",
      "      context.cfg().addInstruction(new AstLexicalRead(A));\n",
      "      markExposedInEnclosingEntities(context, name, definingScope, E, entityName, false);\n",
      "      return result;\n",
      "    }\n",
      "  }\n",
      "\n",
      "\n"
     ]
    }
   ],
   "source": [
    "CHUNK_ID = 1392568\n",
    "chunk = Chunk(CHUNK_ID)\n",
    "print(chunk.get_conflict_text())"
   ]
  },
  {
   "cell_type": "markdown",
   "metadata": {},
   "source": [
    "# Resolution"
   ]
  },
  {
   "cell_type": "code",
   "execution_count": 19,
   "metadata": {
    "scrolled": true
   },
   "outputs": [
    {
     "name": "stdout",
     "output_type": "stream",
     "text": [
      "    } else {\n",
      "      // lexically-scoped variables should be read from their scope each time\n",
      "      int result = context.currentScope().allocateTempValue();\n",
      "//<<<<<<< .mine\n",
      "//      Access A = new Access(name, context.getEntityName(E), result);\n",
      "//=======\n",
      "      Access A = new Access(name, entityName, result);\n",
      "      context.cfg().addInstruction(new AstLexicalRead(context.cfg().currentInstruction, A));\n",
      "      markExposedInEnclosingEntities(context, name, definingScope, E, entityName, false);\n",
      "      return result;\n",
      "    }\n",
      "  }\n",
      "\n"
     ]
    }
   ],
   "source": [
    "print(chunk.resolution)"
   ]
  },
  {
   "cell_type": "markdown",
   "metadata": {},
   "source": [
    "The line containing \"//=======\" in the resolution is not present in the conflicting chunk (including the context)"
   ]
  },
  {
   "cell_type": "code",
   "execution_count": null,
   "metadata": {},
   "outputs": [],
   "source": []
  }
 ],
 "metadata": {
  "interpreter": {
   "hash": "ba8b8902bd6837e679b9c6dd4fd4f388514857329c6f0a22599e2859d4d8f900"
  },
  "kernelspec": {
   "display_name": "Python 3",
   "language": "python",
   "name": "python3"
  },
  "language_info": {
   "codemirror_mode": {
    "name": "ipython",
    "version": 3
   },
   "file_extension": ".py",
   "mimetype": "text/x-python",
   "name": "python",
   "nbconvert_exporter": "python",
   "pygments_lexer": "ipython3",
   "version": "3.8.5"
  }
 },
 "nbformat": 4,
 "nbformat_minor": 4
}
