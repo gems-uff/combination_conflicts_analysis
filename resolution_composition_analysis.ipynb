{
 "cells": [
  {
   "cell_type": "code",
   "execution_count": 1,
   "metadata": {},
   "outputs": [],
   "source": [
    "import pandas as pd\n",
    "import numpy as np\n",
    "import seaborn as sns\n",
    "import matplotlib.pyplot as plt\n",
    "import analysis_util\n",
    "from inspect_util import Chunk\n",
    "from inspect_util import remove_empty_lines\n",
    "from inspect_util import normalize_lines"
   ]
  },
  {
   "cell_type": "code",
   "execution_count": 2,
   "metadata": {},
   "outputs": [
    {
     "name": "stdout",
     "output_type": "stream",
     "text": [
      "13573\n"
     ]
    },
    {
     "data": {
      "text/html": [
       "<div>\n",
       "<style scoped>\n",
       "    .dataframe tbody tr th:only-of-type {\n",
       "        vertical-align: middle;\n",
       "    }\n",
       "\n",
       "    .dataframe tbody tr th {\n",
       "        vertical-align: top;\n",
       "    }\n",
       "\n",
       "    .dataframe thead th {\n",
       "        text-align: right;\n",
       "    }\n",
       "</style>\n",
       "<table border=\"1\" class=\"dataframe\">\n",
       "  <thead>\n",
       "    <tr style=\"text-align: right;\">\n",
       "      <th></th>\n",
       "      <th>chunk_id</th>\n",
       "      <th>v1_percentage</th>\n",
       "      <th>v2_percentage</th>\n",
       "      <th>normalized_v1_percentage</th>\n",
       "      <th>normalized_v2_percentage</th>\n",
       "      <th>intersection_percentage</th>\n",
       "      <th>chunk_composition</th>\n",
       "      <th>missing_v1_lines</th>\n",
       "      <th>missing_v2_lines</th>\n",
       "      <th>missing_v1_lines_perc</th>\n",
       "      <th>missing_v2_lines_perc</th>\n",
       "      <th>v1_size</th>\n",
       "      <th>v2_size</th>\n",
       "      <th>chunk_size_delta</th>\n",
       "    </tr>\n",
       "  </thead>\n",
       "  <tbody>\n",
       "    <tr>\n",
       "      <td>0</td>\n",
       "      <td>776662</td>\n",
       "      <td>0.42</td>\n",
       "      <td>0.92</td>\n",
       "      <td>0.25</td>\n",
       "      <td>0.75</td>\n",
       "      <td>0.33</td>\n",
       "      <td>v1 v2 (v1_2) v1 (v1_2) v1 v2</td>\n",
       "      <td>1</td>\n",
       "      <td>1</td>\n",
       "      <td>16.67</td>\n",
       "      <td>8.33</td>\n",
       "      <td>6</td>\n",
       "      <td>12</td>\n",
       "      <td>6.0</td>\n",
       "    </tr>\n",
       "    <tr>\n",
       "      <td>1</td>\n",
       "      <td>776782</td>\n",
       "      <td>0.57</td>\n",
       "      <td>0.75</td>\n",
       "      <td>0.41</td>\n",
       "      <td>0.59</td>\n",
       "      <td>0.32</td>\n",
       "      <td>v2 v1 (v1_2) v1 (v1_2) v1 (v1_2) v2 (v1_2) v2...</td>\n",
       "      <td>2</td>\n",
       "      <td>4</td>\n",
       "      <td>6.06</td>\n",
       "      <td>7.55</td>\n",
       "      <td>33</td>\n",
       "      <td>53</td>\n",
       "      <td>20.0</td>\n",
       "    </tr>\n",
       "    <tr>\n",
       "      <td>2</td>\n",
       "      <td>776793</td>\n",
       "      <td>0.75</td>\n",
       "      <td>0.25</td>\n",
       "      <td>0.75</td>\n",
       "      <td>0.25</td>\n",
       "      <td>0.00</td>\n",
       "      <td>v2 v1</td>\n",
       "      <td>1</td>\n",
       "      <td>0</td>\n",
       "      <td>25.00</td>\n",
       "      <td>0.00</td>\n",
       "      <td>4</td>\n",
       "      <td>1</td>\n",
       "      <td>-3.0</td>\n",
       "    </tr>\n",
       "    <tr>\n",
       "      <td>3</td>\n",
       "      <td>776828</td>\n",
       "      <td>0.33</td>\n",
       "      <td>0.67</td>\n",
       "      <td>0.33</td>\n",
       "      <td>0.67</td>\n",
       "      <td>0.00</td>\n",
       "      <td>v2 v1 v2</td>\n",
       "      <td>2</td>\n",
       "      <td>0</td>\n",
       "      <td>66.67</td>\n",
       "      <td>0.00</td>\n",
       "      <td>3</td>\n",
       "      <td>2</td>\n",
       "      <td>-1.0</td>\n",
       "    </tr>\n",
       "    <tr>\n",
       "      <td>4</td>\n",
       "      <td>776863</td>\n",
       "      <td>0.25</td>\n",
       "      <td>0.75</td>\n",
       "      <td>0.25</td>\n",
       "      <td>0.75</td>\n",
       "      <td>0.00</td>\n",
       "      <td>v2 v1</td>\n",
       "      <td>0</td>\n",
       "      <td>1</td>\n",
       "      <td>0.00</td>\n",
       "      <td>25.00</td>\n",
       "      <td>1</td>\n",
       "      <td>4</td>\n",
       "      <td>3.0</td>\n",
       "    </tr>\n",
       "  </tbody>\n",
       "</table>\n",
       "</div>"
      ],
      "text/plain": [
       "   chunk_id  v1_percentage  v2_percentage  normalized_v1_percentage  \\\n",
       "0    776662           0.42           0.92                      0.25   \n",
       "1    776782           0.57           0.75                      0.41   \n",
       "2    776793           0.75           0.25                      0.75   \n",
       "3    776828           0.33           0.67                      0.33   \n",
       "4    776863           0.25           0.75                      0.25   \n",
       "\n",
       "   normalized_v2_percentage  intersection_percentage  \\\n",
       "0                      0.75                     0.33   \n",
       "1                      0.59                     0.32   \n",
       "2                      0.25                     0.00   \n",
       "3                      0.67                     0.00   \n",
       "4                      0.75                     0.00   \n",
       "\n",
       "                                   chunk_composition  missing_v1_lines  \\\n",
       "0                       v1 v2 (v1_2) v1 (v1_2) v1 v2                 1   \n",
       "1   v2 v1 (v1_2) v1 (v1_2) v1 (v1_2) v2 (v1_2) v2...                 2   \n",
       "2                                              v2 v1                 1   \n",
       "3                                           v2 v1 v2                 2   \n",
       "4                                              v2 v1                 0   \n",
       "\n",
       "   missing_v2_lines  missing_v1_lines_perc  missing_v2_lines_perc  v1_size  \\\n",
       "0                 1                  16.67                   8.33        6   \n",
       "1                 4                   6.06                   7.55       33   \n",
       "2                 0                  25.00                   0.00        4   \n",
       "3                 0                  66.67                   0.00        3   \n",
       "4                 1                   0.00                  25.00        1   \n",
       "\n",
       "   v2_size  chunk_size_delta  \n",
       "0       12               6.0  \n",
       "1       53              20.0  \n",
       "2        1              -3.0  \n",
       "3        2              -1.0  \n",
       "4        4               3.0  "
      ]
     },
     "execution_count": 2,
     "metadata": {},
     "output_type": "execute_result"
    }
   ],
   "source": [
    "df = pd.read_csv('data/resolution_composition.csv')\n",
    "print(len(df))\n",
    "df.head()"
   ]
  },
  {
   "cell_type": "code",
   "execution_count": 3,
   "metadata": {},
   "outputs": [
    {
     "data": {
      "text/html": [
       "<div>\n",
       "<style scoped>\n",
       "    .dataframe tbody tr th:only-of-type {\n",
       "        vertical-align: middle;\n",
       "    }\n",
       "\n",
       "    .dataframe tbody tr th {\n",
       "        vertical-align: top;\n",
       "    }\n",
       "\n",
       "    .dataframe thead th {\n",
       "        text-align: right;\n",
       "    }\n",
       "</style>\n",
       "<table border=\"1\" class=\"dataframe\">\n",
       "  <thead>\n",
       "    <tr style=\"text-align: right;\">\n",
       "      <th></th>\n",
       "      <th>chunk_id</th>\n",
       "      <th>v1_percentage</th>\n",
       "      <th>v2_percentage</th>\n",
       "      <th>normalized_v1_percentage</th>\n",
       "      <th>normalized_v2_percentage</th>\n",
       "      <th>intersection_percentage</th>\n",
       "      <th>chunk_composition</th>\n",
       "      <th>missing_v1_lines</th>\n",
       "      <th>missing_v2_lines</th>\n",
       "      <th>missing_v1_lines_perc</th>\n",
       "      <th>missing_v2_lines_perc</th>\n",
       "      <th>v1_size</th>\n",
       "      <th>v2_size</th>\n",
       "      <th>chunk_size_delta</th>\n",
       "      <th>partial_order</th>\n",
       "      <th>chunk_size</th>\n",
       "      <th>resolution_size</th>\n",
       "    </tr>\n",
       "  </thead>\n",
       "  <tbody>\n",
       "    <tr>\n",
       "      <td>0</td>\n",
       "      <td>776662</td>\n",
       "      <td>0.42</td>\n",
       "      <td>0.92</td>\n",
       "      <td>0.25</td>\n",
       "      <td>0.75</td>\n",
       "      <td>0.33</td>\n",
       "      <td>v1 v2 (v1_2) v1 (v1_2) v1 v2</td>\n",
       "      <td>1</td>\n",
       "      <td>1</td>\n",
       "      <td>16.67</td>\n",
       "      <td>8.33</td>\n",
       "      <td>6</td>\n",
       "      <td>12</td>\n",
       "      <td>6.0</td>\n",
       "      <td>True</td>\n",
       "      <td>18</td>\n",
       "      <td>12</td>\n",
       "    </tr>\n",
       "    <tr>\n",
       "      <td>1</td>\n",
       "      <td>776782</td>\n",
       "      <td>0.57</td>\n",
       "      <td>0.75</td>\n",
       "      <td>0.41</td>\n",
       "      <td>0.59</td>\n",
       "      <td>0.32</td>\n",
       "      <td>v2 v1 (v1_2) v1 (v1_2) v1 (v1_2) v2 (v1_2) v2...</td>\n",
       "      <td>2</td>\n",
       "      <td>4</td>\n",
       "      <td>6.06</td>\n",
       "      <td>7.55</td>\n",
       "      <td>33</td>\n",
       "      <td>53</td>\n",
       "      <td>20.0</td>\n",
       "      <td>True</td>\n",
       "      <td>113</td>\n",
       "      <td>101</td>\n",
       "    </tr>\n",
       "    <tr>\n",
       "      <td>2</td>\n",
       "      <td>776793</td>\n",
       "      <td>0.75</td>\n",
       "      <td>0.25</td>\n",
       "      <td>0.75</td>\n",
       "      <td>0.25</td>\n",
       "      <td>0.00</td>\n",
       "      <td>v2 v1</td>\n",
       "      <td>1</td>\n",
       "      <td>0</td>\n",
       "      <td>25.00</td>\n",
       "      <td>0.00</td>\n",
       "      <td>4</td>\n",
       "      <td>1</td>\n",
       "      <td>-3.0</td>\n",
       "      <td>True</td>\n",
       "      <td>6</td>\n",
       "      <td>5</td>\n",
       "    </tr>\n",
       "    <tr>\n",
       "      <td>3</td>\n",
       "      <td>776828</td>\n",
       "      <td>0.33</td>\n",
       "      <td>0.67</td>\n",
       "      <td>0.33</td>\n",
       "      <td>0.67</td>\n",
       "      <td>0.00</td>\n",
       "      <td>v2 v1 v2</td>\n",
       "      <td>2</td>\n",
       "      <td>0</td>\n",
       "      <td>66.67</td>\n",
       "      <td>0.00</td>\n",
       "      <td>3</td>\n",
       "      <td>2</td>\n",
       "      <td>-1.0</td>\n",
       "      <td>True</td>\n",
       "      <td>5</td>\n",
       "      <td>3</td>\n",
       "    </tr>\n",
       "    <tr>\n",
       "      <td>4</td>\n",
       "      <td>776863</td>\n",
       "      <td>0.25</td>\n",
       "      <td>0.75</td>\n",
       "      <td>0.25</td>\n",
       "      <td>0.75</td>\n",
       "      <td>0.00</td>\n",
       "      <td>v2 v1</td>\n",
       "      <td>0</td>\n",
       "      <td>1</td>\n",
       "      <td>0.00</td>\n",
       "      <td>25.00</td>\n",
       "      <td>1</td>\n",
       "      <td>4</td>\n",
       "      <td>3.0</td>\n",
       "      <td>True</td>\n",
       "      <td>6</td>\n",
       "      <td>5</td>\n",
       "    </tr>\n",
       "  </tbody>\n",
       "</table>\n",
       "</div>"
      ],
      "text/plain": [
       "   chunk_id  v1_percentage  v2_percentage  normalized_v1_percentage  \\\n",
       "0    776662           0.42           0.92                      0.25   \n",
       "1    776782           0.57           0.75                      0.41   \n",
       "2    776793           0.75           0.25                      0.75   \n",
       "3    776828           0.33           0.67                      0.33   \n",
       "4    776863           0.25           0.75                      0.25   \n",
       "\n",
       "   normalized_v2_percentage  intersection_percentage  \\\n",
       "0                      0.75                     0.33   \n",
       "1                      0.59                     0.32   \n",
       "2                      0.25                     0.00   \n",
       "3                      0.67                     0.00   \n",
       "4                      0.75                     0.00   \n",
       "\n",
       "                                   chunk_composition  missing_v1_lines  \\\n",
       "0                       v1 v2 (v1_2) v1 (v1_2) v1 v2                 1   \n",
       "1   v2 v1 (v1_2) v1 (v1_2) v1 (v1_2) v2 (v1_2) v2...                 2   \n",
       "2                                              v2 v1                 1   \n",
       "3                                           v2 v1 v2                 2   \n",
       "4                                              v2 v1                 0   \n",
       "\n",
       "   missing_v2_lines  missing_v1_lines_perc  missing_v2_lines_perc  v1_size  \\\n",
       "0                 1                  16.67                   8.33        6   \n",
       "1                 4                   6.06                   7.55       33   \n",
       "2                 0                  25.00                   0.00        4   \n",
       "3                 0                  66.67                   0.00        3   \n",
       "4                 1                   0.00                  25.00        1   \n",
       "\n",
       "   v2_size  chunk_size_delta partial_order  chunk_size  resolution_size  \n",
       "0       12               6.0          True          18               12  \n",
       "1       53              20.0          True         113              101  \n",
       "2        1              -3.0          True           6                5  \n",
       "3        2              -1.0          True           5                3  \n",
       "4        4               3.0          True           6                5  "
      ]
     },
     "execution_count": 3,
     "metadata": {},
     "output_type": "execute_result"
    }
   ],
   "source": [
    "df_po = pd.read_csv('data/partial_order_result.csv')\n",
    "df = pd.merge(df, df_po, on='chunk_id', how='inner', suffixes=('', ''))\n",
    "df.head()"
   ]
  },
  {
   "cell_type": "code",
   "execution_count": 4,
   "metadata": {},
   "outputs": [
    {
     "name": "stdout",
     "output_type": "stream",
     "text": [
      "Removing 264 malformed chunks\n",
      "Total number of chunks: 13309\n"
     ]
    }
   ],
   "source": [
    "malformed_chunks = pd.read_csv('data/malformed_chunks.csv')\n",
    "malformed_chunks = malformed_chunks['chunk_id'].unique()\n",
    "print(f'Removing {len(malformed_chunks)} malformed chunks')\n",
    "df = df[~df['chunk_id'].isin(malformed_chunks)]\n",
    "print(f'Total number of chunks: {len(df)}')"
   ]
  },
  {
   "cell_type": "code",
   "execution_count": 5,
   "metadata": {},
   "outputs": [
    {
     "name": "stdout",
     "output_type": "stream",
     "text": [
      "10726\n"
     ]
    }
   ],
   "source": [
    "# remove imprecise resolutions\n",
    "df = df[df['v1_percentage']!= -1]\n",
    "print(len(df))"
   ]
  },
  {
   "cell_type": "code",
   "execution_count": 6,
   "metadata": {},
   "outputs": [
    {
     "data": {
      "text/html": [
       "<div>\n",
       "<style scoped>\n",
       "    .dataframe tbody tr th:only-of-type {\n",
       "        vertical-align: middle;\n",
       "    }\n",
       "\n",
       "    .dataframe tbody tr th {\n",
       "        vertical-align: top;\n",
       "    }\n",
       "\n",
       "    .dataframe thead th {\n",
       "        text-align: right;\n",
       "    }\n",
       "</style>\n",
       "<table border=\"1\" class=\"dataframe\">\n",
       "  <thead>\n",
       "    <tr style=\"text-align: right;\">\n",
       "      <th></th>\n",
       "      <th>chunk_id</th>\n",
       "      <th>v1_percentage</th>\n",
       "      <th>v2_percentage</th>\n",
       "      <th>normalized_v1_percentage</th>\n",
       "      <th>normalized_v2_percentage</th>\n",
       "      <th>intersection_percentage</th>\n",
       "      <th>missing_v1_lines</th>\n",
       "      <th>missing_v2_lines</th>\n",
       "      <th>missing_v1_lines_perc</th>\n",
       "      <th>missing_v2_lines_perc</th>\n",
       "      <th>v1_size</th>\n",
       "      <th>v2_size</th>\n",
       "      <th>chunk_size_delta</th>\n",
       "      <th>chunk_size</th>\n",
       "      <th>resolution_size</th>\n",
       "    </tr>\n",
       "  </thead>\n",
       "  <tbody>\n",
       "    <tr>\n",
       "      <td>count</td>\n",
       "      <td>1.072600e+04</td>\n",
       "      <td>10726.000000</td>\n",
       "      <td>10726.000000</td>\n",
       "      <td>10726.000000</td>\n",
       "      <td>10726.000000</td>\n",
       "      <td>10726.000000</td>\n",
       "      <td>10726.000000</td>\n",
       "      <td>10726.000000</td>\n",
       "      <td>10726.000000</td>\n",
       "      <td>10726.000000</td>\n",
       "      <td>10726.000000</td>\n",
       "      <td>10726.000000</td>\n",
       "      <td>10726.000000</td>\n",
       "      <td>10726.000000</td>\n",
       "      <td>10726.000000</td>\n",
       "    </tr>\n",
       "    <tr>\n",
       "      <td>mean</td>\n",
       "      <td>1.112637e+06</td>\n",
       "      <td>0.554077</td>\n",
       "      <td>0.532096</td>\n",
       "      <td>0.510967</td>\n",
       "      <td>0.489010</td>\n",
       "      <td>0.086037</td>\n",
       "      <td>1.786407</td>\n",
       "      <td>2.194387</td>\n",
       "      <td>32.210539</td>\n",
       "      <td>36.544740</td>\n",
       "      <td>6.668842</td>\n",
       "      <td>6.886537</td>\n",
       "      <td>0.217695</td>\n",
       "      <td>15.056219</td>\n",
       "      <td>8.379079</td>\n",
       "    </tr>\n",
       "    <tr>\n",
       "      <td>std</td>\n",
       "      <td>2.206786e+05</td>\n",
       "      <td>0.319618</td>\n",
       "      <td>0.321639</td>\n",
       "      <td>0.304942</td>\n",
       "      <td>0.304911</td>\n",
       "      <td>0.197732</td>\n",
       "      <td>6.677797</td>\n",
       "      <td>10.272872</td>\n",
       "      <td>29.916529</td>\n",
       "      <td>31.037321</td>\n",
       "      <td>29.755920</td>\n",
       "      <td>32.439524</td>\n",
       "      <td>20.253426</td>\n",
       "      <td>67.030846</td>\n",
       "      <td>35.503146</td>\n",
       "    </tr>\n",
       "    <tr>\n",
       "      <td>min</td>\n",
       "      <td>7.766620e+05</td>\n",
       "      <td>0.000000</td>\n",
       "      <td>0.000000</td>\n",
       "      <td>0.000000</td>\n",
       "      <td>0.000000</td>\n",
       "      <td>0.000000</td>\n",
       "      <td>0.000000</td>\n",
       "      <td>0.000000</td>\n",
       "      <td>0.000000</td>\n",
       "      <td>0.000000</td>\n",
       "      <td>0.000000</td>\n",
       "      <td>0.000000</td>\n",
       "      <td>-388.000000</td>\n",
       "      <td>2.000000</td>\n",
       "      <td>1.000000</td>\n",
       "    </tr>\n",
       "    <tr>\n",
       "      <td>25%</td>\n",
       "      <td>9.467838e+05</td>\n",
       "      <td>0.330000</td>\n",
       "      <td>0.330000</td>\n",
       "      <td>0.330000</td>\n",
       "      <td>0.290000</td>\n",
       "      <td>0.000000</td>\n",
       "      <td>0.000000</td>\n",
       "      <td>0.000000</td>\n",
       "      <td>0.000000</td>\n",
       "      <td>0.000000</td>\n",
       "      <td>2.000000</td>\n",
       "      <td>2.000000</td>\n",
       "      <td>-2.000000</td>\n",
       "      <td>4.000000</td>\n",
       "      <td>2.000000</td>\n",
       "    </tr>\n",
       "    <tr>\n",
       "      <td>50%</td>\n",
       "      <td>1.079836e+06</td>\n",
       "      <td>0.500000</td>\n",
       "      <td>0.500000</td>\n",
       "      <td>0.500000</td>\n",
       "      <td>0.500000</td>\n",
       "      <td>0.000000</td>\n",
       "      <td>1.000000</td>\n",
       "      <td>1.000000</td>\n",
       "      <td>33.330000</td>\n",
       "      <td>40.000000</td>\n",
       "      <td>2.000000</td>\n",
       "      <td>3.000000</td>\n",
       "      <td>0.000000</td>\n",
       "      <td>6.000000</td>\n",
       "      <td>3.000000</td>\n",
       "    </tr>\n",
       "    <tr>\n",
       "      <td>75%</td>\n",
       "      <td>1.293377e+06</td>\n",
       "      <td>0.810000</td>\n",
       "      <td>0.800000</td>\n",
       "      <td>0.710000</td>\n",
       "      <td>0.670000</td>\n",
       "      <td>0.000000</td>\n",
       "      <td>1.000000</td>\n",
       "      <td>2.000000</td>\n",
       "      <td>50.000000</td>\n",
       "      <td>50.000000</td>\n",
       "      <td>5.000000</td>\n",
       "      <td>5.000000</td>\n",
       "      <td>2.000000</td>\n",
       "      <td>12.000000</td>\n",
       "      <td>7.000000</td>\n",
       "    </tr>\n",
       "    <tr>\n",
       "      <td>max</td>\n",
       "      <td>1.658666e+06</td>\n",
       "      <td>1.000000</td>\n",
       "      <td>1.000000</td>\n",
       "      <td>1.000000</td>\n",
       "      <td>1.000000</td>\n",
       "      <td>1.000000</td>\n",
       "      <td>353.000000</td>\n",
       "      <td>689.000000</td>\n",
       "      <td>100.000000</td>\n",
       "      <td>100.000000</td>\n",
       "      <td>1352.000000</td>\n",
       "      <td>1402.000000</td>\n",
       "      <td>1401.000000</td>\n",
       "      <td>2922.000000</td>\n",
       "      <td>1557.000000</td>\n",
       "    </tr>\n",
       "  </tbody>\n",
       "</table>\n",
       "</div>"
      ],
      "text/plain": [
       "           chunk_id  v1_percentage  v2_percentage  normalized_v1_percentage  \\\n",
       "count  1.072600e+04   10726.000000   10726.000000              10726.000000   \n",
       "mean   1.112637e+06       0.554077       0.532096                  0.510967   \n",
       "std    2.206786e+05       0.319618       0.321639                  0.304942   \n",
       "min    7.766620e+05       0.000000       0.000000                  0.000000   \n",
       "25%    9.467838e+05       0.330000       0.330000                  0.330000   \n",
       "50%    1.079836e+06       0.500000       0.500000                  0.500000   \n",
       "75%    1.293377e+06       0.810000       0.800000                  0.710000   \n",
       "max    1.658666e+06       1.000000       1.000000                  1.000000   \n",
       "\n",
       "       normalized_v2_percentage  intersection_percentage  missing_v1_lines  \\\n",
       "count              10726.000000             10726.000000      10726.000000   \n",
       "mean                   0.489010                 0.086037          1.786407   \n",
       "std                    0.304911                 0.197732          6.677797   \n",
       "min                    0.000000                 0.000000          0.000000   \n",
       "25%                    0.290000                 0.000000          0.000000   \n",
       "50%                    0.500000                 0.000000          1.000000   \n",
       "75%                    0.670000                 0.000000          1.000000   \n",
       "max                    1.000000                 1.000000        353.000000   \n",
       "\n",
       "       missing_v2_lines  missing_v1_lines_perc  missing_v2_lines_perc  \\\n",
       "count      10726.000000           10726.000000           10726.000000   \n",
       "mean           2.194387              32.210539              36.544740   \n",
       "std           10.272872              29.916529              31.037321   \n",
       "min            0.000000               0.000000               0.000000   \n",
       "25%            0.000000               0.000000               0.000000   \n",
       "50%            1.000000              33.330000              40.000000   \n",
       "75%            2.000000              50.000000              50.000000   \n",
       "max          689.000000             100.000000             100.000000   \n",
       "\n",
       "            v1_size       v2_size  chunk_size_delta    chunk_size  \\\n",
       "count  10726.000000  10726.000000      10726.000000  10726.000000   \n",
       "mean       6.668842      6.886537          0.217695     15.056219   \n",
       "std       29.755920     32.439524         20.253426     67.030846   \n",
       "min        0.000000      0.000000       -388.000000      2.000000   \n",
       "25%        2.000000      2.000000         -2.000000      4.000000   \n",
       "50%        2.000000      3.000000          0.000000      6.000000   \n",
       "75%        5.000000      5.000000          2.000000     12.000000   \n",
       "max     1352.000000   1402.000000       1401.000000   2922.000000   \n",
       "\n",
       "       resolution_size  \n",
       "count     10726.000000  \n",
       "mean          8.379079  \n",
       "std          35.503146  \n",
       "min           1.000000  \n",
       "25%           2.000000  \n",
       "50%           3.000000  \n",
       "75%           7.000000  \n",
       "max        1557.000000  "
      ]
     },
     "execution_count": 6,
     "metadata": {},
     "output_type": "execute_result"
    }
   ],
   "source": [
    "df.describe()"
   ]
  },
  {
   "cell_type": "code",
   "execution_count": 8,
   "metadata": {},
   "outputs": [
    {
     "name": "stdout",
     "output_type": "stream",
     "text": [
      "947182 0.78 0.23\n",
      "964098 0.0 0.9\n",
      "988476 0.42 0.57\n",
      "1045733 0.57 0.42\n",
      "1091475 0.0 0.99\n",
      "1108391 0.05 0.84\n",
      "1115864 0.68 0.33\n",
      "1144705 0.82 0.17\n",
      "1273096 0.68 0.33\n",
      "1392141 0.57 0.42\n",
      "1421052 0.42 0.57\n",
      "1465800 0.26 0.73\n"
     ]
    }
   ],
   "source": [
    "# chunks where the normalized percentage don't add to 1\n",
    "for index, row in df.iterrows():\n",
    "    v1 = row['normalized_v1_percentage']\n",
    "    v2 = row['normalized_v2_percentage']\n",
    "    if v1 + v2 != 1:\n",
    "        print(row['chunk_id'], v1, v2)"
   ]
  },
  {
   "cell_type": "code",
   "execution_count": 167,
   "metadata": {
    "scrolled": false
   },
   "outputs": [],
   "source": [
    "import importlib\n",
    "importlib.reload(analysis_util)\n",
    "v1_bars, v2_bars = analysis_util.get_normalized_composition_percentage_data(df)"
   ]
  },
  {
   "cell_type": "code",
   "execution_count": 168,
   "metadata": {},
   "outputs": [
    {
     "data": {
      "image/png": "[encoded data removed]",
      "text/plain": [
       "<Figure size 720x288 with 2 Axes>"
      ]
     },
     "metadata": {
      "needs_background": "light"
     },
     "output_type": "display_data"
    }
   ],
   "source": [
    "df_plot_v1 = pd.DataFrame(v1_bars, columns=['Chunks', 'Interval'])\n",
    "df_plot_v2 = pd.DataFrame(v2_bars, columns=['Chunks', 'Interval'])\n",
    "fig, ax = plt.subplots(1, 2, figsize=(10, 4))\n",
    "\n",
    "df_plot_v1.plot(kind='bar', x='Interval', y='Chunks', width=0.9, ax = ax[0], align='center', alpha=0.7, legend=False)\n",
    "df_plot_v2.plot(kind='bar', x='Interval', y='Chunks', width=0.9, ax = ax[1], align='center', alpha=0.7, legend=False)\n",
    "ax[0].set_xlabel(\"normalized V1 percentage\")\n",
    "ax[0].set_ylabel(\"# of chunks\")\n",
    "ax[1].set_xlabel(\"normalized V2 percentage\")\n",
    "ax[1].set_ylabel(\"# of chunks\")\n",
    "plt.show()\n"
   ]
  },
  {
   "cell_type": "code",
   "execution_count": 12,
   "metadata": {},
   "outputs": [
    {
     "data": {
      "text/plain": [
       "<matplotlib.axes._subplots.AxesSubplot at 0x7f8391f14c90>"
      ]
     },
     "execution_count": 12,
     "metadata": {},
     "output_type": "execute_result"
    },
    {
     "data": {
      "image/png": "[encoded data removed]",
      "text/plain": [
       "<Figure size 432x288 with 1 Axes>"
      ]
     },
     "metadata": {
      "needs_background": "light"
     },
     "output_type": "display_data"
    }
   ],
   "source": [
    "df['intersection_percentage'].hist()"
   ]
  },
  {
   "cell_type": "code",
   "execution_count": 13,
   "metadata": {},
   "outputs": [
    {
     "data": {
      "image/png": "[encoded data removed]",
      "text/plain": [
       "<Figure size 432x432 with 4 Axes>"
      ]
     },
     "metadata": {
      "needs_background": "light"
     },
     "output_type": "display_data"
    }
   ],
   "source": [
    "x = df['normalized_v2_percentage']\n",
    "y = df['normalized_v1_percentage']\n",
    "\n",
    "p1 = sns.jointplot(x=x, y=y, kind='hex', cmap='icefire')\n",
    "plt.subplots_adjust(left=0.2, right=0.8, top=0.8, bottom=0.2)  # shrink fig so cbar is visible\n",
    "\n",
    "cbar_ax = p1.fig.add_axes([.85, .25, .05, .4])  # x, y, width, height\n",
    "plt.colorbar(cax=cbar_ax)\n",
    "plt.show()"
   ]
  },
  {
   "cell_type": "code",
   "execution_count": 14,
   "metadata": {},
   "outputs": [
    {
     "data": {
      "image/png": "[encoded data removed]",
      "text/plain": [
       "<Figure size 432x432 with 3 Axes>"
      ]
     },
     "metadata": {
      "needs_background": "light"
     },
     "output_type": "display_data"
    }
   ],
   "source": [
    "x = df['v2_percentage']\n",
    "y = df['v1_percentage']\n",
    "sns.jointplot(x=x, y=y, kind='scatter', cmap='BuPu')\n",
    "plt.show()"
   ]
  },
  {
   "cell_type": "code",
   "execution_count": 15,
   "metadata": {},
   "outputs": [
    {
     "data": {
      "image/png": "[encoded data removed]",
      "text/plain": [
       "<Figure size 432x432 with 3 Axes>"
      ]
     },
     "metadata": {
      "needs_background": "light"
     },
     "output_type": "display_data"
    }
   ],
   "source": [
    "# https://en.wikipedia.org/wiki/Kernel_density_estimation\n",
    "x = df['v2_percentage']\n",
    "y = df['v1_percentage']\n",
    "sns.jointplot(x=x, y=y, kind='kde')\n",
    "plt.show()"
   ]
  },
  {
   "cell_type": "code",
   "execution_count": 16,
   "metadata": {},
   "outputs": [
    {
     "name": "stdout",
     "output_type": "stream",
     "text": [
      "Only v1 lines: 1451 (13.53%)\n",
      "Only v2 lines: 1341 (12.50%)\n",
      "No alternation (v1v2): 2842 (26.50%)\n",
      "No alternation (v2v1): 2189 (20.41%)\n",
      "Some alternation (v1v2v1 or v2v1v2): 497 (4.63%)\n",
      "-------------\n",
      "Easier cases (all above): 8320 (77.57%)\n",
      "Remaining (harder cases): 2406 (22.43%)\n"
     ]
    }
   ],
   "source": [
    "v1v2 = analysis_util.get_chunk_composition_pattern_data('v1 v2', df)\n",
    "v2v1 = analysis_util.get_chunk_composition_pattern_data('v2 v1', df)\n",
    "v1_only = analysis_util.get_chunk_composition_pattern_data('v1', df)\n",
    "v2_only = analysis_util.get_chunk_composition_pattern_data('v2', df)\n",
    "v1v2v1 = analysis_util.get_chunk_composition_pattern_data('v1 v2 v1', df)\n",
    "v2v1v2 = analysis_util.get_chunk_composition_pattern_data('v2 v1 v2', df)\n",
    "no_alternation = len(v1v2) + len(v2v1)\n",
    "some_alternation = len(v1v2v1) + len(v2v1v2)\n",
    "print(f'Only v1 lines: {len(v1_only)} ({(len(v1_only)/len(df)*100):.2f}%)')\n",
    "print(f'Only v2 lines: {len(v2_only)} ({(len(v2_only)/len(df)*100):.2f}%)')\n",
    "print(f'No alternation (v1v2): {len(v1v2)} ({(len(v1v2)/len(df)*100):.2f}%)')\n",
    "print(f'No alternation (v2v1): {len(v2v1)} ({(len(v2v1)/len(df)*100):.2f}%)')\n",
    "# print(f'No alternation (aggregate): {no_alternation} ({(no_alternation/len(df)*100):.2f}%)')\n",
    "print(f'Some alternation (v1v2v1 or v2v1v2): {some_alternation} ({(some_alternation/len(df)*100):.2f}%)')\n",
    "easy_cases = no_alternation + some_alternation + len(v1_only) + len(v2_only)\n",
    "remaining = len(df) - easy_cases\n",
    "\n",
    "print('-------------')\n",
    "print(f'Easier cases (all above): {easy_cases} ({(easy_cases/len(df)*100):.2f}%)')\n",
    "print(f'Remaining (harder cases): {remaining} ({(remaining/len(df)*100):.2f}%)')\n",
    "\n"
   ]
  },
  {
   "cell_type": "code",
   "execution_count": 17,
   "metadata": {},
   "outputs": [
    {
     "data": {
      "image/png": "[encoded data removed]",
      "text/plain": [
       "<Figure size 864x288 with 2 Axes>"
      ]
     },
     "metadata": {
      "needs_background": "light"
     },
     "output_type": "display_data"
    }
   ],
   "source": [
    "patterns = ['v1', 'v2', 'v1 v2', 'v2 v1', 'v1 v2 v1', 'v2 v1 v2']\n",
    "fig, ax = plt.subplots(1, 2, figsize=(12, 4))\n",
    "analysis_util.get_chunk_composition_boxplot(df, patterns, 'chunk_size', 'Chunk size', ax[0])\n",
    "analysis_util.get_chunk_composition_boxplot(df, patterns, 'resolution_size', 'Resolution size', ax[1])\n",
    "ax[0].set_title('Chunk size')\n",
    "ax[1].set_title('Resolution size')\n",
    "fig.tight_layout()\n"
   ]
  },
  {
   "cell_type": "code",
   "execution_count": 18,
   "metadata": {},
   "outputs": [
    {
     "data": {
      "text/plain": [
       "<matplotlib.axes._subplots.AxesSubplot at 0x7f8391450510>"
      ]
     },
     "execution_count": 18,
     "metadata": {},
     "output_type": "execute_result"
    },
    {
     "data": {
      "image/png": "[encoded data removed]",
      "text/plain": [
       "<Figure size 432x288 with 1 Axes>"
      ]
     },
     "metadata": {
      "needs_background": "light"
     },
     "output_type": "display_data"
    }
   ],
   "source": [
    "df['chunk_size_delta'].hist()"
   ]
  },
  {
   "cell_type": "markdown",
   "metadata": {},
   "source": [
    "## Distribuição dos tipos de resolução em relação à diferença de tamanho entre v1 e v2"
   ]
  },
  {
   "cell_type": "code",
   "execution_count": 19,
   "metadata": {},
   "outputs": [
    {
     "data": {
      "text/plain": [
       "<matplotlib.axes._subplots.AxesSubplot at 0x7f83913c1050>"
      ]
     },
     "execution_count": 19,
     "metadata": {},
     "output_type": "execute_result"
    },
    {
     "data": {
      "image/png": "[encoded data removed]",
      "text/plain": [
       "<Figure size 432x288 with 1 Axes>"
      ]
     },
     "metadata": {
      "needs_background": "light"
     },
     "output_type": "display_data"
    }
   ],
   "source": [
    "df.boxplot(column=['chunk_size_delta'], showfliers=False)"
   ]
  },
  {
   "cell_type": "code",
   "execution_count": 23,
   "metadata": {
    "scrolled": true
   },
   "outputs": [
    {
     "data": {
      "text/plain": [
       "<matplotlib.axes._subplots.AxesSubplot at 0x7f83912df190>"
      ]
     },
     "execution_count": 23,
     "metadata": {},
     "output_type": "execute_result"
    },
    {
     "data": {
      "image/png": "[encoded data removed]",
      "text/plain": [
       "<Figure size 432x288 with 1 Axes>"
      ]
     },
     "metadata": {
      "needs_background": "light"
     },
     "output_type": "display_data"
    }
   ],
   "source": [
    "df.boxplot(column=['v1_size', 'v2_size'], showfliers=False)"
   ]
  },
  {
   "cell_type": "code",
   "execution_count": 132,
   "metadata": {},
   "outputs": [
    {
     "data": {
      "image/png": "[encoded data removed]",
      "text/plain": [
       "<Figure size 1080x288 with 1 Axes>"
      ]
     },
     "metadata": {
      "needs_background": "light"
     },
     "output_type": "display_data"
    }
   ],
   "source": [
    "import importlib\n",
    "importlib.reload(analysis_util)\n",
    "df_plot = analysis_util.get_strategies_plot_df(df, v1_only, v2_only, v1v2, v2v1)\n",
    "# display(df_plot.tail())\n",
    "fig, ax = plt.subplots(1, 1, figsize=(15, 4))\n",
    "df_plot.plot(kind='bar', x='delta', stacked=True, width=0.90, ax = ax)\n",
    "ax.set_ylabel(\"Resolution strategy (%)\")\n",
    "ax.set_xlabel(\"Chunk size delta (v2 - v1)\")\n",
    "plt.legend(loc='center left', bbox_to_anchor=(1.0, 0.5))\n",
    "plt.show()"
   ]
  },
  {
   "cell_type": "markdown",
   "metadata": {},
   "source": [
    "### Distance from v1 or v2"
   ]
  },
  {
   "cell_type": "markdown",
   "metadata": {},
   "source": [
    "On average, from the chunks that were resolved using only v1 or v2 lines, how far are they from the complete v1 or v2 solution?"
   ]
  },
  {
   "cell_type": "code",
   "execution_count": 24,
   "metadata": {},
   "outputs": [
    {
     "data": {
      "text/html": [
       "<div>\n",
       "<style scoped>\n",
       "    .dataframe tbody tr th:only-of-type {\n",
       "        vertical-align: middle;\n",
       "    }\n",
       "\n",
       "    .dataframe tbody tr th {\n",
       "        vertical-align: top;\n",
       "    }\n",
       "\n",
       "    .dataframe thead th {\n",
       "        text-align: right;\n",
       "    }\n",
       "</style>\n",
       "<table border=\"1\" class=\"dataframe\">\n",
       "  <thead>\n",
       "    <tr style=\"text-align: right;\">\n",
       "      <th></th>\n",
       "      <th>chunk_id</th>\n",
       "      <th>v1_percentage</th>\n",
       "      <th>v2_percentage</th>\n",
       "      <th>normalized_v1_percentage</th>\n",
       "      <th>normalized_v2_percentage</th>\n",
       "      <th>intersection_percentage</th>\n",
       "      <th>missing_v1_lines</th>\n",
       "      <th>missing_v2_lines</th>\n",
       "      <th>missing_v1_lines_perc</th>\n",
       "      <th>missing_v2_lines_perc</th>\n",
       "      <th>v1_size</th>\n",
       "      <th>v2_size</th>\n",
       "      <th>chunk_size_delta</th>\n",
       "      <th>chunk_size</th>\n",
       "      <th>resolution_size</th>\n",
       "    </tr>\n",
       "  </thead>\n",
       "  <tbody>\n",
       "    <tr>\n",
       "      <td>count</td>\n",
       "      <td>1.451000e+03</td>\n",
       "      <td>1451.0</td>\n",
       "      <td>1451.0</td>\n",
       "      <td>1451.0</td>\n",
       "      <td>1451.0</td>\n",
       "      <td>1451.0</td>\n",
       "      <td>1451.000000</td>\n",
       "      <td>1451.000000</td>\n",
       "      <td>1451.000000</td>\n",
       "      <td>1451.000000</td>\n",
       "      <td>1451.000000</td>\n",
       "      <td>1451.000000</td>\n",
       "      <td>1451.000000</td>\n",
       "      <td>1451.000000</td>\n",
       "      <td>1451.000000</td>\n",
       "    </tr>\n",
       "    <tr>\n",
       "      <td>mean</td>\n",
       "      <td>1.104880e+06</td>\n",
       "      <td>1.0</td>\n",
       "      <td>0.0</td>\n",
       "      <td>1.0</td>\n",
       "      <td>0.0</td>\n",
       "      <td>0.0</td>\n",
       "      <td>3.126120</td>\n",
       "      <td>1.060648</td>\n",
       "      <td>50.033687</td>\n",
       "      <td>45.485872</td>\n",
       "      <td>6.008270</td>\n",
       "      <td>1.060648</td>\n",
       "      <td>-4.947622</td>\n",
       "      <td>7.927636</td>\n",
       "      <td>3.272915</td>\n",
       "    </tr>\n",
       "    <tr>\n",
       "      <td>std</td>\n",
       "      <td>2.120303e+05</td>\n",
       "      <td>0.0</td>\n",
       "      <td>0.0</td>\n",
       "      <td>0.0</td>\n",
       "      <td>0.0</td>\n",
       "      <td>0.0</td>\n",
       "      <td>6.956115</td>\n",
       "      <td>2.884042</td>\n",
       "      <td>19.047188</td>\n",
       "      <td>49.812978</td>\n",
       "      <td>9.813077</td>\n",
       "      <td>2.884042</td>\n",
       "      <td>10.181322</td>\n",
       "      <td>11.565150</td>\n",
       "      <td>6.187079</td>\n",
       "    </tr>\n",
       "    <tr>\n",
       "      <td>min</td>\n",
       "      <td>7.769150e+05</td>\n",
       "      <td>1.0</td>\n",
       "      <td>0.0</td>\n",
       "      <td>1.0</td>\n",
       "      <td>0.0</td>\n",
       "      <td>0.0</td>\n",
       "      <td>0.000000</td>\n",
       "      <td>0.000000</td>\n",
       "      <td>0.000000</td>\n",
       "      <td>0.000000</td>\n",
       "      <td>1.000000</td>\n",
       "      <td>0.000000</td>\n",
       "      <td>-161.000000</td>\n",
       "      <td>2.000000</td>\n",
       "      <td>1.000000</td>\n",
       "    </tr>\n",
       "    <tr>\n",
       "      <td>25%</td>\n",
       "      <td>9.617525e+05</td>\n",
       "      <td>1.0</td>\n",
       "      <td>0.0</td>\n",
       "      <td>1.0</td>\n",
       "      <td>0.0</td>\n",
       "      <td>0.0</td>\n",
       "      <td>1.000000</td>\n",
       "      <td>0.000000</td>\n",
       "      <td>40.000000</td>\n",
       "      <td>0.000000</td>\n",
       "      <td>2.000000</td>\n",
       "      <td>0.000000</td>\n",
       "      <td>-4.000000</td>\n",
       "      <td>3.000000</td>\n",
       "      <td>1.000000</td>\n",
       "    </tr>\n",
       "    <tr>\n",
       "      <td>50%</td>\n",
       "      <td>1.063791e+06</td>\n",
       "      <td>1.0</td>\n",
       "      <td>0.0</td>\n",
       "      <td>1.0</td>\n",
       "      <td>0.0</td>\n",
       "      <td>0.0</td>\n",
       "      <td>1.000000</td>\n",
       "      <td>0.000000</td>\n",
       "      <td>50.000000</td>\n",
       "      <td>0.000000</td>\n",
       "      <td>3.000000</td>\n",
       "      <td>0.000000</td>\n",
       "      <td>-2.000000</td>\n",
       "      <td>4.000000</td>\n",
       "      <td>1.000000</td>\n",
       "    </tr>\n",
       "    <tr>\n",
       "      <td>75%</td>\n",
       "      <td>1.272116e+06</td>\n",
       "      <td>1.0</td>\n",
       "      <td>0.0</td>\n",
       "      <td>1.0</td>\n",
       "      <td>0.0</td>\n",
       "      <td>0.0</td>\n",
       "      <td>2.000000</td>\n",
       "      <td>1.000000</td>\n",
       "      <td>62.500000</td>\n",
       "      <td>100.000000</td>\n",
       "      <td>5.000000</td>\n",
       "      <td>1.000000</td>\n",
       "      <td>-1.000000</td>\n",
       "      <td>8.000000</td>\n",
       "      <td>3.000000</td>\n",
       "    </tr>\n",
       "    <tr>\n",
       "      <td>max</td>\n",
       "      <td>1.658444e+06</td>\n",
       "      <td>1.0</td>\n",
       "      <td>0.0</td>\n",
       "      <td>1.0</td>\n",
       "      <td>0.0</td>\n",
       "      <td>0.0</td>\n",
       "      <td>157.000000</td>\n",
       "      <td>41.000000</td>\n",
       "      <td>98.330000</td>\n",
       "      <td>100.000000</td>\n",
       "      <td>161.000000</td>\n",
       "      <td>41.000000</td>\n",
       "      <td>39.000000</td>\n",
       "      <td>164.000000</td>\n",
       "      <td>87.000000</td>\n",
       "    </tr>\n",
       "  </tbody>\n",
       "</table>\n",
       "</div>"
      ],
      "text/plain": [
       "           chunk_id  v1_percentage  v2_percentage  normalized_v1_percentage  \\\n",
       "count  1.451000e+03         1451.0         1451.0                    1451.0   \n",
       "mean   1.104880e+06            1.0            0.0                       1.0   \n",
       "std    2.120303e+05            0.0            0.0                       0.0   \n",
       "min    7.769150e+05            1.0            0.0                       1.0   \n",
       "25%    9.617525e+05            1.0            0.0                       1.0   \n",
       "50%    1.063791e+06            1.0            0.0                       1.0   \n",
       "75%    1.272116e+06            1.0            0.0                       1.0   \n",
       "max    1.658444e+06            1.0            0.0                       1.0   \n",
       "\n",
       "       normalized_v2_percentage  intersection_percentage  missing_v1_lines  \\\n",
       "count                    1451.0                   1451.0       1451.000000   \n",
       "mean                        0.0                      0.0          3.126120   \n",
       "std                         0.0                      0.0          6.956115   \n",
       "min                         0.0                      0.0          0.000000   \n",
       "25%                         0.0                      0.0          1.000000   \n",
       "50%                         0.0                      0.0          1.000000   \n",
       "75%                         0.0                      0.0          2.000000   \n",
       "max                         0.0                      0.0        157.000000   \n",
       "\n",
       "       missing_v2_lines  missing_v1_lines_perc  missing_v2_lines_perc  \\\n",
       "count       1451.000000            1451.000000            1451.000000   \n",
       "mean           1.060648              50.033687              45.485872   \n",
       "std            2.884042              19.047188              49.812978   \n",
       "min            0.000000               0.000000               0.000000   \n",
       "25%            0.000000              40.000000               0.000000   \n",
       "50%            0.000000              50.000000               0.000000   \n",
       "75%            1.000000              62.500000             100.000000   \n",
       "max           41.000000              98.330000             100.000000   \n",
       "\n",
       "           v1_size      v2_size  chunk_size_delta   chunk_size  \\\n",
       "count  1451.000000  1451.000000       1451.000000  1451.000000   \n",
       "mean      6.008270     1.060648         -4.947622     7.927636   \n",
       "std       9.813077     2.884042         10.181322    11.565150   \n",
       "min       1.000000     0.000000       -161.000000     2.000000   \n",
       "25%       2.000000     0.000000         -4.000000     3.000000   \n",
       "50%       3.000000     0.000000         -2.000000     4.000000   \n",
       "75%       5.000000     1.000000         -1.000000     8.000000   \n",
       "max     161.000000    41.000000         39.000000   164.000000   \n",
       "\n",
       "       resolution_size  \n",
       "count      1451.000000  \n",
       "mean          3.272915  \n",
       "std           6.187079  \n",
       "min           1.000000  \n",
       "25%           1.000000  \n",
       "50%           1.000000  \n",
       "75%           3.000000  \n",
       "max          87.000000  "
      ]
     },
     "execution_count": 24,
     "metadata": {},
     "output_type": "execute_result"
    }
   ],
   "source": [
    "v1_only.describe()"
   ]
  },
  {
   "cell_type": "markdown",
   "metadata": {},
   "source": [
    "For chunks that were resolved using only some lines of v1, they miss, on average, 3.12 or 50% of V1 lines. Interestingly, the average size of V2 in these chunks is 1 (min 0, max 41)."
   ]
  },
  {
   "cell_type": "code",
   "execution_count": 25,
   "metadata": {},
   "outputs": [
    {
     "data": {
      "text/html": [
       "<div>\n",
       "<style scoped>\n",
       "    .dataframe tbody tr th:only-of-type {\n",
       "        vertical-align: middle;\n",
       "    }\n",
       "\n",
       "    .dataframe tbody tr th {\n",
       "        vertical-align: top;\n",
       "    }\n",
       "\n",
       "    .dataframe thead th {\n",
       "        text-align: right;\n",
       "    }\n",
       "</style>\n",
       "<table border=\"1\" class=\"dataframe\">\n",
       "  <thead>\n",
       "    <tr style=\"text-align: right;\">\n",
       "      <th></th>\n",
       "      <th>chunk_id</th>\n",
       "      <th>v1_percentage</th>\n",
       "      <th>v2_percentage</th>\n",
       "      <th>normalized_v1_percentage</th>\n",
       "      <th>normalized_v2_percentage</th>\n",
       "      <th>intersection_percentage</th>\n",
       "      <th>missing_v1_lines</th>\n",
       "      <th>missing_v2_lines</th>\n",
       "      <th>missing_v1_lines_perc</th>\n",
       "      <th>missing_v2_lines_perc</th>\n",
       "      <th>v1_size</th>\n",
       "      <th>v2_size</th>\n",
       "      <th>chunk_size_delta</th>\n",
       "      <th>chunk_size</th>\n",
       "      <th>resolution_size</th>\n",
       "    </tr>\n",
       "  </thead>\n",
       "  <tbody>\n",
       "    <tr>\n",
       "      <td>count</td>\n",
       "      <td>1.341000e+03</td>\n",
       "      <td>1341.0</td>\n",
       "      <td>1341.000000</td>\n",
       "      <td>1341.0</td>\n",
       "      <td>1341.000000</td>\n",
       "      <td>1341.0</td>\n",
       "      <td>1341.000000</td>\n",
       "      <td>1341.000000</td>\n",
       "      <td>1341.000000</td>\n",
       "      <td>1341.000000</td>\n",
       "      <td>1341.000000</td>\n",
       "      <td>1341.000000</td>\n",
       "      <td>1341.000000</td>\n",
       "      <td>1341.000000</td>\n",
       "      <td>1341.000000</td>\n",
       "    </tr>\n",
       "    <tr>\n",
       "      <td>mean</td>\n",
       "      <td>1.105443e+06</td>\n",
       "      <td>0.0</td>\n",
       "      <td>0.999925</td>\n",
       "      <td>0.0</td>\n",
       "      <td>0.999925</td>\n",
       "      <td>0.0</td>\n",
       "      <td>0.741238</td>\n",
       "      <td>4.627890</td>\n",
       "      <td>37.136465</td>\n",
       "      <td>52.712453</td>\n",
       "      <td>0.741238</td>\n",
       "      <td>7.893363</td>\n",
       "      <td>7.152125</td>\n",
       "      <td>9.692021</td>\n",
       "      <td>3.730798</td>\n",
       "    </tr>\n",
       "    <tr>\n",
       "      <td>std</td>\n",
       "      <td>2.081648e+05</td>\n",
       "      <td>0.0</td>\n",
       "      <td>0.002731</td>\n",
       "      <td>0.0</td>\n",
       "      <td>0.002731</td>\n",
       "      <td>0.0</td>\n",
       "      <td>2.098189</td>\n",
       "      <td>16.602133</td>\n",
       "      <td>48.334994</td>\n",
       "      <td>20.470934</td>\n",
       "      <td>2.098189</td>\n",
       "      <td>20.287996</td>\n",
       "      <td>20.401071</td>\n",
       "      <td>22.022170</td>\n",
       "      <td>10.553058</td>\n",
       "    </tr>\n",
       "    <tr>\n",
       "      <td>min</td>\n",
       "      <td>7.770420e+05</td>\n",
       "      <td>0.0</td>\n",
       "      <td>0.900000</td>\n",
       "      <td>0.0</td>\n",
       "      <td>0.900000</td>\n",
       "      <td>0.0</td>\n",
       "      <td>0.000000</td>\n",
       "      <td>0.000000</td>\n",
       "      <td>0.000000</td>\n",
       "      <td>0.000000</td>\n",
       "      <td>0.000000</td>\n",
       "      <td>2.000000</td>\n",
       "      <td>-25.000000</td>\n",
       "      <td>2.000000</td>\n",
       "      <td>1.000000</td>\n",
       "    </tr>\n",
       "    <tr>\n",
       "      <td>25%</td>\n",
       "      <td>9.619860e+05</td>\n",
       "      <td>0.0</td>\n",
       "      <td>1.000000</td>\n",
       "      <td>0.0</td>\n",
       "      <td>1.000000</td>\n",
       "      <td>0.0</td>\n",
       "      <td>0.000000</td>\n",
       "      <td>1.000000</td>\n",
       "      <td>0.000000</td>\n",
       "      <td>45.450000</td>\n",
       "      <td>0.000000</td>\n",
       "      <td>2.000000</td>\n",
       "      <td>2.000000</td>\n",
       "      <td>3.000000</td>\n",
       "      <td>1.000000</td>\n",
       "    </tr>\n",
       "    <tr>\n",
       "      <td>50%</td>\n",
       "      <td>1.077603e+06</td>\n",
       "      <td>0.0</td>\n",
       "      <td>1.000000</td>\n",
       "      <td>0.0</td>\n",
       "      <td>1.000000</td>\n",
       "      <td>0.0</td>\n",
       "      <td>0.000000</td>\n",
       "      <td>1.000000</td>\n",
       "      <td>0.000000</td>\n",
       "      <td>50.000000</td>\n",
       "      <td>0.000000</td>\n",
       "      <td>3.000000</td>\n",
       "      <td>3.000000</td>\n",
       "      <td>4.000000</td>\n",
       "      <td>1.000000</td>\n",
       "    </tr>\n",
       "    <tr>\n",
       "      <td>75%</td>\n",
       "      <td>1.239417e+06</td>\n",
       "      <td>0.0</td>\n",
       "      <td>1.000000</td>\n",
       "      <td>0.0</td>\n",
       "      <td>1.000000</td>\n",
       "      <td>0.0</td>\n",
       "      <td>1.000000</td>\n",
       "      <td>3.000000</td>\n",
       "      <td>100.000000</td>\n",
       "      <td>66.670000</td>\n",
       "      <td>1.000000</td>\n",
       "      <td>6.000000</td>\n",
       "      <td>6.000000</td>\n",
       "      <td>9.000000</td>\n",
       "      <td>3.000000</td>\n",
       "    </tr>\n",
       "    <tr>\n",
       "      <td>max</td>\n",
       "      <td>1.658415e+06</td>\n",
       "      <td>0.0</td>\n",
       "      <td>1.000000</td>\n",
       "      <td>0.0</td>\n",
       "      <td>1.000000</td>\n",
       "      <td>0.0</td>\n",
       "      <td>34.000000</td>\n",
       "      <td>478.000000</td>\n",
       "      <td>100.000000</td>\n",
       "      <td>99.170000</td>\n",
       "      <td>34.000000</td>\n",
       "      <td>484.000000</td>\n",
       "      <td>484.000000</td>\n",
       "      <td>489.000000</td>\n",
       "      <td>305.000000</td>\n",
       "    </tr>\n",
       "  </tbody>\n",
       "</table>\n",
       "</div>"
      ],
      "text/plain": [
       "           chunk_id  v1_percentage  v2_percentage  normalized_v1_percentage  \\\n",
       "count  1.341000e+03         1341.0    1341.000000                    1341.0   \n",
       "mean   1.105443e+06            0.0       0.999925                       0.0   \n",
       "std    2.081648e+05            0.0       0.002731                       0.0   \n",
       "min    7.770420e+05            0.0       0.900000                       0.0   \n",
       "25%    9.619860e+05            0.0       1.000000                       0.0   \n",
       "50%    1.077603e+06            0.0       1.000000                       0.0   \n",
       "75%    1.239417e+06            0.0       1.000000                       0.0   \n",
       "max    1.658415e+06            0.0       1.000000                       0.0   \n",
       "\n",
       "       normalized_v2_percentage  intersection_percentage  missing_v1_lines  \\\n",
       "count               1341.000000                   1341.0       1341.000000   \n",
       "mean                   0.999925                      0.0          0.741238   \n",
       "std                    0.002731                      0.0          2.098189   \n",
       "min                    0.900000                      0.0          0.000000   \n",
       "25%                    1.000000                      0.0          0.000000   \n",
       "50%                    1.000000                      0.0          0.000000   \n",
       "75%                    1.000000                      0.0          1.000000   \n",
       "max                    1.000000                      0.0         34.000000   \n",
       "\n",
       "       missing_v2_lines  missing_v1_lines_perc  missing_v2_lines_perc  \\\n",
       "count       1341.000000            1341.000000            1341.000000   \n",
       "mean           4.627890              37.136465              52.712453   \n",
       "std           16.602133              48.334994              20.470934   \n",
       "min            0.000000               0.000000               0.000000   \n",
       "25%            1.000000               0.000000              45.450000   \n",
       "50%            1.000000               0.000000              50.000000   \n",
       "75%            3.000000             100.000000              66.670000   \n",
       "max          478.000000             100.000000              99.170000   \n",
       "\n",
       "           v1_size      v2_size  chunk_size_delta   chunk_size  \\\n",
       "count  1341.000000  1341.000000       1341.000000  1341.000000   \n",
       "mean      0.741238     7.893363          7.152125     9.692021   \n",
       "std       2.098189    20.287996         20.401071    22.022170   \n",
       "min       0.000000     2.000000        -25.000000     2.000000   \n",
       "25%       0.000000     2.000000          2.000000     3.000000   \n",
       "50%       0.000000     3.000000          3.000000     4.000000   \n",
       "75%       1.000000     6.000000          6.000000     9.000000   \n",
       "max      34.000000   484.000000        484.000000   489.000000   \n",
       "\n",
       "       resolution_size  \n",
       "count      1341.000000  \n",
       "mean          3.730798  \n",
       "std          10.553058  \n",
       "min           1.000000  \n",
       "25%           1.000000  \n",
       "50%           1.000000  \n",
       "75%           3.000000  \n",
       "max         305.000000  "
      ]
     },
     "execution_count": 25,
     "metadata": {},
     "output_type": "execute_result"
    }
   ],
   "source": [
    "v2_only.describe()"
   ]
  },
  {
   "cell_type": "markdown",
   "metadata": {},
   "source": [
    "For chunks that were resolved using only some lines of v2, they miss, on average, 4.62 or 52% of V2 lines. Interestingly, as happened with v1_only, the average size of V1 in these chunks is 0.74 (min 0, max 34)."
   ]
  },
  {
   "cell_type": "markdown",
   "metadata": {},
   "source": [
    "### Sample of v1_only chunks"
   ]
  },
  {
   "cell_type": "code",
   "execution_count": 26,
   "metadata": {},
   "outputs": [
    {
     "data": {
      "text/html": [
       "<div>\n",
       "<style scoped>\n",
       "    .dataframe tbody tr th:only-of-type {\n",
       "        vertical-align: middle;\n",
       "    }\n",
       "\n",
       "    .dataframe tbody tr th {\n",
       "        vertical-align: top;\n",
       "    }\n",
       "\n",
       "    .dataframe thead th {\n",
       "        text-align: right;\n",
       "    }\n",
       "</style>\n",
       "<table border=\"1\" class=\"dataframe\">\n",
       "  <thead>\n",
       "    <tr style=\"text-align: right;\">\n",
       "      <th></th>\n",
       "      <th>chunk_id</th>\n",
       "      <th>v1_percentage</th>\n",
       "      <th>v2_percentage</th>\n",
       "      <th>normalized_v1_percentage</th>\n",
       "      <th>normalized_v2_percentage</th>\n",
       "      <th>intersection_percentage</th>\n",
       "      <th>chunk_composition</th>\n",
       "      <th>missing_v1_lines</th>\n",
       "      <th>missing_v2_lines</th>\n",
       "      <th>missing_v1_lines_perc</th>\n",
       "      <th>missing_v2_lines_perc</th>\n",
       "      <th>v1_size</th>\n",
       "      <th>v2_size</th>\n",
       "      <th>chunk_size_delta</th>\n",
       "      <th>partial_order</th>\n",
       "      <th>chunk_size</th>\n",
       "      <th>resolution_size</th>\n",
       "    </tr>\n",
       "  </thead>\n",
       "  <tbody>\n",
       "    <tr>\n",
       "      <td>4916</td>\n",
       "      <td>993836</td>\n",
       "      <td>1.0</td>\n",
       "      <td>0.0</td>\n",
       "      <td>1.0</td>\n",
       "      <td>0.0</td>\n",
       "      <td>0.0</td>\n",
       "      <td>v1</td>\n",
       "      <td>7</td>\n",
       "      <td>2</td>\n",
       "      <td>53.85</td>\n",
       "      <td>100.0</td>\n",
       "      <td>13</td>\n",
       "      <td>2</td>\n",
       "      <td>-11.0</td>\n",
       "      <td>True</td>\n",
       "      <td>15</td>\n",
       "      <td>6</td>\n",
       "    </tr>\n",
       "    <tr>\n",
       "      <td>6738</td>\n",
       "      <td>1075668</td>\n",
       "      <td>1.0</td>\n",
       "      <td>0.0</td>\n",
       "      <td>1.0</td>\n",
       "      <td>0.0</td>\n",
       "      <td>0.0</td>\n",
       "      <td>v1</td>\n",
       "      <td>2</td>\n",
       "      <td>0</td>\n",
       "      <td>50.00</td>\n",
       "      <td>0.0</td>\n",
       "      <td>4</td>\n",
       "      <td>0</td>\n",
       "      <td>-4.0</td>\n",
       "      <td>True</td>\n",
       "      <td>4</td>\n",
       "      <td>2</td>\n",
       "    </tr>\n",
       "    <tr>\n",
       "      <td>503</td>\n",
       "      <td>790332</td>\n",
       "      <td>1.0</td>\n",
       "      <td>0.0</td>\n",
       "      <td>1.0</td>\n",
       "      <td>0.0</td>\n",
       "      <td>0.0</td>\n",
       "      <td>v1</td>\n",
       "      <td>1</td>\n",
       "      <td>2</td>\n",
       "      <td>2.70</td>\n",
       "      <td>100.0</td>\n",
       "      <td>37</td>\n",
       "      <td>2</td>\n",
       "      <td>-35.0</td>\n",
       "      <td>True</td>\n",
       "      <td>47</td>\n",
       "      <td>44</td>\n",
       "    </tr>\n",
       "  </tbody>\n",
       "</table>\n",
       "</div>"
      ],
      "text/plain": [
       "      chunk_id  v1_percentage  v2_percentage  normalized_v1_percentage  \\\n",
       "4916    993836            1.0            0.0                       1.0   \n",
       "6738   1075668            1.0            0.0                       1.0   \n",
       "503     790332            1.0            0.0                       1.0   \n",
       "\n",
       "      normalized_v2_percentage  intersection_percentage chunk_composition  \\\n",
       "4916                       0.0                      0.0                v1   \n",
       "6738                       0.0                      0.0                v1   \n",
       "503                        0.0                      0.0                v1   \n",
       "\n",
       "      missing_v1_lines  missing_v2_lines  missing_v1_lines_perc  \\\n",
       "4916                 7                 2                  53.85   \n",
       "6738                 2                 0                  50.00   \n",
       "503                  1                 2                   2.70   \n",
       "\n",
       "      missing_v2_lines_perc  v1_size  v2_size  chunk_size_delta partial_order  \\\n",
       "4916                  100.0       13        2             -11.0          True   \n",
       "6738                    0.0        4        0              -4.0          True   \n",
       "503                   100.0       37        2             -35.0          True   \n",
       "\n",
       "      chunk_size  resolution_size  \n",
       "4916          15                6  \n",
       "6738           4                2  \n",
       "503           47               44  "
      ]
     },
     "execution_count": 26,
     "metadata": {},
     "output_type": "execute_result"
    }
   ],
   "source": [
    "sample_v1 = v1_only.sample(3, random_state = 42)\n",
    "sample_v1.head()"
   ]
  },
  {
   "cell_type": "markdown",
   "metadata": {},
   "source": [
    "### Chunk 1"
   ]
  },
  {
   "cell_type": "code",
   "execution_count": 27,
   "metadata": {},
   "outputs": [
    {
     "name": "stdout",
     "output_type": "stream",
     "text": [
      "import wyjc.runtime.BigRational;\n",
      "import wyjvm.attributes.Code.Handler;\n",
      "import wyjvm.io.BinaryOutputStream;\n",
      "<<<<<<<\n",
      "import wyjvm.lang.Bytecode;\n",
      "import wyjvm.lang.Bytecode.Dup;\n",
      "import wyjvm.lang.Bytecode.If;\n",
      "import wyjvm.lang.Bytecode.Invoke;\n",
      "import wyjvm.lang.Bytecode.Label;\n",
      "import wyjvm.lang.Bytecode.Pop;\n",
      "import wyjvm.lang.Bytecode.Throw;\n",
      "import wyjvm.lang.BytecodeAttribute;\n",
      "import wyjvm.lang.ClassFile;\n",
      "import wyjvm.lang.JvmType;\n",
      "import wyjvm.lang.JvmType.Function;\n",
      "import wyjvm.lang.JvmTypes;\n",
      "import wyjvm.lang.Modifier;\n",
      "=======\n",
      "import wyjvm.lang.*;\n",
      "import static wyjvm.lang.JvmTypes.*;\n",
      ">>>>>>>\n",
      "\n",
      "/**\n",
      " * The purpose of the class file builder is to construct a jvm class file from\n",
      "\n",
      "\n"
     ]
    }
   ],
   "source": [
    "chunk1 = Chunk(int(sample_v1.iloc[0]['chunk_id']))\n",
    "print(chunk1.get_conflict_text())"
   ]
  },
  {
   "cell_type": "code",
   "execution_count": 28,
   "metadata": {},
   "outputs": [
    {
     "name": "stdout",
     "output_type": "stream",
     "text": [
      "import wyjc.runtime.BigRational;\n",
      "import wyjvm.attributes.Code.Handler;\n",
      "import wyjvm.io.BinaryOutputStream;\n",
      "import wyjvm.lang.Bytecode;\n",
      "import wyjvm.lang.BytecodeAttribute;\n",
      "import wyjvm.lang.ClassFile;\n",
      "import wyjvm.lang.JvmType;\n",
      "import wyjvm.lang.JvmTypes;\n",
      "import wyjvm.lang.Modifier;\n",
      "\n",
      "/**\n",
      " * The purpose of the class file builder is to construct a jvm class file from\n",
      "\n"
     ]
    }
   ],
   "source": [
    "print(chunk1.resolution)"
   ]
  },
  {
   "cell_type": "code",
   "execution_count": 29,
   "metadata": {},
   "outputs": [
    {
     "name": "stdout",
     "output_type": "stream",
     "text": [
      "importwyjvm.lang.Bytecode.Dup;\n",
      "importwyjvm.lang.Bytecode.If;\n",
      "importwyjvm.lang.Bytecode.Invoke;\n",
      "importwyjvm.lang.Bytecode.Label;\n",
      "importwyjvm.lang.Bytecode.Pop;\n",
      "importwyjvm.lang.Bytecode.Throw;\n",
      "importwyjvm.lang.JvmType.Function;\n"
     ]
    }
   ],
   "source": [
    "resolution = chunk1.get_clean_solution()\n",
    "resolution = remove_empty_lines(resolution)\n",
    "v1 = normalize_lines(chunk1.v1.splitlines())\n",
    "v1 = remove_empty_lines(v1)\n",
    "analysis_util.print_missing_lines(v1, resolution)"
   ]
  },
  {
   "cell_type": "markdown",
   "metadata": {},
   "source": [
    "### Chunk 2"
   ]
  },
  {
   "cell_type": "code",
   "execution_count": 30,
   "metadata": {},
   "outputs": [
    {
     "name": "stdout",
     "output_type": "stream",
     "text": [
      "import cucumber.runtime.HookDefinition;\n",
      "import cucumber.runtime.StepDefinition;\n",
      "import cucumber.runtime.java.test.Stepdefs;\n",
      "<<<<<<<\n",
      "import gherkin.formatter.Reporter;\n",
      "import gherkin.formatter.model.DataTableRow;\n",
      "import gherkin.formatter.model.DocString;\n",
      "import gherkin.formatter.model.Step;\n",
      "=======\n",
      ">>>>>>>\n",
      "import org.junit.Test;\n",
      "\n",
      "import java.util.ArrayList;\n",
      "\n",
      "\n"
     ]
    }
   ],
   "source": [
    "chunk2 = Chunk(int(sample_v1.iloc[1]['chunk_id']))\n",
    "print(chunk2.get_conflict_text())"
   ]
  },
  {
   "cell_type": "code",
   "execution_count": 31,
   "metadata": {},
   "outputs": [
    {
     "name": "stdout",
     "output_type": "stream",
     "text": [
      "import cucumber.runtime.HookDefinition;\n",
      "import cucumber.runtime.StepDefinition;\n",
      "import cucumber.runtime.java.test.Stepdefs;\n",
      "import gherkin.formatter.model.DataTableRow;\n",
      "import gherkin.formatter.model.DocString;\n",
      "import org.junit.Test;\n",
      "\n",
      "import java.util.ArrayList;\n",
      "\n"
     ]
    }
   ],
   "source": [
    "print(chunk2.resolution)"
   ]
  },
  {
   "cell_type": "code",
   "execution_count": 32,
   "metadata": {},
   "outputs": [
    {
     "name": "stdout",
     "output_type": "stream",
     "text": [
      "importgherkin.formatter.Reporter;\n",
      "importgherkin.formatter.model.Step;\n"
     ]
    }
   ],
   "source": [
    "resolution = chunk2.get_clean_solution()\n",
    "resolution = remove_empty_lines(resolution)\n",
    "v1 = normalize_lines(chunk2.v1.splitlines())\n",
    "v1 = remove_empty_lines(v1)\n",
    "analysis_util.print_missing_lines(v1, resolution)"
   ]
  },
  {
   "cell_type": "markdown",
   "metadata": {},
   "source": [
    "### Chunk 3"
   ]
  },
  {
   "cell_type": "code",
   "execution_count": 33,
   "metadata": {},
   "outputs": [
    {
     "name": "stdout",
     "output_type": "stream",
     "text": [
      "        if ( ( script == null ) || \"auto\".equals(script) ) {\n",
      "            script = CharUtilities.scriptTagFromCode ( CharUtilities.dominantScript ( ics ) );\n",
      "        }\n",
      "<<<<<<<\n",
      "        if ( ( language == null ) || \"none\".equals(language) ) {\n",
      "            language = \"dflt\";\n",
      "        }\n",
      "\n",
      "        // perform mapping (of chars to glyphs ... to glyphs ... to chars)\n",
      "        CharSequence mcs = font.performSubstitution ( ics, script, language );\n",
      "\n",
      "        // memoize mapping\n",
      "        foText.addMapping ( s, e, mcs );\n",
      "\n",
      "        // compute glyph position adjustment on (substituted) characters\n",
      "        int[][] gpa;\n",
      "        if ( font.performsPositioning() ) {\n",
      "            gpa = font.performPositioning ( mcs, script, language );\n",
      "        } else {\n",
      "            gpa = null;\n",
      "        }\n",
      "\n",
      "        MinOptMax ipd = MinOptMax.ZERO;\n",
      "        for ( int i = 0, n = mcs.length(); i < n; i++ ) {\n",
      "            char c = mcs.charAt ( i );\n",
      "            int  w = font.getCharWidth ( c );\n",
      "            if ( gpa != null ) {\n",
      "                w += gpa [ i ] [ GlyphPositioningTable.Value.IDX_X_ADVANCE ];\n",
      "            }\n",
      "            ipd = ipd.plus ( w );\n",
      "        }\n",
      "\n",
      "        // [TBD] - handle kerning - note that standard kerning would only apply in\n",
      "        // the off-chance that a font supports substitution, but does not support\n",
      "        // positioning and yet has kerning data\n",
      "        // if ( ! font.performsPositioning() ) {\n",
      "        //   // do standard kerning\n",
      "        // }\n",
      "\n",
      "        // [TBD] - handle letter spacing\n",
      "\n",
      "        return new AreaInfo\n",
      "            ( s, e, 0, nLS, ipd, endsWithHyphen, false,\n",
      "              breakOpportunityChar != 0, font, level, gpa );\n",
      "    }\n",
      "\n",
      "    private AreaInfo processWordNoMapping(int lastIndex, final Font font, AreaInfo prevAreaInfo,\n",
      "            final char breakOpportunityChar, final boolean endsWithHyphen, int level) {\n",
      "        int wordLength = lastIndex - thisStart;\n",
      "=======\n",
      "        Font font = FontSelector\n",
      "            .selectFontForCharactersInText(foText, thisStart, lastIndex, foText, this);\n",
      ">>>>>>>\n",
      "        boolean kerning = font.hasKerning();\n",
      "        MinOptMax wordIPD = MinOptMax.ZERO;\n",
      "\n",
      "\n",
      "\n"
     ]
    }
   ],
   "source": [
    "chunk3 = Chunk(int(sample_v1.iloc[2]['chunk_id']))\n",
    "print(chunk3.get_conflict_text())"
   ]
  },
  {
   "cell_type": "code",
   "execution_count": 34,
   "metadata": {},
   "outputs": [
    {
     "name": "stdout",
     "output_type": "stream",
     "text": [
      "        if ( ( script == null ) || \"auto\".equals(script) ) {\n",
      "            script = CharUtilities.scriptTagFromCode ( CharUtilities.dominantScript ( ics ) );\n",
      "        }\n",
      "        if ( ( language == null ) || \"none\".equals(language) ) {\n",
      "            language = \"dflt\";\n",
      "        }\n",
      "\n",
      "        // perform mapping (of chars to glyphs ... to glyphs ... to chars)\n",
      "        CharSequence mcs = font.performSubstitution ( ics, script, language );\n",
      "\n",
      "        // memoize mapping\n",
      "        foText.addMapping ( s, e, mcs );\n",
      "\n",
      "        // compute glyph position adjustment on (substituted) characters\n",
      "        int[][] gpa;\n",
      "        if ( font.performsPositioning() ) {\n",
      "            gpa = font.performPositioning ( mcs, script, language );\n",
      "        } else {\n",
      "            gpa = null;\n",
      "        }\n",
      "\n",
      "        MinOptMax ipd = MinOptMax.ZERO;\n",
      "        for ( int i = 0, n = mcs.length(); i < n; i++ ) {\n",
      "            char c = mcs.charAt ( i );\n",
      "            int  w = font.getCharWidth ( c );\n",
      "            if ( gpa != null ) {\n",
      "                w += gpa [ i ] [ GlyphPositioningTable.Value.IDX_X_ADVANCE ];\n",
      "            }\n",
      "            ipd = ipd.plus ( w );\n",
      "        }\n",
      "\n",
      "        // [TBD] - handle kerning - note that standard kerning would only apply in\n",
      "        // the off-chance that a font supports substitution, but does not support\n",
      "        // positioning and yet has kerning data\n",
      "        // if ( ! font.performsPositioning() ) {\n",
      "        //   // do standard kerning\n",
      "        // }\n",
      "\n",
      "        // [TBD] - handle letter spacing\n",
      "\n",
      "        return new AreaInfo\n",
      "            ( s, e, 0, nLS, ipd, endsWithHyphen, false,\n",
      "              breakOpportunityChar != 0, font, level, gpa );\n",
      "    }\n",
      "\n",
      "    private AreaInfo processWordNoMapping(int lastIndex, final Font font, AreaInfo prevAreaInfo,\n",
      "            final char breakOpportunityChar, final boolean endsWithHyphen, int level) {\n",
      "        boolean kerning = font.hasKerning();\n",
      "        MinOptMax wordIPD = MinOptMax.ZERO;\n",
      "\n",
      "\n"
     ]
    }
   ],
   "source": [
    "print(chunk3.resolution)"
   ]
  },
  {
   "cell_type": "code",
   "execution_count": 35,
   "metadata": {},
   "outputs": [
    {
     "name": "stdout",
     "output_type": "stream",
     "text": [
      "intwordLength=lastIndex-thisStart;\n"
     ]
    }
   ],
   "source": [
    "resolution = chunk3.get_clean_solution()\n",
    "resolution = remove_empty_lines(resolution)\n",
    "v1 = normalize_lines(chunk3.v1.splitlines())\n",
    "v1 = remove_empty_lines(v1)\n",
    "analysis_util.print_missing_lines(v1, resolution)"
   ]
  },
  {
   "cell_type": "markdown",
   "metadata": {},
   "source": [
    "### Sample of v2_only chunks"
   ]
  },
  {
   "cell_type": "code",
   "execution_count": 36,
   "metadata": {},
   "outputs": [
    {
     "data": {
      "text/html": [
       "<div>\n",
       "<style scoped>\n",
       "    .dataframe tbody tr th:only-of-type {\n",
       "        vertical-align: middle;\n",
       "    }\n",
       "\n",
       "    .dataframe tbody tr th {\n",
       "        vertical-align: top;\n",
       "    }\n",
       "\n",
       "    .dataframe thead th {\n",
       "        text-align: right;\n",
       "    }\n",
       "</style>\n",
       "<table border=\"1\" class=\"dataframe\">\n",
       "  <thead>\n",
       "    <tr style=\"text-align: right;\">\n",
       "      <th></th>\n",
       "      <th>chunk_id</th>\n",
       "      <th>v1_percentage</th>\n",
       "      <th>v2_percentage</th>\n",
       "      <th>normalized_v1_percentage</th>\n",
       "      <th>normalized_v2_percentage</th>\n",
       "      <th>intersection_percentage</th>\n",
       "      <th>chunk_composition</th>\n",
       "      <th>missing_v1_lines</th>\n",
       "      <th>missing_v2_lines</th>\n",
       "      <th>missing_v1_lines_perc</th>\n",
       "      <th>missing_v2_lines_perc</th>\n",
       "      <th>v1_size</th>\n",
       "      <th>v2_size</th>\n",
       "      <th>chunk_size_delta</th>\n",
       "      <th>partial_order</th>\n",
       "      <th>chunk_size</th>\n",
       "      <th>resolution_size</th>\n",
       "    </tr>\n",
       "  </thead>\n",
       "  <tbody>\n",
       "    <tr>\n",
       "      <td>7521</td>\n",
       "      <td>1108730</td>\n",
       "      <td>0.0</td>\n",
       "      <td>1.0</td>\n",
       "      <td>0.0</td>\n",
       "      <td>1.0</td>\n",
       "      <td>0.0</td>\n",
       "      <td>v2</td>\n",
       "      <td>0</td>\n",
       "      <td>5</td>\n",
       "      <td>0.0</td>\n",
       "      <td>71.43</td>\n",
       "      <td>0</td>\n",
       "      <td>7</td>\n",
       "      <td>7.0</td>\n",
       "      <td>True</td>\n",
       "      <td>11</td>\n",
       "      <td>3</td>\n",
       "    </tr>\n",
       "    <tr>\n",
       "      <td>5682</td>\n",
       "      <td>1028798</td>\n",
       "      <td>0.0</td>\n",
       "      <td>1.0</td>\n",
       "      <td>0.0</td>\n",
       "      <td>1.0</td>\n",
       "      <td>0.0</td>\n",
       "      <td>v2</td>\n",
       "      <td>0</td>\n",
       "      <td>1</td>\n",
       "      <td>0.0</td>\n",
       "      <td>33.33</td>\n",
       "      <td>0</td>\n",
       "      <td>3</td>\n",
       "      <td>3.0</td>\n",
       "      <td>True</td>\n",
       "      <td>3</td>\n",
       "      <td>2</td>\n",
       "    </tr>\n",
       "    <tr>\n",
       "      <td>5898</td>\n",
       "      <td>1044342</td>\n",
       "      <td>0.0</td>\n",
       "      <td>1.0</td>\n",
       "      <td>0.0</td>\n",
       "      <td>1.0</td>\n",
       "      <td>0.0</td>\n",
       "      <td>v2</td>\n",
       "      <td>0</td>\n",
       "      <td>1</td>\n",
       "      <td>0.0</td>\n",
       "      <td>50.00</td>\n",
       "      <td>0</td>\n",
       "      <td>2</td>\n",
       "      <td>2.0</td>\n",
       "      <td>True</td>\n",
       "      <td>2</td>\n",
       "      <td>1</td>\n",
       "    </tr>\n",
       "  </tbody>\n",
       "</table>\n",
       "</div>"
      ],
      "text/plain": [
       "      chunk_id  v1_percentage  v2_percentage  normalized_v1_percentage  \\\n",
       "7521   1108730            0.0            1.0                       0.0   \n",
       "5682   1028798            0.0            1.0                       0.0   \n",
       "5898   1044342            0.0            1.0                       0.0   \n",
       "\n",
       "      normalized_v2_percentage  intersection_percentage chunk_composition  \\\n",
       "7521                       1.0                      0.0                v2   \n",
       "5682                       1.0                      0.0                v2   \n",
       "5898                       1.0                      0.0                v2   \n",
       "\n",
       "      missing_v1_lines  missing_v2_lines  missing_v1_lines_perc  \\\n",
       "7521                 0                 5                    0.0   \n",
       "5682                 0                 1                    0.0   \n",
       "5898                 0                 1                    0.0   \n",
       "\n",
       "      missing_v2_lines_perc  v1_size  v2_size  chunk_size_delta partial_order  \\\n",
       "7521                  71.43        0        7               7.0          True   \n",
       "5682                  33.33        0        3               3.0          True   \n",
       "5898                  50.00        0        2               2.0          True   \n",
       "\n",
       "      chunk_size  resolution_size  \n",
       "7521          11                3  \n",
       "5682           3                2  \n",
       "5898           2                1  "
      ]
     },
     "execution_count": 36,
     "metadata": {},
     "output_type": "execute_result"
    }
   ],
   "source": [
    "sample_v2 = v2_only.sample(3, random_state = 42)\n",
    "sample_v2.head()"
   ]
  },
  {
   "cell_type": "markdown",
   "metadata": {},
   "source": [
    "### Chunk 1"
   ]
  },
  {
   "cell_type": "code",
   "execution_count": 37,
   "metadata": {},
   "outputs": [
    {
     "name": "stdout",
     "output_type": "stream",
     "text": [
      "\t\t\tRoomMaterialsDetailsPlace roomMaterialsDetailsPlace = (RoomMaterialsDetailsPlace) place;\n",
      "\t\t\treturn new RoomMaterialsPlace(roomMaterialsDetailsPlace.getToken());\n",
      "\t\t}\n",
      "<<<<<<<\n",
      "=======\n",
      "\t\tif (place instanceof AnamnesisCheckTitleDetailsPlace) {\n",
      "\n",
      "\t\t\tAnamnesisCheckTitleDetailsPlace AnamnesisCheckTitleDetailsPlace = (AnamnesisCheckTitleDetailsPlace) place;\n",
      "\t\t\treturn new AnamnesisCheckPlace(\n",
      "\t\t\t\t\tAnamnesisCheckTitleDetailsPlace.getToken());\n",
      "\t\t}\n",
      "\n",
      "\t\n",
      "\t\tif (place instanceof RoleAssignmentPlace)\n",
      "\t\t\treturn (RoleAssignmentPlace) place;\n",
      "\t\t\n",
      ">>>>>>>\n",
      "\t\t//by spec role management]\n",
      "\n",
      "\t\treturn null;\n",
      "\n",
      "\n"
     ]
    }
   ],
   "source": [
    "chunk1 = Chunk(int(sample_v2.iloc[0]['chunk_id']))\n",
    "print(chunk1.get_conflict_text())"
   ]
  },
  {
   "cell_type": "code",
   "execution_count": 38,
   "metadata": {},
   "outputs": [
    {
     "name": "stdout",
     "output_type": "stream",
     "text": [
      "\t\t\tRoomMaterialsDetailsPlace roomMaterialsDetailsPlace = (RoomMaterialsDetailsPlace) place;\n",
      "\t\t\treturn new RoomMaterialsPlace(roomMaterialsDetailsPlace.getToken());\n",
      "\t\t}\n",
      "\t\n",
      "\t\tif (place instanceof RoleAssignmentPlace)\n",
      "\t\t\treturn (RoleAssignmentPlace) place;\n",
      "\t\t//by spec role management]\n",
      "\n",
      "\t\treturn null;\n",
      "\n"
     ]
    }
   ],
   "source": [
    "print(chunk1.resolution)"
   ]
  },
  {
   "cell_type": "code",
   "execution_count": 39,
   "metadata": {},
   "outputs": [
    {
     "name": "stdout",
     "output_type": "stream",
     "text": [
      "if(placeinstanceofAnamnesisCheckTitleDetailsPlace){\n",
      "AnamnesisCheckTitleDetailsPlaceAnamnesisCheckTitleDetailsPlace=(AnamnesisCheckTitleDetailsPlace)place;\n",
      "returnnewAnamnesisCheckPlace(\n",
      "AnamnesisCheckTitleDetailsPlace.getToken());\n",
      "}\n"
     ]
    }
   ],
   "source": [
    "resolution = chunk1.get_clean_solution()\n",
    "resolution = remove_empty_lines(resolution)\n",
    "v2 = normalize_lines(chunk1.v2.splitlines())\n",
    "v2 = remove_empty_lines(v2)\n",
    "analysis_util.print_missing_lines(v2, resolution)"
   ]
  },
  {
   "cell_type": "markdown",
   "metadata": {},
   "source": [
    "### Chunk 2"
   ]
  },
  {
   "cell_type": "code",
   "execution_count": 40,
   "metadata": {},
   "outputs": [
    {
     "name": "stdout",
     "output_type": "stream",
     "text": [
      "import org.apache.commons.logging.Log;\n",
      "import org.apache.commons.logging.LogFactory;\n",
      "import org.apache.hadoop.conf.Configuration;\n",
      "<<<<<<<\n",
      "=======\n",
      "import org.apache.hadoop.io.RawComparator;\n",
      "import org.apache.hadoop.mapred.RawKeyValueIterator;\n",
      "import org.apache.hadoop.mapred.Task;\n",
      ">>>>>>>\n",
      "import org.apache.hadoop.mapreduce.Counter;\n",
      "import org.apache.hadoop.mapreduce.InputSplit;\n",
      "import org.apache.hadoop.mapreduce.Job;\n",
      "\n",
      "\n"
     ]
    }
   ],
   "source": [
    "chunk2 = Chunk(int(sample_v2.iloc[1]['chunk_id']))\n",
    "print(chunk2.get_conflict_text())"
   ]
  },
  {
   "cell_type": "code",
   "execution_count": 41,
   "metadata": {},
   "outputs": [
    {
     "name": "stdout",
     "output_type": "stream",
     "text": [
      "import org.apache.commons.logging.Log;\n",
      "import org.apache.commons.logging.LogFactory;\n",
      "import org.apache.hadoop.conf.Configuration;\n",
      "import org.apache.hadoop.io.RawComparator;\n",
      "import org.apache.hadoop.mapred.RawKeyValueIterator;\n",
      "import org.apache.hadoop.mapreduce.Counter;\n",
      "import org.apache.hadoop.mapreduce.InputSplit;\n",
      "import org.apache.hadoop.mapreduce.Job;\n",
      "\n"
     ]
    }
   ],
   "source": [
    "print(chunk2.resolution)"
   ]
  },
  {
   "cell_type": "code",
   "execution_count": 42,
   "metadata": {},
   "outputs": [
    {
     "name": "stdout",
     "output_type": "stream",
     "text": [
      "importorg.apache.hadoop.mapred.Task;\n"
     ]
    }
   ],
   "source": [
    "resolution = chunk2.get_clean_solution()\n",
    "resolution = remove_empty_lines(resolution)\n",
    "v2 = normalize_lines(chunk2.v2.splitlines())\n",
    "v2 = remove_empty_lines(v2)\n",
    "analysis_util.print_missing_lines(v2, resolution)"
   ]
  },
  {
   "cell_type": "markdown",
   "metadata": {},
   "source": [
    "### Chunk 3"
   ]
  },
  {
   "cell_type": "code",
   "execution_count": 43,
   "metadata": {},
   "outputs": [
    {
     "name": "stdout",
     "output_type": "stream",
     "text": [
      "import org.eclipse.orion.internal.server.core.IWebResourceDecorator;\n",
      "import org.eclipse.orion.internal.server.core.metastore.SimpleLinuxMetaStore;\n",
      "import org.eclipse.orion.internal.server.servlets.hosting.ISiteHostingService;\n",
      "<<<<<<<\n",
      "=======\n",
      "import org.eclipse.orion.internal.server.servlets.project.ProjectDecorator;\n",
      "import org.eclipse.orion.internal.server.servlets.workspace.CompatibilityMetaStore;\n",
      ">>>>>>>\n",
      "import org.eclipse.orion.internal.server.servlets.workspace.ProjectParentDecorator;\n",
      "import org.eclipse.orion.internal.server.servlets.xfer.TransferResourceDecorator;\n",
      "import org.eclipse.orion.server.core.OrionConfiguration;\n",
      "\n",
      "\n"
     ]
    }
   ],
   "source": [
    "chunk3 = Chunk(int(sample_v2.iloc[2]['chunk_id']))\n",
    "print(chunk3.get_conflict_text())"
   ]
  },
  {
   "cell_type": "code",
   "execution_count": 44,
   "metadata": {},
   "outputs": [
    {
     "name": "stdout",
     "output_type": "stream",
     "text": [
      "import org.eclipse.orion.internal.server.core.IWebResourceDecorator;\n",
      "import org.eclipse.orion.internal.server.core.metastore.SimpleLinuxMetaStore;\n",
      "import org.eclipse.orion.internal.server.servlets.hosting.ISiteHostingService;\n",
      "import org.eclipse.orion.internal.server.servlets.project.ProjectDecorator;\n",
      "import org.eclipse.orion.internal.server.servlets.workspace.ProjectParentDecorator;\n",
      "import org.eclipse.orion.internal.server.servlets.xfer.TransferResourceDecorator;\n",
      "import org.eclipse.orion.server.core.OrionConfiguration;\n",
      "\n"
     ]
    }
   ],
   "source": [
    "print(chunk3.resolution)"
   ]
  },
  {
   "cell_type": "code",
   "execution_count": 45,
   "metadata": {},
   "outputs": [
    {
     "name": "stdout",
     "output_type": "stream",
     "text": [
      "importorg.eclipse.orion.internal.server.servlets.workspace.CompatibilityMetaStore;\n"
     ]
    }
   ],
   "source": [
    "resolution = chunk3.get_clean_solution()\n",
    "resolution = remove_empty_lines(resolution)\n",
    "v2 = normalize_lines(chunk3.v2.splitlines())\n",
    "v2 = remove_empty_lines(v2)\n",
    "analysis_util.print_missing_lines(v2, resolution)"
   ]
  },
  {
   "cell_type": "code",
   "execution_count": null,
   "metadata": {},
   "outputs": [],
   "source": []
  }
 ],
 "metadata": {
  "kernelspec": {
   "display_name": "Python 3",
   "language": "python",
   "name": "python3"
  },
  "language_info": {
   "codemirror_mode": {
    "name": "ipython",
    "version": 3
   },
   "file_extension": ".py",
   "mimetype": "text/x-python",
   "name": "python",
   "nbconvert_exporter": "python",
   "pygments_lexer": "ipython3",
   "version": "3.7.4"
  }
 },
 "nbformat": 4,
 "nbformat_minor": 4
}
