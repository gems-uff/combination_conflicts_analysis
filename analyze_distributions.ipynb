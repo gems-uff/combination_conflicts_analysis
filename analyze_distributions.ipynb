{
 "cells": [
  {
   "cell_type": "code",
   "execution_count": 1,
   "metadata": {},
   "outputs": [],
   "source": [
    "import pandas as pd\n",
    "import matplotlib.pyplot as plt\n",
    "import numpy as np"
   ]
  },
  {
   "cell_type": "code",
   "execution_count": 2,
   "metadata": {},
   "outputs": [
    {
     "name": "stdout",
     "output_type": "stream",
     "text": [
      "10726\n"
     ]
    },
    {
     "data": {
      "text/html": [
       "<div>\n",
       "<style scoped>\n",
       "    .dataframe tbody tr th:only-of-type {\n",
       "        vertical-align: middle;\n",
       "    }\n",
       "\n",
       "    .dataframe tbody tr th {\n",
       "        vertical-align: top;\n",
       "    }\n",
       "\n",
       "    .dataframe thead th {\n",
       "        text-align: right;\n",
       "    }\n",
       "</style>\n",
       "<table border=\"1\" class=\"dataframe\">\n",
       "  <thead>\n",
       "    <tr style=\"text-align: right;\">\n",
       "      <th></th>\n",
       "      <th>chunk_id</th>\n",
       "      <th>sha</th>\n",
       "      <th>fileSize</th>\n",
       "    </tr>\n",
       "  </thead>\n",
       "  <tbody>\n",
       "    <tr>\n",
       "      <td>0</td>\n",
       "      <td>776662</td>\n",
       "      <td>332b6ed4e324199565e235cd915368f9bc1b43d2</td>\n",
       "      <td>204.0</td>\n",
       "    </tr>\n",
       "    <tr>\n",
       "      <td>1</td>\n",
       "      <td>776782</td>\n",
       "      <td>b9e82842917f541594a67c44639201895caa4b28</td>\n",
       "      <td>251.0</td>\n",
       "    </tr>\n",
       "    <tr>\n",
       "      <td>2</td>\n",
       "      <td>776793</td>\n",
       "      <td>b9e82842917f541594a67c44639201895caa4b28</td>\n",
       "      <td>1001.0</td>\n",
       "    </tr>\n",
       "    <tr>\n",
       "      <td>3</td>\n",
       "      <td>776828</td>\n",
       "      <td>bcd0ef81a0a8b9f64ea644e434d299585b4dbc75</td>\n",
       "      <td>514.0</td>\n",
       "    </tr>\n",
       "    <tr>\n",
       "      <td>4</td>\n",
       "      <td>776863</td>\n",
       "      <td>30c4b21552ad0db4e3ed3fe8dfed3e702945851a</td>\n",
       "      <td>782.0</td>\n",
       "    </tr>\n",
       "  </tbody>\n",
       "</table>\n",
       "</div>"
      ],
      "text/plain": [
       "   chunk_id                                       sha  fileSize\n",
       "0    776662  332b6ed4e324199565e235cd915368f9bc1b43d2     204.0\n",
       "1    776782  b9e82842917f541594a67c44639201895caa4b28     251.0\n",
       "2    776793  b9e82842917f541594a67c44639201895caa4b28    1001.0\n",
       "3    776828  bcd0ef81a0a8b9f64ea644e434d299585b4dbc75     514.0\n",
       "4    776863  30c4b21552ad0db4e3ed3fe8dfed3e702945851a     782.0"
      ]
     },
     "execution_count": 2,
     "metadata": {},
     "output_type": "execute_result"
    }
   ],
   "source": [
    "df = pd.read_csv('data/chunks_info.csv')\n",
    "print(len(df))\n",
    "df.head()"
   ]
  },
  {
   "cell_type": "code",
   "execution_count": 3,
   "metadata": {},
   "outputs": [
    {
     "data": {
      "text/html": [
       "<div>\n",
       "<style scoped>\n",
       "    .dataframe tbody tr th:only-of-type {\n",
       "        vertical-align: middle;\n",
       "    }\n",
       "\n",
       "    .dataframe tbody tr th {\n",
       "        vertical-align: top;\n",
       "    }\n",
       "\n",
       "    .dataframe thead th {\n",
       "        text-align: right;\n",
       "    }\n",
       "</style>\n",
       "<table border=\"1\" class=\"dataframe\">\n",
       "  <thead>\n",
       "    <tr style=\"text-align: right;\">\n",
       "      <th></th>\n",
       "      <th>chunk_id</th>\n",
       "      <th>partial_order</th>\n",
       "      <th>chunk_size</th>\n",
       "      <th>resolution_size</th>\n",
       "    </tr>\n",
       "  </thead>\n",
       "  <tbody>\n",
       "    <tr>\n",
       "      <td>0</td>\n",
       "      <td>776662</td>\n",
       "      <td>True</td>\n",
       "      <td>18</td>\n",
       "      <td>12</td>\n",
       "    </tr>\n",
       "    <tr>\n",
       "      <td>1</td>\n",
       "      <td>776782</td>\n",
       "      <td>True</td>\n",
       "      <td>113</td>\n",
       "      <td>101</td>\n",
       "    </tr>\n",
       "    <tr>\n",
       "      <td>2</td>\n",
       "      <td>776793</td>\n",
       "      <td>True</td>\n",
       "      <td>6</td>\n",
       "      <td>5</td>\n",
       "    </tr>\n",
       "    <tr>\n",
       "      <td>3</td>\n",
       "      <td>776828</td>\n",
       "      <td>True</td>\n",
       "      <td>5</td>\n",
       "      <td>3</td>\n",
       "    </tr>\n",
       "    <tr>\n",
       "      <td>4</td>\n",
       "      <td>776863</td>\n",
       "      <td>True</td>\n",
       "      <td>6</td>\n",
       "      <td>5</td>\n",
       "    </tr>\n",
       "  </tbody>\n",
       "</table>\n",
       "</div>"
      ],
      "text/plain": [
       "   chunk_id partial_order  chunk_size  resolution_size\n",
       "0    776662          True          18               12\n",
       "1    776782          True         113              101\n",
       "2    776793          True           6                5\n",
       "3    776828          True           5                3\n",
       "4    776863          True           6                5"
      ]
     },
     "execution_count": 3,
     "metadata": {},
     "output_type": "execute_result"
    }
   ],
   "source": [
    "df2 = pd.read_csv('data/partial_order_result.csv')\n",
    "df2.head()"
   ]
  },
  {
   "cell_type": "code",
   "execution_count": 4,
   "metadata": {},
   "outputs": [],
   "source": [
    "df = pd.merge(df, df2, on = ['chunk_id'])"
   ]
  },
  {
   "cell_type": "code",
   "execution_count": 5,
   "metadata": {},
   "outputs": [
    {
     "data": {
      "text/html": [
       "<div>\n",
       "<style scoped>\n",
       "    .dataframe tbody tr th:only-of-type {\n",
       "        vertical-align: middle;\n",
       "    }\n",
       "\n",
       "    .dataframe tbody tr th {\n",
       "        vertical-align: top;\n",
       "    }\n",
       "\n",
       "    .dataframe thead th {\n",
       "        text-align: right;\n",
       "    }\n",
       "</style>\n",
       "<table border=\"1\" class=\"dataframe\">\n",
       "  <thead>\n",
       "    <tr style=\"text-align: right;\">\n",
       "      <th></th>\n",
       "      <th>chunk_id</th>\n",
       "      <th>v1_percentage</th>\n",
       "      <th>v2_percentage</th>\n",
       "      <th>normalized_v1_percentage</th>\n",
       "      <th>normalized_v2_percentage</th>\n",
       "      <th>intersection_percentage</th>\n",
       "      <th>chunk_composition</th>\n",
       "      <th>missing_v1_lines</th>\n",
       "      <th>missing_v2_lines</th>\n",
       "      <th>missing_v1_lines_perc</th>\n",
       "      <th>missing_v2_lines_perc</th>\n",
       "      <th>v1_size</th>\n",
       "      <th>v2_size</th>\n",
       "      <th>chunk_size_delta</th>\n",
       "    </tr>\n",
       "  </thead>\n",
       "  <tbody>\n",
       "    <tr>\n",
       "      <td>0</td>\n",
       "      <td>776662</td>\n",
       "      <td>0.42</td>\n",
       "      <td>0.92</td>\n",
       "      <td>0.25</td>\n",
       "      <td>0.75</td>\n",
       "      <td>0.33</td>\n",
       "      <td>v1 v2 (v1_2) v1 (v1_2) v1 v2</td>\n",
       "      <td>1</td>\n",
       "      <td>1</td>\n",
       "      <td>16.67</td>\n",
       "      <td>8.33</td>\n",
       "      <td>6</td>\n",
       "      <td>12</td>\n",
       "      <td>6.0</td>\n",
       "    </tr>\n",
       "    <tr>\n",
       "      <td>1</td>\n",
       "      <td>776782</td>\n",
       "      <td>0.57</td>\n",
       "      <td>0.75</td>\n",
       "      <td>0.41</td>\n",
       "      <td>0.59</td>\n",
       "      <td>0.32</td>\n",
       "      <td>v2 v1 (v1_2) v1 (v1_2) v1 (v1_2) v2 (v1_2) v2...</td>\n",
       "      <td>2</td>\n",
       "      <td>4</td>\n",
       "      <td>6.06</td>\n",
       "      <td>7.55</td>\n",
       "      <td>33</td>\n",
       "      <td>53</td>\n",
       "      <td>20.0</td>\n",
       "    </tr>\n",
       "    <tr>\n",
       "      <td>2</td>\n",
       "      <td>776793</td>\n",
       "      <td>0.75</td>\n",
       "      <td>0.25</td>\n",
       "      <td>0.75</td>\n",
       "      <td>0.25</td>\n",
       "      <td>0.00</td>\n",
       "      <td>v2 v1</td>\n",
       "      <td>1</td>\n",
       "      <td>0</td>\n",
       "      <td>25.00</td>\n",
       "      <td>0.00</td>\n",
       "      <td>4</td>\n",
       "      <td>1</td>\n",
       "      <td>-3.0</td>\n",
       "    </tr>\n",
       "    <tr>\n",
       "      <td>3</td>\n",
       "      <td>776828</td>\n",
       "      <td>0.33</td>\n",
       "      <td>0.67</td>\n",
       "      <td>0.33</td>\n",
       "      <td>0.67</td>\n",
       "      <td>0.00</td>\n",
       "      <td>v2 v1 v2</td>\n",
       "      <td>2</td>\n",
       "      <td>0</td>\n",
       "      <td>66.67</td>\n",
       "      <td>0.00</td>\n",
       "      <td>3</td>\n",
       "      <td>2</td>\n",
       "      <td>-1.0</td>\n",
       "    </tr>\n",
       "    <tr>\n",
       "      <td>4</td>\n",
       "      <td>776863</td>\n",
       "      <td>0.25</td>\n",
       "      <td>0.75</td>\n",
       "      <td>0.25</td>\n",
       "      <td>0.75</td>\n",
       "      <td>0.00</td>\n",
       "      <td>v2 v1</td>\n",
       "      <td>0</td>\n",
       "      <td>1</td>\n",
       "      <td>0.00</td>\n",
       "      <td>25.00</td>\n",
       "      <td>1</td>\n",
       "      <td>4</td>\n",
       "      <td>3.0</td>\n",
       "    </tr>\n",
       "  </tbody>\n",
       "</table>\n",
       "</div>"
      ],
      "text/plain": [
       "   chunk_id  v1_percentage  v2_percentage  normalized_v1_percentage  \\\n",
       "0    776662           0.42           0.92                      0.25   \n",
       "1    776782           0.57           0.75                      0.41   \n",
       "2    776793           0.75           0.25                      0.75   \n",
       "3    776828           0.33           0.67                      0.33   \n",
       "4    776863           0.25           0.75                      0.25   \n",
       "\n",
       "   normalized_v2_percentage  intersection_percentage  \\\n",
       "0                      0.75                     0.33   \n",
       "1                      0.59                     0.32   \n",
       "2                      0.25                     0.00   \n",
       "3                      0.67                     0.00   \n",
       "4                      0.75                     0.00   \n",
       "\n",
       "                                   chunk_composition  missing_v1_lines  \\\n",
       "0                       v1 v2 (v1_2) v1 (v1_2) v1 v2                 1   \n",
       "1   v2 v1 (v1_2) v1 (v1_2) v1 (v1_2) v2 (v1_2) v2...                 2   \n",
       "2                                              v2 v1                 1   \n",
       "3                                           v2 v1 v2                 2   \n",
       "4                                              v2 v1                 0   \n",
       "\n",
       "   missing_v2_lines  missing_v1_lines_perc  missing_v2_lines_perc  v1_size  \\\n",
       "0                 1                  16.67                   8.33        6   \n",
       "1                 4                   6.06                   7.55       33   \n",
       "2                 0                  25.00                   0.00        4   \n",
       "3                 0                  66.67                   0.00        3   \n",
       "4                 1                   0.00                  25.00        1   \n",
       "\n",
       "   v2_size  chunk_size_delta  \n",
       "0       12               6.0  \n",
       "1       53              20.0  \n",
       "2        1              -3.0  \n",
       "3        2              -1.0  \n",
       "4        4               3.0  "
      ]
     },
     "execution_count": 5,
     "metadata": {},
     "output_type": "execute_result"
    }
   ],
   "source": [
    "df3 = pd.read_csv('data/resolution_composition.csv')\n",
    "df3.head()"
   ]
  },
  {
   "cell_type": "code",
   "execution_count": 6,
   "metadata": {},
   "outputs": [
    {
     "data": {
      "text/html": [
       "<div>\n",
       "<style scoped>\n",
       "    .dataframe tbody tr th:only-of-type {\n",
       "        vertical-align: middle;\n",
       "    }\n",
       "\n",
       "    .dataframe tbody tr th {\n",
       "        vertical-align: top;\n",
       "    }\n",
       "\n",
       "    .dataframe thead th {\n",
       "        text-align: right;\n",
       "    }\n",
       "</style>\n",
       "<table border=\"1\" class=\"dataframe\">\n",
       "  <thead>\n",
       "    <tr style=\"text-align: right;\">\n",
       "      <th></th>\n",
       "      <th>chunk_id</th>\n",
       "      <th>sha</th>\n",
       "      <th>fileSize</th>\n",
       "      <th>partial_order</th>\n",
       "      <th>chunk_size</th>\n",
       "      <th>resolution_size</th>\n",
       "      <th>v1_percentage</th>\n",
       "      <th>v2_percentage</th>\n",
       "      <th>normalized_v1_percentage</th>\n",
       "      <th>normalized_v2_percentage</th>\n",
       "      <th>intersection_percentage</th>\n",
       "      <th>chunk_composition</th>\n",
       "      <th>missing_v1_lines</th>\n",
       "      <th>missing_v2_lines</th>\n",
       "      <th>missing_v1_lines_perc</th>\n",
       "      <th>missing_v2_lines_perc</th>\n",
       "      <th>v1_size</th>\n",
       "      <th>v2_size</th>\n",
       "      <th>chunk_size_delta</th>\n",
       "    </tr>\n",
       "  </thead>\n",
       "  <tbody>\n",
       "    <tr>\n",
       "      <td>0</td>\n",
       "      <td>776662</td>\n",
       "      <td>332b6ed4e324199565e235cd915368f9bc1b43d2</td>\n",
       "      <td>204.0</td>\n",
       "      <td>True</td>\n",
       "      <td>18</td>\n",
       "      <td>12</td>\n",
       "      <td>0.42</td>\n",
       "      <td>0.92</td>\n",
       "      <td>0.25</td>\n",
       "      <td>0.75</td>\n",
       "      <td>0.33</td>\n",
       "      <td>v1 v2 (v1_2) v1 (v1_2) v1 v2</td>\n",
       "      <td>1</td>\n",
       "      <td>1</td>\n",
       "      <td>16.67</td>\n",
       "      <td>8.33</td>\n",
       "      <td>6</td>\n",
       "      <td>12</td>\n",
       "      <td>6.0</td>\n",
       "    </tr>\n",
       "    <tr>\n",
       "      <td>1</td>\n",
       "      <td>776782</td>\n",
       "      <td>b9e82842917f541594a67c44639201895caa4b28</td>\n",
       "      <td>251.0</td>\n",
       "      <td>True</td>\n",
       "      <td>113</td>\n",
       "      <td>101</td>\n",
       "      <td>0.57</td>\n",
       "      <td>0.75</td>\n",
       "      <td>0.41</td>\n",
       "      <td>0.59</td>\n",
       "      <td>0.32</td>\n",
       "      <td>v2 v1 (v1_2) v1 (v1_2) v1 (v1_2) v2 (v1_2) v2...</td>\n",
       "      <td>2</td>\n",
       "      <td>4</td>\n",
       "      <td>6.06</td>\n",
       "      <td>7.55</td>\n",
       "      <td>33</td>\n",
       "      <td>53</td>\n",
       "      <td>20.0</td>\n",
       "    </tr>\n",
       "    <tr>\n",
       "      <td>2</td>\n",
       "      <td>776793</td>\n",
       "      <td>b9e82842917f541594a67c44639201895caa4b28</td>\n",
       "      <td>1001.0</td>\n",
       "      <td>True</td>\n",
       "      <td>6</td>\n",
       "      <td>5</td>\n",
       "      <td>0.75</td>\n",
       "      <td>0.25</td>\n",
       "      <td>0.75</td>\n",
       "      <td>0.25</td>\n",
       "      <td>0.00</td>\n",
       "      <td>v2 v1</td>\n",
       "      <td>1</td>\n",
       "      <td>0</td>\n",
       "      <td>25.00</td>\n",
       "      <td>0.00</td>\n",
       "      <td>4</td>\n",
       "      <td>1</td>\n",
       "      <td>-3.0</td>\n",
       "    </tr>\n",
       "    <tr>\n",
       "      <td>3</td>\n",
       "      <td>776828</td>\n",
       "      <td>bcd0ef81a0a8b9f64ea644e434d299585b4dbc75</td>\n",
       "      <td>514.0</td>\n",
       "      <td>True</td>\n",
       "      <td>5</td>\n",
       "      <td>3</td>\n",
       "      <td>0.33</td>\n",
       "      <td>0.67</td>\n",
       "      <td>0.33</td>\n",
       "      <td>0.67</td>\n",
       "      <td>0.00</td>\n",
       "      <td>v2 v1 v2</td>\n",
       "      <td>2</td>\n",
       "      <td>0</td>\n",
       "      <td>66.67</td>\n",
       "      <td>0.00</td>\n",
       "      <td>3</td>\n",
       "      <td>2</td>\n",
       "      <td>-1.0</td>\n",
       "    </tr>\n",
       "    <tr>\n",
       "      <td>4</td>\n",
       "      <td>776863</td>\n",
       "      <td>30c4b21552ad0db4e3ed3fe8dfed3e702945851a</td>\n",
       "      <td>782.0</td>\n",
       "      <td>True</td>\n",
       "      <td>6</td>\n",
       "      <td>5</td>\n",
       "      <td>0.25</td>\n",
       "      <td>0.75</td>\n",
       "      <td>0.25</td>\n",
       "      <td>0.75</td>\n",
       "      <td>0.00</td>\n",
       "      <td>v2 v1</td>\n",
       "      <td>0</td>\n",
       "      <td>1</td>\n",
       "      <td>0.00</td>\n",
       "      <td>25.00</td>\n",
       "      <td>1</td>\n",
       "      <td>4</td>\n",
       "      <td>3.0</td>\n",
       "    </tr>\n",
       "  </tbody>\n",
       "</table>\n",
       "</div>"
      ],
      "text/plain": [
       "   chunk_id                                       sha  fileSize partial_order  \\\n",
       "0    776662  332b6ed4e324199565e235cd915368f9bc1b43d2     204.0          True   \n",
       "1    776782  b9e82842917f541594a67c44639201895caa4b28     251.0          True   \n",
       "2    776793  b9e82842917f541594a67c44639201895caa4b28    1001.0          True   \n",
       "3    776828  bcd0ef81a0a8b9f64ea644e434d299585b4dbc75     514.0          True   \n",
       "4    776863  30c4b21552ad0db4e3ed3fe8dfed3e702945851a     782.0          True   \n",
       "\n",
       "   chunk_size  resolution_size  v1_percentage  v2_percentage  \\\n",
       "0          18               12           0.42           0.92   \n",
       "1         113              101           0.57           0.75   \n",
       "2           6                5           0.75           0.25   \n",
       "3           5                3           0.33           0.67   \n",
       "4           6                5           0.25           0.75   \n",
       "\n",
       "   normalized_v1_percentage  normalized_v2_percentage  \\\n",
       "0                      0.25                      0.75   \n",
       "1                      0.41                      0.59   \n",
       "2                      0.75                      0.25   \n",
       "3                      0.33                      0.67   \n",
       "4                      0.25                      0.75   \n",
       "\n",
       "   intersection_percentage                                  chunk_composition  \\\n",
       "0                     0.33                       v1 v2 (v1_2) v1 (v1_2) v1 v2   \n",
       "1                     0.32   v2 v1 (v1_2) v1 (v1_2) v1 (v1_2) v2 (v1_2) v2...   \n",
       "2                     0.00                                              v2 v1   \n",
       "3                     0.00                                           v2 v1 v2   \n",
       "4                     0.00                                              v2 v1   \n",
       "\n",
       "   missing_v1_lines  missing_v2_lines  missing_v1_lines_perc  \\\n",
       "0                 1                 1                  16.67   \n",
       "1                 2                 4                   6.06   \n",
       "2                 1                 0                  25.00   \n",
       "3                 2                 0                  66.67   \n",
       "4                 0                 1                   0.00   \n",
       "\n",
       "   missing_v2_lines_perc  v1_size  v2_size  chunk_size_delta  \n",
       "0                   8.33        6       12               6.0  \n",
       "1                   7.55       33       53              20.0  \n",
       "2                   0.00        4        1              -3.0  \n",
       "3                   0.00        3        2              -1.0  \n",
       "4                  25.00        1        4               3.0  "
      ]
     },
     "execution_count": 6,
     "metadata": {},
     "output_type": "execute_result"
    }
   ],
   "source": [
    "df = pd.merge(df, df3, on=['chunk_id'])\n",
    "df.head()"
   ]
  },
  {
   "cell_type": "code",
   "execution_count": 7,
   "metadata": {},
   "outputs": [
    {
     "data": {
      "text/html": [
       "<div>\n",
       "<style scoped>\n",
       "    .dataframe tbody tr th:only-of-type {\n",
       "        vertical-align: middle;\n",
       "    }\n",
       "\n",
       "    .dataframe tbody tr th {\n",
       "        vertical-align: top;\n",
       "    }\n",
       "\n",
       "    .dataframe thead th {\n",
       "        text-align: right;\n",
       "    }\n",
       "</style>\n",
       "<table border=\"1\" class=\"dataframe\">\n",
       "  <thead>\n",
       "    <tr style=\"text-align: right;\">\n",
       "      <th></th>\n",
       "      <th>chunk_id</th>\n",
       "      <th>sha</th>\n",
       "      <th>fileSize</th>\n",
       "      <th>partial_order</th>\n",
       "      <th>chunk_size</th>\n",
       "      <th>resolution_size</th>\n",
       "      <th>v1_percentage</th>\n",
       "      <th>v2_percentage</th>\n",
       "      <th>normalized_v1_percentage</th>\n",
       "      <th>normalized_v2_percentage</th>\n",
       "      <th>intersection_percentage</th>\n",
       "      <th>chunk_composition</th>\n",
       "      <th>missing_v1_lines</th>\n",
       "      <th>missing_v2_lines</th>\n",
       "      <th>missing_v1_lines_perc</th>\n",
       "      <th>missing_v2_lines_perc</th>\n",
       "      <th>v1_size</th>\n",
       "      <th>v2_size</th>\n",
       "      <th>chunk_size_delta</th>\n",
       "    </tr>\n",
       "  </thead>\n",
       "  <tbody>\n",
       "    <tr>\n",
       "      <td>0</td>\n",
       "      <td>776662</td>\n",
       "      <td>332b6ed4e324199565e235cd915368f9bc1b43d2</td>\n",
       "      <td>204.0</td>\n",
       "      <td>True</td>\n",
       "      <td>18</td>\n",
       "      <td>12</td>\n",
       "      <td>0.42</td>\n",
       "      <td>0.92</td>\n",
       "      <td>0.25</td>\n",
       "      <td>0.75</td>\n",
       "      <td>0.33</td>\n",
       "      <td>v1 v2 (v1_2) v1 (v1_2) v1 v2</td>\n",
       "      <td>1</td>\n",
       "      <td>1</td>\n",
       "      <td>16.67</td>\n",
       "      <td>8.33</td>\n",
       "      <td>6</td>\n",
       "      <td>12</td>\n",
       "      <td>6.0</td>\n",
       "    </tr>\n",
       "    <tr>\n",
       "      <td>1</td>\n",
       "      <td>776782</td>\n",
       "      <td>b9e82842917f541594a67c44639201895caa4b28</td>\n",
       "      <td>251.0</td>\n",
       "      <td>True</td>\n",
       "      <td>86</td>\n",
       "      <td>101</td>\n",
       "      <td>0.57</td>\n",
       "      <td>0.75</td>\n",
       "      <td>0.41</td>\n",
       "      <td>0.59</td>\n",
       "      <td>0.32</td>\n",
       "      <td>v2 v1 (v1_2) v1 (v1_2) v1 (v1_2) v2 (v1_2) v2...</td>\n",
       "      <td>2</td>\n",
       "      <td>4</td>\n",
       "      <td>6.06</td>\n",
       "      <td>7.55</td>\n",
       "      <td>33</td>\n",
       "      <td>53</td>\n",
       "      <td>20.0</td>\n",
       "    </tr>\n",
       "    <tr>\n",
       "      <td>2</td>\n",
       "      <td>776793</td>\n",
       "      <td>b9e82842917f541594a67c44639201895caa4b28</td>\n",
       "      <td>1001.0</td>\n",
       "      <td>True</td>\n",
       "      <td>5</td>\n",
       "      <td>5</td>\n",
       "      <td>0.75</td>\n",
       "      <td>0.25</td>\n",
       "      <td>0.75</td>\n",
       "      <td>0.25</td>\n",
       "      <td>0.00</td>\n",
       "      <td>v2 v1</td>\n",
       "      <td>1</td>\n",
       "      <td>0</td>\n",
       "      <td>25.00</td>\n",
       "      <td>0.00</td>\n",
       "      <td>4</td>\n",
       "      <td>1</td>\n",
       "      <td>-3.0</td>\n",
       "    </tr>\n",
       "    <tr>\n",
       "      <td>3</td>\n",
       "      <td>776828</td>\n",
       "      <td>bcd0ef81a0a8b9f64ea644e434d299585b4dbc75</td>\n",
       "      <td>514.0</td>\n",
       "      <td>True</td>\n",
       "      <td>5</td>\n",
       "      <td>3</td>\n",
       "      <td>0.33</td>\n",
       "      <td>0.67</td>\n",
       "      <td>0.33</td>\n",
       "      <td>0.67</td>\n",
       "      <td>0.00</td>\n",
       "      <td>v2 v1 v2</td>\n",
       "      <td>2</td>\n",
       "      <td>0</td>\n",
       "      <td>66.67</td>\n",
       "      <td>0.00</td>\n",
       "      <td>3</td>\n",
       "      <td>2</td>\n",
       "      <td>-1.0</td>\n",
       "    </tr>\n",
       "    <tr>\n",
       "      <td>4</td>\n",
       "      <td>776863</td>\n",
       "      <td>30c4b21552ad0db4e3ed3fe8dfed3e702945851a</td>\n",
       "      <td>782.0</td>\n",
       "      <td>True</td>\n",
       "      <td>5</td>\n",
       "      <td>5</td>\n",
       "      <td>0.25</td>\n",
       "      <td>0.75</td>\n",
       "      <td>0.25</td>\n",
       "      <td>0.75</td>\n",
       "      <td>0.00</td>\n",
       "      <td>v2 v1</td>\n",
       "      <td>0</td>\n",
       "      <td>1</td>\n",
       "      <td>0.00</td>\n",
       "      <td>25.00</td>\n",
       "      <td>1</td>\n",
       "      <td>4</td>\n",
       "      <td>3.0</td>\n",
       "    </tr>\n",
       "  </tbody>\n",
       "</table>\n",
       "</div>"
      ],
      "text/plain": [
       "   chunk_id                                       sha  fileSize partial_order  \\\n",
       "0    776662  332b6ed4e324199565e235cd915368f9bc1b43d2     204.0          True   \n",
       "1    776782  b9e82842917f541594a67c44639201895caa4b28     251.0          True   \n",
       "2    776793  b9e82842917f541594a67c44639201895caa4b28    1001.0          True   \n",
       "3    776828  bcd0ef81a0a8b9f64ea644e434d299585b4dbc75     514.0          True   \n",
       "4    776863  30c4b21552ad0db4e3ed3fe8dfed3e702945851a     782.0          True   \n",
       "\n",
       "   chunk_size  resolution_size  v1_percentage  v2_percentage  \\\n",
       "0          18               12           0.42           0.92   \n",
       "1          86              101           0.57           0.75   \n",
       "2           5                5           0.75           0.25   \n",
       "3           5                3           0.33           0.67   \n",
       "4           5                5           0.25           0.75   \n",
       "\n",
       "   normalized_v1_percentage  normalized_v2_percentage  \\\n",
       "0                      0.25                      0.75   \n",
       "1                      0.41                      0.59   \n",
       "2                      0.75                      0.25   \n",
       "3                      0.33                      0.67   \n",
       "4                      0.25                      0.75   \n",
       "\n",
       "   intersection_percentage                                  chunk_composition  \\\n",
       "0                     0.33                       v1 v2 (v1_2) v1 (v1_2) v1 v2   \n",
       "1                     0.32   v2 v1 (v1_2) v1 (v1_2) v1 (v1_2) v2 (v1_2) v2...   \n",
       "2                     0.00                                              v2 v1   \n",
       "3                     0.00                                           v2 v1 v2   \n",
       "4                     0.00                                              v2 v1   \n",
       "\n",
       "   missing_v1_lines  missing_v2_lines  missing_v1_lines_perc  \\\n",
       "0                 1                 1                  16.67   \n",
       "1                 2                 4                   6.06   \n",
       "2                 1                 0                  25.00   \n",
       "3                 2                 0                  66.67   \n",
       "4                 0                 1                   0.00   \n",
       "\n",
       "   missing_v2_lines_perc  v1_size  v2_size  chunk_size_delta  \n",
       "0                   8.33        6       12               6.0  \n",
       "1                   7.55       33       53              20.0  \n",
       "2                   0.00        4        1              -3.0  \n",
       "3                   0.00        3        2              -1.0  \n",
       "4                  25.00        1        4               3.0  "
      ]
     },
     "execution_count": 7,
     "metadata": {},
     "output_type": "execute_result"
    }
   ],
   "source": [
    "df['chunk_size'] = df['v1_size'] + df['v2_size']\n",
    "df.head()"
   ]
  },
  {
   "cell_type": "code",
   "execution_count": 8,
   "metadata": {},
   "outputs": [
    {
     "name": "stdout",
     "output_type": "stream",
     "text": [
      "10726\n"
     ]
    },
    {
     "data": {
      "text/html": [
       "<div>\n",
       "<style scoped>\n",
       "    .dataframe tbody tr th:only-of-type {\n",
       "        vertical-align: middle;\n",
       "    }\n",
       "\n",
       "    .dataframe tbody tr th {\n",
       "        vertical-align: top;\n",
       "    }\n",
       "\n",
       "    .dataframe thead th {\n",
       "        text-align: right;\n",
       "    }\n",
       "</style>\n",
       "<table border=\"1\" class=\"dataframe\">\n",
       "  <thead>\n",
       "    <tr style=\"text-align: right;\">\n",
       "      <th></th>\n",
       "      <th>chunk_id</th>\n",
       "      <th>fileSize</th>\n",
       "      <th>resolution_size</th>\n",
       "      <th>chunk_size</th>\n",
       "      <th>sha</th>\n",
       "      <th>v1_size</th>\n",
       "      <th>v2_size</th>\n",
       "    </tr>\n",
       "  </thead>\n",
       "  <tbody>\n",
       "    <tr>\n",
       "      <td>0</td>\n",
       "      <td>776662</td>\n",
       "      <td>204.0</td>\n",
       "      <td>12</td>\n",
       "      <td>18</td>\n",
       "      <td>332b6ed4e324199565e235cd915368f9bc1b43d2</td>\n",
       "      <td>6</td>\n",
       "      <td>12</td>\n",
       "    </tr>\n",
       "    <tr>\n",
       "      <td>1</td>\n",
       "      <td>776782</td>\n",
       "      <td>251.0</td>\n",
       "      <td>101</td>\n",
       "      <td>86</td>\n",
       "      <td>b9e82842917f541594a67c44639201895caa4b28</td>\n",
       "      <td>33</td>\n",
       "      <td>53</td>\n",
       "    </tr>\n",
       "    <tr>\n",
       "      <td>2</td>\n",
       "      <td>776793</td>\n",
       "      <td>1001.0</td>\n",
       "      <td>5</td>\n",
       "      <td>5</td>\n",
       "      <td>b9e82842917f541594a67c44639201895caa4b28</td>\n",
       "      <td>4</td>\n",
       "      <td>1</td>\n",
       "    </tr>\n",
       "    <tr>\n",
       "      <td>3</td>\n",
       "      <td>776828</td>\n",
       "      <td>514.0</td>\n",
       "      <td>3</td>\n",
       "      <td>5</td>\n",
       "      <td>bcd0ef81a0a8b9f64ea644e434d299585b4dbc75</td>\n",
       "      <td>3</td>\n",
       "      <td>2</td>\n",
       "    </tr>\n",
       "    <tr>\n",
       "      <td>4</td>\n",
       "      <td>776863</td>\n",
       "      <td>782.0</td>\n",
       "      <td>5</td>\n",
       "      <td>5</td>\n",
       "      <td>30c4b21552ad0db4e3ed3fe8dfed3e702945851a</td>\n",
       "      <td>1</td>\n",
       "      <td>4</td>\n",
       "    </tr>\n",
       "  </tbody>\n",
       "</table>\n",
       "</div>"
      ],
      "text/plain": [
       "   chunk_id  fileSize  resolution_size  chunk_size  \\\n",
       "0    776662     204.0               12          18   \n",
       "1    776782     251.0              101          86   \n",
       "2    776793    1001.0                5           5   \n",
       "3    776828     514.0                3           5   \n",
       "4    776863     782.0                5           5   \n",
       "\n",
       "                                        sha  v1_size  v2_size  \n",
       "0  332b6ed4e324199565e235cd915368f9bc1b43d2        6       12  \n",
       "1  b9e82842917f541594a67c44639201895caa4b28       33       53  \n",
       "2  b9e82842917f541594a67c44639201895caa4b28        4        1  \n",
       "3  bcd0ef81a0a8b9f64ea644e434d299585b4dbc75        3        2  \n",
       "4  30c4b21552ad0db4e3ed3fe8dfed3e702945851a        1        4  "
      ]
     },
     "execution_count": 8,
     "metadata": {},
     "output_type": "execute_result"
    }
   ],
   "source": [
    "df = df[['chunk_id', 'fileSize', 'resolution_size', 'chunk_size', 'sha', 'v1_size', 'v2_size' ]]\n",
    "print(len(df))\n",
    "df.head()"
   ]
  },
  {
   "cell_type": "markdown",
   "metadata": {},
   "source": [
    "## RQ2. What is the distribution in size of conflicting chunks and conflicting files as measured in lines of code (LOC)?"
   ]
  },
  {
   "cell_type": "code",
   "execution_count": 9,
   "metadata": {},
   "outputs": [
    {
     "data": {
      "text/plain": [
       "count    10420.000000\n",
       "mean       860.021209\n",
       "std       1556.208681\n",
       "min         15.000000\n",
       "25%        182.000000\n",
       "50%        384.000000\n",
       "75%        889.250000\n",
       "max      20445.000000\n",
       "Name: fileSize, dtype: float64"
      ]
     },
     "execution_count": 9,
     "metadata": {},
     "output_type": "execute_result"
    }
   ],
   "source": [
    "df['fileSize'].describe()"
   ]
  },
  {
   "cell_type": "code",
   "execution_count": 10,
   "metadata": {},
   "outputs": [
    {
     "data": {
      "text/plain": [
       "<matplotlib.axes._subplots.AxesSubplot at 0x7f3baf026610>"
      ]
     },
     "execution_count": 10,
     "metadata": {},
     "output_type": "execute_result"
    },
    {
     "data": {
      "image/png": "[encoded data removed]",
      "text/plain": [
       "<Figure size 432x288 with 1 Axes>"
      ]
     },
     "metadata": {
      "needs_background": "light"
     },
     "output_type": "display_data"
    }
   ],
   "source": [
    "df.boxplot(['fileSize'], showfliers=False)"
   ]
  },
  {
   "cell_type": "code",
   "execution_count": 11,
   "metadata": {
    "scrolled": true
   },
   "outputs": [
    {
     "data": {
      "text/html": [
       "<div>\n",
       "<style scoped>\n",
       "    .dataframe tbody tr th:only-of-type {\n",
       "        vertical-align: middle;\n",
       "    }\n",
       "\n",
       "    .dataframe tbody tr th {\n",
       "        vertical-align: top;\n",
       "    }\n",
       "\n",
       "    .dataframe thead th {\n",
       "        text-align: right;\n",
       "    }\n",
       "</style>\n",
       "<table border=\"1\" class=\"dataframe\">\n",
       "  <thead>\n",
       "    <tr style=\"text-align: right;\">\n",
       "      <th></th>\n",
       "      <th>chunk_size</th>\n",
       "      <th>v1_size</th>\n",
       "      <th>v2_size</th>\n",
       "    </tr>\n",
       "  </thead>\n",
       "  <tbody>\n",
       "    <tr>\n",
       "      <td>count</td>\n",
       "      <td>10726.000000</td>\n",
       "      <td>10726.000000</td>\n",
       "      <td>10726.000000</td>\n",
       "    </tr>\n",
       "    <tr>\n",
       "      <td>mean</td>\n",
       "      <td>13.555379</td>\n",
       "      <td>6.668842</td>\n",
       "      <td>6.886537</td>\n",
       "    </tr>\n",
       "    <tr>\n",
       "      <td>std</td>\n",
       "      <td>58.866576</td>\n",
       "      <td>29.755920</td>\n",
       "      <td>32.439524</td>\n",
       "    </tr>\n",
       "    <tr>\n",
       "      <td>min</td>\n",
       "      <td>2.000000</td>\n",
       "      <td>0.000000</td>\n",
       "      <td>0.000000</td>\n",
       "    </tr>\n",
       "    <tr>\n",
       "      <td>25%</td>\n",
       "      <td>4.000000</td>\n",
       "      <td>2.000000</td>\n",
       "      <td>2.000000</td>\n",
       "    </tr>\n",
       "    <tr>\n",
       "      <td>50%</td>\n",
       "      <td>6.000000</td>\n",
       "      <td>2.000000</td>\n",
       "      <td>3.000000</td>\n",
       "    </tr>\n",
       "    <tr>\n",
       "      <td>75%</td>\n",
       "      <td>11.000000</td>\n",
       "      <td>5.000000</td>\n",
       "      <td>5.000000</td>\n",
       "    </tr>\n",
       "    <tr>\n",
       "      <td>max</td>\n",
       "      <td>2545.000000</td>\n",
       "      <td>1352.000000</td>\n",
       "      <td>1402.000000</td>\n",
       "    </tr>\n",
       "  </tbody>\n",
       "</table>\n",
       "</div>"
      ],
      "text/plain": [
       "         chunk_size       v1_size       v2_size\n",
       "count  10726.000000  10726.000000  10726.000000\n",
       "mean      13.555379      6.668842      6.886537\n",
       "std       58.866576     29.755920     32.439524\n",
       "min        2.000000      0.000000      0.000000\n",
       "25%        4.000000      2.000000      2.000000\n",
       "50%        6.000000      2.000000      3.000000\n",
       "75%       11.000000      5.000000      5.000000\n",
       "max     2545.000000   1352.000000   1402.000000"
      ]
     },
     "execution_count": 11,
     "metadata": {},
     "output_type": "execute_result"
    }
   ],
   "source": [
    "df[['chunk_size', 'v1_size', 'v2_size']].describe()"
   ]
  },
  {
   "cell_type": "code",
   "execution_count": 12,
   "metadata": {},
   "outputs": [
    {
     "data": {
      "text/plain": [
       "<matplotlib.axes._subplots.AxesSubplot at 0x7f3baece5450>"
      ]
     },
     "execution_count": 12,
     "metadata": {},
     "output_type": "execute_result"
    },
    {
     "data": {
      "image/png": "[encoded data removed]",
      "text/plain": [
       "<Figure size 432x288 with 1 Axes>"
      ]
     },
     "metadata": {
      "needs_background": "light"
     },
     "output_type": "display_data"
    }
   ],
   "source": [
    "df.boxplot(['chunk_size'], showfliers=False)"
   ]
  },
  {
   "cell_type": "code",
   "execution_count": 13,
   "metadata": {
    "scrolled": true
   },
   "outputs": [
    {
     "data": {
      "image/png": "[encoded data removed]",
      "text/plain": [
       "<Figure size 360x216 with 1 Axes>"
      ]
     },
     "metadata": {
      "needs_background": "light"
     },
     "output_type": "display_data"
    }
   ],
   "source": [
    "fig, ax = plt.subplots(1, 1, figsize=(5, 3))\n",
    "df.boxplot(['v1_size', 'v2_size'], showfliers=False, ax = ax)\n",
    "ax.tick_params(axis=\"x\", labelsize=12)\n",
    "ax.tick_params(axis=\"y\", labelsize=12)\n",
    "ax.set_xticklabels(['$v_{1}$ size', '$v_{2}$ size'])\n",
    "plt.show()\n",
    "fig.savefig('figures/rq2_v1_v2_size.png', dpi=300, bbox_inches = \"tight\")"
   ]
  },
  {
   "cell_type": "code",
   "execution_count": 14,
   "metadata": {},
   "outputs": [
    {
     "data": {
      "image/png": "[encoded data removed]",
      "text/plain": [
       "<Figure size 720x288 with 2 Axes>"
      ]
     },
     "metadata": {
      "needs_background": "light"
     },
     "output_type": "display_data"
    }
   ],
   "source": [
    "fig, ax = plt.subplots(1, 2, figsize=(10, 4))\n",
    "df.boxplot(['fileSize'], showfliers=False, ax=ax[0])\n",
    "df.boxplot(['chunk_size'], showfliers=False, ax=ax[1])\n",
    "ax[0].tick_params(axis=\"x\", labelsize=12)\n",
    "ax[0].tick_params(axis=\"y\", labelsize=12)\n",
    "ax[1].tick_params(axis=\"x\", labelsize=12)\n",
    "ax[1].tick_params(axis=\"y\", labelsize=12)\n",
    "ax[0].set_xticklabels(['File size'])\n",
    "ax[1].set_xticklabels(['Chunk size'])\n",
    "plt.show()\n",
    "fig.savefig('figures/rq2_distribution.png', dpi=300, bbox_inches = \"tight\")"
   ]
  },
  {
   "cell_type": "markdown",
   "metadata": {},
   "source": [
    "## RQ3. What is the distribution in size of conflicting chunks resolutions as measured in lines of code (LOC)?"
   ]
  },
  {
   "cell_type": "code",
   "execution_count": 15,
   "metadata": {},
   "outputs": [
    {
     "data": {
      "text/plain": [
       "count    10726.000000\n",
       "mean         8.379079\n",
       "std         35.503146\n",
       "min          1.000000\n",
       "25%          2.000000\n",
       "50%          3.000000\n",
       "75%          7.000000\n",
       "max       1557.000000\n",
       "Name: resolution_size, dtype: float64"
      ]
     },
     "execution_count": 15,
     "metadata": {},
     "output_type": "execute_result"
    }
   ],
   "source": [
    "df['resolution_size'].describe()"
   ]
  },
  {
   "cell_type": "code",
   "execution_count": 16,
   "metadata": {},
   "outputs": [
    {
     "data": {
      "text/plain": [
       "<matplotlib.axes._subplots.AxesSubplot at 0x7f3baead3950>"
      ]
     },
     "execution_count": 16,
     "metadata": {},
     "output_type": "execute_result"
    },
    {
     "data": {
      "image/png": "[encoded data removed]",
      "text/plain": [
       "<Figure size 432x288 with 1 Axes>"
      ]
     },
     "metadata": {
      "needs_background": "light"
     },
     "output_type": "display_data"
    }
   ],
   "source": [
    "df.boxplot(['resolution_size'], showfliers=False)"
   ]
  },
  {
   "cell_type": "code",
   "execution_count": 17,
   "metadata": {},
   "outputs": [
    {
     "data": {
      "image/png": "[encoded data removed]",
      "text/plain": [
       "<Figure size 360x288 with 1 Axes>"
      ]
     },
     "metadata": {
      "needs_background": "light"
     },
     "output_type": "display_data"
    }
   ],
   "source": [
    "fig, ax = plt.subplots(1, 1, figsize=(5, 4))\n",
    "df.boxplot(['resolution_size'], showfliers=False, ax=ax)\n",
    "ax.tick_params(axis=\"x\", labelsize=12)\n",
    "ax.tick_params(axis=\"y\", labelsize=12)\n",
    "ax.set_xticklabels(['Resolution size'])\n",
    "plt.show()\n",
    "fig.savefig('figures/rq3_distribution.png', dpi=300, bbox_inches = \"tight\")"
   ]
  },
  {
   "cell_type": "markdown",
   "metadata": {},
   "source": [
    "## RQ1. What is the distribution in number of conflicting chunks and conflicting files for merge failures?"
   ]
  },
  {
   "cell_type": "code",
   "execution_count": 18,
   "metadata": {},
   "outputs": [
    {
     "name": "stdout",
     "output_type": "stream",
     "text": [
      "5360\n"
     ]
    },
    {
     "data": {
      "text/html": [
       "<div>\n",
       "<style scoped>\n",
       "    .dataframe tbody tr th:only-of-type {\n",
       "        vertical-align: middle;\n",
       "    }\n",
       "\n",
       "    .dataframe tbody tr th {\n",
       "        vertical-align: top;\n",
       "    }\n",
       "\n",
       "    .dataframe thead th {\n",
       "        text-align: right;\n",
       "    }\n",
       "</style>\n",
       "<table border=\"1\" class=\"dataframe\">\n",
       "  <thead>\n",
       "    <tr style=\"text-align: right;\">\n",
       "      <th></th>\n",
       "      <th>sha</th>\n",
       "      <th>chunks</th>\n",
       "      <th>files</th>\n",
       "    </tr>\n",
       "  </thead>\n",
       "  <tbody>\n",
       "    <tr>\n",
       "      <td>0</td>\n",
       "      <td>346418c4ef7b9a21dc659af43ff614d5db2343f9</td>\n",
       "      <td>137</td>\n",
       "      <td>129</td>\n",
       "    </tr>\n",
       "    <tr>\n",
       "      <td>1</td>\n",
       "      <td>70a4e7915b9e70ffc6adeab0bca620339e97673c</td>\n",
       "      <td>80</td>\n",
       "      <td>24</td>\n",
       "    </tr>\n",
       "    <tr>\n",
       "      <td>2</td>\n",
       "      <td>cdaaddf88b9ab1dda6b5bf859b38bca6055b057b</td>\n",
       "      <td>71</td>\n",
       "      <td>11</td>\n",
       "    </tr>\n",
       "    <tr>\n",
       "      <td>3</td>\n",
       "      <td>b013a74c44b526ba9f824cc7eb2087714d9b6eaf</td>\n",
       "      <td>65</td>\n",
       "      <td>1</td>\n",
       "    </tr>\n",
       "    <tr>\n",
       "      <td>4</td>\n",
       "      <td>ab780c16ee9d29b98ea6e240c21076d2f1ae6079</td>\n",
       "      <td>62</td>\n",
       "      <td>38</td>\n",
       "    </tr>\n",
       "  </tbody>\n",
       "</table>\n",
       "</div>"
      ],
      "text/plain": [
       "                                        sha  chunks  files\n",
       "0  346418c4ef7b9a21dc659af43ff614d5db2343f9     137    129\n",
       "1  70a4e7915b9e70ffc6adeab0bca620339e97673c      80     24\n",
       "2  cdaaddf88b9ab1dda6b5bf859b38bca6055b057b      71     11\n",
       "3  b013a74c44b526ba9f824cc7eb2087714d9b6eaf      65      1\n",
       "4  ab780c16ee9d29b98ea6e240c21076d2f1ae6079      62     38"
      ]
     },
     "execution_count": 18,
     "metadata": {},
     "output_type": "execute_result"
    }
   ],
   "source": [
    "df_merges = pd.read_csv('data/merge_stats.csv')\n",
    "print(len(df_merges))\n",
    "df_merges.head()"
   ]
  },
  {
   "cell_type": "code",
   "execution_count": 19,
   "metadata": {},
   "outputs": [
    {
     "data": {
      "text/plain": [
       "count    5360.000000\n",
       "mean        2.001119\n",
       "std         3.501392\n",
       "min         1.000000\n",
       "25%         1.000000\n",
       "50%         1.000000\n",
       "75%         2.000000\n",
       "max       137.000000\n",
       "Name: chunks, dtype: float64"
      ]
     },
     "execution_count": 19,
     "metadata": {},
     "output_type": "execute_result"
    }
   ],
   "source": [
    "df_merges['chunks'].describe()"
   ]
  },
  {
   "cell_type": "code",
   "execution_count": 20,
   "metadata": {},
   "outputs": [
    {
     "data": {
      "text/plain": [
       "1      0.648134\n",
       "2      0.175560\n",
       "3      0.068097\n",
       "4      0.037687\n",
       "5      0.025187\n",
       "6      0.011194\n",
       "7      0.008022\n",
       "8      0.004851\n",
       "9      0.004104\n",
       "10     0.003172\n",
       "11     0.002425\n",
       "12     0.002052\n",
       "14     0.001679\n",
       "16     0.001493\n",
       "13     0.001306\n",
       "15     0.000933\n",
       "24     0.000746\n",
       "28     0.000373\n",
       "25     0.000373\n",
       "17     0.000373\n",
       "18     0.000373\n",
       "51     0.000187\n",
       "80     0.000187\n",
       "44     0.000187\n",
       "36     0.000187\n",
       "65     0.000187\n",
       "137    0.000187\n",
       "20     0.000187\n",
       "22     0.000187\n",
       "62     0.000187\n",
       "71     0.000187\n",
       "Name: chunks, dtype: float64"
      ]
     },
     "execution_count": 20,
     "metadata": {},
     "output_type": "execute_result"
    }
   ],
   "source": [
    "df_merges['chunks'].value_counts(normalize=True)"
   ]
  },
  {
   "cell_type": "code",
   "execution_count": 21,
   "metadata": {},
   "outputs": [
    {
     "data": {
      "text/html": [
       "<div>\n",
       "<style scoped>\n",
       "    .dataframe tbody tr th:only-of-type {\n",
       "        vertical-align: middle;\n",
       "    }\n",
       "\n",
       "    .dataframe tbody tr th {\n",
       "        vertical-align: top;\n",
       "    }\n",
       "\n",
       "    .dataframe thead th {\n",
       "        text-align: right;\n",
       "    }\n",
       "</style>\n",
       "<table border=\"1\" class=\"dataframe\">\n",
       "  <thead>\n",
       "    <tr style=\"text-align: right;\">\n",
       "      <th></th>\n",
       "      <th>sha</th>\n",
       "      <th>chunks</th>\n",
       "      <th>files</th>\n",
       "    </tr>\n",
       "  </thead>\n",
       "  <tbody>\n",
       "    <tr>\n",
       "      <td>0</td>\n",
       "      <td>346418c4ef7b9a21dc659af43ff614d5db2343f9</td>\n",
       "      <td>137</td>\n",
       "      <td>129</td>\n",
       "    </tr>\n",
       "    <tr>\n",
       "      <td>1</td>\n",
       "      <td>70a4e7915b9e70ffc6adeab0bca620339e97673c</td>\n",
       "      <td>80</td>\n",
       "      <td>24</td>\n",
       "    </tr>\n",
       "    <tr>\n",
       "      <td>2</td>\n",
       "      <td>cdaaddf88b9ab1dda6b5bf859b38bca6055b057b</td>\n",
       "      <td>71</td>\n",
       "      <td>11</td>\n",
       "    </tr>\n",
       "    <tr>\n",
       "      <td>3</td>\n",
       "      <td>b013a74c44b526ba9f824cc7eb2087714d9b6eaf</td>\n",
       "      <td>65</td>\n",
       "      <td>1</td>\n",
       "    </tr>\n",
       "    <tr>\n",
       "      <td>4</td>\n",
       "      <td>ab780c16ee9d29b98ea6e240c21076d2f1ae6079</td>\n",
       "      <td>62</td>\n",
       "      <td>38</td>\n",
       "    </tr>\n",
       "    <tr>\n",
       "      <td>5</td>\n",
       "      <td>1228a9fe55582f99afff2c356408008b069c704b</td>\n",
       "      <td>51</td>\n",
       "      <td>37</td>\n",
       "    </tr>\n",
       "    <tr>\n",
       "      <td>6</td>\n",
       "      <td>7a1355950172b7a549820e9a2cd4a9b2099ec32f</td>\n",
       "      <td>44</td>\n",
       "      <td>24</td>\n",
       "    </tr>\n",
       "    <tr>\n",
       "      <td>7</td>\n",
       "      <td>a7a71986ec8f4c9d0dbe9fd0dc0c5c2f46f4e5ad</td>\n",
       "      <td>36</td>\n",
       "      <td>30</td>\n",
       "    </tr>\n",
       "    <tr>\n",
       "      <td>8</td>\n",
       "      <td>e407a608b0e2c7aad5cd6321426ec85d35f3bafa</td>\n",
       "      <td>28</td>\n",
       "      <td>10</td>\n",
       "    </tr>\n",
       "    <tr>\n",
       "      <td>9</td>\n",
       "      <td>c8572d38a6d9293a7fd8b050a4016cf79727edc4</td>\n",
       "      <td>28</td>\n",
       "      <td>25</td>\n",
       "    </tr>\n",
       "    <tr>\n",
       "      <td>10</td>\n",
       "      <td>6f8aee80c6b19517a1c17f570168cbb264566e85</td>\n",
       "      <td>25</td>\n",
       "      <td>14</td>\n",
       "    </tr>\n",
       "    <tr>\n",
       "      <td>11</td>\n",
       "      <td>56897f2b926d20c72bfe0b20f98c5de82f961b3b</td>\n",
       "      <td>25</td>\n",
       "      <td>8</td>\n",
       "    </tr>\n",
       "    <tr>\n",
       "      <td>12</td>\n",
       "      <td>4011be2655f80548d05a41b6bb105c9f8df5baa2</td>\n",
       "      <td>24</td>\n",
       "      <td>20</td>\n",
       "    </tr>\n",
       "    <tr>\n",
       "      <td>13</td>\n",
       "      <td>7fac327218806a49c4b660e33e76bc822477aa57</td>\n",
       "      <td>24</td>\n",
       "      <td>18</td>\n",
       "    </tr>\n",
       "    <tr>\n",
       "      <td>14</td>\n",
       "      <td>43087fe6fbf115f1e796a20e79164fc239ddb62c</td>\n",
       "      <td>24</td>\n",
       "      <td>8</td>\n",
       "    </tr>\n",
       "    <tr>\n",
       "      <td>15</td>\n",
       "      <td>7e888ba0dd0953051cc1051340f171b85ef8841a</td>\n",
       "      <td>24</td>\n",
       "      <td>24</td>\n",
       "    </tr>\n",
       "    <tr>\n",
       "      <td>16</td>\n",
       "      <td>af115fe5a89919dc5e942d783522e26129f30f99</td>\n",
       "      <td>22</td>\n",
       "      <td>21</td>\n",
       "    </tr>\n",
       "    <tr>\n",
       "      <td>17</td>\n",
       "      <td>428a3975ed1fb6a6c1c408e13056b03f2789809a</td>\n",
       "      <td>20</td>\n",
       "      <td>10</td>\n",
       "    </tr>\n",
       "    <tr>\n",
       "      <td>18</td>\n",
       "      <td>848ce6009772023cc9394abd631de266d2085d63</td>\n",
       "      <td>18</td>\n",
       "      <td>16</td>\n",
       "    </tr>\n",
       "    <tr>\n",
       "      <td>19</td>\n",
       "      <td>e1d07214dfe12f893aa4052e08dbc3025f5cb67d</td>\n",
       "      <td>18</td>\n",
       "      <td>6</td>\n",
       "    </tr>\n",
       "  </tbody>\n",
       "</table>\n",
       "</div>"
      ],
      "text/plain": [
       "                                         sha  chunks  files\n",
       "0   346418c4ef7b9a21dc659af43ff614d5db2343f9     137    129\n",
       "1   70a4e7915b9e70ffc6adeab0bca620339e97673c      80     24\n",
       "2   cdaaddf88b9ab1dda6b5bf859b38bca6055b057b      71     11\n",
       "3   b013a74c44b526ba9f824cc7eb2087714d9b6eaf      65      1\n",
       "4   ab780c16ee9d29b98ea6e240c21076d2f1ae6079      62     38\n",
       "5   1228a9fe55582f99afff2c356408008b069c704b      51     37\n",
       "6   7a1355950172b7a549820e9a2cd4a9b2099ec32f      44     24\n",
       "7   a7a71986ec8f4c9d0dbe9fd0dc0c5c2f46f4e5ad      36     30\n",
       "8   e407a608b0e2c7aad5cd6321426ec85d35f3bafa      28     10\n",
       "9   c8572d38a6d9293a7fd8b050a4016cf79727edc4      28     25\n",
       "10  6f8aee80c6b19517a1c17f570168cbb264566e85      25     14\n",
       "11  56897f2b926d20c72bfe0b20f98c5de82f961b3b      25      8\n",
       "12  4011be2655f80548d05a41b6bb105c9f8df5baa2      24     20\n",
       "13  7fac327218806a49c4b660e33e76bc822477aa57      24     18\n",
       "14  43087fe6fbf115f1e796a20e79164fc239ddb62c      24      8\n",
       "15  7e888ba0dd0953051cc1051340f171b85ef8841a      24     24\n",
       "16  af115fe5a89919dc5e942d783522e26129f30f99      22     21\n",
       "17  428a3975ed1fb6a6c1c408e13056b03f2789809a      20     10\n",
       "18  848ce6009772023cc9394abd631de266d2085d63      18     16\n",
       "19  e1d07214dfe12f893aa4052e08dbc3025f5cb67d      18      6"
      ]
     },
     "execution_count": 21,
     "metadata": {},
     "output_type": "execute_result"
    }
   ],
   "source": [
    "df_merges[df_merges['chunks'] >= 18]"
   ]
  },
  {
   "cell_type": "code",
   "execution_count": 22,
   "metadata": {},
   "outputs": [
    {
     "data": {
      "text/plain": [
       "<matplotlib.axes._subplots.AxesSubplot at 0x7f3bae1642d0>"
      ]
     },
     "execution_count": 22,
     "metadata": {},
     "output_type": "execute_result"
    },
    {
     "data": {
      "image/png": "[encoded data removed]",
      "text/plain": [
       "<Figure size 432x288 with 1 Axes>"
      ]
     },
     "metadata": {
      "needs_background": "light"
     },
     "output_type": "display_data"
    }
   ],
   "source": [
    "df_merges.boxplot('chunks', showfliers=False)"
   ]
  },
  {
   "cell_type": "code",
   "execution_count": 23,
   "metadata": {},
   "outputs": [
    {
     "data": {
      "image/png": "[encoded data removed]",
      "text/plain": [
       "<Figure size 720x288 with 1 Axes>"
      ]
     },
     "metadata": {
      "needs_background": "light"
     },
     "output_type": "display_data"
    }
   ],
   "source": [
    "data = []\n",
    "max_chunks = df_merges['chunks'].max()\n",
    "for chunks_amount in range(1, max_chunks+1):\n",
    "    merges_count = len(df_merges[df_merges['chunks'] == chunks_amount])\n",
    "    if merges_count > 0:\n",
    "        data.append([chunks_amount, merges_count])\n",
    "\n",
    "df_plot = pd.DataFrame(data, columns=['chunks','merges'])\n",
    "fig, ax = plt.subplots(1, 1, figsize=(10, 4))\n",
    "df_plot.plot(kind='bar', x='chunks', y='merges', ax=ax, legend=False)\n",
    "ax.set_xlabel(\"# of chunks\")\n",
    "ax.set_ylabel(\"# of conflicting merges\")\n",
    "plt.show()"
   ]
  },
  {
   "cell_type": "code",
   "execution_count": 24,
   "metadata": {},
   "outputs": [
    {
     "data": {
      "image/png": "[encoded data removed]",
      "text/plain": [
       "<Figure size 720x288 with 1 Axes>"
      ]
     },
     "metadata": {
      "needs_background": "light"
     },
     "output_type": "display_data"
    }
   ],
   "source": [
    "data = []\n",
    "max_chunks = df_merges['chunks'].max()\n",
    "more_than_18 = 0\n",
    "for chunks_amount in range(1, 18):\n",
    "    merges_count = len(df_merges[df_merges['chunks'] == chunks_amount])\n",
    "    if merges_count > 0:\n",
    "        data.append([chunks_amount, merges_count])\n",
    "\n",
    "merges_count = len(df_merges[df_merges['chunks'] >= 18])     \n",
    "data.append(['18+', merges_count]) \n",
    "\n",
    "df_plot = pd.DataFrame(data, columns=['chunks','merges'])\n",
    "fig, ax = plt.subplots(1, 1, figsize=(10, 4))\n",
    "df_plot.plot(kind='bar', x='chunks', y='merges', ax=ax, legend=False, zorder=1)\n",
    "ax.set_xlabel(\"# of chunks\", fontsize=14)\n",
    "ax.set_ylabel(\"# of conflicting merges\", fontsize=14)\n",
    "ax.tick_params(axis=\"x\", labelsize=14)\n",
    "ax.tick_params(axis=\"y\", labelsize=14)\n",
    "ax.grid(zorder=-1)\n",
    "plt.show()\n",
    "fig.savefig('figures/chunks_per_merge.png', dpi=300, bbox_inches = \"tight\")"
   ]
  },
  {
   "cell_type": "code",
   "execution_count": 25,
   "metadata": {},
   "outputs": [
    {
     "data": {
      "text/plain": [
       "count    5360.000000\n",
       "mean        1.640112\n",
       "std         2.491515\n",
       "min         1.000000\n",
       "25%         1.000000\n",
       "50%         1.000000\n",
       "75%         2.000000\n",
       "max       129.000000\n",
       "Name: files, dtype: float64"
      ]
     },
     "execution_count": 25,
     "metadata": {},
     "output_type": "execute_result"
    }
   ],
   "source": [
    "df_merges['files'].describe()"
   ]
  },
  {
   "cell_type": "code",
   "execution_count": 26,
   "metadata": {},
   "outputs": [
    {
     "data": {
      "text/plain": [
       "1      0.737313\n",
       "2      0.141231\n",
       "3      0.052985\n",
       "4      0.022201\n",
       "5      0.018470\n",
       "6      0.010261\n",
       "7      0.004478\n",
       "8      0.003358\n",
       "10     0.002239\n",
       "9      0.001493\n",
       "12     0.000933\n",
       "11     0.000746\n",
       "13     0.000560\n",
       "16     0.000560\n",
       "24     0.000560\n",
       "15     0.000560\n",
       "14     0.000560\n",
       "21     0.000187\n",
       "25     0.000187\n",
       "129    0.000187\n",
       "20     0.000187\n",
       "18     0.000187\n",
       "30     0.000187\n",
       "38     0.000187\n",
       "37     0.000187\n",
       "Name: files, dtype: float64"
      ]
     },
     "execution_count": 26,
     "metadata": {},
     "output_type": "execute_result"
    }
   ],
   "source": [
    "df_merges['files'].value_counts(normalize=True)"
   ]
  },
  {
   "cell_type": "code",
   "execution_count": 27,
   "metadata": {},
   "outputs": [
    {
     "data": {
      "text/plain": [
       "<matplotlib.axes._subplots.AxesSubplot at 0x7f3bae820950>"
      ]
     },
     "execution_count": 27,
     "metadata": {},
     "output_type": "execute_result"
    },
    {
     "data": {
      "image/png": "[encoded data removed]",
      "text/plain": [
       "<Figure size 432x288 with 1 Axes>"
      ]
     },
     "metadata": {
      "needs_background": "light"
     },
     "output_type": "display_data"
    }
   ],
   "source": [
    "df_merges.boxplot('files', showfliers=False)"
   ]
  },
  {
   "cell_type": "code",
   "execution_count": 28,
   "metadata": {},
   "outputs": [
    {
     "data": {
      "image/png": "[encoded data removed]",
      "text/plain": [
       "<Figure size 720x288 with 1 Axes>"
      ]
     },
     "metadata": {
      "needs_background": "light"
     },
     "output_type": "display_data"
    }
   ],
   "source": [
    "data = []\n",
    "max_files = df_merges['files'].max()\n",
    "for files_count in range(1, max_files+1):\n",
    "    merges_count = len(df_merges[df_merges['files'] == files_count])\n",
    "    if merges_count > 0:\n",
    "        data.append([files_count, merges_count])\n",
    "\n",
    "df_plot = pd.DataFrame(data, columns=['files_count','merges'])\n",
    "fig, ax = plt.subplots(1, 1, figsize=(10, 4))\n",
    "df_plot.plot(kind='bar', x='files_count', y='merges', ax=ax, legend=False)\n",
    "ax.set_xlabel(\"# of files\")\n",
    "ax.set_ylabel(\"# of conflicting merges\")\n",
    "plt.show()"
   ]
  },
  {
   "cell_type": "code",
   "execution_count": 29,
   "metadata": {},
   "outputs": [
    {
     "data": {
      "image/png": "[encoded data removed]",
      "text/plain": [
       "<Figure size 720x288 with 1 Axes>"
      ]
     },
     "metadata": {
      "needs_background": "light"
     },
     "output_type": "display_data"
    }
   ],
   "source": [
    "data = []\n",
    "max_files = df_merges['files'].max()\n",
    "for files_count in range(1, 10):\n",
    "    merges_count = len(df_merges[df_merges['files'] == files_count])\n",
    "    if merges_count > 0:\n",
    "        data.append([files_count, merges_count])\n",
    "merges_count = len(df_merges[df_merges['files'] >= 10])\n",
    "data.append(['10+', merges_count]) \n",
    "df_plot = pd.DataFrame(data, columns=['files_count','merges'])\n",
    "fig, ax = plt.subplots(1, 1, figsize=(10, 4))\n",
    "df_plot.plot(kind='bar', x='files_count', y='merges', ax=ax, legend=False)\n",
    "ax.set_xlabel(\"# of files\", fontsize=14)\n",
    "ax.set_ylabel(\"# of conflicting merges\", fontsize=14)\n",
    "ax.tick_params(axis=\"x\", labelsize=14)\n",
    "ax.tick_params(axis=\"y\", labelsize=14)\n",
    "ax.grid(zorder=-1)\n",
    "plt.show()\n",
    "fig.savefig('figures/files_per_merge.png', dpi=300, bbox_inches = \"tight\")"
   ]
  },
  {
   "cell_type": "markdown",
   "metadata": {},
   "source": [
    "#### What is the average size of chunks for failed merges with varying number of chunks?"
   ]
  },
  {
   "cell_type": "code",
   "execution_count": 30,
   "metadata": {},
   "outputs": [
    {
     "data": {
      "text/html": [
       "<div>\n",
       "<style scoped>\n",
       "    .dataframe tbody tr th:only-of-type {\n",
       "        vertical-align: middle;\n",
       "    }\n",
       "\n",
       "    .dataframe tbody tr th {\n",
       "        vertical-align: top;\n",
       "    }\n",
       "\n",
       "    .dataframe thead th {\n",
       "        text-align: right;\n",
       "    }\n",
       "</style>\n",
       "<table border=\"1\" class=\"dataframe\">\n",
       "  <thead>\n",
       "    <tr style=\"text-align: right;\">\n",
       "      <th></th>\n",
       "      <th>sha</th>\n",
       "      <th>chunks</th>\n",
       "      <th>files</th>\n",
       "    </tr>\n",
       "  </thead>\n",
       "  <tbody>\n",
       "    <tr>\n",
       "      <td>580</td>\n",
       "      <td>99fb70b0b7676b4abf6425c9ffb181f4ac1ddde9</td>\n",
       "      <td>3</td>\n",
       "      <td>2</td>\n",
       "    </tr>\n",
       "    <tr>\n",
       "      <td>581</td>\n",
       "      <td>cc6d271f31606d8e407167570a8a9c1517df7a9f</td>\n",
       "      <td>3</td>\n",
       "      <td>3</td>\n",
       "    </tr>\n",
       "    <tr>\n",
       "      <td>582</td>\n",
       "      <td>a5cbd05ff39886a405da97be0417d6aa9bfe04bf</td>\n",
       "      <td>3</td>\n",
       "      <td>1</td>\n",
       "    </tr>\n",
       "    <tr>\n",
       "      <td>583</td>\n",
       "      <td>5414e4328f4862f28e679541c97dfa90abf54139</td>\n",
       "      <td>3</td>\n",
       "      <td>2</td>\n",
       "    </tr>\n",
       "    <tr>\n",
       "      <td>584</td>\n",
       "      <td>6ded402d219f4be75d040cb7c5ea0a670af3eb57</td>\n",
       "      <td>3</td>\n",
       "      <td>2</td>\n",
       "    </tr>\n",
       "  </tbody>\n",
       "</table>\n",
       "</div>"
      ],
      "text/plain": [
       "                                          sha  chunks  files\n",
       "580  99fb70b0b7676b4abf6425c9ffb181f4ac1ddde9       3      2\n",
       "581  cc6d271f31606d8e407167570a8a9c1517df7a9f       3      3\n",
       "582  a5cbd05ff39886a405da97be0417d6aa9bfe04bf       3      1\n",
       "583  5414e4328f4862f28e679541c97dfa90abf54139       3      2\n",
       "584  6ded402d219f4be75d040cb7c5ea0a670af3eb57       3      2"
      ]
     },
     "execution_count": 30,
     "metadata": {},
     "output_type": "execute_result"
    }
   ],
   "source": [
    "df_filter = df_merges[df_merges['chunks'] == 3]\n",
    "df_filter.head()\n"
   ]
  },
  {
   "cell_type": "code",
   "execution_count": 31,
   "metadata": {},
   "outputs": [
    {
     "data": {
      "text/html": [
       "<div>\n",
       "<style scoped>\n",
       "    .dataframe tbody tr th:only-of-type {\n",
       "        vertical-align: middle;\n",
       "    }\n",
       "\n",
       "    .dataframe tbody tr th {\n",
       "        vertical-align: top;\n",
       "    }\n",
       "\n",
       "    .dataframe thead th {\n",
       "        text-align: right;\n",
       "    }\n",
       "</style>\n",
       "<table border=\"1\" class=\"dataframe\">\n",
       "  <thead>\n",
       "    <tr style=\"text-align: right;\">\n",
       "      <th></th>\n",
       "      <th>chunk_id</th>\n",
       "      <th>fileSize</th>\n",
       "      <th>resolution_size</th>\n",
       "      <th>chunk_size</th>\n",
       "      <th>sha</th>\n",
       "      <th>v1_size</th>\n",
       "      <th>v2_size</th>\n",
       "    </tr>\n",
       "  </thead>\n",
       "  <tbody>\n",
       "    <tr>\n",
       "      <td>2554</td>\n",
       "      <td>940508</td>\n",
       "      <td>935.0</td>\n",
       "      <td>3</td>\n",
       "      <td>11</td>\n",
       "      <td>99fb70b0b7676b4abf6425c9ffb181f4ac1ddde9</td>\n",
       "      <td>8</td>\n",
       "      <td>3</td>\n",
       "    </tr>\n",
       "    <tr>\n",
       "      <td>2555</td>\n",
       "      <td>940509</td>\n",
       "      <td>378.0</td>\n",
       "      <td>3</td>\n",
       "      <td>4</td>\n",
       "      <td>99fb70b0b7676b4abf6425c9ffb181f4ac1ddde9</td>\n",
       "      <td>1</td>\n",
       "      <td>3</td>\n",
       "    </tr>\n",
       "    <tr>\n",
       "      <td>2556</td>\n",
       "      <td>940510</td>\n",
       "      <td>378.0</td>\n",
       "      <td>2</td>\n",
       "      <td>3</td>\n",
       "      <td>99fb70b0b7676b4abf6425c9ffb181f4ac1ddde9</td>\n",
       "      <td>1</td>\n",
       "      <td>2</td>\n",
       "    </tr>\n",
       "  </tbody>\n",
       "</table>\n",
       "</div>"
      ],
      "text/plain": [
       "      chunk_id  fileSize  resolution_size  chunk_size  \\\n",
       "2554    940508     935.0                3          11   \n",
       "2555    940509     378.0                3           4   \n",
       "2556    940510     378.0                2           3   \n",
       "\n",
       "                                           sha  v1_size  v2_size  \n",
       "2554  99fb70b0b7676b4abf6425c9ffb181f4ac1ddde9        8        3  \n",
       "2555  99fb70b0b7676b4abf6425c9ffb181f4ac1ddde9        1        3  \n",
       "2556  99fb70b0b7676b4abf6425c9ffb181f4ac1ddde9        1        2  "
      ]
     },
     "execution_count": 31,
     "metadata": {},
     "output_type": "execute_result"
    }
   ],
   "source": [
    "df[df['sha'] == \"99fb70b0b7676b4abf6425c9ffb181f4ac1ddde9\"]"
   ]
  },
  {
   "cell_type": "code",
   "execution_count": 32,
   "metadata": {
    "scrolled": false
   },
   "outputs": [
    {
     "name": "stdout",
     "output_type": "stream",
     "text": [
      "[1, 3474, 64895] [2, 1882, 21228] [3, 1095, 16287] [4, 808, 10484] [5, 675, 6866] [6, 360, 3534] [7, 301, 4351] [8, 208, 1813] [9, 198, 1848] [10, 170, 955] [11, 143, 1018] [12, 132, 971] [13, 91, 989] [14, 126, 1465] [15, 75, 569] [16, 128, 1089] [17, 34, 287] ['18+', 860, 7033]\n"
     ]
    }
   ],
   "source": [
    "data = []\n",
    "for chunks_number in range(1, 18):\n",
    "    total_size = 0\n",
    "    total_chunks = 0\n",
    "    df_filter = df_merges[df_merges['chunks'] == chunks_number] # selects all merges that have 'chunks_number' chunks\n",
    "    if len(df_filter) > 0:\n",
    "        for index, row in df_filter.iterrows():\n",
    "            rows = df[df['sha'] == row['sha']]\n",
    "            total_chunks+=len(rows)\n",
    "            total_size+=rows['chunk_size'].sum()\n",
    "        data.append([chunks_number, total_chunks, total_size])\n",
    "\n",
    "df_filter = df_merges[df_merges['chunks'] >= 18]\n",
    "if len(df_filter) > 0:\n",
    "    for index, row in df_filter.iterrows():\n",
    "        rows = df[df['sha'] == row['sha']]\n",
    "        total_chunks+=len(rows)\n",
    "        total_size+=rows['chunk_size'].sum()\n",
    "    data.append(['18+', total_chunks, total_size])\n",
    "\n",
    "        \n",
    "print(*data)"
   ]
  },
  {
   "cell_type": "code",
   "execution_count": 33,
   "metadata": {},
   "outputs": [
    {
     "data": {
      "text/html": [
       "<div>\n",
       "<style scoped>\n",
       "    .dataframe tbody tr th:only-of-type {\n",
       "        vertical-align: middle;\n",
       "    }\n",
       "\n",
       "    .dataframe tbody tr th {\n",
       "        vertical-align: top;\n",
       "    }\n",
       "\n",
       "    .dataframe thead th {\n",
       "        text-align: right;\n",
       "    }\n",
       "</style>\n",
       "<table border=\"1\" class=\"dataframe\">\n",
       "  <thead>\n",
       "    <tr style=\"text-align: right;\">\n",
       "      <th></th>\n",
       "      <th>chunks</th>\n",
       "      <th>total_chunks</th>\n",
       "      <th>total_size</th>\n",
       "      <th>average_size</th>\n",
       "    </tr>\n",
       "  </thead>\n",
       "  <tbody>\n",
       "    <tr>\n",
       "      <td>0</td>\n",
       "      <td>1</td>\n",
       "      <td>3474</td>\n",
       "      <td>64895</td>\n",
       "      <td>18.680196</td>\n",
       "    </tr>\n",
       "    <tr>\n",
       "      <td>1</td>\n",
       "      <td>2</td>\n",
       "      <td>1882</td>\n",
       "      <td>21228</td>\n",
       "      <td>11.279490</td>\n",
       "    </tr>\n",
       "    <tr>\n",
       "      <td>2</td>\n",
       "      <td>3</td>\n",
       "      <td>1095</td>\n",
       "      <td>16287</td>\n",
       "      <td>14.873973</td>\n",
       "    </tr>\n",
       "    <tr>\n",
       "      <td>3</td>\n",
       "      <td>4</td>\n",
       "      <td>808</td>\n",
       "      <td>10484</td>\n",
       "      <td>12.975248</td>\n",
       "    </tr>\n",
       "    <tr>\n",
       "      <td>4</td>\n",
       "      <td>5</td>\n",
       "      <td>675</td>\n",
       "      <td>6866</td>\n",
       "      <td>10.171852</td>\n",
       "    </tr>\n",
       "  </tbody>\n",
       "</table>\n",
       "</div>"
      ],
      "text/plain": [
       "  chunks  total_chunks  total_size  average_size\n",
       "0      1          3474       64895     18.680196\n",
       "1      2          1882       21228     11.279490\n",
       "2      3          1095       16287     14.873973\n",
       "3      4           808       10484     12.975248\n",
       "4      5           675        6866     10.171852"
      ]
     },
     "execution_count": 33,
     "metadata": {},
     "output_type": "execute_result"
    }
   ],
   "source": [
    "df_plot = pd.DataFrame(data, columns=['chunks', 'total_chunks', 'total_size'])\n",
    "df_plot['average_size'] = df_plot['total_size'] / df_plot['total_chunks']\n",
    "df_plot.head()"
   ]
  },
  {
   "cell_type": "code",
   "execution_count": 34,
   "metadata": {},
   "outputs": [
    {
     "data": {
      "image/png": "[encoded data removed]",
      "text/plain": [
       "<Figure size 720x288 with 1 Axes>"
      ]
     },
     "metadata": {
      "needs_background": "light"
     },
     "output_type": "display_data"
    }
   ],
   "source": [
    "fig, ax = plt.subplots(1, 1, figsize=(10, 4))\n",
    "df_plot.plot(kind='bar', x='chunks', y='average_size', ax=ax, legend=False)\n",
    "ax.set_xlabel(\"# of chunks per merge\", fontsize=14)\n",
    "ax.set_ylabel(\"Average chunk size (LOC)\", fontsize=14)\n",
    "ax.tick_params(axis=\"x\", labelsize=14)\n",
    "ax.tick_params(axis=\"y\", labelsize=14)\n",
    "ax.grid(zorder=-1)\n",
    "plt.show()\n",
    "# fig.savefig('figures/average_size_per_chunks_per_merge.png', dpi=300, bbox_inches = \"tight\")"
   ]
  },
  {
   "cell_type": "code",
   "execution_count": 35,
   "metadata": {},
   "outputs": [
    {
     "data": {
      "text/html": [
       "<div>\n",
       "<style scoped>\n",
       "    .dataframe tbody tr th:only-of-type {\n",
       "        vertical-align: middle;\n",
       "    }\n",
       "\n",
       "    .dataframe tbody tr th {\n",
       "        vertical-align: top;\n",
       "    }\n",
       "\n",
       "    .dataframe thead th {\n",
       "        text-align: right;\n",
       "    }\n",
       "</style>\n",
       "<table border=\"1\" class=\"dataframe\">\n",
       "  <thead>\n",
       "    <tr style=\"text-align: right;\">\n",
       "      <th></th>\n",
       "      <th>chunks</th>\n",
       "      <th>total_chunks</th>\n",
       "      <th>total_size</th>\n",
       "      <th>average_size</th>\n",
       "    </tr>\n",
       "  </thead>\n",
       "  <tbody>\n",
       "    <tr>\n",
       "      <td>0</td>\n",
       "      <td>1</td>\n",
       "      <td>3474</td>\n",
       "      <td>64895</td>\n",
       "      <td>18.680196</td>\n",
       "    </tr>\n",
       "    <tr>\n",
       "      <td>1</td>\n",
       "      <td>2</td>\n",
       "      <td>1882</td>\n",
       "      <td>21228</td>\n",
       "      <td>11.279490</td>\n",
       "    </tr>\n",
       "    <tr>\n",
       "      <td>2</td>\n",
       "      <td>3</td>\n",
       "      <td>1095</td>\n",
       "      <td>16287</td>\n",
       "      <td>14.873973</td>\n",
       "    </tr>\n",
       "    <tr>\n",
       "      <td>3</td>\n",
       "      <td>4</td>\n",
       "      <td>808</td>\n",
       "      <td>10484</td>\n",
       "      <td>12.975248</td>\n",
       "    </tr>\n",
       "    <tr>\n",
       "      <td>4</td>\n",
       "      <td>5</td>\n",
       "      <td>675</td>\n",
       "      <td>6866</td>\n",
       "      <td>10.171852</td>\n",
       "    </tr>\n",
       "  </tbody>\n",
       "</table>\n",
       "</div>"
      ],
      "text/plain": [
       "   chunks  total_chunks  total_size  average_size\n",
       "0       1          3474       64895     18.680196\n",
       "1       2          1882       21228     11.279490\n",
       "2       3          1095       16287     14.873973\n",
       "3       4           808       10484     12.975248\n",
       "4       5           675        6866     10.171852"
      ]
     },
     "execution_count": 35,
     "metadata": {},
     "output_type": "execute_result"
    }
   ],
   "source": [
    "data = []\n",
    "for chunks_number in range(1, 18):\n",
    "    total_size = 0\n",
    "    total_chunks = 0\n",
    "    df_filter = df_merges[df_merges['chunks'] == chunks_number] # selects all merges that have 'chunks_number' chunks\n",
    "    if len(df_filter) > 0:\n",
    "        for index, row in df_filter.iterrows():\n",
    "            rows = df[df['sha'] == row['sha']]\n",
    "            total_chunks+=len(rows)\n",
    "            total_size+=rows['chunk_size'].sum()\n",
    "        data.append([chunks_number, total_chunks, total_size])\n",
    "\n",
    "df_filter = df_merges[df_merges['chunks'] >= 18]\n",
    "if len(df_filter) > 0:\n",
    "    for index, row in df_filter.iterrows():\n",
    "        rows = df[df['sha'] == row['sha']]\n",
    "        total_chunks+=len(rows)\n",
    "        total_size+=rows['chunk_size'].sum()\n",
    "    data.append([18, total_chunks, total_size])\n",
    "\n",
    "df_plot2 = pd.DataFrame(data, columns=['chunks', 'total_chunks', 'total_size'])\n",
    "df_plot2['average_size'] = df_plot2['total_size'] / df_plot2['total_chunks']\n",
    "df_plot2.head()\n",
    "\n"
   ]
  },
  {
   "cell_type": "code",
   "execution_count": 36,
   "metadata": {},
   "outputs": [
    {
     "data": {
      "image/png": "[encoded data removed]",
      "text/plain": [
       "<Figure size 720x288 with 1 Axes>"
      ]
     },
     "metadata": {
      "needs_background": "light"
     },
     "output_type": "display_data"
    }
   ],
   "source": [
    "fig, ax = plt.subplots(1, 1, figsize=(10, 4))\n",
    "df_plot.plot(kind='bar', x='chunks', y='average_size', ax=ax, legend=False)\n",
    "ax.set_xlabel(\"# of chunks per merge\", fontsize=14)\n",
    "ax.set_ylabel(\"Average chunk size (LOC)\", fontsize=14)\n",
    "ax.tick_params(axis=\"x\", labelsize=14)\n",
    "ax.tick_params(axis=\"y\", labelsize=14)\n",
    "ax.grid(zorder=-1)\n",
    "\n",
    "\n",
    "x = list(df_plot2['chunks'])\n",
    "y = list(df_plot2['average_size'])\n",
    "z = np.polyfit(x, y, 1)\n",
    "p = np.poly1d(z)\n",
    "\n",
    "plt.plot(range(0, 18),p(x),\"r--\")\n",
    "\n",
    "plt.show()\n",
    "fig.savefig('figures/average_size_per_chunks_per_merge.png', dpi=300, bbox_inches = \"tight\")"
   ]
  },
  {
   "cell_type": "code",
   "execution_count": null,
   "metadata": {},
   "outputs": [],
   "source": []
  }
 ],
 "metadata": {
  "kernelspec": {
   "display_name": "Python 3",
   "language": "python",
   "name": "python3"
  },
  "language_info": {
   "codemirror_mode": {
    "name": "ipython",
    "version": 3
   },
   "file_extension": ".py",
   "mimetype": "text/x-python",
   "name": "python",
   "nbconvert_exporter": "python",
   "pygments_lexer": "ipython3",
   "version": "3.7.4"
  }
 },
 "nbformat": 4,
 "nbformat_minor": 2
}
