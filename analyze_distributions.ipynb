{
 "cells": [
  {
   "cell_type": "code",
   "execution_count": 1,
   "metadata": {},
   "outputs": [],
   "source": [
    "import pandas as pd\n",
    "import matplotlib.pyplot as plt\n",
    "import numpy as np\n",
    "import analysis_util\n",
    "import statistics\n",
    "colors=['darkgray','gray','dimgray','lightgray']"
   ]
  },
  {
   "cell_type": "markdown",
   "metadata": {},
   "source": [
    "### Complete dataset (175,805 chunks) used by Ghiotto et al. 2020"
   ]
  },
  {
   "cell_type": "code",
   "execution_count": 2,
   "metadata": {},
   "outputs": [
    {
     "name": "stdout",
     "output_type": "stream",
     "text": [
      "Total chunks: 175805\n"
     ]
    },
    {
     "data": {
      "text/html": [
       "<div>\n",
       "<style scoped>\n",
       "    .dataframe tbody tr th:only-of-type {\n",
       "        vertical-align: middle;\n",
       "    }\n",
       "\n",
       "    .dataframe tbody tr th {\n",
       "        vertical-align: top;\n",
       "    }\n",
       "\n",
       "    .dataframe thead th {\n",
       "        text-align: right;\n",
       "    }\n",
       "</style>\n",
       "<table border=\"1\" class=\"dataframe\">\n",
       "  <thead>\n",
       "    <tr style=\"text-align: right;\">\n",
       "      <th></th>\n",
       "      <th>chunk_id</th>\n",
       "      <th>revision_id</th>\n",
       "      <th>sha</th>\n",
       "      <th>file_id</th>\n",
       "      <th>developerdecision</th>\n",
       "      <th>project</th>\n",
       "    </tr>\n",
       "  </thead>\n",
       "  <tbody>\n",
       "    <tr>\n",
       "      <th>0</th>\n",
       "      <td>776661</td>\n",
       "      <td>1025174</td>\n",
       "      <td>c3b5f5d43f5699e2e4d698bd32a74dad9ac1d477</td>\n",
       "      <td>341963</td>\n",
       "      <td>Version 1</td>\n",
       "      <td>3scale/3scale_ws_api_for_java</td>\n",
       "    </tr>\n",
       "    <tr>\n",
       "      <th>1</th>\n",
       "      <td>776662</td>\n",
       "      <td>1025176</td>\n",
       "      <td>332b6ed4e324199565e235cd915368f9bc1b43d2</td>\n",
       "      <td>341965</td>\n",
       "      <td>Combination</td>\n",
       "      <td>3scale/3scale_ws_api_for_java</td>\n",
       "    </tr>\n",
       "    <tr>\n",
       "      <th>2</th>\n",
       "      <td>776697</td>\n",
       "      <td>1025480</td>\n",
       "      <td>41b35cd3c4fa423382bac2a22d0da09da6008730</td>\n",
       "      <td>342000</td>\n",
       "      <td>Version 2</td>\n",
       "      <td>bndtools/bndtools</td>\n",
       "    </tr>\n",
       "    <tr>\n",
       "      <th>3</th>\n",
       "      <td>776700</td>\n",
       "      <td>1025497</td>\n",
       "      <td>8f113c6f5d090ff539f3c342591a575b976fd23d</td>\n",
       "      <td>342003</td>\n",
       "      <td>Version 1</td>\n",
       "      <td>bndtools/bndtools</td>\n",
       "    </tr>\n",
       "    <tr>\n",
       "      <th>4</th>\n",
       "      <td>776710</td>\n",
       "      <td>1025548</td>\n",
       "      <td>567eec5076644db52aef9a4ef3ac06bb1d3b1878</td>\n",
       "      <td>342014</td>\n",
       "      <td>Version 2</td>\n",
       "      <td>cwensel/cascading</td>\n",
       "    </tr>\n",
       "  </tbody>\n",
       "</table>\n",
       "</div>"
      ],
      "text/plain": [
       "   chunk_id  revision_id                                       sha  file_id  \\\n",
       "0    776661      1025174  c3b5f5d43f5699e2e4d698bd32a74dad9ac1d477   341963   \n",
       "1    776662      1025176  332b6ed4e324199565e235cd915368f9bc1b43d2   341965   \n",
       "2    776697      1025480  41b35cd3c4fa423382bac2a22d0da09da6008730   342000   \n",
       "3    776700      1025497  8f113c6f5d090ff539f3c342591a575b976fd23d   342003   \n",
       "4    776710      1025548  567eec5076644db52aef9a4ef3ac06bb1d3b1878   342014   \n",
       "\n",
       "  developerdecision                        project  \n",
       "0         Version 1  3scale/3scale_ws_api_for_java  \n",
       "1       Combination  3scale/3scale_ws_api_for_java  \n",
       "2         Version 2              bndtools/bndtools  \n",
       "3         Version 1              bndtools/bndtools  \n",
       "4         Version 2              cwensel/cascading  "
      ]
     },
     "execution_count": 2,
     "metadata": {},
     "output_type": "execute_result"
    }
   ],
   "source": [
    "all_chunks = pd.read_csv('data/all_chunks_ghiotto.csv')\n",
    "print(f'Total chunks: {len(all_chunks)}')\n",
    "all_chunks.head()"
   ]
  },
  {
   "cell_type": "markdown",
   "metadata": {},
   "source": [
    "How many merges have only chunks resolved with \"Combination\"?"
   ]
  },
  {
   "cell_type": "code",
   "execution_count": 3,
   "metadata": {},
   "outputs": [
    {
     "name": "stdout",
     "output_type": "stream",
     "text": [
      "All merges: 25328 merges\n"
     ]
    },
    {
     "data": {
      "text/html": [
       "<div>\n",
       "<style scoped>\n",
       "    .dataframe tbody tr th:only-of-type {\n",
       "        vertical-align: middle;\n",
       "    }\n",
       "\n",
       "    .dataframe tbody tr th {\n",
       "        vertical-align: top;\n",
       "    }\n",
       "\n",
       "    .dataframe thead th {\n",
       "        text-align: right;\n",
       "    }\n",
       "</style>\n",
       "<table border=\"1\" class=\"dataframe\">\n",
       "  <thead>\n",
       "    <tr style=\"text-align: right;\">\n",
       "      <th>developerdecision</th>\n",
       "      <th>sha</th>\n",
       "      <th>Combination</th>\n",
       "      <th>Concatenation</th>\n",
       "      <th>Manual</th>\n",
       "      <th>None</th>\n",
       "      <th>Version 1</th>\n",
       "      <th>Version 2</th>\n",
       "      <th>chunks</th>\n",
       "    </tr>\n",
       "  </thead>\n",
       "  <tbody>\n",
       "    <tr>\n",
       "      <th>0</th>\n",
       "      <td>0007571f54dbbbda8d4492e74b3eacb7ee562926</td>\n",
       "      <td>0.0</td>\n",
       "      <td>0.0</td>\n",
       "      <td>0.0</td>\n",
       "      <td>0.0</td>\n",
       "      <td>0.0</td>\n",
       "      <td>1.0</td>\n",
       "      <td>1.0</td>\n",
       "    </tr>\n",
       "    <tr>\n",
       "      <th>1</th>\n",
       "      <td>000bd2ff6db0144b479badddb92eb5c10a4a2111</td>\n",
       "      <td>1.0</td>\n",
       "      <td>0.0</td>\n",
       "      <td>3.0</td>\n",
       "      <td>0.0</td>\n",
       "      <td>0.0</td>\n",
       "      <td>1.0</td>\n",
       "      <td>5.0</td>\n",
       "    </tr>\n",
       "    <tr>\n",
       "      <th>2</th>\n",
       "      <td>000d1fb3ba5816a94582473762fd3517600a70e4</td>\n",
       "      <td>0.0</td>\n",
       "      <td>1.0</td>\n",
       "      <td>2.0</td>\n",
       "      <td>0.0</td>\n",
       "      <td>0.0</td>\n",
       "      <td>2.0</td>\n",
       "      <td>5.0</td>\n",
       "    </tr>\n",
       "    <tr>\n",
       "      <th>3</th>\n",
       "      <td>000da137253684137c7c423220ae5601fbda334c</td>\n",
       "      <td>0.0</td>\n",
       "      <td>0.0</td>\n",
       "      <td>1.0</td>\n",
       "      <td>0.0</td>\n",
       "      <td>0.0</td>\n",
       "      <td>0.0</td>\n",
       "      <td>1.0</td>\n",
       "    </tr>\n",
       "    <tr>\n",
       "      <th>4</th>\n",
       "      <td>000e080ee0066cced016fc3b5e8603b0efbc56e2</td>\n",
       "      <td>0.0</td>\n",
       "      <td>0.0</td>\n",
       "      <td>0.0</td>\n",
       "      <td>0.0</td>\n",
       "      <td>1.0</td>\n",
       "      <td>0.0</td>\n",
       "      <td>1.0</td>\n",
       "    </tr>\n",
       "  </tbody>\n",
       "</table>\n",
       "</div>"
      ],
      "text/plain": [
       "developerdecision                                       sha  Combination  \\\n",
       "0                  0007571f54dbbbda8d4492e74b3eacb7ee562926          0.0   \n",
       "1                  000bd2ff6db0144b479badddb92eb5c10a4a2111          1.0   \n",
       "2                  000d1fb3ba5816a94582473762fd3517600a70e4          0.0   \n",
       "3                  000da137253684137c7c423220ae5601fbda334c          0.0   \n",
       "4                  000e080ee0066cced016fc3b5e8603b0efbc56e2          0.0   \n",
       "\n",
       "developerdecision  Concatenation  Manual  None  Version 1  Version 2  chunks  \n",
       "0                            0.0     0.0   0.0        0.0        1.0     1.0  \n",
       "1                            0.0     3.0   0.0        0.0        1.0     5.0  \n",
       "2                            1.0     2.0   0.0        0.0        2.0     5.0  \n",
       "3                            0.0     1.0   0.0        0.0        0.0     1.0  \n",
       "4                            0.0     0.0   0.0        1.0        0.0     1.0  "
      ]
     },
     "execution_count": 3,
     "metadata": {},
     "output_type": "execute_result"
    }
   ],
   "source": [
    "counts = all_chunks.groupby('sha')['developerdecision'].value_counts().unstack().reset_index()\n",
    "counts = counts.fillna(0)\n",
    "counts['chunks'] = counts['Combination'] + counts['Concatenation'] + counts['Manual'] + counts['None'] + counts['Version 1'] + counts['Version 2']\n",
    "print(f'All merges: {len(counts)} merges')\n",
    "counts.head()\n"
   ]
  },
  {
   "cell_type": "code",
   "execution_count": 4,
   "metadata": {},
   "outputs": [
    {
     "name": "stdout",
     "output_type": "stream",
     "text": [
      "Total merges that use only combination: 2282 (9.01%)\n",
      "Total merges that use combination and possibly others: 7010 (27.68%)\n"
     ]
    }
   ],
   "source": [
    "only_combination_complete = counts[counts['chunks'] == counts['Combination']]\n",
    "print(f'Total merges that use only combination: {len(only_combination_complete)} ({(len(only_combination_complete)/len(counts))*100:.2f}%)')\n",
    "hybrid_complete = counts[counts['Combination'] > 0]\n",
    "print(f'Total merges that use combination and possibly others: {len(hybrid_complete)} ({(len(hybrid_complete)/len(counts))*100:.2f}%)')"
   ]
  },
  {
   "cell_type": "markdown",
   "metadata": {},
   "source": [
    "How many files have only chunks resolved with \"Combination\"?"
   ]
  },
  {
   "cell_type": "code",
   "execution_count": 5,
   "metadata": {},
   "outputs": [
    {
     "name": "stdout",
     "output_type": "stream",
     "text": [
      "All Files: 78937 files\n"
     ]
    },
    {
     "data": {
      "text/html": [
       "<div>\n",
       "<style scoped>\n",
       "    .dataframe tbody tr th:only-of-type {\n",
       "        vertical-align: middle;\n",
       "    }\n",
       "\n",
       "    .dataframe tbody tr th {\n",
       "        vertical-align: top;\n",
       "    }\n",
       "\n",
       "    .dataframe thead th {\n",
       "        text-align: right;\n",
       "    }\n",
       "</style>\n",
       "<table border=\"1\" class=\"dataframe\">\n",
       "  <thead>\n",
       "    <tr style=\"text-align: right;\">\n",
       "      <th>developerdecision</th>\n",
       "      <th>file_id</th>\n",
       "      <th>Combination</th>\n",
       "      <th>Concatenation</th>\n",
       "      <th>Manual</th>\n",
       "      <th>None</th>\n",
       "      <th>Version 1</th>\n",
       "      <th>Version 2</th>\n",
       "      <th>chunks</th>\n",
       "    </tr>\n",
       "  </thead>\n",
       "  <tbody>\n",
       "    <tr>\n",
       "      <th>0</th>\n",
       "      <td>341963</td>\n",
       "      <td>0.0</td>\n",
       "      <td>0.0</td>\n",
       "      <td>0.0</td>\n",
       "      <td>0.0</td>\n",
       "      <td>1.0</td>\n",
       "      <td>0.0</td>\n",
       "      <td>1.0</td>\n",
       "    </tr>\n",
       "    <tr>\n",
       "      <th>1</th>\n",
       "      <td>341965</td>\n",
       "      <td>1.0</td>\n",
       "      <td>0.0</td>\n",
       "      <td>0.0</td>\n",
       "      <td>0.0</td>\n",
       "      <td>0.0</td>\n",
       "      <td>0.0</td>\n",
       "      <td>1.0</td>\n",
       "    </tr>\n",
       "    <tr>\n",
       "      <th>2</th>\n",
       "      <td>342000</td>\n",
       "      <td>0.0</td>\n",
       "      <td>0.0</td>\n",
       "      <td>0.0</td>\n",
       "      <td>0.0</td>\n",
       "      <td>0.0</td>\n",
       "      <td>1.0</td>\n",
       "      <td>1.0</td>\n",
       "    </tr>\n",
       "    <tr>\n",
       "      <th>3</th>\n",
       "      <td>342003</td>\n",
       "      <td>0.0</td>\n",
       "      <td>0.0</td>\n",
       "      <td>0.0</td>\n",
       "      <td>0.0</td>\n",
       "      <td>1.0</td>\n",
       "      <td>0.0</td>\n",
       "      <td>1.0</td>\n",
       "    </tr>\n",
       "    <tr>\n",
       "      <th>4</th>\n",
       "      <td>342014</td>\n",
       "      <td>0.0</td>\n",
       "      <td>0.0</td>\n",
       "      <td>0.0</td>\n",
       "      <td>0.0</td>\n",
       "      <td>0.0</td>\n",
       "      <td>1.0</td>\n",
       "      <td>1.0</td>\n",
       "    </tr>\n",
       "  </tbody>\n",
       "</table>\n",
       "</div>"
      ],
      "text/plain": [
       "developerdecision  file_id  Combination  Concatenation  Manual  None  \\\n",
       "0                   341963          0.0            0.0     0.0   0.0   \n",
       "1                   341965          1.0            0.0     0.0   0.0   \n",
       "2                   342000          0.0            0.0     0.0   0.0   \n",
       "3                   342003          0.0            0.0     0.0   0.0   \n",
       "4                   342014          0.0            0.0     0.0   0.0   \n",
       "\n",
       "developerdecision  Version 1  Version 2  chunks  \n",
       "0                        1.0        0.0     1.0  \n",
       "1                        0.0        0.0     1.0  \n",
       "2                        0.0        1.0     1.0  \n",
       "3                        1.0        0.0     1.0  \n",
       "4                        0.0        1.0     1.0  "
      ]
     },
     "execution_count": 5,
     "metadata": {},
     "output_type": "execute_result"
    }
   ],
   "source": [
    "counts = all_chunks.groupby('file_id')['developerdecision'].value_counts().unstack().reset_index()\n",
    "counts = counts.fillna(0)\n",
    "counts['chunks'] = counts['Combination'] + counts['Concatenation'] + counts['Manual'] + counts['None'] + counts['Version 1'] + counts['Version 2']\n",
    "print(f'All Files: {len(counts)} files')\n",
    "counts.head()"
   ]
  },
  {
   "cell_type": "code",
   "execution_count": 6,
   "metadata": {},
   "outputs": [
    {
     "name": "stdout",
     "output_type": "stream",
     "text": [
      "Total files that use only combination: 7734 (9.80%)\n",
      "Total files that use combination and possibly others: 12531 (15.87%)\n"
     ]
    }
   ],
   "source": [
    "only_combination_complete_files = counts[counts['chunks'] == counts['Combination']]\n",
    "print(f'Total files that use only combination: {len(only_combination_complete_files)} ({(len(only_combination_complete_files)/len(counts))*100:.2f}%)')\n",
    "hybrid_complete_files = counts[counts['Combination'] > 0]\n",
    "print(f'Total files that use combination and possibly others: {len(hybrid_complete_files)} ({(len(hybrid_complete_files)/len(counts))*100:.2f}%)')"
   ]
  },
  {
   "cell_type": "markdown",
   "metadata": {},
   "source": [
    "### Our corpus (includes only chunks that were resolved with combination)"
   ]
  },
  {
   "cell_type": "code",
   "execution_count": 7,
   "metadata": {},
   "outputs": [
    {
     "name": "stdout",
     "output_type": "stream",
     "text": [
      "All chunks:  10726\n",
      "Total projects:  1082\n",
      "Filtered 6 of 1082 projects for being implicit forks: {'adetaylor/android-frameworks-base-with-remote-control-service', 'IceColdSandwich/android_frameworks_base', 'cgjones/android-frameworks-base', 'AOKP/frameworks_base_disabled', 'RealVNC/android-frameworks-base-with-screenshot-tweaks', 'allwinner-ics/platform_frameworks_base'}\n",
      "Total valid projects:  1076\n",
      "Valid chunks:  10177\n",
      "10177\n"
     ]
    },
    {
     "data": {
      "text/html": [
       "<div>\n",
       "<style scoped>\n",
       "    .dataframe tbody tr th:only-of-type {\n",
       "        vertical-align: middle;\n",
       "    }\n",
       "\n",
       "    .dataframe tbody tr th {\n",
       "        vertical-align: top;\n",
       "    }\n",
       "\n",
       "    .dataframe thead th {\n",
       "        text-align: right;\n",
       "    }\n",
       "</style>\n",
       "<table border=\"1\" class=\"dataframe\">\n",
       "  <thead>\n",
       "    <tr style=\"text-align: right;\">\n",
       "      <th></th>\n",
       "      <th>chunk_id</th>\n",
       "      <th>sha</th>\n",
       "      <th>fileSize</th>\n",
       "      <th>partial_order</th>\n",
       "      <th>chunk_size</th>\n",
       "      <th>resolution_size</th>\n",
       "      <th>v1_percentage</th>\n",
       "      <th>v2_percentage</th>\n",
       "      <th>normalized_v1_percentage</th>\n",
       "      <th>normalized_v2_percentage</th>\n",
       "      <th>intersection_percentage</th>\n",
       "      <th>chunk_composition</th>\n",
       "      <th>missing_v1_lines</th>\n",
       "      <th>missing_v2_lines</th>\n",
       "      <th>missing_v1_lines_perc</th>\n",
       "      <th>missing_v2_lines_perc</th>\n",
       "      <th>v1_size</th>\n",
       "      <th>v2_size</th>\n",
       "      <th>chunk_size_delta</th>\n",
       "    </tr>\n",
       "  </thead>\n",
       "  <tbody>\n",
       "    <tr>\n",
       "      <th>0</th>\n",
       "      <td>776662</td>\n",
       "      <td>332b6ed4e324199565e235cd915368f9bc1b43d2</td>\n",
       "      <td>204.0</td>\n",
       "      <td>True</td>\n",
       "      <td>18</td>\n",
       "      <td>12</td>\n",
       "      <td>0.42</td>\n",
       "      <td>0.92</td>\n",
       "      <td>0.25</td>\n",
       "      <td>0.75</td>\n",
       "      <td>0.33</td>\n",
       "      <td>v1 v2 (v1_2) v1 (v1_2) v1 v2</td>\n",
       "      <td>1</td>\n",
       "      <td>1</td>\n",
       "      <td>16.67</td>\n",
       "      <td>8.33</td>\n",
       "      <td>6</td>\n",
       "      <td>12</td>\n",
       "      <td>6.0</td>\n",
       "    </tr>\n",
       "    <tr>\n",
       "      <th>1</th>\n",
       "      <td>776782</td>\n",
       "      <td>b9e82842917f541594a67c44639201895caa4b28</td>\n",
       "      <td>251.0</td>\n",
       "      <td>True</td>\n",
       "      <td>86</td>\n",
       "      <td>101</td>\n",
       "      <td>0.57</td>\n",
       "      <td>0.75</td>\n",
       "      <td>0.41</td>\n",
       "      <td>0.59</td>\n",
       "      <td>0.32</td>\n",
       "      <td>v2 v1 (v1_2) v1 (v1_2) v1 (v1_2) v2 (v1_2) v2...</td>\n",
       "      <td>2</td>\n",
       "      <td>4</td>\n",
       "      <td>6.06</td>\n",
       "      <td>7.55</td>\n",
       "      <td>33</td>\n",
       "      <td>53</td>\n",
       "      <td>20.0</td>\n",
       "    </tr>\n",
       "    <tr>\n",
       "      <th>2</th>\n",
       "      <td>776793</td>\n",
       "      <td>b9e82842917f541594a67c44639201895caa4b28</td>\n",
       "      <td>1001.0</td>\n",
       "      <td>True</td>\n",
       "      <td>5</td>\n",
       "      <td>5</td>\n",
       "      <td>0.75</td>\n",
       "      <td>0.25</td>\n",
       "      <td>0.75</td>\n",
       "      <td>0.25</td>\n",
       "      <td>0.00</td>\n",
       "      <td>v2 v1</td>\n",
       "      <td>1</td>\n",
       "      <td>0</td>\n",
       "      <td>25.00</td>\n",
       "      <td>0.00</td>\n",
       "      <td>4</td>\n",
       "      <td>1</td>\n",
       "      <td>-3.0</td>\n",
       "    </tr>\n",
       "    <tr>\n",
       "      <th>3</th>\n",
       "      <td>776828</td>\n",
       "      <td>bcd0ef81a0a8b9f64ea644e434d299585b4dbc75</td>\n",
       "      <td>514.0</td>\n",
       "      <td>True</td>\n",
       "      <td>5</td>\n",
       "      <td>3</td>\n",
       "      <td>0.33</td>\n",
       "      <td>0.67</td>\n",
       "      <td>0.33</td>\n",
       "      <td>0.67</td>\n",
       "      <td>0.00</td>\n",
       "      <td>v2 v1 v2</td>\n",
       "      <td>2</td>\n",
       "      <td>0</td>\n",
       "      <td>66.67</td>\n",
       "      <td>0.00</td>\n",
       "      <td>3</td>\n",
       "      <td>2</td>\n",
       "      <td>-1.0</td>\n",
       "    </tr>\n",
       "    <tr>\n",
       "      <th>4</th>\n",
       "      <td>776863</td>\n",
       "      <td>30c4b21552ad0db4e3ed3fe8dfed3e702945851a</td>\n",
       "      <td>782.0</td>\n",
       "      <td>True</td>\n",
       "      <td>5</td>\n",
       "      <td>5</td>\n",
       "      <td>0.25</td>\n",
       "      <td>0.75</td>\n",
       "      <td>0.25</td>\n",
       "      <td>0.75</td>\n",
       "      <td>0.00</td>\n",
       "      <td>v2 v1</td>\n",
       "      <td>0</td>\n",
       "      <td>1</td>\n",
       "      <td>0.00</td>\n",
       "      <td>25.00</td>\n",
       "      <td>1</td>\n",
       "      <td>4</td>\n",
       "      <td>3.0</td>\n",
       "    </tr>\n",
       "  </tbody>\n",
       "</table>\n",
       "</div>"
      ],
      "text/plain": [
       "   chunk_id                                       sha  fileSize partial_order  \\\n",
       "0    776662  332b6ed4e324199565e235cd915368f9bc1b43d2     204.0          True   \n",
       "1    776782  b9e82842917f541594a67c44639201895caa4b28     251.0          True   \n",
       "2    776793  b9e82842917f541594a67c44639201895caa4b28    1001.0          True   \n",
       "3    776828  bcd0ef81a0a8b9f64ea644e434d299585b4dbc75     514.0          True   \n",
       "4    776863  30c4b21552ad0db4e3ed3fe8dfed3e702945851a     782.0          True   \n",
       "\n",
       "   chunk_size  resolution_size  v1_percentage  v2_percentage  \\\n",
       "0          18               12           0.42           0.92   \n",
       "1          86              101           0.57           0.75   \n",
       "2           5                5           0.75           0.25   \n",
       "3           5                3           0.33           0.67   \n",
       "4           5                5           0.25           0.75   \n",
       "\n",
       "   normalized_v1_percentage  normalized_v2_percentage  \\\n",
       "0                      0.25                      0.75   \n",
       "1                      0.41                      0.59   \n",
       "2                      0.75                      0.25   \n",
       "3                      0.33                      0.67   \n",
       "4                      0.25                      0.75   \n",
       "\n",
       "   intersection_percentage                                  chunk_composition  \\\n",
       "0                     0.33                       v1 v2 (v1_2) v1 (v1_2) v1 v2   \n",
       "1                     0.32   v2 v1 (v1_2) v1 (v1_2) v1 (v1_2) v2 (v1_2) v2...   \n",
       "2                     0.00                                              v2 v1   \n",
       "3                     0.00                                           v2 v1 v2   \n",
       "4                     0.00                                              v2 v1   \n",
       "\n",
       "   missing_v1_lines  missing_v2_lines  missing_v1_lines_perc  \\\n",
       "0                 1                 1                  16.67   \n",
       "1                 2                 4                   6.06   \n",
       "2                 1                 0                  25.00   \n",
       "3                 2                 0                  66.67   \n",
       "4                 0                 1                   0.00   \n",
       "\n",
       "   missing_v2_lines_perc  v1_size  v2_size  chunk_size_delta  \n",
       "0                   8.33        6       12               6.0  \n",
       "1                   7.55       33       53              20.0  \n",
       "2                   0.00        4        1              -3.0  \n",
       "3                   0.00        3        2              -1.0  \n",
       "4                  25.00        1        4               3.0  "
      ]
     },
     "execution_count": 7,
     "metadata": {},
     "output_type": "execute_result"
    }
   ],
   "source": [
    "df = analysis_util.get_chunks_dataset()\n",
    "print(len(df))\n",
    "df.head()"
   ]
  },
  {
   "cell_type": "code",
   "execution_count": 8,
   "metadata": {},
   "outputs": [],
   "source": [
    "df = df[['chunk_id', 'fileSize', 'resolution_size', 'chunk_size', 'sha', 'v1_size', 'v2_size' ]]"
   ]
  },
  {
   "cell_type": "markdown",
   "metadata": {},
   "source": [
    "How many merges in total?"
   ]
  },
  {
   "cell_type": "code",
   "execution_count": 9,
   "metadata": {},
   "outputs": [
    {
     "data": {
      "text/plain": [
       "5346"
      ]
     },
     "execution_count": 9,
     "metadata": {},
     "output_type": "execute_result"
    }
   ],
   "source": [
    "len(df['sha'].unique())"
   ]
  },
  {
   "cell_type": "markdown",
   "metadata": {},
   "source": [
    "How many merges that include our selected chunks have only chunks resolved with \"Combination\"?"
   ]
  },
  {
   "cell_type": "code",
   "execution_count": 10,
   "metadata": {},
   "outputs": [
    {
     "name": "stdout",
     "output_type": "stream",
     "text": [
      "Total: 5346 merges\n",
      "Total merges that use only combination: 1726 (32.29%)\n",
      "Total merges that use combination and possibly others: 5346 (100.00%)\n"
     ]
    }
   ],
   "source": [
    "selected_merges = list(all_chunks[all_chunks['chunk_id'].isin(df['chunk_id'])]['sha'])\n",
    "selected_chunks = all_chunks[all_chunks['sha'].isin(selected_merges)]\n",
    "counts = selected_chunks.groupby('sha')['developerdecision'].value_counts().unstack().reset_index()\n",
    "counts = counts.fillna(0)\n",
    "counts['chunks'] = counts['Combination'] + counts['Concatenation'] + counts['Manual'] + counts['None'] + counts['Version 1'] + counts['Version 2']\n",
    "print(f'Total: {len(counts)} merges')\n",
    "only_combination = counts[counts['chunks'] == counts['Combination']].copy()\n",
    "print(f'Total merges that use only combination: {len(only_combination)} ({(len(only_combination)/len(counts))*100:.2f}%)')\n",
    "\n",
    "hybrid = counts[counts['Combination'] > 0]\n",
    "print(f'Total merges that use combination and possibly others: {len(hybrid)} ({(len(hybrid)/len(counts))*100:.2f}%)')"
   ]
  },
  {
   "cell_type": "markdown",
   "metadata": {},
   "source": [
    "How many files in total?"
   ]
  },
  {
   "cell_type": "code",
   "execution_count": 11,
   "metadata": {},
   "outputs": [
    {
     "data": {
      "text/html": [
       "<div>\n",
       "<style scoped>\n",
       "    .dataframe tbody tr th:only-of-type {\n",
       "        vertical-align: middle;\n",
       "    }\n",
       "\n",
       "    .dataframe tbody tr th {\n",
       "        vertical-align: top;\n",
       "    }\n",
       "\n",
       "    .dataframe thead th {\n",
       "        text-align: right;\n",
       "    }\n",
       "</style>\n",
       "<table border=\"1\" class=\"dataframe\">\n",
       "  <thead>\n",
       "    <tr style=\"text-align: right;\">\n",
       "      <th></th>\n",
       "      <th>chunk_id</th>\n",
       "      <th>fileSize</th>\n",
       "      <th>resolution_size</th>\n",
       "      <th>chunk_size</th>\n",
       "      <th>v1_size</th>\n",
       "      <th>v2_size</th>\n",
       "      <th>revision_id</th>\n",
       "      <th>sha</th>\n",
       "      <th>file_id</th>\n",
       "      <th>developerdecision</th>\n",
       "      <th>project</th>\n",
       "    </tr>\n",
       "  </thead>\n",
       "  <tbody>\n",
       "    <tr>\n",
       "      <th>0</th>\n",
       "      <td>776662</td>\n",
       "      <td>204.0</td>\n",
       "      <td>12</td>\n",
       "      <td>18</td>\n",
       "      <td>6</td>\n",
       "      <td>12</td>\n",
       "      <td>1025176</td>\n",
       "      <td>332b6ed4e324199565e235cd915368f9bc1b43d2</td>\n",
       "      <td>341965</td>\n",
       "      <td>Combination</td>\n",
       "      <td>3scale/3scale_ws_api_for_java</td>\n",
       "    </tr>\n",
       "    <tr>\n",
       "      <th>1</th>\n",
       "      <td>776782</td>\n",
       "      <td>251.0</td>\n",
       "      <td>101</td>\n",
       "      <td>86</td>\n",
       "      <td>33</td>\n",
       "      <td>53</td>\n",
       "      <td>1025582</td>\n",
       "      <td>b9e82842917f541594a67c44639201895caa4b28</td>\n",
       "      <td>342076</td>\n",
       "      <td>Combination</td>\n",
       "      <td>cwensel/cascading</td>\n",
       "    </tr>\n",
       "    <tr>\n",
       "      <th>2</th>\n",
       "      <td>776793</td>\n",
       "      <td>1001.0</td>\n",
       "      <td>5</td>\n",
       "      <td>5</td>\n",
       "      <td>4</td>\n",
       "      <td>1</td>\n",
       "      <td>1025582</td>\n",
       "      <td>b9e82842917f541594a67c44639201895caa4b28</td>\n",
       "      <td>342083</td>\n",
       "      <td>Combination</td>\n",
       "      <td>cwensel/cascading</td>\n",
       "    </tr>\n",
       "    <tr>\n",
       "      <th>3</th>\n",
       "      <td>776828</td>\n",
       "      <td>514.0</td>\n",
       "      <td>3</td>\n",
       "      <td>5</td>\n",
       "      <td>3</td>\n",
       "      <td>2</td>\n",
       "      <td>1025583</td>\n",
       "      <td>bcd0ef81a0a8b9f64ea644e434d299585b4dbc75</td>\n",
       "      <td>342100</td>\n",
       "      <td>Combination</td>\n",
       "      <td>cwensel/cascading</td>\n",
       "    </tr>\n",
       "    <tr>\n",
       "      <th>4</th>\n",
       "      <td>776863</td>\n",
       "      <td>782.0</td>\n",
       "      <td>5</td>\n",
       "      <td>5</td>\n",
       "      <td>1</td>\n",
       "      <td>4</td>\n",
       "      <td>1025595</td>\n",
       "      <td>30c4b21552ad0db4e3ed3fe8dfed3e702945851a</td>\n",
       "      <td>342118</td>\n",
       "      <td>Combination</td>\n",
       "      <td>cwensel/cascading</td>\n",
       "    </tr>\n",
       "    <tr>\n",
       "      <th>...</th>\n",
       "      <td>...</td>\n",
       "      <td>...</td>\n",
       "      <td>...</td>\n",
       "      <td>...</td>\n",
       "      <td>...</td>\n",
       "      <td>...</td>\n",
       "      <td>...</td>\n",
       "      <td>...</td>\n",
       "      <td>...</td>\n",
       "      <td>...</td>\n",
       "      <td>...</td>\n",
       "    </tr>\n",
       "    <tr>\n",
       "      <th>10172</th>\n",
       "      <td>1652324</td>\n",
       "      <td>441.0</td>\n",
       "      <td>2</td>\n",
       "      <td>3</td>\n",
       "      <td>1</td>\n",
       "      <td>2</td>\n",
       "      <td>2756555</td>\n",
       "      <td>fa8803d85fdd4495b0e475a87adcb7a0d64dcc4e</td>\n",
       "      <td>752195</td>\n",
       "      <td>Combination</td>\n",
       "      <td>gronnbeck/java-cluster-api</td>\n",
       "    </tr>\n",
       "    <tr>\n",
       "      <th>10173</th>\n",
       "      <td>1652325</td>\n",
       "      <td>127.0</td>\n",
       "      <td>2</td>\n",
       "      <td>4</td>\n",
       "      <td>2</td>\n",
       "      <td>2</td>\n",
       "      <td>2756555</td>\n",
       "      <td>fa8803d85fdd4495b0e475a87adcb7a0d64dcc4e</td>\n",
       "      <td>752196</td>\n",
       "      <td>Combination</td>\n",
       "      <td>gronnbeck/java-cluster-api</td>\n",
       "    </tr>\n",
       "    <tr>\n",
       "      <th>10174</th>\n",
       "      <td>1658634</td>\n",
       "      <td>263.0</td>\n",
       "      <td>7</td>\n",
       "      <td>12</td>\n",
       "      <td>7</td>\n",
       "      <td>5</td>\n",
       "      <td>2794587</td>\n",
       "      <td>5835fb27160180763dd94f1bcc3f793a1e18c756</td>\n",
       "      <td>755601</td>\n",
       "      <td>Combination</td>\n",
       "      <td>xargsgrep/PortKnocker</td>\n",
       "    </tr>\n",
       "    <tr>\n",
       "      <th>10175</th>\n",
       "      <td>1658665</td>\n",
       "      <td>NaN</td>\n",
       "      <td>3</td>\n",
       "      <td>4</td>\n",
       "      <td>2</td>\n",
       "      <td>2</td>\n",
       "      <td>2794681</td>\n",
       "      <td>fa4b36ef85026af9b66c3fbad66224e7b657e107</td>\n",
       "      <td>755614</td>\n",
       "      <td>Combination</td>\n",
       "      <td>mseiwert/RoM</td>\n",
       "    </tr>\n",
       "    <tr>\n",
       "      <th>10176</th>\n",
       "      <td>1658666</td>\n",
       "      <td>NaN</td>\n",
       "      <td>3</td>\n",
       "      <td>4</td>\n",
       "      <td>2</td>\n",
       "      <td>2</td>\n",
       "      <td>2794682</td>\n",
       "      <td>b78df98b85cbce4e672ee184710a91846c3f66d5</td>\n",
       "      <td>755615</td>\n",
       "      <td>Combination</td>\n",
       "      <td>mseiwert/RoM</td>\n",
       "    </tr>\n",
       "  </tbody>\n",
       "</table>\n",
       "<p>10177 rows × 11 columns</p>\n",
       "</div>"
      ],
      "text/plain": [
       "       chunk_id  fileSize  resolution_size  chunk_size  v1_size  v2_size  \\\n",
       "0        776662     204.0               12          18        6       12   \n",
       "1        776782     251.0              101          86       33       53   \n",
       "2        776793    1001.0                5           5        4        1   \n",
       "3        776828     514.0                3           5        3        2   \n",
       "4        776863     782.0                5           5        1        4   \n",
       "...         ...       ...              ...         ...      ...      ...   \n",
       "10172   1652324     441.0                2           3        1        2   \n",
       "10173   1652325     127.0                2           4        2        2   \n",
       "10174   1658634     263.0                7          12        7        5   \n",
       "10175   1658665       NaN                3           4        2        2   \n",
       "10176   1658666       NaN                3           4        2        2   \n",
       "\n",
       "       revision_id                                       sha  file_id  \\\n",
       "0          1025176  332b6ed4e324199565e235cd915368f9bc1b43d2   341965   \n",
       "1          1025582  b9e82842917f541594a67c44639201895caa4b28   342076   \n",
       "2          1025582  b9e82842917f541594a67c44639201895caa4b28   342083   \n",
       "3          1025583  bcd0ef81a0a8b9f64ea644e434d299585b4dbc75   342100   \n",
       "4          1025595  30c4b21552ad0db4e3ed3fe8dfed3e702945851a   342118   \n",
       "...            ...                                       ...      ...   \n",
       "10172      2756555  fa8803d85fdd4495b0e475a87adcb7a0d64dcc4e   752195   \n",
       "10173      2756555  fa8803d85fdd4495b0e475a87adcb7a0d64dcc4e   752196   \n",
       "10174      2794587  5835fb27160180763dd94f1bcc3f793a1e18c756   755601   \n",
       "10175      2794681  fa4b36ef85026af9b66c3fbad66224e7b657e107   755614   \n",
       "10176      2794682  b78df98b85cbce4e672ee184710a91846c3f66d5   755615   \n",
       "\n",
       "      developerdecision                        project  \n",
       "0           Combination  3scale/3scale_ws_api_for_java  \n",
       "1           Combination              cwensel/cascading  \n",
       "2           Combination              cwensel/cascading  \n",
       "3           Combination              cwensel/cascading  \n",
       "4           Combination              cwensel/cascading  \n",
       "...                 ...                            ...  \n",
       "10172       Combination     gronnbeck/java-cluster-api  \n",
       "10173       Combination     gronnbeck/java-cluster-api  \n",
       "10174       Combination          xargsgrep/PortKnocker  \n",
       "10175       Combination                   mseiwert/RoM  \n",
       "10176       Combination                   mseiwert/RoM  \n",
       "\n",
       "[10177 rows x 11 columns]"
      ]
     },
     "metadata": {},
     "output_type": "display_data"
    },
    {
     "name": "stdout",
     "output_type": "stream",
     "text": [
      "8347 files in total\n"
     ]
    }
   ],
   "source": [
    "df_files = df.drop('sha', 1).merge(all_chunks, how='left', on='chunk_id', suffixes=('',''))\n",
    "display(df_files)\n",
    "print(f\"{len(df_files['file_id'].unique())} files in total\")"
   ]
  },
  {
   "cell_type": "markdown",
   "metadata": {},
   "source": [
    "How many files that include our selected chunks have only chunks resolved with \"Combination\"?"
   ]
  },
  {
   "cell_type": "code",
   "execution_count": 12,
   "metadata": {},
   "outputs": [
    {
     "name": "stdout",
     "output_type": "stream",
     "text": [
      "Total: 8347 files\n",
      "Total files that use only combination: 5124 (61.39%)\n",
      "Total files that use combination and possibly others: 8347 (100.00%)\n"
     ]
    }
   ],
   "source": [
    "selected_files = list(all_chunks[all_chunks['file_id'].isin(df_files['file_id'])]['file_id'])\n",
    "selected_chunks = all_chunks[all_chunks['file_id'].isin(selected_files)]\n",
    "counts = selected_chunks.groupby('file_id')['developerdecision'].value_counts().unstack().reset_index()\n",
    "counts = counts.fillna(0)\n",
    "counts['chunks'] = counts['Combination'] + counts['Concatenation'] + counts['Manual'] + counts['None'] + counts['Version 1'] + counts['Version 2']\n",
    "print(f'Total: {len(counts)} files')\n",
    "only_combination_files = counts[counts['chunks'] == counts['Combination']].copy()\n",
    "print(f'Total files that use only combination: {len(only_combination_files)} ({(len(only_combination_files)/len(counts))*100:.2f}%)')\n",
    "\n",
    "hybrid_files = counts[counts['Combination'] > 0]\n",
    "print(f'Total files that use combination and possibly others: {len(hybrid_files)} ({(len(hybrid_files)/len(counts))*100:.2f}%)')"
   ]
  },
  {
   "cell_type": "markdown",
   "metadata": {},
   "source": [
    "## How big are the conflicts and the resolutions of failed merges?"
   ]
  },
  {
   "cell_type": "markdown",
   "metadata": {},
   "source": [
    "### Number of chunks per failed merge"
   ]
  },
  {
   "cell_type": "markdown",
   "metadata": {},
   "source": [
    "#### Considering merges that include at least one chunk resolved with combination"
   ]
  },
  {
   "cell_type": "code",
   "execution_count": 13,
   "metadata": {},
   "outputs": [
    {
     "name": "stdout",
     "output_type": "stream",
     "text": [
      "5346\n"
     ]
    }
   ],
   "source": [
    "print(len(df['sha'].unique()))\n",
    "merges_hybrid = all_chunks[all_chunks['sha'].isin(df['sha'].unique())]\n",
    "# merges_hybrid"
   ]
  },
  {
   "cell_type": "code",
   "execution_count": 14,
   "metadata": {},
   "outputs": [
    {
     "data": {
      "text/html": [
       "<div>\n",
       "<style scoped>\n",
       "    .dataframe tbody tr th:only-of-type {\n",
       "        vertical-align: middle;\n",
       "    }\n",
       "\n",
       "    .dataframe tbody tr th {\n",
       "        vertical-align: top;\n",
       "    }\n",
       "\n",
       "    .dataframe thead th {\n",
       "        text-align: right;\n",
       "    }\n",
       "</style>\n",
       "<table border=\"1\" class=\"dataframe\">\n",
       "  <thead>\n",
       "    <tr style=\"text-align: right;\">\n",
       "      <th>developerdecision</th>\n",
       "      <th>sha</th>\n",
       "      <th>Combination</th>\n",
       "      <th>Concatenation</th>\n",
       "      <th>Manual</th>\n",
       "      <th>None</th>\n",
       "      <th>Version 1</th>\n",
       "      <th>Version 2</th>\n",
       "      <th>chunks</th>\n",
       "    </tr>\n",
       "  </thead>\n",
       "  <tbody>\n",
       "    <tr>\n",
       "      <th>0</th>\n",
       "      <td>000bd2ff6db0144b479badddb92eb5c10a4a2111</td>\n",
       "      <td>1.0</td>\n",
       "      <td>0.0</td>\n",
       "      <td>3.0</td>\n",
       "      <td>0.0</td>\n",
       "      <td>0.0</td>\n",
       "      <td>1.0</td>\n",
       "      <td>5.0</td>\n",
       "    </tr>\n",
       "    <tr>\n",
       "      <th>1</th>\n",
       "      <td>00118d748e062fcc908d6b9e5cb8de08106220f9</td>\n",
       "      <td>4.0</td>\n",
       "      <td>0.0</td>\n",
       "      <td>0.0</td>\n",
       "      <td>0.0</td>\n",
       "      <td>9.0</td>\n",
       "      <td>1.0</td>\n",
       "      <td>14.0</td>\n",
       "    </tr>\n",
       "    <tr>\n",
       "      <th>2</th>\n",
       "      <td>002461f073aeb9170d6ae59fd80620d132999bf8</td>\n",
       "      <td>2.0</td>\n",
       "      <td>0.0</td>\n",
       "      <td>0.0</td>\n",
       "      <td>0.0</td>\n",
       "      <td>0.0</td>\n",
       "      <td>0.0</td>\n",
       "      <td>2.0</td>\n",
       "    </tr>\n",
       "    <tr>\n",
       "      <th>3</th>\n",
       "      <td>0034d7ee70a180b8b8d1f80ec582f66c4d482181</td>\n",
       "      <td>1.0</td>\n",
       "      <td>0.0</td>\n",
       "      <td>0.0</td>\n",
       "      <td>0.0</td>\n",
       "      <td>0.0</td>\n",
       "      <td>0.0</td>\n",
       "      <td>1.0</td>\n",
       "    </tr>\n",
       "    <tr>\n",
       "      <th>4</th>\n",
       "      <td>004360fb8e5073a39c493f4e2119e4a623f46b94</td>\n",
       "      <td>2.0</td>\n",
       "      <td>2.0</td>\n",
       "      <td>2.0</td>\n",
       "      <td>0.0</td>\n",
       "      <td>0.0</td>\n",
       "      <td>3.0</td>\n",
       "      <td>9.0</td>\n",
       "    </tr>\n",
       "    <tr>\n",
       "      <th>...</th>\n",
       "      <td>...</td>\n",
       "      <td>...</td>\n",
       "      <td>...</td>\n",
       "      <td>...</td>\n",
       "      <td>...</td>\n",
       "      <td>...</td>\n",
       "      <td>...</td>\n",
       "      <td>...</td>\n",
       "    </tr>\n",
       "    <tr>\n",
       "      <th>5341</th>\n",
       "      <td>ffb66ec254d8266c03cf37b2937fe0570a3e8e24</td>\n",
       "      <td>3.0</td>\n",
       "      <td>0.0</td>\n",
       "      <td>0.0</td>\n",
       "      <td>0.0</td>\n",
       "      <td>0.0</td>\n",
       "      <td>0.0</td>\n",
       "      <td>3.0</td>\n",
       "    </tr>\n",
       "    <tr>\n",
       "      <th>5342</th>\n",
       "      <td>ffb8227c45c29acd4d3c5d4c7b45c4431dc586e8</td>\n",
       "      <td>2.0</td>\n",
       "      <td>2.0</td>\n",
       "      <td>0.0</td>\n",
       "      <td>0.0</td>\n",
       "      <td>1.0</td>\n",
       "      <td>0.0</td>\n",
       "      <td>5.0</td>\n",
       "    </tr>\n",
       "    <tr>\n",
       "      <th>5343</th>\n",
       "      <td>ffba1e9f8324e72e23a6a1156fd53c80e0ebce31</td>\n",
       "      <td>2.0</td>\n",
       "      <td>0.0</td>\n",
       "      <td>0.0</td>\n",
       "      <td>0.0</td>\n",
       "      <td>0.0</td>\n",
       "      <td>2.0</td>\n",
       "      <td>4.0</td>\n",
       "    </tr>\n",
       "    <tr>\n",
       "      <th>5344</th>\n",
       "      <td>ffc026d06b2cafcc77bb426a6a4e7d377afb97aa</td>\n",
       "      <td>3.0</td>\n",
       "      <td>0.0</td>\n",
       "      <td>3.0</td>\n",
       "      <td>0.0</td>\n",
       "      <td>0.0</td>\n",
       "      <td>1.0</td>\n",
       "      <td>7.0</td>\n",
       "    </tr>\n",
       "    <tr>\n",
       "      <th>5345</th>\n",
       "      <td>ffd4d23df57011e028eb1b4f63400828866f4d36</td>\n",
       "      <td>3.0</td>\n",
       "      <td>0.0</td>\n",
       "      <td>4.0</td>\n",
       "      <td>0.0</td>\n",
       "      <td>9.0</td>\n",
       "      <td>1.0</td>\n",
       "      <td>17.0</td>\n",
       "    </tr>\n",
       "  </tbody>\n",
       "</table>\n",
       "<p>5346 rows × 8 columns</p>\n",
       "</div>"
      ],
      "text/plain": [
       "developerdecision                                       sha  Combination  \\\n",
       "0                  000bd2ff6db0144b479badddb92eb5c10a4a2111          1.0   \n",
       "1                  00118d748e062fcc908d6b9e5cb8de08106220f9          4.0   \n",
       "2                  002461f073aeb9170d6ae59fd80620d132999bf8          2.0   \n",
       "3                  0034d7ee70a180b8b8d1f80ec582f66c4d482181          1.0   \n",
       "4                  004360fb8e5073a39c493f4e2119e4a623f46b94          2.0   \n",
       "...                                                     ...          ...   \n",
       "5341               ffb66ec254d8266c03cf37b2937fe0570a3e8e24          3.0   \n",
       "5342               ffb8227c45c29acd4d3c5d4c7b45c4431dc586e8          2.0   \n",
       "5343               ffba1e9f8324e72e23a6a1156fd53c80e0ebce31          2.0   \n",
       "5344               ffc026d06b2cafcc77bb426a6a4e7d377afb97aa          3.0   \n",
       "5345               ffd4d23df57011e028eb1b4f63400828866f4d36          3.0   \n",
       "\n",
       "developerdecision  Concatenation  Manual  None  Version 1  Version 2  chunks  \n",
       "0                            0.0     3.0   0.0        0.0        1.0     5.0  \n",
       "1                            0.0     0.0   0.0        9.0        1.0    14.0  \n",
       "2                            0.0     0.0   0.0        0.0        0.0     2.0  \n",
       "3                            0.0     0.0   0.0        0.0        0.0     1.0  \n",
       "4                            2.0     2.0   0.0        0.0        3.0     9.0  \n",
       "...                          ...     ...   ...        ...        ...     ...  \n",
       "5341                         0.0     0.0   0.0        0.0        0.0     3.0  \n",
       "5342                         2.0     0.0   0.0        1.0        0.0     5.0  \n",
       "5343                         0.0     0.0   0.0        0.0        2.0     4.0  \n",
       "5344                         0.0     3.0   0.0        0.0        1.0     7.0  \n",
       "5345                         0.0     4.0   0.0        9.0        1.0    17.0  \n",
       "\n",
       "[5346 rows x 8 columns]"
      ]
     },
     "execution_count": 14,
     "metadata": {},
     "output_type": "execute_result"
    }
   ],
   "source": [
    "merges_hybrid = merges_hybrid.groupby('sha')['developerdecision'].value_counts().unstack().reset_index()\n",
    "merges_hybrid = merges_hybrid.fillna(0)\n",
    "merges_hybrid['chunks'] = merges_hybrid['Combination'] + merges_hybrid['Concatenation'] + merges_hybrid['Manual'] + merges_hybrid['None'] + merges_hybrid['Version 1'] + merges_hybrid['Version 2']\n",
    "merges_hybrid"
   ]
  },
  {
   "cell_type": "code",
   "execution_count": 15,
   "metadata": {},
   "outputs": [
    {
     "data": {
      "text/html": [
       "<div>\n",
       "<style scoped>\n",
       "    .dataframe tbody tr th:only-of-type {\n",
       "        vertical-align: middle;\n",
       "    }\n",
       "\n",
       "    .dataframe tbody tr th {\n",
       "        vertical-align: top;\n",
       "    }\n",
       "\n",
       "    .dataframe thead th {\n",
       "        text-align: right;\n",
       "    }\n",
       "</style>\n",
       "<table border=\"1\" class=\"dataframe\">\n",
       "  <thead>\n",
       "    <tr style=\"text-align: right;\">\n",
       "      <th>developerdecision</th>\n",
       "      <th>sha</th>\n",
       "      <th>Combination</th>\n",
       "      <th>Concatenation</th>\n",
       "      <th>Manual</th>\n",
       "      <th>None</th>\n",
       "      <th>Version 1</th>\n",
       "      <th>Version 2</th>\n",
       "      <th>chunks</th>\n",
       "    </tr>\n",
       "  </thead>\n",
       "  <tbody>\n",
       "    <tr>\n",
       "      <th>0</th>\n",
       "      <td>000bd2ff6db0144b479badddb92eb5c10a4a2111</td>\n",
       "      <td>1.0</td>\n",
       "      <td>0.0</td>\n",
       "      <td>3.0</td>\n",
       "      <td>0.0</td>\n",
       "      <td>0.0</td>\n",
       "      <td>1.0</td>\n",
       "      <td>5</td>\n",
       "    </tr>\n",
       "    <tr>\n",
       "      <th>1</th>\n",
       "      <td>00118d748e062fcc908d6b9e5cb8de08106220f9</td>\n",
       "      <td>4.0</td>\n",
       "      <td>0.0</td>\n",
       "      <td>0.0</td>\n",
       "      <td>0.0</td>\n",
       "      <td>9.0</td>\n",
       "      <td>1.0</td>\n",
       "      <td>14</td>\n",
       "    </tr>\n",
       "    <tr>\n",
       "      <th>2</th>\n",
       "      <td>002461f073aeb9170d6ae59fd80620d132999bf8</td>\n",
       "      <td>2.0</td>\n",
       "      <td>0.0</td>\n",
       "      <td>0.0</td>\n",
       "      <td>0.0</td>\n",
       "      <td>0.0</td>\n",
       "      <td>0.0</td>\n",
       "      <td>2</td>\n",
       "    </tr>\n",
       "    <tr>\n",
       "      <th>3</th>\n",
       "      <td>0034d7ee70a180b8b8d1f80ec582f66c4d482181</td>\n",
       "      <td>1.0</td>\n",
       "      <td>0.0</td>\n",
       "      <td>0.0</td>\n",
       "      <td>0.0</td>\n",
       "      <td>0.0</td>\n",
       "      <td>0.0</td>\n",
       "      <td>1</td>\n",
       "    </tr>\n",
       "    <tr>\n",
       "      <th>4</th>\n",
       "      <td>004360fb8e5073a39c493f4e2119e4a623f46b94</td>\n",
       "      <td>2.0</td>\n",
       "      <td>2.0</td>\n",
       "      <td>2.0</td>\n",
       "      <td>0.0</td>\n",
       "      <td>0.0</td>\n",
       "      <td>3.0</td>\n",
       "      <td>9</td>\n",
       "    </tr>\n",
       "  </tbody>\n",
       "</table>\n",
       "</div>"
      ],
      "text/plain": [
       "developerdecision                                       sha  Combination  \\\n",
       "0                  000bd2ff6db0144b479badddb92eb5c10a4a2111          1.0   \n",
       "1                  00118d748e062fcc908d6b9e5cb8de08106220f9          4.0   \n",
       "2                  002461f073aeb9170d6ae59fd80620d132999bf8          2.0   \n",
       "3                  0034d7ee70a180b8b8d1f80ec582f66c4d482181          1.0   \n",
       "4                  004360fb8e5073a39c493f4e2119e4a623f46b94          2.0   \n",
       "\n",
       "developerdecision  Concatenation  Manual  None  Version 1  Version 2  chunks  \n",
       "0                            0.0     3.0   0.0        0.0        1.0       5  \n",
       "1                            0.0     0.0   0.0        9.0        1.0      14  \n",
       "2                            0.0     0.0   0.0        0.0        0.0       2  \n",
       "3                            0.0     0.0   0.0        0.0        0.0       1  \n",
       "4                            2.0     2.0   0.0        0.0        3.0       9  "
      ]
     },
     "execution_count": 15,
     "metadata": {},
     "output_type": "execute_result"
    }
   ],
   "source": [
    "merges_hybrid['chunks'] = merges_hybrid['chunks'].astype(int)\n",
    "merges_hybrid.head()"
   ]
  },
  {
   "cell_type": "code",
   "execution_count": 16,
   "metadata": {},
   "outputs": [
    {
     "data": {
      "text/plain": [
       "count    5346.000000\n",
       "mean        9.742424\n",
       "std        36.114495\n",
       "min         1.000000\n",
       "25%         2.000000\n",
       "50%         3.000000\n",
       "75%         8.000000\n",
       "max      1033.000000\n",
       "Name: chunks, dtype: float64"
      ]
     },
     "execution_count": 16,
     "metadata": {},
     "output_type": "execute_result"
    }
   ],
   "source": [
    "merges_hybrid['chunks'].describe()"
   ]
  },
  {
   "cell_type": "code",
   "execution_count": 17,
   "metadata": {},
   "outputs": [
    {
     "data": {
      "text/plain": [
       "1     0.235877\n",
       "2     0.170969\n",
       "3     0.098391\n",
       "4     0.082866\n",
       "5     0.057239\n",
       "6     0.054620\n",
       "7     0.037411\n",
       "8     0.032735\n",
       "9     0.022634\n",
       "10    0.020763\n",
       "11    0.018331\n",
       "12    0.016648\n",
       "13    0.013281\n",
       "14    0.010288\n",
       "18    0.009166\n",
       "16    0.008792\n",
       "17    0.007669\n",
       "15    0.007669\n",
       "20    0.005425\n",
       "28    0.005238\n",
       "Name: chunks, dtype: float64"
      ]
     },
     "execution_count": 17,
     "metadata": {},
     "output_type": "execute_result"
    }
   ],
   "source": [
    "merges_hybrid['chunks'].value_counts(normalize=True).head(20)"
   ]
  },
  {
   "cell_type": "code",
   "execution_count": 18,
   "metadata": {},
   "outputs": [
    {
     "data": {
      "text/html": [
       "<div>\n",
       "<style scoped>\n",
       "    .dataframe tbody tr th:only-of-type {\n",
       "        vertical-align: middle;\n",
       "    }\n",
       "\n",
       "    .dataframe tbody tr th {\n",
       "        vertical-align: top;\n",
       "    }\n",
       "\n",
       "    .dataframe thead th {\n",
       "        text-align: right;\n",
       "    }\n",
       "</style>\n",
       "<table border=\"1\" class=\"dataframe\">\n",
       "  <thead>\n",
       "    <tr style=\"text-align: right;\">\n",
       "      <th>developerdecision</th>\n",
       "      <th>sha</th>\n",
       "      <th>Combination</th>\n",
       "      <th>Concatenation</th>\n",
       "      <th>Manual</th>\n",
       "      <th>None</th>\n",
       "      <th>Version 1</th>\n",
       "      <th>Version 2</th>\n",
       "      <th>chunks</th>\n",
       "    </tr>\n",
       "  </thead>\n",
       "  <tbody>\n",
       "    <tr>\n",
       "      <th>18</th>\n",
       "      <td>011d4502794897a5da3e78b6b165884d79cd503b</td>\n",
       "      <td>7.0</td>\n",
       "      <td>0.0</td>\n",
       "      <td>17.0</td>\n",
       "      <td>1.0</td>\n",
       "      <td>6.0</td>\n",
       "      <td>3.0</td>\n",
       "      <td>34</td>\n",
       "    </tr>\n",
       "    <tr>\n",
       "      <th>23</th>\n",
       "      <td>01851eda60975dd18fba3ca9951b549dc3401157</td>\n",
       "      <td>2.0</td>\n",
       "      <td>2.0</td>\n",
       "      <td>15.0</td>\n",
       "      <td>0.0</td>\n",
       "      <td>2.0</td>\n",
       "      <td>9.0</td>\n",
       "      <td>30</td>\n",
       "    </tr>\n",
       "    <tr>\n",
       "      <th>66</th>\n",
       "      <td>038fa17ad33aeba276db84ab170504fce884c1e7</td>\n",
       "      <td>4.0</td>\n",
       "      <td>0.0</td>\n",
       "      <td>26.0</td>\n",
       "      <td>0.0</td>\n",
       "      <td>12.0</td>\n",
       "      <td>0.0</td>\n",
       "      <td>42</td>\n",
       "    </tr>\n",
       "    <tr>\n",
       "      <th>68</th>\n",
       "      <td>039457bd5371660963aa992763ebd38cce3b0b08</td>\n",
       "      <td>4.0</td>\n",
       "      <td>4.0</td>\n",
       "      <td>16.0</td>\n",
       "      <td>0.0</td>\n",
       "      <td>2.0</td>\n",
       "      <td>3.0</td>\n",
       "      <td>29</td>\n",
       "    </tr>\n",
       "    <tr>\n",
       "      <th>75</th>\n",
       "      <td>03f3cb083d708d4d3226b80ed42c9d2876a56edc</td>\n",
       "      <td>6.0</td>\n",
       "      <td>0.0</td>\n",
       "      <td>6.0</td>\n",
       "      <td>0.0</td>\n",
       "      <td>54.0</td>\n",
       "      <td>0.0</td>\n",
       "      <td>66</td>\n",
       "    </tr>\n",
       "    <tr>\n",
       "      <th>...</th>\n",
       "      <td>...</td>\n",
       "      <td>...</td>\n",
       "      <td>...</td>\n",
       "      <td>...</td>\n",
       "      <td>...</td>\n",
       "      <td>...</td>\n",
       "      <td>...</td>\n",
       "      <td>...</td>\n",
       "    </tr>\n",
       "    <tr>\n",
       "      <th>5269</th>\n",
       "      <td>fd34be9169490ef46e18e15ce77cfc18d472ec56</td>\n",
       "      <td>5.0</td>\n",
       "      <td>2.0</td>\n",
       "      <td>5.0</td>\n",
       "      <td>1.0</td>\n",
       "      <td>2.0</td>\n",
       "      <td>14.0</td>\n",
       "      <td>29</td>\n",
       "    </tr>\n",
       "    <tr>\n",
       "      <th>5272</th>\n",
       "      <td>fd3dab4ea8786c72c6b29cf1c94d4d25132f8146</td>\n",
       "      <td>6.0</td>\n",
       "      <td>0.0</td>\n",
       "      <td>0.0</td>\n",
       "      <td>0.0</td>\n",
       "      <td>16.0</td>\n",
       "      <td>9.0</td>\n",
       "      <td>31</td>\n",
       "    </tr>\n",
       "    <tr>\n",
       "      <th>5281</th>\n",
       "      <td>fd7447e9820da5e09c7cb90c4b57ef0e238cc9af</td>\n",
       "      <td>2.0</td>\n",
       "      <td>0.0</td>\n",
       "      <td>2.0</td>\n",
       "      <td>0.0</td>\n",
       "      <td>7.0</td>\n",
       "      <td>21.0</td>\n",
       "      <td>32</td>\n",
       "    </tr>\n",
       "    <tr>\n",
       "      <th>5314</th>\n",
       "      <td>feb7c8bbeea4d54ab66e42f2e363a9c11f5cddc4</td>\n",
       "      <td>2.0</td>\n",
       "      <td>0.0</td>\n",
       "      <td>11.0</td>\n",
       "      <td>0.0</td>\n",
       "      <td>22.0</td>\n",
       "      <td>3.0</td>\n",
       "      <td>38</td>\n",
       "    </tr>\n",
       "    <tr>\n",
       "      <th>5315</th>\n",
       "      <td>feb9739bf77858e5c2a7bd7f7e3c52672b3921d2</td>\n",
       "      <td>3.0</td>\n",
       "      <td>2.0</td>\n",
       "      <td>20.0</td>\n",
       "      <td>0.0</td>\n",
       "      <td>0.0</td>\n",
       "      <td>0.0</td>\n",
       "      <td>25</td>\n",
       "    </tr>\n",
       "  </tbody>\n",
       "</table>\n",
       "<p>555 rows × 8 columns</p>\n",
       "</div>"
      ],
      "text/plain": [
       "developerdecision                                       sha  Combination  \\\n",
       "18                 011d4502794897a5da3e78b6b165884d79cd503b          7.0   \n",
       "23                 01851eda60975dd18fba3ca9951b549dc3401157          2.0   \n",
       "66                 038fa17ad33aeba276db84ab170504fce884c1e7          4.0   \n",
       "68                 039457bd5371660963aa992763ebd38cce3b0b08          4.0   \n",
       "75                 03f3cb083d708d4d3226b80ed42c9d2876a56edc          6.0   \n",
       "...                                                     ...          ...   \n",
       "5269               fd34be9169490ef46e18e15ce77cfc18d472ec56          5.0   \n",
       "5272               fd3dab4ea8786c72c6b29cf1c94d4d25132f8146          6.0   \n",
       "5281               fd7447e9820da5e09c7cb90c4b57ef0e238cc9af          2.0   \n",
       "5314               feb7c8bbeea4d54ab66e42f2e363a9c11f5cddc4          2.0   \n",
       "5315               feb9739bf77858e5c2a7bd7f7e3c52672b3921d2          3.0   \n",
       "\n",
       "developerdecision  Concatenation  Manual  None  Version 1  Version 2  chunks  \n",
       "18                           0.0    17.0   1.0        6.0        3.0      34  \n",
       "23                           2.0    15.0   0.0        2.0        9.0      30  \n",
       "66                           0.0    26.0   0.0       12.0        0.0      42  \n",
       "68                           4.0    16.0   0.0        2.0        3.0      29  \n",
       "75                           0.0     6.0   0.0       54.0        0.0      66  \n",
       "...                          ...     ...   ...        ...        ...     ...  \n",
       "5269                         2.0     5.0   1.0        2.0       14.0      29  \n",
       "5272                         0.0     0.0   0.0       16.0        9.0      31  \n",
       "5281                         0.0     2.0   0.0        7.0       21.0      32  \n",
       "5314                         0.0    11.0   0.0       22.0        3.0      38  \n",
       "5315                         2.0    20.0   0.0        0.0        0.0      25  \n",
       "\n",
       "[555 rows x 8 columns]"
      ]
     },
     "execution_count": 18,
     "metadata": {},
     "output_type": "execute_result"
    }
   ],
   "source": [
    "merges_hybrid[merges_hybrid['chunks']>= 18]"
   ]
  },
  {
   "cell_type": "code",
   "execution_count": 19,
   "metadata": {},
   "outputs": [
    {
     "data": {
      "image/png": "[encoded data removed]",
      "text/plain": [
       "<Figure size 640x480 with 1 Axes>"
      ]
     },
     "metadata": {},
     "output_type": "display_data"
    }
   ],
   "source": [
    "merges_hybrid.boxplot('chunks', showfliers=False)\n",
    "plt.show()"
   ]
  },
  {
   "cell_type": "code",
   "execution_count": 20,
   "metadata": {
    "scrolled": false
   },
   "outputs": [
    {
     "data": {
      "image/png": "[encoded data removed]",
      "text/plain": [
       "<Figure size 1000x400 with 1 Axes>"
      ]
     },
     "metadata": {},
     "output_type": "display_data"
    }
   ],
   "source": [
    "data = []\n",
    "max_chunks = merges_hybrid['chunks'].max()\n",
    "more_than_18 = 0\n",
    "for chunks_amount in range(1, 18):\n",
    "    merges_count = len(merges_hybrid[merges_hybrid['chunks'] == chunks_amount])\n",
    "    merges_combination_count = len(merges_hybrid[(merges_hybrid['chunks'] == chunks_amount) & (merges_hybrid['Combination'] == merges_hybrid['chunks'])])\n",
    "    merges_not_combination_count = merges_count - merges_combination_count\n",
    "    if merges_count > 0:\n",
    "        data.append([chunks_amount, merges_combination_count, merges_not_combination_count])\n",
    "\n",
    "merges_count = len(merges_hybrid[merges_hybrid['chunks'] >= 18])\n",
    "merges_combination_count = len(merges_hybrid[(merges_hybrid['chunks'] >= 18) & (merges_hybrid['Combination'] == merges_hybrid['chunks'])])\n",
    "merges_not_combination_count = merges_count - merges_combination_count\n",
    "data.append(['18+', merges_combination_count, merges_not_combination_count])\n",
    "\n",
    "df_plot = pd.DataFrame(data, columns=['chunks', 'Combination', 'Other resolutions'])\n",
    "fig, ax = plt.subplots(1, 1, figsize=(10, 4))\n",
    "df_plot.plot(kind='bar', x='chunks', stacked=True, ax=ax, legend=False, zorder=1, color=colors)\n",
    "ax.set_xlabel(\"# of chunks\", fontsize=14)\n",
    "ax.set_ylabel(\"# of conflicting merges\", fontsize=14)\n",
    "ax.tick_params(axis=\"x\", labelsize=14)\n",
    "ax.tick_params(axis=\"y\", labelsize=14)\n",
    "plt.legend(loc='upper right')\n",
    "ax.grid(zorder=-1)\n",
    "plt.show()\n",
    "fig.savefig('figures/rq1_chunks_vs_merges.png', dpi=300, bbox_inches = \"tight\")"
   ]
  },
  {
   "cell_type": "markdown",
   "metadata": {},
   "source": [
    "### Chunks' size"
   ]
  },
  {
   "cell_type": "code",
   "execution_count": 21,
   "metadata": {},
   "outputs": [
    {
     "data": {
      "text/html": [
       "<div>\n",
       "<style scoped>\n",
       "    .dataframe tbody tr th:only-of-type {\n",
       "        vertical-align: middle;\n",
       "    }\n",
       "\n",
       "    .dataframe tbody tr th {\n",
       "        vertical-align: top;\n",
       "    }\n",
       "\n",
       "    .dataframe thead th {\n",
       "        text-align: right;\n",
       "    }\n",
       "</style>\n",
       "<table border=\"1\" class=\"dataframe\">\n",
       "  <thead>\n",
       "    <tr style=\"text-align: right;\">\n",
       "      <th></th>\n",
       "      <th>chunk_size</th>\n",
       "      <th>v1_size</th>\n",
       "      <th>v2_size</th>\n",
       "    </tr>\n",
       "  </thead>\n",
       "  <tbody>\n",
       "    <tr>\n",
       "      <th>count</th>\n",
       "      <td>10177.000000</td>\n",
       "      <td>10177.00000</td>\n",
       "      <td>10177.000000</td>\n",
       "    </tr>\n",
       "    <tr>\n",
       "      <th>mean</th>\n",
       "      <td>13.760145</td>\n",
       "      <td>6.79493</td>\n",
       "      <td>6.965216</td>\n",
       "    </tr>\n",
       "    <tr>\n",
       "      <th>std</th>\n",
       "      <td>60.379367</td>\n",
       "      <td>30.51060</td>\n",
       "      <td>33.251309</td>\n",
       "    </tr>\n",
       "    <tr>\n",
       "      <th>min</th>\n",
       "      <td>2.000000</td>\n",
       "      <td>0.00000</td>\n",
       "      <td>0.000000</td>\n",
       "    </tr>\n",
       "    <tr>\n",
       "      <th>25%</th>\n",
       "      <td>4.000000</td>\n",
       "      <td>2.00000</td>\n",
       "      <td>2.000000</td>\n",
       "    </tr>\n",
       "    <tr>\n",
       "      <th>50%</th>\n",
       "      <td>6.000000</td>\n",
       "      <td>2.00000</td>\n",
       "      <td>3.000000</td>\n",
       "    </tr>\n",
       "    <tr>\n",
       "      <th>75%</th>\n",
       "      <td>11.000000</td>\n",
       "      <td>5.00000</td>\n",
       "      <td>5.000000</td>\n",
       "    </tr>\n",
       "    <tr>\n",
       "      <th>max</th>\n",
       "      <td>2545.000000</td>\n",
       "      <td>1352.00000</td>\n",
       "      <td>1402.000000</td>\n",
       "    </tr>\n",
       "  </tbody>\n",
       "</table>\n",
       "</div>"
      ],
      "text/plain": [
       "         chunk_size      v1_size       v2_size\n",
       "count  10177.000000  10177.00000  10177.000000\n",
       "mean      13.760145      6.79493      6.965216\n",
       "std       60.379367     30.51060     33.251309\n",
       "min        2.000000      0.00000      0.000000\n",
       "25%        4.000000      2.00000      2.000000\n",
       "50%        6.000000      2.00000      3.000000\n",
       "75%       11.000000      5.00000      5.000000\n",
       "max     2545.000000   1352.00000   1402.000000"
      ]
     },
     "execution_count": 21,
     "metadata": {},
     "output_type": "execute_result"
    }
   ],
   "source": [
    "df[['chunk_size', 'v1_size', 'v2_size']].describe()"
   ]
  },
  {
   "cell_type": "code",
   "execution_count": 22,
   "metadata": {},
   "outputs": [
    {
     "data": {
      "image/png": "[encoded data removed]",
      "text/plain": [
       "<Figure size 500x400 with 1 Axes>"
      ]
     },
     "metadata": {},
     "output_type": "display_data"
    }
   ],
   "source": [
    "fig, ax = plt.subplots(1, 1, figsize=(5, 4))\n",
    "df.boxplot(['chunk_size'], showfliers=False, ax=ax, color='k', medianprops=dict(linestyle='--', linewidth=1.5, color='k'))\n",
    "ax.tick_params(axis=\"x\", labelsize=12)\n",
    "ax.tick_params(axis=\"y\", labelsize=12)\n",
    "ax.set_xticklabels(['Chunk size'])\n",
    "plt.show()\n",
    "fig.savefig('figures/chunk_size_distribution.png', dpi=300, bbox_inches = \"tight\")"
   ]
  },
  {
   "cell_type": "code",
   "execution_count": 23,
   "metadata": {},
   "outputs": [
    {
     "data": {
      "image/png": "[encoded data removed]",
      "text/plain": [
       "<Figure size 500x300 with 1 Axes>"
      ]
     },
     "metadata": {},
     "output_type": "display_data"
    }
   ],
   "source": [
    "fig, ax = plt.subplots(1, 1, figsize=(5, 3))\n",
    "df.boxplot(['v1_size', 'v2_size'], showfliers=False, ax = ax, color = 'k', medianprops=dict(linestyle='--', linewidth=1.5, color='k'))\n",
    "ax.tick_params(axis=\"x\", labelsize=12)\n",
    "ax.tick_params(axis=\"y\", labelsize=12)\n",
    "ax.set_xticklabels(['$v_{1}$ size', '$v_{2}$ size'])\n",
    "plt.show()\n",
    "fig.savefig('figures/v1_v2_size.png', dpi=300, bbox_inches = \"tight\")"
   ]
  },
  {
   "cell_type": "code",
   "execution_count": 24,
   "metadata": {},
   "outputs": [
    {
     "data": {
      "text/plain": [
       "2     0.288887\n",
       "1     0.142478\n",
       "3     0.133536\n",
       "0     0.076447\n",
       "4     0.073401\n",
       "5     0.050506\n",
       "6     0.039599\n",
       "7     0.028299\n",
       "8     0.022600\n",
       "9     0.017687\n",
       "10    0.014641\n",
       "11    0.011497\n",
       "12    0.010416\n",
       "13    0.008647\n",
       "16    0.006878\n",
       "15    0.006682\n",
       "14    0.006583\n",
       "18    0.004520\n",
       "17    0.004422\n",
       "19    0.003832\n",
       "20    0.003439\n",
       "22    0.002457\n",
       "21    0.002457\n",
       "25    0.001965\n",
       "23    0.001965\n",
       "24    0.001769\n",
       "27    0.001769\n",
       "26    0.001572\n",
       "30    0.001376\n",
       "29    0.001277\n",
       "Name: v1_size, dtype: float64"
      ]
     },
     "execution_count": 24,
     "metadata": {},
     "output_type": "execute_result"
    }
   ],
   "source": [
    "df['v1_size'].value_counts(normalize=True).head(30)"
   ]
  },
  {
   "cell_type": "code",
   "execution_count": 25,
   "metadata": {},
   "outputs": [
    {
     "data": {
      "text/plain": [
       "2     0.293407\n",
       "3     0.132554\n",
       "1     0.125282\n",
       "4     0.076643\n",
       "0     0.073892\n",
       "5     0.052766\n",
       "6     0.038813\n",
       "7     0.032033\n",
       "8     0.024958\n",
       "9     0.021716\n",
       "10    0.014248\n",
       "11    0.013167\n",
       "12    0.011988\n",
       "14    0.008156\n",
       "13    0.007861\n",
       "15    0.006977\n",
       "16    0.005208\n",
       "18    0.004815\n",
       "17    0.004618\n",
       "19    0.003930\n",
       "20    0.003636\n",
       "21    0.002653\n",
       "27    0.002555\n",
       "26    0.002162\n",
       "22    0.002063\n",
       "28    0.001670\n",
       "23    0.001670\n",
       "24    0.001670\n",
       "25    0.001572\n",
       "30    0.001376\n",
       "Name: v2_size, dtype: float64"
      ]
     },
     "execution_count": 25,
     "metadata": {},
     "output_type": "execute_result"
    }
   ],
   "source": [
    "df['v2_size'].value_counts(normalize=True).head(30)"
   ]
  },
  {
   "cell_type": "markdown",
   "metadata": {},
   "source": [
    "### Resolution size"
   ]
  },
  {
   "cell_type": "code",
   "execution_count": 26,
   "metadata": {},
   "outputs": [
    {
     "data": {
      "text/plain": [
       "count    10177.000000\n",
       "mean         8.516164\n",
       "std         36.407157\n",
       "min          1.000000\n",
       "25%          2.000000\n",
       "50%          3.000000\n",
       "75%          7.000000\n",
       "max       1557.000000\n",
       "Name: resolution_size, dtype: float64"
      ]
     },
     "execution_count": 26,
     "metadata": {},
     "output_type": "execute_result"
    }
   ],
   "source": [
    "df['resolution_size'].describe()"
   ]
  },
  {
   "cell_type": "code",
   "execution_count": 27,
   "metadata": {},
   "outputs": [
    {
     "data": {
      "image/png": "[encoded data removed]",
      "text/plain": [
       "<Figure size 500x400 with 1 Axes>"
      ]
     },
     "metadata": {},
     "output_type": "display_data"
    }
   ],
   "source": [
    "fig, ax = plt.subplots(1, 1, figsize=(5, 4))\n",
    "df.boxplot(['resolution_size'], showfliers=False, ax=ax, color = 'k', medianprops=dict(linestyle='--', linewidth=1.5, color='k'))\n",
    "ax.tick_params(axis=\"x\", labelsize=12)\n",
    "ax.tick_params(axis=\"y\", labelsize=12)\n",
    "ax.set_xticklabels(['Resolution size'])\n",
    "plt.show()\n",
    "fig.savefig('figures/resolution_size.png', dpi=300, bbox_inches = \"tight\")"
   ]
  },
  {
   "cell_type": "markdown",
   "metadata": {},
   "source": [
    "### Number of files per failed merge"
   ]
  },
  {
   "cell_type": "code",
   "execution_count": 28,
   "metadata": {},
   "outputs": [
    {
     "data": {
      "text/html": [
       "<div>\n",
       "<style scoped>\n",
       "    .dataframe tbody tr th:only-of-type {\n",
       "        vertical-align: middle;\n",
       "    }\n",
       "\n",
       "    .dataframe tbody tr th {\n",
       "        vertical-align: top;\n",
       "    }\n",
       "\n",
       "    .dataframe thead th {\n",
       "        text-align: right;\n",
       "    }\n",
       "</style>\n",
       "<table border=\"1\" class=\"dataframe\">\n",
       "  <thead>\n",
       "    <tr style=\"text-align: right;\">\n",
       "      <th>developerdecision</th>\n",
       "      <th>file_id</th>\n",
       "      <th>Combination</th>\n",
       "      <th>Concatenation</th>\n",
       "      <th>Manual</th>\n",
       "      <th>None</th>\n",
       "      <th>Version 1</th>\n",
       "      <th>Version 2</th>\n",
       "      <th>chunks</th>\n",
       "    </tr>\n",
       "  </thead>\n",
       "  <tbody>\n",
       "    <tr>\n",
       "      <th>0</th>\n",
       "      <td>341965</td>\n",
       "      <td>1.0</td>\n",
       "      <td>0.0</td>\n",
       "      <td>0.0</td>\n",
       "      <td>0.0</td>\n",
       "      <td>0.0</td>\n",
       "      <td>0.0</td>\n",
       "      <td>1</td>\n",
       "    </tr>\n",
       "    <tr>\n",
       "      <th>1</th>\n",
       "      <td>342076</td>\n",
       "      <td>1.0</td>\n",
       "      <td>0.0</td>\n",
       "      <td>1.0</td>\n",
       "      <td>0.0</td>\n",
       "      <td>2.0</td>\n",
       "      <td>0.0</td>\n",
       "      <td>4</td>\n",
       "    </tr>\n",
       "    <tr>\n",
       "      <th>2</th>\n",
       "      <td>342083</td>\n",
       "      <td>1.0</td>\n",
       "      <td>0.0</td>\n",
       "      <td>0.0</td>\n",
       "      <td>0.0</td>\n",
       "      <td>0.0</td>\n",
       "      <td>0.0</td>\n",
       "      <td>1</td>\n",
       "    </tr>\n",
       "    <tr>\n",
       "      <th>3</th>\n",
       "      <td>342100</td>\n",
       "      <td>1.0</td>\n",
       "      <td>1.0</td>\n",
       "      <td>2.0</td>\n",
       "      <td>0.0</td>\n",
       "      <td>0.0</td>\n",
       "      <td>0.0</td>\n",
       "      <td>4</td>\n",
       "    </tr>\n",
       "    <tr>\n",
       "      <th>4</th>\n",
       "      <td>342118</td>\n",
       "      <td>1.0</td>\n",
       "      <td>0.0</td>\n",
       "      <td>0.0</td>\n",
       "      <td>0.0</td>\n",
       "      <td>0.0</td>\n",
       "      <td>0.0</td>\n",
       "      <td>1</td>\n",
       "    </tr>\n",
       "  </tbody>\n",
       "</table>\n",
       "</div>"
      ],
      "text/plain": [
       "developerdecision  file_id  Combination  Concatenation  Manual  None  \\\n",
       "0                   341965          1.0            0.0     0.0   0.0   \n",
       "1                   342076          1.0            0.0     1.0   0.0   \n",
       "2                   342083          1.0            0.0     0.0   0.0   \n",
       "3                   342100          1.0            1.0     2.0   0.0   \n",
       "4                   342118          1.0            0.0     0.0   0.0   \n",
       "\n",
       "developerdecision  Version 1  Version 2  chunks  \n",
       "0                        0.0        0.0       1  \n",
       "1                        2.0        0.0       4  \n",
       "2                        0.0        0.0       1  \n",
       "3                        0.0        0.0       4  \n",
       "4                        0.0        0.0       1  "
      ]
     },
     "execution_count": 28,
     "metadata": {},
     "output_type": "execute_result"
    }
   ],
   "source": [
    "hybrid_files['chunks'] = hybrid_files['chunks'].astype(int)\n",
    "hybrid_files.head()"
   ]
  },
  {
   "cell_type": "code",
   "execution_count": 29,
   "metadata": {},
   "outputs": [
    {
     "data": {
      "text/plain": [
       "20777"
      ]
     },
     "execution_count": 29,
     "metadata": {},
     "output_type": "execute_result"
    }
   ],
   "source": [
    "hybrid_files['chunks'].sum()"
   ]
  },
  {
   "cell_type": "code",
   "execution_count": 30,
   "metadata": {},
   "outputs": [
    {
     "data": {
      "text/plain": [
       "count    8347.000000\n",
       "mean        2.489158\n",
       "std         5.541251\n",
       "min         1.000000\n",
       "25%         1.000000\n",
       "50%         1.000000\n",
       "75%         2.000000\n",
       "max       258.000000\n",
       "Name: chunks, dtype: float64"
      ]
     },
     "execution_count": 30,
     "metadata": {},
     "output_type": "execute_result"
    }
   ],
   "source": [
    "hybrid_files['chunks'].describe()"
   ]
  },
  {
   "cell_type": "code",
   "execution_count": 31,
   "metadata": {},
   "outputs": [
    {
     "data": {
      "text/plain": [
       "1     0.533126\n",
       "2     0.220438\n",
       "3     0.094405\n",
       "4     0.050317\n",
       "5     0.031029\n",
       "6     0.017252\n",
       "7     0.014376\n",
       "8     0.006709\n",
       "9     0.006230\n",
       "10    0.004553\n",
       "12    0.002755\n",
       "13    0.002755\n",
       "11    0.002755\n",
       "15    0.001318\n",
       "14    0.001318\n",
       "16    0.000958\n",
       "21    0.000958\n",
       "18    0.000958\n",
       "19    0.000839\n",
       "22    0.000719\n",
       "Name: chunks, dtype: float64"
      ]
     },
     "execution_count": 31,
     "metadata": {},
     "output_type": "execute_result"
    }
   ],
   "source": [
    "hybrid_files['chunks'].value_counts(normalize=True).head(20)"
   ]
  },
  {
   "cell_type": "code",
   "execution_count": 32,
   "metadata": {},
   "outputs": [
    {
     "data": {
      "image/png": "[encoded data removed]",
      "text/plain": [
       "<Figure size 640x480 with 1 Axes>"
      ]
     },
     "metadata": {},
     "output_type": "display_data"
    }
   ],
   "source": [
    "hybrid_files.boxplot('chunks', showfliers=False)\n",
    "plt.show()"
   ]
  },
  {
   "cell_type": "code",
   "execution_count": 33,
   "metadata": {},
   "outputs": [
    {
     "data": {
      "image/png": "[encoded data removed]",
      "text/plain": [
       "<Figure size 1000x400 with 1 Axes>"
      ]
     },
     "metadata": {},
     "output_type": "display_data"
    }
   ],
   "source": [
    "data = []\n",
    "max_chunks = hybrid_files['chunks'].max()\n",
    "more_than_18 = 0\n",
    "for chunks_amount in range(1, 10):\n",
    "    merges_count = len(hybrid_files[hybrid_files['chunks'] == chunks_amount])\n",
    "    merges_combination_count = len(hybrid_files[(hybrid_files['chunks'] == chunks_amount) & (hybrid_files['Combination'] == hybrid_files['chunks'])])\n",
    "    merges_not_combination_count = merges_count - merges_combination_count\n",
    "    if merges_count > 0:\n",
    "        data.append([chunks_amount, merges_combination_count, merges_not_combination_count])\n",
    "\n",
    "merges_count = len(hybrid_files[hybrid_files['chunks'] >= 10])     \n",
    "merges_combination_count = len(hybrid_files[(hybrid_files['chunks'] >= 10) & (hybrid_files['Combination'] == hybrid_files['chunks'])])\n",
    "merges_not_combination_count = merges_count - merges_combination_count\n",
    "data.append(['10+', merges_combination_count, merges_not_combination_count])\n",
    "\n",
    "df_plot = pd.DataFrame(data, columns=['chunks','Combination', 'Other resolutions'])\n",
    "fig, ax = plt.subplots(1, 1, figsize=(10, 4))\n",
    "df_plot.plot(kind='bar', x='chunks', stacked=True, ax=ax, legend=False, zorder=1, color = colors)\n",
    "ax.set_xlabel(\"# of chunks\", fontsize=14)\n",
    "ax.set_ylabel(\"# of conflicting files\", fontsize=14)\n",
    "ax.tick_params(axis=\"x\", labelsize=14)\n",
    "ax.tick_params(axis=\"y\", labelsize=14)\n",
    "plt.legend(loc='upper right')\n",
    "ax.grid(zorder=-1)\n",
    "plt.show()\n",
    "fig.savefig('figures/chunks_per_file.png', dpi=300, bbox_inches = \"tight\")"
   ]
  },
  {
   "cell_type": "markdown",
   "metadata": {},
   "source": [
    "#### What is the average size of chunks for failed merges with varying number of chunks?"
   ]
  },
  {
   "cell_type": "code",
   "execution_count": 34,
   "metadata": {},
   "outputs": [
    {
     "data": {
      "text/html": [
       "<div>\n",
       "<style scoped>\n",
       "    .dataframe tbody tr th:only-of-type {\n",
       "        vertical-align: middle;\n",
       "    }\n",
       "\n",
       "    .dataframe tbody tr th {\n",
       "        vertical-align: top;\n",
       "    }\n",
       "\n",
       "    .dataframe thead th {\n",
       "        text-align: right;\n",
       "    }\n",
       "</style>\n",
       "<table border=\"1\" class=\"dataframe\">\n",
       "  <thead>\n",
       "    <tr style=\"text-align: right;\">\n",
       "      <th></th>\n",
       "      <th>chunks</th>\n",
       "      <th>median_size</th>\n",
       "    </tr>\n",
       "  </thead>\n",
       "  <tbody>\n",
       "    <tr>\n",
       "      <th>0</th>\n",
       "      <td>1</td>\n",
       "      <td>6.0</td>\n",
       "    </tr>\n",
       "    <tr>\n",
       "      <th>1</th>\n",
       "      <td>2</td>\n",
       "      <td>5.0</td>\n",
       "    </tr>\n",
       "    <tr>\n",
       "      <th>2</th>\n",
       "      <td>3</td>\n",
       "      <td>5.5</td>\n",
       "    </tr>\n",
       "    <tr>\n",
       "      <th>3</th>\n",
       "      <td>4</td>\n",
       "      <td>6.0</td>\n",
       "    </tr>\n",
       "    <tr>\n",
       "      <th>4</th>\n",
       "      <td>5</td>\n",
       "      <td>5.0</td>\n",
       "    </tr>\n",
       "  </tbody>\n",
       "</table>\n",
       "</div>"
      ],
      "text/plain": [
       "   chunks  median_size\n",
       "0       1          6.0\n",
       "1       2          5.0\n",
       "2       3          5.5\n",
       "3       4          6.0\n",
       "4       5          5.0"
      ]
     },
     "execution_count": 34,
     "metadata": {},
     "output_type": "execute_result"
    }
   ],
   "source": [
    "data = []\n",
    "for chunks_number in range(1, 19):\n",
    "    df_filter = only_combination[only_combination['chunks'] == chunks_number] # selects all merges that have 'chunks_number' chunks\n",
    "    if len(df_filter) > 0:\n",
    "        filtered = df[df['sha'].isin(list(df_filter['sha']))]\n",
    "        median_size = statistics.median(filtered['chunk_size'])\n",
    "        data.append([chunks_number, median_size])\n",
    "\n",
    "df_plot = pd.DataFrame(data, columns=['chunks', 'median_size'])\n",
    "df_plot.head()"
   ]
  },
  {
   "cell_type": "code",
   "execution_count": 35,
   "metadata": {},
   "outputs": [
    {
     "data": {
      "image/png": "[encoded data removed]",
      "text/plain": [
       "<Figure size 1000x400 with 1 Axes>"
      ]
     },
     "metadata": {},
     "output_type": "display_data"
    }
   ],
   "source": [
    "fig, ax = plt.subplots(1, 1, figsize=(10, 4))\n",
    "df_plot.plot(kind='bar', x='chunks', y='median_size', ax=ax, legend=False, color = 'gray')\n",
    "ax.set_xlabel(\"# of chunks per merge\", fontsize=14)\n",
    "ax.set_ylabel(\"Median chunk size (LOC)\", fontsize=14)\n",
    "ax.tick_params(axis=\"x\", labelsize=14)\n",
    "ax.tick_params(axis=\"y\", labelsize=14)\n",
    "ax.grid(zorder=-1)\n",
    "labels = ax.get_xticklabels()\n",
    "labels[-1] = '18+'\n",
    "ax.set_xticklabels(labels)\n",
    "plt.show()\n",
    "fig.savefig('figures/median_size_per_chunks_per_merge.png', dpi=300, bbox_inches = \"tight\")"
   ]
  },
  {
   "cell_type": "code",
   "execution_count": null,
   "metadata": {},
   "outputs": [],
   "source": []
  }
 ],
 "metadata": {
  "kernelspec": {
   "display_name": "Python 3",
   "language": "python",
   "name": "python3"
  },
  "language_info": {
   "codemirror_mode": {
    "name": "ipython",
    "version": 3
   },
   "file_extension": ".py",
   "mimetype": "text/x-python",
   "name": "python",
   "nbconvert_exporter": "python",
   "pygments_lexer": "ipython3",
   "version": "3.7.4"
  }
 },
 "nbformat": 4,
 "nbformat_minor": 2
}
