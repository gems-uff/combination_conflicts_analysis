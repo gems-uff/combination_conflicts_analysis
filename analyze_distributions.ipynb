{
 "cells": [
  {
   "cell_type": "code",
   "execution_count": 33,
   "metadata": {},
   "outputs": [],
   "source": [
    "import pandas as pd\n",
    "import matplotlib.pyplot as plt"
   ]
  },
  {
   "cell_type": "code",
   "execution_count": 2,
   "metadata": {},
   "outputs": [
    {
     "name": "stdout",
     "output_type": "stream",
     "text": [
      "10726\n"
     ]
    },
    {
     "data": {
      "text/html": [
       "<div>\n",
       "<style scoped>\n",
       "    .dataframe tbody tr th:only-of-type {\n",
       "        vertical-align: middle;\n",
       "    }\n",
       "\n",
       "    .dataframe tbody tr th {\n",
       "        vertical-align: top;\n",
       "    }\n",
       "\n",
       "    .dataframe thead th {\n",
       "        text-align: right;\n",
       "    }\n",
       "</style>\n",
       "<table border=\"1\" class=\"dataframe\">\n",
       "  <thead>\n",
       "    <tr style=\"text-align: right;\">\n",
       "      <th></th>\n",
       "      <th>chunk_id</th>\n",
       "      <th>sha</th>\n",
       "      <th>fileSize</th>\n",
       "    </tr>\n",
       "  </thead>\n",
       "  <tbody>\n",
       "    <tr>\n",
       "      <td>0</td>\n",
       "      <td>776662</td>\n",
       "      <td>332b6ed4e324199565e235cd915368f9bc1b43d2</td>\n",
       "      <td>204.0</td>\n",
       "    </tr>\n",
       "    <tr>\n",
       "      <td>1</td>\n",
       "      <td>776782</td>\n",
       "      <td>b9e82842917f541594a67c44639201895caa4b28</td>\n",
       "      <td>251.0</td>\n",
       "    </tr>\n",
       "    <tr>\n",
       "      <td>2</td>\n",
       "      <td>776793</td>\n",
       "      <td>b9e82842917f541594a67c44639201895caa4b28</td>\n",
       "      <td>1001.0</td>\n",
       "    </tr>\n",
       "    <tr>\n",
       "      <td>3</td>\n",
       "      <td>776828</td>\n",
       "      <td>bcd0ef81a0a8b9f64ea644e434d299585b4dbc75</td>\n",
       "      <td>514.0</td>\n",
       "    </tr>\n",
       "    <tr>\n",
       "      <td>4</td>\n",
       "      <td>776863</td>\n",
       "      <td>30c4b21552ad0db4e3ed3fe8dfed3e702945851a</td>\n",
       "      <td>782.0</td>\n",
       "    </tr>\n",
       "  </tbody>\n",
       "</table>\n",
       "</div>"
      ],
      "text/plain": [
       "   chunk_id                                       sha  fileSize\n",
       "0    776662  332b6ed4e324199565e235cd915368f9bc1b43d2     204.0\n",
       "1    776782  b9e82842917f541594a67c44639201895caa4b28     251.0\n",
       "2    776793  b9e82842917f541594a67c44639201895caa4b28    1001.0\n",
       "3    776828  bcd0ef81a0a8b9f64ea644e434d299585b4dbc75     514.0\n",
       "4    776863  30c4b21552ad0db4e3ed3fe8dfed3e702945851a     782.0"
      ]
     },
     "execution_count": 2,
     "metadata": {},
     "output_type": "execute_result"
    }
   ],
   "source": [
    "df = pd.read_csv('data/chunks_info.csv')\n",
    "print(len(df))\n",
    "df.head()"
   ]
  },
  {
   "cell_type": "code",
   "execution_count": 3,
   "metadata": {},
   "outputs": [
    {
     "data": {
      "text/html": [
       "<div>\n",
       "<style scoped>\n",
       "    .dataframe tbody tr th:only-of-type {\n",
       "        vertical-align: middle;\n",
       "    }\n",
       "\n",
       "    .dataframe tbody tr th {\n",
       "        vertical-align: top;\n",
       "    }\n",
       "\n",
       "    .dataframe thead th {\n",
       "        text-align: right;\n",
       "    }\n",
       "</style>\n",
       "<table border=\"1\" class=\"dataframe\">\n",
       "  <thead>\n",
       "    <tr style=\"text-align: right;\">\n",
       "      <th></th>\n",
       "      <th>chunk_id</th>\n",
       "      <th>partial_order</th>\n",
       "      <th>chunk_size</th>\n",
       "      <th>resolution_size</th>\n",
       "    </tr>\n",
       "  </thead>\n",
       "  <tbody>\n",
       "    <tr>\n",
       "      <td>0</td>\n",
       "      <td>776662</td>\n",
       "      <td>True</td>\n",
       "      <td>18</td>\n",
       "      <td>12</td>\n",
       "    </tr>\n",
       "    <tr>\n",
       "      <td>1</td>\n",
       "      <td>776782</td>\n",
       "      <td>True</td>\n",
       "      <td>113</td>\n",
       "      <td>101</td>\n",
       "    </tr>\n",
       "    <tr>\n",
       "      <td>2</td>\n",
       "      <td>776793</td>\n",
       "      <td>True</td>\n",
       "      <td>6</td>\n",
       "      <td>5</td>\n",
       "    </tr>\n",
       "    <tr>\n",
       "      <td>3</td>\n",
       "      <td>776828</td>\n",
       "      <td>True</td>\n",
       "      <td>5</td>\n",
       "      <td>3</td>\n",
       "    </tr>\n",
       "    <tr>\n",
       "      <td>4</td>\n",
       "      <td>776863</td>\n",
       "      <td>True</td>\n",
       "      <td>6</td>\n",
       "      <td>5</td>\n",
       "    </tr>\n",
       "  </tbody>\n",
       "</table>\n",
       "</div>"
      ],
      "text/plain": [
       "   chunk_id partial_order  chunk_size  resolution_size\n",
       "0    776662          True          18               12\n",
       "1    776782          True         113              101\n",
       "2    776793          True           6                5\n",
       "3    776828          True           5                3\n",
       "4    776863          True           6                5"
      ]
     },
     "execution_count": 3,
     "metadata": {},
     "output_type": "execute_result"
    }
   ],
   "source": [
    "df2 = pd.read_csv('data/partial_order_result.csv')\n",
    "df2.head()"
   ]
  },
  {
   "cell_type": "code",
   "execution_count": 4,
   "metadata": {},
   "outputs": [],
   "source": [
    "df = pd.merge(df, df2, on = ['chunk_id'])"
   ]
  },
  {
   "cell_type": "code",
   "execution_count": 5,
   "metadata": {},
   "outputs": [
    {
     "data": {
      "text/html": [
       "<div>\n",
       "<style scoped>\n",
       "    .dataframe tbody tr th:only-of-type {\n",
       "        vertical-align: middle;\n",
       "    }\n",
       "\n",
       "    .dataframe tbody tr th {\n",
       "        vertical-align: top;\n",
       "    }\n",
       "\n",
       "    .dataframe thead th {\n",
       "        text-align: right;\n",
       "    }\n",
       "</style>\n",
       "<table border=\"1\" class=\"dataframe\">\n",
       "  <thead>\n",
       "    <tr style=\"text-align: right;\">\n",
       "      <th></th>\n",
       "      <th>chunk_id</th>\n",
       "      <th>v1_percentage</th>\n",
       "      <th>v2_percentage</th>\n",
       "      <th>normalized_v1_percentage</th>\n",
       "      <th>normalized_v2_percentage</th>\n",
       "      <th>intersection_percentage</th>\n",
       "      <th>chunk_composition</th>\n",
       "      <th>missing_v1_lines</th>\n",
       "      <th>missing_v2_lines</th>\n",
       "      <th>missing_v1_lines_perc</th>\n",
       "      <th>missing_v2_lines_perc</th>\n",
       "      <th>v1_size</th>\n",
       "      <th>v2_size</th>\n",
       "      <th>chunk_size_delta</th>\n",
       "    </tr>\n",
       "  </thead>\n",
       "  <tbody>\n",
       "    <tr>\n",
       "      <td>0</td>\n",
       "      <td>776662</td>\n",
       "      <td>0.42</td>\n",
       "      <td>0.92</td>\n",
       "      <td>0.25</td>\n",
       "      <td>0.75</td>\n",
       "      <td>0.33</td>\n",
       "      <td>v1 v2 (v1_2) v1 (v1_2) v1 v2</td>\n",
       "      <td>1</td>\n",
       "      <td>1</td>\n",
       "      <td>16.67</td>\n",
       "      <td>8.33</td>\n",
       "      <td>6</td>\n",
       "      <td>12</td>\n",
       "      <td>6.0</td>\n",
       "    </tr>\n",
       "    <tr>\n",
       "      <td>1</td>\n",
       "      <td>776782</td>\n",
       "      <td>0.57</td>\n",
       "      <td>0.75</td>\n",
       "      <td>0.41</td>\n",
       "      <td>0.59</td>\n",
       "      <td>0.32</td>\n",
       "      <td>v2 v1 (v1_2) v1 (v1_2) v1 (v1_2) v2 (v1_2) v2...</td>\n",
       "      <td>2</td>\n",
       "      <td>4</td>\n",
       "      <td>6.06</td>\n",
       "      <td>7.55</td>\n",
       "      <td>33</td>\n",
       "      <td>53</td>\n",
       "      <td>20.0</td>\n",
       "    </tr>\n",
       "    <tr>\n",
       "      <td>2</td>\n",
       "      <td>776793</td>\n",
       "      <td>0.75</td>\n",
       "      <td>0.25</td>\n",
       "      <td>0.75</td>\n",
       "      <td>0.25</td>\n",
       "      <td>0.00</td>\n",
       "      <td>v2 v1</td>\n",
       "      <td>1</td>\n",
       "      <td>0</td>\n",
       "      <td>25.00</td>\n",
       "      <td>0.00</td>\n",
       "      <td>4</td>\n",
       "      <td>1</td>\n",
       "      <td>-3.0</td>\n",
       "    </tr>\n",
       "    <tr>\n",
       "      <td>3</td>\n",
       "      <td>776828</td>\n",
       "      <td>0.33</td>\n",
       "      <td>0.67</td>\n",
       "      <td>0.33</td>\n",
       "      <td>0.67</td>\n",
       "      <td>0.00</td>\n",
       "      <td>v2 v1 v2</td>\n",
       "      <td>2</td>\n",
       "      <td>0</td>\n",
       "      <td>66.67</td>\n",
       "      <td>0.00</td>\n",
       "      <td>3</td>\n",
       "      <td>2</td>\n",
       "      <td>-1.0</td>\n",
       "    </tr>\n",
       "    <tr>\n",
       "      <td>4</td>\n",
       "      <td>776863</td>\n",
       "      <td>0.25</td>\n",
       "      <td>0.75</td>\n",
       "      <td>0.25</td>\n",
       "      <td>0.75</td>\n",
       "      <td>0.00</td>\n",
       "      <td>v2 v1</td>\n",
       "      <td>0</td>\n",
       "      <td>1</td>\n",
       "      <td>0.00</td>\n",
       "      <td>25.00</td>\n",
       "      <td>1</td>\n",
       "      <td>4</td>\n",
       "      <td>3.0</td>\n",
       "    </tr>\n",
       "  </tbody>\n",
       "</table>\n",
       "</div>"
      ],
      "text/plain": [
       "   chunk_id  v1_percentage  v2_percentage  normalized_v1_percentage  \\\n",
       "0    776662           0.42           0.92                      0.25   \n",
       "1    776782           0.57           0.75                      0.41   \n",
       "2    776793           0.75           0.25                      0.75   \n",
       "3    776828           0.33           0.67                      0.33   \n",
       "4    776863           0.25           0.75                      0.25   \n",
       "\n",
       "   normalized_v2_percentage  intersection_percentage  \\\n",
       "0                      0.75                     0.33   \n",
       "1                      0.59                     0.32   \n",
       "2                      0.25                     0.00   \n",
       "3                      0.67                     0.00   \n",
       "4                      0.75                     0.00   \n",
       "\n",
       "                                   chunk_composition  missing_v1_lines  \\\n",
       "0                       v1 v2 (v1_2) v1 (v1_2) v1 v2                 1   \n",
       "1   v2 v1 (v1_2) v1 (v1_2) v1 (v1_2) v2 (v1_2) v2...                 2   \n",
       "2                                              v2 v1                 1   \n",
       "3                                           v2 v1 v2                 2   \n",
       "4                                              v2 v1                 0   \n",
       "\n",
       "   missing_v2_lines  missing_v1_lines_perc  missing_v2_lines_perc  v1_size  \\\n",
       "0                 1                  16.67                   8.33        6   \n",
       "1                 4                   6.06                   7.55       33   \n",
       "2                 0                  25.00                   0.00        4   \n",
       "3                 0                  66.67                   0.00        3   \n",
       "4                 1                   0.00                  25.00        1   \n",
       "\n",
       "   v2_size  chunk_size_delta  \n",
       "0       12               6.0  \n",
       "1       53              20.0  \n",
       "2        1              -3.0  \n",
       "3        2              -1.0  \n",
       "4        4               3.0  "
      ]
     },
     "execution_count": 5,
     "metadata": {},
     "output_type": "execute_result"
    }
   ],
   "source": [
    "df3 = pd.read_csv('data/resolution_composition.csv')\n",
    "df3.head()"
   ]
  },
  {
   "cell_type": "code",
   "execution_count": 6,
   "metadata": {},
   "outputs": [
    {
     "data": {
      "text/html": [
       "<div>\n",
       "<style scoped>\n",
       "    .dataframe tbody tr th:only-of-type {\n",
       "        vertical-align: middle;\n",
       "    }\n",
       "\n",
       "    .dataframe tbody tr th {\n",
       "        vertical-align: top;\n",
       "    }\n",
       "\n",
       "    .dataframe thead th {\n",
       "        text-align: right;\n",
       "    }\n",
       "</style>\n",
       "<table border=\"1\" class=\"dataframe\">\n",
       "  <thead>\n",
       "    <tr style=\"text-align: right;\">\n",
       "      <th></th>\n",
       "      <th>chunk_id</th>\n",
       "      <th>sha</th>\n",
       "      <th>fileSize</th>\n",
       "      <th>partial_order</th>\n",
       "      <th>chunk_size</th>\n",
       "      <th>resolution_size</th>\n",
       "      <th>v1_percentage</th>\n",
       "      <th>v2_percentage</th>\n",
       "      <th>normalized_v1_percentage</th>\n",
       "      <th>normalized_v2_percentage</th>\n",
       "      <th>intersection_percentage</th>\n",
       "      <th>chunk_composition</th>\n",
       "      <th>missing_v1_lines</th>\n",
       "      <th>missing_v2_lines</th>\n",
       "      <th>missing_v1_lines_perc</th>\n",
       "      <th>missing_v2_lines_perc</th>\n",
       "      <th>v1_size</th>\n",
       "      <th>v2_size</th>\n",
       "      <th>chunk_size_delta</th>\n",
       "    </tr>\n",
       "  </thead>\n",
       "  <tbody>\n",
       "    <tr>\n",
       "      <td>0</td>\n",
       "      <td>776662</td>\n",
       "      <td>332b6ed4e324199565e235cd915368f9bc1b43d2</td>\n",
       "      <td>204.0</td>\n",
       "      <td>True</td>\n",
       "      <td>18</td>\n",
       "      <td>12</td>\n",
       "      <td>0.42</td>\n",
       "      <td>0.92</td>\n",
       "      <td>0.25</td>\n",
       "      <td>0.75</td>\n",
       "      <td>0.33</td>\n",
       "      <td>v1 v2 (v1_2) v1 (v1_2) v1 v2</td>\n",
       "      <td>1</td>\n",
       "      <td>1</td>\n",
       "      <td>16.67</td>\n",
       "      <td>8.33</td>\n",
       "      <td>6</td>\n",
       "      <td>12</td>\n",
       "      <td>6.0</td>\n",
       "    </tr>\n",
       "    <tr>\n",
       "      <td>1</td>\n",
       "      <td>776782</td>\n",
       "      <td>b9e82842917f541594a67c44639201895caa4b28</td>\n",
       "      <td>251.0</td>\n",
       "      <td>True</td>\n",
       "      <td>113</td>\n",
       "      <td>101</td>\n",
       "      <td>0.57</td>\n",
       "      <td>0.75</td>\n",
       "      <td>0.41</td>\n",
       "      <td>0.59</td>\n",
       "      <td>0.32</td>\n",
       "      <td>v2 v1 (v1_2) v1 (v1_2) v1 (v1_2) v2 (v1_2) v2...</td>\n",
       "      <td>2</td>\n",
       "      <td>4</td>\n",
       "      <td>6.06</td>\n",
       "      <td>7.55</td>\n",
       "      <td>33</td>\n",
       "      <td>53</td>\n",
       "      <td>20.0</td>\n",
       "    </tr>\n",
       "    <tr>\n",
       "      <td>2</td>\n",
       "      <td>776793</td>\n",
       "      <td>b9e82842917f541594a67c44639201895caa4b28</td>\n",
       "      <td>1001.0</td>\n",
       "      <td>True</td>\n",
       "      <td>6</td>\n",
       "      <td>5</td>\n",
       "      <td>0.75</td>\n",
       "      <td>0.25</td>\n",
       "      <td>0.75</td>\n",
       "      <td>0.25</td>\n",
       "      <td>0.00</td>\n",
       "      <td>v2 v1</td>\n",
       "      <td>1</td>\n",
       "      <td>0</td>\n",
       "      <td>25.00</td>\n",
       "      <td>0.00</td>\n",
       "      <td>4</td>\n",
       "      <td>1</td>\n",
       "      <td>-3.0</td>\n",
       "    </tr>\n",
       "    <tr>\n",
       "      <td>3</td>\n",
       "      <td>776828</td>\n",
       "      <td>bcd0ef81a0a8b9f64ea644e434d299585b4dbc75</td>\n",
       "      <td>514.0</td>\n",
       "      <td>True</td>\n",
       "      <td>5</td>\n",
       "      <td>3</td>\n",
       "      <td>0.33</td>\n",
       "      <td>0.67</td>\n",
       "      <td>0.33</td>\n",
       "      <td>0.67</td>\n",
       "      <td>0.00</td>\n",
       "      <td>v2 v1 v2</td>\n",
       "      <td>2</td>\n",
       "      <td>0</td>\n",
       "      <td>66.67</td>\n",
       "      <td>0.00</td>\n",
       "      <td>3</td>\n",
       "      <td>2</td>\n",
       "      <td>-1.0</td>\n",
       "    </tr>\n",
       "    <tr>\n",
       "      <td>4</td>\n",
       "      <td>776863</td>\n",
       "      <td>30c4b21552ad0db4e3ed3fe8dfed3e702945851a</td>\n",
       "      <td>782.0</td>\n",
       "      <td>True</td>\n",
       "      <td>6</td>\n",
       "      <td>5</td>\n",
       "      <td>0.25</td>\n",
       "      <td>0.75</td>\n",
       "      <td>0.25</td>\n",
       "      <td>0.75</td>\n",
       "      <td>0.00</td>\n",
       "      <td>v2 v1</td>\n",
       "      <td>0</td>\n",
       "      <td>1</td>\n",
       "      <td>0.00</td>\n",
       "      <td>25.00</td>\n",
       "      <td>1</td>\n",
       "      <td>4</td>\n",
       "      <td>3.0</td>\n",
       "    </tr>\n",
       "  </tbody>\n",
       "</table>\n",
       "</div>"
      ],
      "text/plain": [
       "   chunk_id                                       sha  fileSize partial_order  \\\n",
       "0    776662  332b6ed4e324199565e235cd915368f9bc1b43d2     204.0          True   \n",
       "1    776782  b9e82842917f541594a67c44639201895caa4b28     251.0          True   \n",
       "2    776793  b9e82842917f541594a67c44639201895caa4b28    1001.0          True   \n",
       "3    776828  bcd0ef81a0a8b9f64ea644e434d299585b4dbc75     514.0          True   \n",
       "4    776863  30c4b21552ad0db4e3ed3fe8dfed3e702945851a     782.0          True   \n",
       "\n",
       "   chunk_size  resolution_size  v1_percentage  v2_percentage  \\\n",
       "0          18               12           0.42           0.92   \n",
       "1         113              101           0.57           0.75   \n",
       "2           6                5           0.75           0.25   \n",
       "3           5                3           0.33           0.67   \n",
       "4           6                5           0.25           0.75   \n",
       "\n",
       "   normalized_v1_percentage  normalized_v2_percentage  \\\n",
       "0                      0.25                      0.75   \n",
       "1                      0.41                      0.59   \n",
       "2                      0.75                      0.25   \n",
       "3                      0.33                      0.67   \n",
       "4                      0.25                      0.75   \n",
       "\n",
       "   intersection_percentage                                  chunk_composition  \\\n",
       "0                     0.33                       v1 v2 (v1_2) v1 (v1_2) v1 v2   \n",
       "1                     0.32   v2 v1 (v1_2) v1 (v1_2) v1 (v1_2) v2 (v1_2) v2...   \n",
       "2                     0.00                                              v2 v1   \n",
       "3                     0.00                                           v2 v1 v2   \n",
       "4                     0.00                                              v2 v1   \n",
       "\n",
       "   missing_v1_lines  missing_v2_lines  missing_v1_lines_perc  \\\n",
       "0                 1                 1                  16.67   \n",
       "1                 2                 4                   6.06   \n",
       "2                 1                 0                  25.00   \n",
       "3                 2                 0                  66.67   \n",
       "4                 0                 1                   0.00   \n",
       "\n",
       "   missing_v2_lines_perc  v1_size  v2_size  chunk_size_delta  \n",
       "0                   8.33        6       12               6.0  \n",
       "1                   7.55       33       53              20.0  \n",
       "2                   0.00        4        1              -3.0  \n",
       "3                   0.00        3        2              -1.0  \n",
       "4                  25.00        1        4               3.0  "
      ]
     },
     "execution_count": 6,
     "metadata": {},
     "output_type": "execute_result"
    }
   ],
   "source": [
    "df = pd.merge(df, df3, on=['chunk_id'])\n",
    "df.head()"
   ]
  },
  {
   "cell_type": "code",
   "execution_count": 7,
   "metadata": {},
   "outputs": [
    {
     "data": {
      "text/html": [
       "<div>\n",
       "<style scoped>\n",
       "    .dataframe tbody tr th:only-of-type {\n",
       "        vertical-align: middle;\n",
       "    }\n",
       "\n",
       "    .dataframe tbody tr th {\n",
       "        vertical-align: top;\n",
       "    }\n",
       "\n",
       "    .dataframe thead th {\n",
       "        text-align: right;\n",
       "    }\n",
       "</style>\n",
       "<table border=\"1\" class=\"dataframe\">\n",
       "  <thead>\n",
       "    <tr style=\"text-align: right;\">\n",
       "      <th></th>\n",
       "      <th>chunk_id</th>\n",
       "      <th>sha</th>\n",
       "      <th>fileSize</th>\n",
       "      <th>partial_order</th>\n",
       "      <th>chunk_size</th>\n",
       "      <th>resolution_size</th>\n",
       "      <th>v1_percentage</th>\n",
       "      <th>v2_percentage</th>\n",
       "      <th>normalized_v1_percentage</th>\n",
       "      <th>normalized_v2_percentage</th>\n",
       "      <th>intersection_percentage</th>\n",
       "      <th>chunk_composition</th>\n",
       "      <th>missing_v1_lines</th>\n",
       "      <th>missing_v2_lines</th>\n",
       "      <th>missing_v1_lines_perc</th>\n",
       "      <th>missing_v2_lines_perc</th>\n",
       "      <th>v1_size</th>\n",
       "      <th>v2_size</th>\n",
       "      <th>chunk_size_delta</th>\n",
       "    </tr>\n",
       "  </thead>\n",
       "  <tbody>\n",
       "    <tr>\n",
       "      <td>0</td>\n",
       "      <td>776662</td>\n",
       "      <td>332b6ed4e324199565e235cd915368f9bc1b43d2</td>\n",
       "      <td>204.0</td>\n",
       "      <td>True</td>\n",
       "      <td>18</td>\n",
       "      <td>12</td>\n",
       "      <td>0.42</td>\n",
       "      <td>0.92</td>\n",
       "      <td>0.25</td>\n",
       "      <td>0.75</td>\n",
       "      <td>0.33</td>\n",
       "      <td>v1 v2 (v1_2) v1 (v1_2) v1 v2</td>\n",
       "      <td>1</td>\n",
       "      <td>1</td>\n",
       "      <td>16.67</td>\n",
       "      <td>8.33</td>\n",
       "      <td>6</td>\n",
       "      <td>12</td>\n",
       "      <td>6.0</td>\n",
       "    </tr>\n",
       "    <tr>\n",
       "      <td>1</td>\n",
       "      <td>776782</td>\n",
       "      <td>b9e82842917f541594a67c44639201895caa4b28</td>\n",
       "      <td>251.0</td>\n",
       "      <td>True</td>\n",
       "      <td>86</td>\n",
       "      <td>101</td>\n",
       "      <td>0.57</td>\n",
       "      <td>0.75</td>\n",
       "      <td>0.41</td>\n",
       "      <td>0.59</td>\n",
       "      <td>0.32</td>\n",
       "      <td>v2 v1 (v1_2) v1 (v1_2) v1 (v1_2) v2 (v1_2) v2...</td>\n",
       "      <td>2</td>\n",
       "      <td>4</td>\n",
       "      <td>6.06</td>\n",
       "      <td>7.55</td>\n",
       "      <td>33</td>\n",
       "      <td>53</td>\n",
       "      <td>20.0</td>\n",
       "    </tr>\n",
       "    <tr>\n",
       "      <td>2</td>\n",
       "      <td>776793</td>\n",
       "      <td>b9e82842917f541594a67c44639201895caa4b28</td>\n",
       "      <td>1001.0</td>\n",
       "      <td>True</td>\n",
       "      <td>5</td>\n",
       "      <td>5</td>\n",
       "      <td>0.75</td>\n",
       "      <td>0.25</td>\n",
       "      <td>0.75</td>\n",
       "      <td>0.25</td>\n",
       "      <td>0.00</td>\n",
       "      <td>v2 v1</td>\n",
       "      <td>1</td>\n",
       "      <td>0</td>\n",
       "      <td>25.00</td>\n",
       "      <td>0.00</td>\n",
       "      <td>4</td>\n",
       "      <td>1</td>\n",
       "      <td>-3.0</td>\n",
       "    </tr>\n",
       "    <tr>\n",
       "      <td>3</td>\n",
       "      <td>776828</td>\n",
       "      <td>bcd0ef81a0a8b9f64ea644e434d299585b4dbc75</td>\n",
       "      <td>514.0</td>\n",
       "      <td>True</td>\n",
       "      <td>5</td>\n",
       "      <td>3</td>\n",
       "      <td>0.33</td>\n",
       "      <td>0.67</td>\n",
       "      <td>0.33</td>\n",
       "      <td>0.67</td>\n",
       "      <td>0.00</td>\n",
       "      <td>v2 v1 v2</td>\n",
       "      <td>2</td>\n",
       "      <td>0</td>\n",
       "      <td>66.67</td>\n",
       "      <td>0.00</td>\n",
       "      <td>3</td>\n",
       "      <td>2</td>\n",
       "      <td>-1.0</td>\n",
       "    </tr>\n",
       "    <tr>\n",
       "      <td>4</td>\n",
       "      <td>776863</td>\n",
       "      <td>30c4b21552ad0db4e3ed3fe8dfed3e702945851a</td>\n",
       "      <td>782.0</td>\n",
       "      <td>True</td>\n",
       "      <td>5</td>\n",
       "      <td>5</td>\n",
       "      <td>0.25</td>\n",
       "      <td>0.75</td>\n",
       "      <td>0.25</td>\n",
       "      <td>0.75</td>\n",
       "      <td>0.00</td>\n",
       "      <td>v2 v1</td>\n",
       "      <td>0</td>\n",
       "      <td>1</td>\n",
       "      <td>0.00</td>\n",
       "      <td>25.00</td>\n",
       "      <td>1</td>\n",
       "      <td>4</td>\n",
       "      <td>3.0</td>\n",
       "    </tr>\n",
       "  </tbody>\n",
       "</table>\n",
       "</div>"
      ],
      "text/plain": [
       "   chunk_id                                       sha  fileSize partial_order  \\\n",
       "0    776662  332b6ed4e324199565e235cd915368f9bc1b43d2     204.0          True   \n",
       "1    776782  b9e82842917f541594a67c44639201895caa4b28     251.0          True   \n",
       "2    776793  b9e82842917f541594a67c44639201895caa4b28    1001.0          True   \n",
       "3    776828  bcd0ef81a0a8b9f64ea644e434d299585b4dbc75     514.0          True   \n",
       "4    776863  30c4b21552ad0db4e3ed3fe8dfed3e702945851a     782.0          True   \n",
       "\n",
       "   chunk_size  resolution_size  v1_percentage  v2_percentage  \\\n",
       "0          18               12           0.42           0.92   \n",
       "1          86              101           0.57           0.75   \n",
       "2           5                5           0.75           0.25   \n",
       "3           5                3           0.33           0.67   \n",
       "4           5                5           0.25           0.75   \n",
       "\n",
       "   normalized_v1_percentage  normalized_v2_percentage  \\\n",
       "0                      0.25                      0.75   \n",
       "1                      0.41                      0.59   \n",
       "2                      0.75                      0.25   \n",
       "3                      0.33                      0.67   \n",
       "4                      0.25                      0.75   \n",
       "\n",
       "   intersection_percentage                                  chunk_composition  \\\n",
       "0                     0.33                       v1 v2 (v1_2) v1 (v1_2) v1 v2   \n",
       "1                     0.32   v2 v1 (v1_2) v1 (v1_2) v1 (v1_2) v2 (v1_2) v2...   \n",
       "2                     0.00                                              v2 v1   \n",
       "3                     0.00                                           v2 v1 v2   \n",
       "4                     0.00                                              v2 v1   \n",
       "\n",
       "   missing_v1_lines  missing_v2_lines  missing_v1_lines_perc  \\\n",
       "0                 1                 1                  16.67   \n",
       "1                 2                 4                   6.06   \n",
       "2                 1                 0                  25.00   \n",
       "3                 2                 0                  66.67   \n",
       "4                 0                 1                   0.00   \n",
       "\n",
       "   missing_v2_lines_perc  v1_size  v2_size  chunk_size_delta  \n",
       "0                   8.33        6       12               6.0  \n",
       "1                   7.55       33       53              20.0  \n",
       "2                   0.00        4        1              -3.0  \n",
       "3                   0.00        3        2              -1.0  \n",
       "4                  25.00        1        4               3.0  "
      ]
     },
     "execution_count": 7,
     "metadata": {},
     "output_type": "execute_result"
    }
   ],
   "source": [
    "df['chunk_size'] = df['v1_size'] + df['v2_size']\n",
    "df.head()"
   ]
  },
  {
   "cell_type": "code",
   "execution_count": 9,
   "metadata": {},
   "outputs": [
    {
     "name": "stdout",
     "output_type": "stream",
     "text": [
      "10726\n"
     ]
    },
    {
     "data": {
      "text/html": [
       "<div>\n",
       "<style scoped>\n",
       "    .dataframe tbody tr th:only-of-type {\n",
       "        vertical-align: middle;\n",
       "    }\n",
       "\n",
       "    .dataframe tbody tr th {\n",
       "        vertical-align: top;\n",
       "    }\n",
       "\n",
       "    .dataframe thead th {\n",
       "        text-align: right;\n",
       "    }\n",
       "</style>\n",
       "<table border=\"1\" class=\"dataframe\">\n",
       "  <thead>\n",
       "    <tr style=\"text-align: right;\">\n",
       "      <th></th>\n",
       "      <th>chunk_id</th>\n",
       "      <th>fileSize</th>\n",
       "      <th>resolution_size</th>\n",
       "      <th>chunk_size</th>\n",
       "    </tr>\n",
       "  </thead>\n",
       "  <tbody>\n",
       "    <tr>\n",
       "      <td>0</td>\n",
       "      <td>776662</td>\n",
       "      <td>204.0</td>\n",
       "      <td>12</td>\n",
       "      <td>18</td>\n",
       "    </tr>\n",
       "    <tr>\n",
       "      <td>1</td>\n",
       "      <td>776782</td>\n",
       "      <td>251.0</td>\n",
       "      <td>101</td>\n",
       "      <td>86</td>\n",
       "    </tr>\n",
       "    <tr>\n",
       "      <td>2</td>\n",
       "      <td>776793</td>\n",
       "      <td>1001.0</td>\n",
       "      <td>5</td>\n",
       "      <td>5</td>\n",
       "    </tr>\n",
       "    <tr>\n",
       "      <td>3</td>\n",
       "      <td>776828</td>\n",
       "      <td>514.0</td>\n",
       "      <td>3</td>\n",
       "      <td>5</td>\n",
       "    </tr>\n",
       "    <tr>\n",
       "      <td>4</td>\n",
       "      <td>776863</td>\n",
       "      <td>782.0</td>\n",
       "      <td>5</td>\n",
       "      <td>5</td>\n",
       "    </tr>\n",
       "  </tbody>\n",
       "</table>\n",
       "</div>"
      ],
      "text/plain": [
       "   chunk_id  fileSize  resolution_size  chunk_size\n",
       "0    776662     204.0               12          18\n",
       "1    776782     251.0              101          86\n",
       "2    776793    1001.0                5           5\n",
       "3    776828     514.0                3           5\n",
       "4    776863     782.0                5           5"
      ]
     },
     "execution_count": 9,
     "metadata": {},
     "output_type": "execute_result"
    }
   ],
   "source": [
    "df = df[['chunk_id', 'fileSize', 'resolution_size', 'chunk_size' ]]\n",
    "print(len(df))\n",
    "df.head()"
   ]
  },
  {
   "cell_type": "markdown",
   "metadata": {},
   "source": [
    "## RQ2. What is the distribution in size of conflicting chunks and conflicting files as measured in lines of code (LOC)?"
   ]
  },
  {
   "cell_type": "code",
   "execution_count": 51,
   "metadata": {},
   "outputs": [
    {
     "data": {
      "text/plain": [
       "count    10420.000000\n",
       "mean       860.021209\n",
       "std       1556.208681\n",
       "min         15.000000\n",
       "25%        182.000000\n",
       "50%        384.000000\n",
       "75%        889.250000\n",
       "max      20445.000000\n",
       "Name: fileSize, dtype: float64"
      ]
     },
     "execution_count": 51,
     "metadata": {},
     "output_type": "execute_result"
    }
   ],
   "source": [
    "df['fileSize'].describe()"
   ]
  },
  {
   "cell_type": "code",
   "execution_count": 17,
   "metadata": {},
   "outputs": [
    {
     "data": {
      "text/plain": [
       "<matplotlib.axes._subplots.AxesSubplot at 0x7f65c9736450>"
      ]
     },
     "execution_count": 17,
     "metadata": {},
     "output_type": "execute_result"
    },
    {
     "data": {
      "image/png": "[encoded data removed]",
      "text/plain": [
       "<Figure size 432x288 with 1 Axes>"
      ]
     },
     "metadata": {
      "needs_background": "light"
     },
     "output_type": "display_data"
    }
   ],
   "source": [
    "df.boxplot(['fileSize'], showfliers=False)"
   ]
  },
  {
   "cell_type": "code",
   "execution_count": 52,
   "metadata": {},
   "outputs": [
    {
     "data": {
      "text/plain": [
       "count    10726.000000\n",
       "mean        13.555379\n",
       "std         58.866576\n",
       "min          2.000000\n",
       "25%          4.000000\n",
       "50%          6.000000\n",
       "75%         11.000000\n",
       "max       2545.000000\n",
       "Name: chunk_size, dtype: float64"
      ]
     },
     "execution_count": 52,
     "metadata": {},
     "output_type": "execute_result"
    }
   ],
   "source": [
    "df['chunk_size'].describe()"
   ]
  },
  {
   "cell_type": "code",
   "execution_count": 53,
   "metadata": {},
   "outputs": [
    {
     "data": {
      "text/plain": [
       "<matplotlib.axes._subplots.AxesSubplot at 0x7f65c883dd50>"
      ]
     },
     "execution_count": 53,
     "metadata": {},
     "output_type": "execute_result"
    },
    {
     "data": {
      "image/png": "[encoded data removed]",
      "text/plain": [
       "<Figure size 432x288 with 1 Axes>"
      ]
     },
     "metadata": {
      "needs_background": "light"
     },
     "output_type": "display_data"
    }
   ],
   "source": [
    "df.boxplot(['chunk_size'], showfliers=False)"
   ]
  },
  {
   "cell_type": "markdown",
   "metadata": {},
   "source": [
    "## RQ3. What is the distribution in size of conflicting chunks resolutions as measured in lines of code (LOC)?"
   ]
  },
  {
   "cell_type": "code",
   "execution_count": 50,
   "metadata": {},
   "outputs": [
    {
     "data": {
      "text/plain": [
       "count    10726.000000\n",
       "mean         8.379079\n",
       "std         35.503146\n",
       "min          1.000000\n",
       "25%          2.000000\n",
       "50%          3.000000\n",
       "75%          7.000000\n",
       "max       1557.000000\n",
       "Name: resolution_size, dtype: float64"
      ]
     },
     "execution_count": 50,
     "metadata": {},
     "output_type": "execute_result"
    }
   ],
   "source": [
    "df['resolution_size'].describe()"
   ]
  },
  {
   "cell_type": "code",
   "execution_count": 22,
   "metadata": {},
   "outputs": [
    {
     "data": {
      "text/plain": [
       "<matplotlib.axes._subplots.AxesSubplot at 0x7f65c93d5d90>"
      ]
     },
     "execution_count": 22,
     "metadata": {},
     "output_type": "execute_result"
    },
    {
     "data": {
      "image/png": "[encoded data removed]",
      "text/plain": [
       "<Figure size 432x288 with 1 Axes>"
      ]
     },
     "metadata": {
      "needs_background": "light"
     },
     "output_type": "display_data"
    }
   ],
   "source": [
    "df.boxplot(['resolution_size'], showfliers=False)"
   ]
  },
  {
   "cell_type": "markdown",
   "metadata": {},
   "source": [
    "## RQ1. What is the distribution in number of conflicting chunks and conflicting files for merge failures?"
   ]
  },
  {
   "cell_type": "code",
   "execution_count": 24,
   "metadata": {},
   "outputs": [
    {
     "name": "stdout",
     "output_type": "stream",
     "text": [
      "5360\n"
     ]
    },
    {
     "data": {
      "text/html": [
       "<div>\n",
       "<style scoped>\n",
       "    .dataframe tbody tr th:only-of-type {\n",
       "        vertical-align: middle;\n",
       "    }\n",
       "\n",
       "    .dataframe tbody tr th {\n",
       "        vertical-align: top;\n",
       "    }\n",
       "\n",
       "    .dataframe thead th {\n",
       "        text-align: right;\n",
       "    }\n",
       "</style>\n",
       "<table border=\"1\" class=\"dataframe\">\n",
       "  <thead>\n",
       "    <tr style=\"text-align: right;\">\n",
       "      <th></th>\n",
       "      <th>sha</th>\n",
       "      <th>chunks</th>\n",
       "      <th>files</th>\n",
       "    </tr>\n",
       "  </thead>\n",
       "  <tbody>\n",
       "    <tr>\n",
       "      <td>0</td>\n",
       "      <td>346418c4ef7b9a21dc659af43ff614d5db2343f9</td>\n",
       "      <td>137</td>\n",
       "      <td>129</td>\n",
       "    </tr>\n",
       "    <tr>\n",
       "      <td>1</td>\n",
       "      <td>70a4e7915b9e70ffc6adeab0bca620339e97673c</td>\n",
       "      <td>80</td>\n",
       "      <td>24</td>\n",
       "    </tr>\n",
       "    <tr>\n",
       "      <td>2</td>\n",
       "      <td>cdaaddf88b9ab1dda6b5bf859b38bca6055b057b</td>\n",
       "      <td>71</td>\n",
       "      <td>11</td>\n",
       "    </tr>\n",
       "    <tr>\n",
       "      <td>3</td>\n",
       "      <td>b013a74c44b526ba9f824cc7eb2087714d9b6eaf</td>\n",
       "      <td>65</td>\n",
       "      <td>1</td>\n",
       "    </tr>\n",
       "    <tr>\n",
       "      <td>4</td>\n",
       "      <td>ab780c16ee9d29b98ea6e240c21076d2f1ae6079</td>\n",
       "      <td>62</td>\n",
       "      <td>38</td>\n",
       "    </tr>\n",
       "  </tbody>\n",
       "</table>\n",
       "</div>"
      ],
      "text/plain": [
       "                                        sha  chunks  files\n",
       "0  346418c4ef7b9a21dc659af43ff614d5db2343f9     137    129\n",
       "1  70a4e7915b9e70ffc6adeab0bca620339e97673c      80     24\n",
       "2  cdaaddf88b9ab1dda6b5bf859b38bca6055b057b      71     11\n",
       "3  b013a74c44b526ba9f824cc7eb2087714d9b6eaf      65      1\n",
       "4  ab780c16ee9d29b98ea6e240c21076d2f1ae6079      62     38"
      ]
     },
     "execution_count": 24,
     "metadata": {},
     "output_type": "execute_result"
    }
   ],
   "source": [
    "df_merges = pd.read_csv('data/merge_stats.csv')\n",
    "print(len(df_merges))\n",
    "df_merges.head()"
   ]
  },
  {
   "cell_type": "code",
   "execution_count": 48,
   "metadata": {},
   "outputs": [
    {
     "data": {
      "text/plain": [
       "count    5360.000000\n",
       "mean        2.001119\n",
       "std         3.501392\n",
       "min         1.000000\n",
       "25%         1.000000\n",
       "50%         1.000000\n",
       "75%         2.000000\n",
       "max       137.000000\n",
       "Name: chunks, dtype: float64"
      ]
     },
     "execution_count": 48,
     "metadata": {},
     "output_type": "execute_result"
    }
   ],
   "source": [
    "df_merges['chunks'].describe()"
   ]
  },
  {
   "cell_type": "code",
   "execution_count": 27,
   "metadata": {},
   "outputs": [
    {
     "data": {
      "text/plain": [
       "<matplotlib.axes._subplots.AxesSubplot at 0x7f65c91f0950>"
      ]
     },
     "execution_count": 27,
     "metadata": {},
     "output_type": "execute_result"
    },
    {
     "data": {
      "image/png": "[encoded data removed]",
      "text/plain": [
       "<Figure size 432x288 with 1 Axes>"
      ]
     },
     "metadata": {
      "needs_background": "light"
     },
     "output_type": "display_data"
    }
   ],
   "source": [
    "df_merges.boxplot('chunks', showfliers=False)"
   ]
  },
  {
   "cell_type": "code",
   "execution_count": 46,
   "metadata": {},
   "outputs": [
    {
     "data": {
      "image/png": "[encoded data removed]",
      "text/plain": [
       "<Figure size 1080x288 with 1 Axes>"
      ]
     },
     "metadata": {
      "needs_background": "light"
     },
     "output_type": "display_data"
    }
   ],
   "source": [
    "data = []\n",
    "max_chunks = df_merges['chunks'].max()\n",
    "for chunks_amount in range(1, max_chunks+1):\n",
    "    merges_count = len(df_merges[df_merges['chunks'] == chunks_amount])\n",
    "    if merges_count > 0:\n",
    "        data.append([chunks_amount, merges_count])\n",
    "\n",
    "df_plot = pd.DataFrame(data, columns=['chunks','merges'])\n",
    "fig, ax = plt.subplots(1, 1, figsize=(15, 4))\n",
    "df_plot.plot(kind='bar', x='chunks', y='merges', ax=ax, legend=False)\n",
    "ax.set_xlabel(\"# of chunks\")\n",
    "ax.set_ylabel(\"# of conflicting merges\")\n",
    "plt.show()"
   ]
  },
  {
   "cell_type": "code",
   "execution_count": 45,
   "metadata": {},
   "outputs": [
    {
     "data": {
      "image/png": "[encoded data removed]",
      "text/plain": [
       "<Figure size 1080x288 with 1 Axes>"
      ]
     },
     "metadata": {
      "needs_background": "light"
     },
     "output_type": "display_data"
    }
   ],
   "source": [
    "data = []\n",
    "max_chunks = df_merges['chunks'].max()\n",
    "more_than_18 = 0\n",
    "for chunks_amount in range(1, max_chunks+1):\n",
    "    merges_count = len(df_merges[df_merges['chunks'] == chunks_amount])\n",
    "    if merges_count > 0:\n",
    "        if chunks_amount >= 18:\n",
    "            more_than_18+=chunks_count\n",
    "        else:\n",
    "            data.append([chunks_amount, merges_count])\n",
    "data.append(['18+', more_than_18]) \n",
    "\n",
    "df_plot = pd.DataFrame(data, columns=['chunks','merges'])\n",
    "fig, ax = plt.subplots(1, 1, figsize=(15, 4))\n",
    "df_plot.plot(kind='bar', x='chunks', y='merges', ax=ax, legend=False)\n",
    "ax.set_xlabel(\"# of chunks\")\n",
    "ax.set_ylabel(\"# of conflicting merges\")\n",
    "plt.show()"
   ]
  },
  {
   "cell_type": "code",
   "execution_count": 49,
   "metadata": {},
   "outputs": [
    {
     "data": {
      "text/plain": [
       "count    5360.000000\n",
       "mean        1.640112\n",
       "std         2.491515\n",
       "min         1.000000\n",
       "25%         1.000000\n",
       "50%         1.000000\n",
       "75%         2.000000\n",
       "max       129.000000\n",
       "Name: files, dtype: float64"
      ]
     },
     "execution_count": 49,
     "metadata": {},
     "output_type": "execute_result"
    }
   ],
   "source": [
    "df_merges['files'].describe()"
   ]
  },
  {
   "cell_type": "code",
   "execution_count": 44,
   "metadata": {},
   "outputs": [
    {
     "data": {
      "text/plain": [
       "<matplotlib.axes._subplots.AxesSubplot at 0x7f65c8814850>"
      ]
     },
     "execution_count": 44,
     "metadata": {},
     "output_type": "execute_result"
    },
    {
     "data": {
      "image/png": "[encoded data removed]",
      "text/plain": [
       "<Figure size 432x288 with 1 Axes>"
      ]
     },
     "metadata": {
      "needs_background": "light"
     },
     "output_type": "display_data"
    }
   ],
   "source": [
    "df_merges.boxplot('files', showfliers=False)"
   ]
  },
  {
   "cell_type": "code",
   "execution_count": 47,
   "metadata": {},
   "outputs": [
    {
     "data": {
      "image/png": "[encoded data removed]",
      "text/plain": [
       "<Figure size 1080x288 with 1 Axes>"
      ]
     },
     "metadata": {
      "needs_background": "light"
     },
     "output_type": "display_data"
    }
   ],
   "source": [
    "data = []\n",
    "max_files = df_merges['files'].max()\n",
    "for files_count in range(1, max_files+1):\n",
    "    merges_count = len(df_merges[df_merges['files'] == files_count])\n",
    "    if merges_count > 0:\n",
    "        data.append([files_count, merges_count])\n",
    "\n",
    "df_plot = pd.DataFrame(data, columns=['files_count','merges'])\n",
    "fig, ax = plt.subplots(1, 1, figsize=(15, 4))\n",
    "df_plot.plot(kind='bar', x='files_count', y='merges', ax=ax, legend=False)\n",
    "ax.set_xlabel(\"# of files\")\n",
    "ax.set_ylabel(\"# of conflicting merges\")\n",
    "plt.show()"
   ]
  },
  {
   "cell_type": "code",
   "execution_count": null,
   "metadata": {},
   "outputs": [],
   "source": []
  }
 ],
 "metadata": {
  "kernelspec": {
   "display_name": "Python 3",
   "language": "python",
   "name": "python3"
  },
  "language_info": {
   "codemirror_mode": {
    "name": "ipython",
    "version": 3
   },
   "file_extension": ".py",
   "mimetype": "text/x-python",
   "name": "python",
   "nbconvert_exporter": "python",
   "pygments_lexer": "ipython3",
   "version": "3.7.4"
  }
 },
 "nbformat": 4,
 "nbformat_minor": 2
}
