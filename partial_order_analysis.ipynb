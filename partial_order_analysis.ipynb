{
 "cells": [
  {
   "cell_type": "code",
   "execution_count": 1,
   "metadata": {},
   "outputs": [],
   "source": [
    "import pandas as pd\n",
    "import matplotlib.pyplot as plt\n",
    "from inspect_util import Chunk"
   ]
  },
  {
   "cell_type": "code",
   "execution_count": 2,
   "metadata": {},
   "outputs": [
    {
     "name": "stdout",
     "output_type": "stream",
     "text": [
      "Total number of chunks: 13573\n"
     ]
    },
    {
     "data": {
      "text/html": [
       "<div>\n",
       "<style scoped>\n",
       "    .dataframe tbody tr th:only-of-type {\n",
       "        vertical-align: middle;\n",
       "    }\n",
       "\n",
       "    .dataframe tbody tr th {\n",
       "        vertical-align: top;\n",
       "    }\n",
       "\n",
       "    .dataframe thead th {\n",
       "        text-align: right;\n",
       "    }\n",
       "</style>\n",
       "<table border=\"1\" class=\"dataframe\">\n",
       "  <thead>\n",
       "    <tr style=\"text-align: right;\">\n",
       "      <th></th>\n",
       "      <th>chunk_id</th>\n",
       "      <th>partial_order</th>\n",
       "      <th>chunk_size</th>\n",
       "      <th>resolution_size</th>\n",
       "    </tr>\n",
       "  </thead>\n",
       "  <tbody>\n",
       "    <tr>\n",
       "      <th>0</th>\n",
       "      <td>776662</td>\n",
       "      <td>True</td>\n",
       "      <td>25</td>\n",
       "      <td>12</td>\n",
       "    </tr>\n",
       "    <tr>\n",
       "      <th>1</th>\n",
       "      <td>776782</td>\n",
       "      <td>True</td>\n",
       "      <td>121</td>\n",
       "      <td>101</td>\n",
       "    </tr>\n",
       "    <tr>\n",
       "      <th>2</th>\n",
       "      <td>776793</td>\n",
       "      <td>True</td>\n",
       "      <td>13</td>\n",
       "      <td>5</td>\n",
       "    </tr>\n",
       "    <tr>\n",
       "      <th>3</th>\n",
       "      <td>776828</td>\n",
       "      <td>True</td>\n",
       "      <td>12</td>\n",
       "      <td>3</td>\n",
       "    </tr>\n",
       "    <tr>\n",
       "      <th>4</th>\n",
       "      <td>776863</td>\n",
       "      <td>True</td>\n",
       "      <td>13</td>\n",
       "      <td>5</td>\n",
       "    </tr>\n",
       "  </tbody>\n",
       "</table>\n",
       "</div>"
      ],
      "text/plain": [
       "   chunk_id partial_order  chunk_size  resolution_size\n",
       "0    776662          True          25               12\n",
       "1    776782          True         121              101\n",
       "2    776793          True          13                5\n",
       "3    776828          True          12                3\n",
       "4    776863          True          13                5"
      ]
     },
     "execution_count": 2,
     "metadata": {},
     "output_type": "execute_result"
    }
   ],
   "source": [
    "df = pd.read_csv('data/partial_order_result.csv')\n",
    "print(f'Total number of chunks: {len(df)}')\n",
    "df.head()"
   ]
  },
  {
   "cell_type": "code",
   "execution_count": 3,
   "metadata": {},
   "outputs": [
    {
     "name": "stdout",
     "output_type": "stream",
     "text": [
      "Removing 264 malformed chunks\n",
      "Total number of chunks: 13309\n"
     ]
    }
   ],
   "source": [
    "malformed_chunks = pd.read_csv('data/malformed_chunks.csv')\n",
    "malformed_chunks = malformed_chunks['chunk_id'].unique()\n",
    "print(f'Removing {len(malformed_chunks)} malformed chunks')\n",
    "df = df[~df['chunk_id'].isin(malformed_chunks)]\n",
    "print(f'Total number of chunks: {len(df)}')"
   ]
  },
  {
   "cell_type": "markdown",
   "metadata": {},
   "source": [
    "### In how many chunks the resolution could not be isolated from the context?"
   ]
  },
  {
   "cell_type": "code",
   "execution_count": 4,
   "metadata": {},
   "outputs": [
    {
     "name": "stdout",
     "output_type": "stream",
     "text": [
      "In 2583 (19.41%) of 13309 chunks the resolution could not be isolated from the context\n",
      "Total number of valid chunks: 10726\n"
     ]
    }
   ],
   "source": [
    "imprecise = df[df['partial_order'] == 'manual']\n",
    "print(f'In {len(imprecise)} ({(len(imprecise)/len(df))*100:.2f}%) of {len(df)} chunks the resolution could not be isolated from the context')\n",
    "df = df[df['partial_order'] != 'manual']\n",
    "print(f'Total number of valid chunks: {len(df)}')"
   ]
  },
  {
   "cell_type": "markdown",
   "metadata": {},
   "source": [
    "### What is the percentage of chunks that violates the partial order in the resolution?"
   ]
  },
  {
   "cell_type": "code",
   "execution_count": 5,
   "metadata": {},
   "outputs": [
    {
     "name": "stdout",
     "output_type": "stream",
     "text": [
      "142 (1.32%) of 10726 chunks violate the partial order\n"
     ]
    }
   ],
   "source": [
    "violates_partial_order = df[df['partial_order'] == 'False']\n",
    "does_not_violate = df[df['partial_order'] == 'True']\n",
    "print(f'{len(violates_partial_order)} ({(len(violates_partial_order)/len(df))*100:.2f}%) of {len(df)} chunks violate the partial order')"
   ]
  },
  {
   "cell_type": "markdown",
   "metadata": {},
   "source": [
    "### Characteristics of chunks where the resolution violates the partial order"
   ]
  },
  {
   "cell_type": "code",
   "execution_count": 6,
   "metadata": {},
   "outputs": [
    {
     "data": {
      "text/html": [
       "<div>\n",
       "<style scoped>\n",
       "    .dataframe tbody tr th:only-of-type {\n",
       "        vertical-align: middle;\n",
       "    }\n",
       "\n",
       "    .dataframe tbody tr th {\n",
       "        vertical-align: top;\n",
       "    }\n",
       "\n",
       "    .dataframe thead th {\n",
       "        text-align: right;\n",
       "    }\n",
       "</style>\n",
       "<table border=\"1\" class=\"dataframe\">\n",
       "  <thead>\n",
       "    <tr style=\"text-align: right;\">\n",
       "      <th></th>\n",
       "      <th>chunk_size</th>\n",
       "      <th>resolution_size</th>\n",
       "    </tr>\n",
       "  </thead>\n",
       "  <tbody>\n",
       "    <tr>\n",
       "      <th>count</th>\n",
       "      <td>142.00</td>\n",
       "      <td>142.00</td>\n",
       "    </tr>\n",
       "    <tr>\n",
       "      <th>mean</th>\n",
       "      <td>187.14</td>\n",
       "      <td>104.88</td>\n",
       "    </tr>\n",
       "    <tr>\n",
       "      <th>std</th>\n",
       "      <td>448.21</td>\n",
       "      <td>238.30</td>\n",
       "    </tr>\n",
       "    <tr>\n",
       "      <th>min</th>\n",
       "      <td>10.00</td>\n",
       "      <td>2.00</td>\n",
       "    </tr>\n",
       "    <tr>\n",
       "      <th>25%</th>\n",
       "      <td>16.00</td>\n",
       "      <td>7.00</td>\n",
       "    </tr>\n",
       "    <tr>\n",
       "      <th>50%</th>\n",
       "      <td>27.00</td>\n",
       "      <td>12.00</td>\n",
       "    </tr>\n",
       "    <tr>\n",
       "      <th>75%</th>\n",
       "      <td>65.50</td>\n",
       "      <td>46.00</td>\n",
       "    </tr>\n",
       "    <tr>\n",
       "      <th>max</th>\n",
       "      <td>2923.00</td>\n",
       "      <td>1557.00</td>\n",
       "    </tr>\n",
       "  </tbody>\n",
       "</table>\n",
       "</div>"
      ],
      "text/plain": [
       "       chunk_size  resolution_size\n",
       "count      142.00           142.00\n",
       "mean       187.14           104.88\n",
       "std        448.21           238.30\n",
       "min         10.00             2.00\n",
       "25%         16.00             7.00\n",
       "50%         27.00            12.00\n",
       "75%         65.50            46.00\n",
       "max       2923.00          1557.00"
      ]
     },
     "execution_count": 6,
     "metadata": {},
     "output_type": "execute_result"
    }
   ],
   "source": [
    "violates_partial_order[['chunk_size','resolution_size']].describe().round(2)"
   ]
  },
  {
   "cell_type": "code",
   "execution_count": 7,
   "metadata": {},
   "outputs": [
    {
     "data": {
      "text/plain": [
       "<AxesSubplot:>"
      ]
     },
     "execution_count": 7,
     "metadata": {},
     "output_type": "execute_result"
    },
    {
     "data": {
      "image/png": "[encoded data removed]",
      "text/plain": [
       "<Figure size 432x288 with 1 Axes>"
      ]
     },
     "metadata": {
      "needs_background": "light"
     },
     "output_type": "display_data"
    }
   ],
   "source": [
    "violates_partial_order[['chunk_size', 'resolution_size']].boxplot(showfliers=False)"
   ]
  },
  {
   "cell_type": "code",
   "execution_count": 8,
   "metadata": {},
   "outputs": [
    {
     "data": {
      "image/png": "[encoded data removed]",
      "text/plain": [
       "<Figure size 1080x720 with 6 Axes>"
      ]
     },
     "metadata": {
      "needs_background": "light"
     },
     "output_type": "display_data"
    }
   ],
   "source": [
    "fig, ax = plt.subplots(2, 3, figsize=(15, 10))\n",
    "violates_partial_order['chunk_size'].hist(bins=10, ax=ax[0][0])\n",
    "ax[0][0].set_title('All chunk sizes')\n",
    "\n",
    "violates_partial_order[violates_partial_order['chunk_size'] < 5000]['chunk_size'].hist(bins=10, ax=ax[0][1])\n",
    "ax[0][1].set_title('Chunk size < 5000')\n",
    "\n",
    "violates_partial_order[violates_partial_order['chunk_size'] < 1000]['chunk_size'].hist(bins=10, ax=ax[0][2])\n",
    "ax[0][2].set_title('Chunk size < 1000')\n",
    "\n",
    "violates_partial_order[violates_partial_order['chunk_size'] < 500]['chunk_size'].hist(bins=10, ax=ax[1][0])\n",
    "ax[1][0].set_title('Chunk size < 500')\n",
    "\n",
    "violates_partial_order[violates_partial_order['chunk_size'] < 100]['chunk_size'].hist(bins=10, ax=ax[1][1])\n",
    "ax[1][1].set_title('Chunk size < 100')\n",
    "\n",
    "violates_partial_order[violates_partial_order['chunk_size'] < 50]['chunk_size'].hist(bins=10, ax=ax[1][2])\n",
    "ax[1][2].set_title('Chunk size < 50')\n",
    "for i in range(2):\n",
    "    for j in range(3):\n",
    "        ax[i][j].set_xlabel(\"Chunk Size\")\n",
    "        ax[i][j].set_ylabel(\"# of Chunks\")\n",
    "        \n",
    "fig.tight_layout()"
   ]
  },
  {
   "cell_type": "code",
   "execution_count": 9,
   "metadata": {
    "scrolled": true
   },
   "outputs": [
    {
     "data": {
      "image/png": "[encoded data removed]",
      "text/plain": [
       "<Figure size 1080x720 with 6 Axes>"
      ]
     },
     "metadata": {
      "needs_background": "light"
     },
     "output_type": "display_data"
    }
   ],
   "source": [
    "fig, ax = plt.subplots(2, 3, figsize=(15, 10))\n",
    "violates_partial_order['resolution_size'].hist(bins=10, ax=ax[0][0])\n",
    "ax[0][0].set_title('All resolution sizes')\n",
    "\n",
    "violates_partial_order[violates_partial_order['resolution_size'] < 5000]['resolution_size'].hist(bins=10, ax=ax[0][1])\n",
    "ax[0][1].set_title('Resolution size < 5000')\n",
    "\n",
    "violates_partial_order[violates_partial_order['resolution_size'] < 1000]['resolution_size'].hist(bins=10, ax=ax[0][2])\n",
    "ax[0][2].set_title('Resolution size < 1000')\n",
    "\n",
    "violates_partial_order[violates_partial_order['resolution_size'] < 500]['resolution_size'].hist(bins=10, ax=ax[1][0])\n",
    "ax[1][0].set_title('Resolution size < 500')\n",
    "\n",
    "violates_partial_order[violates_partial_order['resolution_size'] < 100]['resolution_size'].hist(bins=10, ax=ax[1][1])\n",
    "ax[1][1].set_title('Resolution size < 100')\n",
    "\n",
    "violates_partial_order[violates_partial_order['resolution_size'] < 50]['resolution_size'].hist(bins=10, ax=ax[1][2])\n",
    "ax[1][2].set_title('Resolution size < 50')\n",
    "\n",
    "for i in range(2):\n",
    "    for j in range(3):\n",
    "        ax[i][j].set_xlabel(\"Resolution Size\")\n",
    "        ax[i][j].set_ylabel(\"# of Chunks\")\n",
    "fig.tight_layout()"
   ]
  },
  {
   "cell_type": "markdown",
   "metadata": {},
   "source": [
    "### Characteristics of chunks where the resolution does not violate the partial order"
   ]
  },
  {
   "cell_type": "code",
   "execution_count": 10,
   "metadata": {},
   "outputs": [
    {
     "data": {
      "text/html": [
       "<div>\n",
       "<style scoped>\n",
       "    .dataframe tbody tr th:only-of-type {\n",
       "        vertical-align: middle;\n",
       "    }\n",
       "\n",
       "    .dataframe tbody tr th {\n",
       "        vertical-align: top;\n",
       "    }\n",
       "\n",
       "    .dataframe thead th {\n",
       "        text-align: right;\n",
       "    }\n",
       "</style>\n",
       "<table border=\"1\" class=\"dataframe\">\n",
       "  <thead>\n",
       "    <tr style=\"text-align: right;\">\n",
       "      <th></th>\n",
       "      <th>chunk_size</th>\n",
       "      <th>resolution_size</th>\n",
       "    </tr>\n",
       "  </thead>\n",
       "  <tbody>\n",
       "    <tr>\n",
       "      <th>count</th>\n",
       "      <td>10584.00</td>\n",
       "      <td>10584.00</td>\n",
       "    </tr>\n",
       "    <tr>\n",
       "      <th>mean</th>\n",
       "      <td>19.79</td>\n",
       "      <td>7.08</td>\n",
       "    </tr>\n",
       "    <tr>\n",
       "      <th>std</th>\n",
       "      <td>38.50</td>\n",
       "      <td>19.85</td>\n",
       "    </tr>\n",
       "    <tr>\n",
       "      <th>min</th>\n",
       "      <td>8.00</td>\n",
       "      <td>1.00</td>\n",
       "    </tr>\n",
       "    <tr>\n",
       "      <th>25%</th>\n",
       "      <td>11.00</td>\n",
       "      <td>2.00</td>\n",
       "    </tr>\n",
       "    <tr>\n",
       "      <th>50%</th>\n",
       "      <td>13.00</td>\n",
       "      <td>3.00</td>\n",
       "    </tr>\n",
       "    <tr>\n",
       "      <th>75%</th>\n",
       "      <td>19.00</td>\n",
       "      <td>7.00</td>\n",
       "    </tr>\n",
       "    <tr>\n",
       "      <th>max</th>\n",
       "      <td>1852.00</td>\n",
       "      <td>948.00</td>\n",
       "    </tr>\n",
       "  </tbody>\n",
       "</table>\n",
       "</div>"
      ],
      "text/plain": [
       "       chunk_size  resolution_size\n",
       "count    10584.00         10584.00\n",
       "mean        19.79             7.08\n",
       "std         38.50            19.85\n",
       "min          8.00             1.00\n",
       "25%         11.00             2.00\n",
       "50%         13.00             3.00\n",
       "75%         19.00             7.00\n",
       "max       1852.00           948.00"
      ]
     },
     "execution_count": 10,
     "metadata": {},
     "output_type": "execute_result"
    }
   ],
   "source": [
    "does_not_violate[['chunk_size','resolution_size']].describe().round(2)"
   ]
  },
  {
   "cell_type": "code",
   "execution_count": 11,
   "metadata": {},
   "outputs": [
    {
     "data": {
      "text/plain": [
       "<AxesSubplot:>"
      ]
     },
     "execution_count": 11,
     "metadata": {},
     "output_type": "execute_result"
    },
    {
     "data": {
      "image/png": "[encoded data removed]",
      "text/plain": [
       "<Figure size 432x288 with 1 Axes>"
      ]
     },
     "metadata": {
      "needs_background": "light"
     },
     "output_type": "display_data"
    }
   ],
   "source": [
    "does_not_violate[['chunk_size', 'resolution_size']].boxplot(showfliers=False)"
   ]
  },
  {
   "cell_type": "code",
   "execution_count": 12,
   "metadata": {},
   "outputs": [
    {
     "data": {
      "image/png": "[encoded data removed]",
      "text/plain": [
       "<Figure size 1080x720 with 6 Axes>"
      ]
     },
     "metadata": {
      "needs_background": "light"
     },
     "output_type": "display_data"
    }
   ],
   "source": [
    "fig, ax = plt.subplots(2, 3, figsize=(15, 10))\n",
    "does_not_violate['chunk_size'].hist(bins=10, ax=ax[0][0])\n",
    "ax[0][0].set_title('All chunk sizes')\n",
    "\n",
    "does_not_violate[does_not_violate['chunk_size'] < 5000]['chunk_size'].hist(bins=10, ax=ax[0][1])\n",
    "ax[0][1].set_title('Chunk size < 5000')\n",
    "\n",
    "does_not_violate[does_not_violate['chunk_size'] < 1000]['chunk_size'].hist(bins=10, ax=ax[0][2])\n",
    "ax[0][2].set_title('Chunk size < 1000')\n",
    "\n",
    "does_not_violate[does_not_violate['chunk_size'] < 500]['chunk_size'].hist(bins=10, ax=ax[1][0])\n",
    "ax[1][0].set_title('Chunk size < 500')\n",
    "\n",
    "does_not_violate[does_not_violate['chunk_size'] < 100]['chunk_size'].hist(bins=10, ax=ax[1][1])\n",
    "ax[1][1].set_title('Chunk size < 100')\n",
    "\n",
    "does_not_violate[does_not_violate['chunk_size'] < 50]['chunk_size'].hist(bins=10, ax=ax[1][2])\n",
    "ax[1][2].set_title('Chunk size < 50')\n",
    "\n",
    "for i in range(2):\n",
    "    for j in range(3):\n",
    "        ax[i][j].set_xlabel(\"Chunk Size\")\n",
    "        ax[i][j].set_ylabel(\"# of Chunks\")\n",
    "fig.tight_layout()"
   ]
  },
  {
   "cell_type": "code",
   "execution_count": 13,
   "metadata": {},
   "outputs": [
    {
     "data": {
      "image/png": "[encoded data removed]",
      "text/plain": [
       "<Figure size 1080x720 with 6 Axes>"
      ]
     },
     "metadata": {
      "needs_background": "light"
     },
     "output_type": "display_data"
    }
   ],
   "source": [
    "fig, ax = plt.subplots(2, 3, figsize=(15, 10))\n",
    "does_not_violate['resolution_size'].hist(bins=10, ax=ax[0][0])\n",
    "ax[0][0].set_title('All resolution sizes')\n",
    "\n",
    "does_not_violate[does_not_violate['resolution_size'] < 5000]['resolution_size'].hist(bins=10, ax=ax[0][1])\n",
    "ax[0][1].set_title('Resolution size < 5000')\n",
    "\n",
    "does_not_violate[does_not_violate['resolution_size'] < 1000]['resolution_size'].hist(bins=10, ax=ax[0][2])\n",
    "ax[0][2].set_title('Resolution size < 1000')\n",
    "\n",
    "does_not_violate[does_not_violate['resolution_size'] < 500]['resolution_size'].hist(bins=10, ax=ax[1][0])\n",
    "ax[1][0].set_title('Resolution size < 500')\n",
    "\n",
    "does_not_violate[does_not_violate['resolution_size'] < 100]['resolution_size'].hist(bins=10, ax=ax[1][1])\n",
    "ax[1][1].set_title('Resolution size < 100')\n",
    "\n",
    "does_not_violate[does_not_violate['resolution_size'] < 50]['resolution_size'].hist(bins=10, ax=ax[1][2])\n",
    "ax[1][2].set_title('Resolution size < 50')\n",
    "\n",
    "for i in range(2):\n",
    "    for j in range(3):\n",
    "        ax[i][j].set_xlabel(\"Resolution Size\")\n",
    "        ax[i][j].set_ylabel(\"# of Chunks\")\n",
    "fig.tight_layout()"
   ]
  },
  {
   "cell_type": "markdown",
   "metadata": {},
   "source": [
    "### Random sample of small chunks that violate the partial order"
   ]
  },
  {
   "cell_type": "code",
   "execution_count": 14,
   "metadata": {},
   "outputs": [
    {
     "data": {
      "text/html": [
       "<div>\n",
       "<style scoped>\n",
       "    .dataframe tbody tr th:only-of-type {\n",
       "        vertical-align: middle;\n",
       "    }\n",
       "\n",
       "    .dataframe tbody tr th {\n",
       "        vertical-align: top;\n",
       "    }\n",
       "\n",
       "    .dataframe thead th {\n",
       "        text-align: right;\n",
       "    }\n",
       "</style>\n",
       "<table border=\"1\" class=\"dataframe\">\n",
       "  <thead>\n",
       "    <tr style=\"text-align: right;\">\n",
       "      <th></th>\n",
       "      <th>chunk_id</th>\n",
       "      <th>partial_order</th>\n",
       "      <th>chunk_size</th>\n",
       "      <th>resolution_size</th>\n",
       "    </tr>\n",
       "  </thead>\n",
       "  <tbody>\n",
       "    <tr>\n",
       "      <th>12212</th>\n",
       "      <td>1418722</td>\n",
       "      <td>False</td>\n",
       "      <td>14</td>\n",
       "      <td>3</td>\n",
       "    </tr>\n",
       "    <tr>\n",
       "      <th>6734</th>\n",
       "      <td>1075768</td>\n",
       "      <td>False</td>\n",
       "      <td>10</td>\n",
       "      <td>3</td>\n",
       "    </tr>\n",
       "    <tr>\n",
       "      <th>4827</th>\n",
       "      <td>987576</td>\n",
       "      <td>False</td>\n",
       "      <td>13</td>\n",
       "      <td>6</td>\n",
       "    </tr>\n",
       "    <tr>\n",
       "      <th>8840</th>\n",
       "      <td>1156647</td>\n",
       "      <td>False</td>\n",
       "      <td>12</td>\n",
       "      <td>3</td>\n",
       "    </tr>\n",
       "    <tr>\n",
       "      <th>4261</th>\n",
       "      <td>976306</td>\n",
       "      <td>False</td>\n",
       "      <td>13</td>\n",
       "      <td>2</td>\n",
       "    </tr>\n",
       "  </tbody>\n",
       "</table>\n",
       "</div>"
      ],
      "text/plain": [
       "       chunk_id partial_order  chunk_size  resolution_size\n",
       "12212   1418722         False          14                3\n",
       "6734    1075768         False          10                3\n",
       "4827     987576         False          13                6\n",
       "8840    1156647         False          12                3\n",
       "4261     976306         False          13                2"
      ]
     },
     "execution_count": 14,
     "metadata": {},
     "output_type": "execute_result"
    }
   ],
   "source": [
    "sample = violates_partial_order[violates_partial_order['chunk_size'] <= 15].sample(10, random_state = 42)\n",
    "sample.head()"
   ]
  },
  {
   "cell_type": "markdown",
   "metadata": {},
   "source": [
    "#### Chunk 1"
   ]
  },
  {
   "cell_type": "code",
   "execution_count": 15,
   "metadata": {},
   "outputs": [],
   "source": [
    "chunk1 = Chunk(int(sample.iloc[0]['chunk_id']))"
   ]
  },
  {
   "cell_type": "markdown",
   "metadata": {},
   "source": [
    "##### Conflicting chunk text"
   ]
  },
  {
   "cell_type": "code",
   "execution_count": 16,
   "metadata": {},
   "outputs": [
    {
     "name": "stdout",
     "output_type": "stream",
     "text": [
      "import org.apache.sshd.server.session.ServerSession;\n",
      "import org.eclipse.jgit.transport.resolver.ReceivePackFactory;\n",
      "import org.uberfire.java.nio.fs.jgit.JGitFileSystemProvider;\n",
      "<<<<<<<\n",
      "import org.uberfire.java.nio.security.FileSystemAuthorizer;\n",
      "import org.uberfire.java.nio.security.FileSystemUser;\n",
      "import org.uberfire.java.nio.security.FileSystemAuthenticator;\n",
      "=======\n",
      "import org.uberfire.java.nio.security.AuthorizationManager;\n",
      "import org.uberfire.java.nio.security.Session;\n",
      "import org.uberfire.java.nio.security.Subject;\n",
      "import org.uberfire.java.nio.security.UserPassAuthenticator;\n",
      ">>>>>>>\n",
      "\n",
      "public class GitSSHService {\n",
      "\n",
      "\n",
      "\n"
     ]
    }
   ],
   "source": [
    "print(chunk1.get_conflict_text())"
   ]
  },
  {
   "cell_type": "markdown",
   "metadata": {},
   "source": [
    "##### Resolution"
   ]
  },
  {
   "cell_type": "code",
   "execution_count": 17,
   "metadata": {
    "scrolled": true
   },
   "outputs": [
    {
     "name": "stdout",
     "output_type": "stream",
     "text": [
      "import org.apache.sshd.server.session.ServerSession;\n",
      "import org.eclipse.jgit.transport.resolver.ReceivePackFactory;\n",
      "import org.uberfire.java.nio.fs.jgit.JGitFileSystemProvider;\n",
      "import org.uberfire.java.nio.security.FileSystemAuthenticator;\n",
      "import org.uberfire.java.nio.security.FileSystemAuthorizer;\n",
      "import org.uberfire.java.nio.security.FileSystemUser;\n",
      "\n",
      "public class GitSSHService {\n",
      "\n",
      "\n"
     ]
    }
   ],
   "source": [
    "print(chunk1.resolution)"
   ]
  },
  {
   "cell_type": "markdown",
   "metadata": {},
   "source": [
    "Order of the imports was changed"
   ]
  },
  {
   "cell_type": "markdown",
   "metadata": {},
   "source": [
    "#### Chunk 2"
   ]
  },
  {
   "cell_type": "code",
   "execution_count": 18,
   "metadata": {},
   "outputs": [],
   "source": [
    "chunk2 = Chunk(sample.iloc[1]['chunk_id'])"
   ]
  },
  {
   "cell_type": "markdown",
   "metadata": {},
   "source": [
    "##### Conflicting chunk text"
   ]
  },
  {
   "cell_type": "code",
   "execution_count": 19,
   "metadata": {},
   "outputs": [
    {
     "name": "stdout",
     "output_type": "stream",
     "text": [
      "import gherkin.formatter.Reporter;\n",
      "import gherkin.formatter.model.Step;\n",
      "\n",
      "<<<<<<<\n",
      "import java.util.*;\n",
      "=======\n",
      "import java.util.List;\n",
      "import java.util.Locale;\n",
      ">>>>>>>\n",
      "\n",
      "public interface World {\n",
      "    void buildBackendWorldsAndRunBeforeHooks(Reporter reporter);\n",
      "\n",
      "\n"
     ]
    }
   ],
   "source": [
    "print(chunk2.get_conflict_text())"
   ]
  },
  {
   "cell_type": "markdown",
   "metadata": {},
   "source": [
    "##### Resolution"
   ]
  },
  {
   "cell_type": "code",
   "execution_count": 20,
   "metadata": {},
   "outputs": [
    {
     "name": "stdout",
     "output_type": "stream",
     "text": [
      "import gherkin.formatter.Reporter;\n",
      "import gherkin.formatter.model.Step;\n",
      "import java.util.Locale;\n",
      "import java.util.List;\n",
      "\n",
      "\n",
      "public interface World {\n",
      "    void buildBackendWorldsAndRunBeforeHooks(Reporter reporter);\n",
      "\n"
     ]
    }
   ],
   "source": [
    "print(chunk2.resolution)"
   ]
  },
  {
   "cell_type": "markdown",
   "metadata": {},
   "source": [
    "The order of the imports was changed in the resolution"
   ]
  },
  {
   "cell_type": "markdown",
   "metadata": {},
   "source": [
    "##### Chunk 3"
   ]
  },
  {
   "cell_type": "code",
   "execution_count": 21,
   "metadata": {},
   "outputs": [],
   "source": [
    "chunk3 = Chunk(sample.iloc[2]['chunk_id'])"
   ]
  },
  {
   "cell_type": "markdown",
   "metadata": {},
   "source": [
    "##### Conflicting chunk text"
   ]
  },
  {
   "cell_type": "code",
   "execution_count": 22,
   "metadata": {},
   "outputs": [
    {
     "name": "stdout",
     "output_type": "stream",
     "text": [
      " */\n",
      "package org.qi4j.runtime.query.grammar.impl;\n",
      "\n",
      "<<<<<<<\n",
      "import org.qi4j.api.entity.association.Association;\n",
      "import org.qi4j.api.entity.EntityComposite;\n",
      "import org.qi4j.api.query.grammar.AssociationReference;\n",
      "import org.qi4j.runtime.query.QueryException;\n",
      "import org.qi4j.runtime.entity.EntityInstance;\n",
      "\n",
      "=======\n",
      ">>>>>>>\n",
      "import java.lang.reflect.Method;\n",
      "import java.lang.reflect.ParameterizedType;\n",
      "import java.lang.reflect.Type;\n",
      "\n",
      "\n"
     ]
    }
   ],
   "source": [
    "print(chunk3.get_conflict_text())"
   ]
  },
  {
   "cell_type": "markdown",
   "metadata": {},
   "source": [
    "##### Resolution"
   ]
  },
  {
   "cell_type": "code",
   "execution_count": 23,
   "metadata": {
    "scrolled": true
   },
   "outputs": [
    {
     "name": "stdout",
     "output_type": "stream",
     "text": [
      " */\n",
      "package org.qi4j.runtime.query.grammar.impl;\n",
      "\n",
      "import org.qi4j.api.entity.EntityComposite;\n",
      "import org.qi4j.api.entity.association.Association;\n",
      "import org.qi4j.api.query.grammar.AssociationReference;\n",
      "import org.qi4j.runtime.entity.EntityInstance;\n",
      "import org.qi4j.runtime.query.QueryException;\n",
      "\n",
      "import java.lang.reflect.Method;\n",
      "import java.lang.reflect.ParameterizedType;\n",
      "import java.lang.reflect.Type;\n",
      "\n"
     ]
    }
   ],
   "source": [
    "print(chunk3.resolution)"
   ]
  },
  {
   "cell_type": "markdown",
   "metadata": {},
   "source": [
    "Order of the imports was changed in the resolution"
   ]
  },
  {
   "cell_type": "markdown",
   "metadata": {},
   "source": [
    "##### Chunk 4"
   ]
  },
  {
   "cell_type": "code",
   "execution_count": 24,
   "metadata": {},
   "outputs": [],
   "source": [
    "chunk4 = Chunk(sample.iloc[3]['chunk_id'])"
   ]
  },
  {
   "cell_type": "markdown",
   "metadata": {},
   "source": [
    "##### Conflicting chunk text"
   ]
  },
  {
   "cell_type": "code",
   "execution_count": 25,
   "metadata": {},
   "outputs": [
    {
     "name": "stdout",
     "output_type": "stream",
     "text": [
      "import com.yahoo.omid.client.TransactionalTable;\n",
      "import com.yahoo.omid.examples.Constants;\n",
      "import com.yahoo.omid.notifications.Interest;\n",
      "<<<<<<<\n",
      "import com.yahoo.omid.notifications.client.IncrementalApplication;\n",
      "import com.yahoo.omid.notifications.client.Observer;\n",
      "import com.yahoo.omid.notifications.client.DeltaOmid;\n",
      "=======\n",
      "import com.yahoo.omid.notifications.client.ObserverBehaviour;\n",
      "import com.yahoo.omid.notifications.client.OmidDelta;\n",
      ">>>>>>>\n",
      "\n",
      "/**\n",
      " * This applications shows the basic usage of the Omid's notification framework\n",
      "\n",
      "\n"
     ]
    }
   ],
   "source": [
    "print(chunk4.get_conflict_text())"
   ]
  },
  {
   "cell_type": "markdown",
   "metadata": {},
   "source": [
    "##### Resolution"
   ]
  },
  {
   "cell_type": "code",
   "execution_count": 26,
   "metadata": {
    "scrolled": true
   },
   "outputs": [
    {
     "name": "stdout",
     "output_type": "stream",
     "text": [
      "import com.yahoo.omid.client.TransactionalTable;\n",
      "import com.yahoo.omid.examples.Constants;\n",
      "import com.yahoo.omid.notifications.Interest;\n",
      "import com.yahoo.omid.notifications.client.DeltaOmid;\n",
      "import com.yahoo.omid.notifications.client.IncrementalApplication;\n",
      "import com.yahoo.omid.notifications.client.Observer;\n",
      "\n",
      "/**\n",
      " * This applications shows the basic usage of the Omid's notification framework\n",
      "\n"
     ]
    }
   ],
   "source": [
    "print(chunk4.resolution)"
   ]
  },
  {
   "cell_type": "markdown",
   "metadata": {},
   "source": [
    "Order of the imports was changed in the resolution"
   ]
  },
  {
   "cell_type": "markdown",
   "metadata": {},
   "source": [
    "##### Chunk 5"
   ]
  },
  {
   "cell_type": "code",
   "execution_count": 27,
   "metadata": {},
   "outputs": [],
   "source": [
    "chunk5 = Chunk(sample.iloc[4]['chunk_id'])"
   ]
  },
  {
   "cell_type": "markdown",
   "metadata": {},
   "source": [
    "##### Conflicting chunk text"
   ]
  },
  {
   "cell_type": "code",
   "execution_count": 28,
   "metadata": {},
   "outputs": [
    {
     "name": "stdout",
     "output_type": "stream",
     "text": [
      "import java.util.Map;\n",
      "import java.util.Properties;\n",
      "import java.util.StringTokenizer;\n",
      "<<<<<<<\n",
      "import org.hibernate.util.ArrayHelper;\n",
      "import org.hibernate.util.StringHelper;\n",
      "=======\n",
      "import java.util.Iterator;\n",
      "\n",
      "import org.hibernate.internal.util.collections.ArrayHelper;\n",
      "import org.hibernate.internal.util.StringHelper;\n",
      ">>>>>>>\n",
      "\n",
      "/**\n",
      " * Collection of helper methods for dealing with configuration settings.\n",
      "\n",
      "\n"
     ]
    }
   ],
   "source": [
    "print(chunk5.get_conflict_text())"
   ]
  },
  {
   "cell_type": "markdown",
   "metadata": {},
   "source": [
    "##### Resolution"
   ]
  },
  {
   "cell_type": "code",
   "execution_count": 29,
   "metadata": {
    "scrolled": true
   },
   "outputs": [
    {
     "name": "stdout",
     "output_type": "stream",
     "text": [
      "import java.util.Map;\n",
      "import java.util.Properties;\n",
      "import java.util.StringTokenizer;\n",
      "import org.hibernate.internal.util.StringHelper;\n",
      "import org.hibernate.internal.util.collections.ArrayHelper;\n",
      "\n",
      "/**\n",
      " * Collection of helper methods for dealing with configuration settings.\n",
      "\n"
     ]
    }
   ],
   "source": [
    "print(chunk5.resolution)"
   ]
  },
  {
   "cell_type": "markdown",
   "metadata": {},
   "source": [
    "Order of the imports was changed in the resolution"
   ]
  },
  {
   "cell_type": "markdown",
   "metadata": {},
   "source": [
    "# Characteristics of the chunks where the resolution could not be isolated from the context"
   ]
  },
  {
   "cell_type": "code",
   "execution_count": 30,
   "metadata": {},
   "outputs": [
    {
     "data": {
      "text/html": [
       "<div>\n",
       "<style scoped>\n",
       "    .dataframe tbody tr th:only-of-type {\n",
       "        vertical-align: middle;\n",
       "    }\n",
       "\n",
       "    .dataframe tbody tr th {\n",
       "        vertical-align: top;\n",
       "    }\n",
       "\n",
       "    .dataframe thead th {\n",
       "        text-align: right;\n",
       "    }\n",
       "</style>\n",
       "<table border=\"1\" class=\"dataframe\">\n",
       "  <thead>\n",
       "    <tr style=\"text-align: right;\">\n",
       "      <th></th>\n",
       "      <th>chunk_size</th>\n",
       "      <th>resolution_size</th>\n",
       "    </tr>\n",
       "  </thead>\n",
       "  <tbody>\n",
       "    <tr>\n",
       "      <th>count</th>\n",
       "      <td>2583.00</td>\n",
       "      <td>2583.00</td>\n",
       "    </tr>\n",
       "    <tr>\n",
       "      <th>mean</th>\n",
       "      <td>297.87</td>\n",
       "      <td>154.02</td>\n",
       "    </tr>\n",
       "    <tr>\n",
       "      <th>std</th>\n",
       "      <td>1145.38</td>\n",
       "      <td>572.47</td>\n",
       "    </tr>\n",
       "    <tr>\n",
       "      <th>min</th>\n",
       "      <td>9.00</td>\n",
       "      <td>7.00</td>\n",
       "    </tr>\n",
       "    <tr>\n",
       "      <th>25%</th>\n",
       "      <td>17.00</td>\n",
       "      <td>10.00</td>\n",
       "    </tr>\n",
       "    <tr>\n",
       "      <th>50%</th>\n",
       "      <td>33.00</td>\n",
       "      <td>19.00</td>\n",
       "    </tr>\n",
       "    <tr>\n",
       "      <th>75%</th>\n",
       "      <td>121.00</td>\n",
       "      <td>72.00</td>\n",
       "    </tr>\n",
       "    <tr>\n",
       "      <th>max</th>\n",
       "      <td>27116.00</td>\n",
       "      <td>13037.00</td>\n",
       "    </tr>\n",
       "  </tbody>\n",
       "</table>\n",
       "</div>"
      ],
      "text/plain": [
       "       chunk_size  resolution_size\n",
       "count     2583.00          2583.00\n",
       "mean       297.87           154.02\n",
       "std       1145.38           572.47\n",
       "min          9.00             7.00\n",
       "25%         17.00            10.00\n",
       "50%         33.00            19.00\n",
       "75%        121.00            72.00\n",
       "max      27116.00         13037.00"
      ]
     },
     "execution_count": 30,
     "metadata": {},
     "output_type": "execute_result"
    }
   ],
   "source": [
    "imprecise[['chunk_size','resolution_size']].describe().round(2)"
   ]
  },
  {
   "cell_type": "code",
   "execution_count": 31,
   "metadata": {},
   "outputs": [
    {
     "data": {
      "text/plain": [
       "<AxesSubplot:>"
      ]
     },
     "execution_count": 31,
     "metadata": {},
     "output_type": "execute_result"
    },
    {
     "data": {
      "image/png": "[encoded data removed]",
      "text/plain": [
       "<Figure size 432x288 with 1 Axes>"
      ]
     },
     "metadata": {
      "needs_background": "light"
     },
     "output_type": "display_data"
    }
   ],
   "source": [
    "imprecise[['chunk_size', 'resolution_size']].boxplot(showfliers=False)"
   ]
  },
  {
   "cell_type": "code",
   "execution_count": 32,
   "metadata": {},
   "outputs": [
    {
     "data": {
      "image/png": "[encoded data removed]",
      "text/plain": [
       "<Figure size 1080x720 with 6 Axes>"
      ]
     },
     "metadata": {
      "needs_background": "light"
     },
     "output_type": "display_data"
    }
   ],
   "source": [
    "fig, ax = plt.subplots(2, 3, figsize=(15, 10))\n",
    "imprecise['chunk_size'].hist(bins=10, ax=ax[0][0])\n",
    "ax[0][0].set_title('All chunk sizes')\n",
    "\n",
    "imprecise[imprecise['chunk_size'] < 5000]['chunk_size'].hist(bins=10, ax=ax[0][1])\n",
    "ax[0][1].set_title('Chunk size < 5000')\n",
    "\n",
    "imprecise[imprecise['chunk_size'] < 1000]['chunk_size'].hist(bins=10, ax=ax[0][2])\n",
    "ax[0][2].set_title('Chunk size < 1000')\n",
    "\n",
    "imprecise[imprecise['chunk_size'] < 500]['chunk_size'].hist(bins=10, ax=ax[1][0])\n",
    "ax[1][0].set_title('Chunk size < 500')\n",
    "\n",
    "imprecise[imprecise['chunk_size'] < 100]['chunk_size'].hist(bins=10, ax=ax[1][1])\n",
    "ax[1][1].set_title('Chunk size < 100')\n",
    "\n",
    "imprecise[imprecise['chunk_size'] < 50]['chunk_size'].hist(bins=10, ax=ax[1][2])\n",
    "ax[1][2].set_title('Chunk size < 50')\n",
    "for i in range(2):\n",
    "    for j in range(3):\n",
    "        ax[i][j].set_xlabel(\"Chunk Size\")\n",
    "        ax[i][j].set_ylabel(\"# of Chunks\")\n",
    "        \n",
    "fig.tight_layout()"
   ]
  },
  {
   "cell_type": "code",
   "execution_count": 33,
   "metadata": {
    "scrolled": false
   },
   "outputs": [
    {
     "data": {
      "image/png": "[encoded data removed]",
      "text/plain": [
       "<Figure size 1080x720 with 6 Axes>"
      ]
     },
     "metadata": {
      "needs_background": "light"
     },
     "output_type": "display_data"
    }
   ],
   "source": [
    "fig, ax = plt.subplots(2, 3, figsize=(15, 10))\n",
    "imprecise['resolution_size'].hist(bins=10, ax=ax[0][0])\n",
    "ax[0][0].set_title('All resolution sizes')\n",
    "\n",
    "imprecise[imprecise['resolution_size'] < 5000]['resolution_size'].hist(bins=10, ax=ax[0][1])\n",
    "ax[0][1].set_title('Resolution size < 5000')\n",
    "\n",
    "imprecise[imprecise['resolution_size'] < 1000]['resolution_size'].hist(bins=10, ax=ax[0][2])\n",
    "ax[0][2].set_title('Resolution size < 1000')\n",
    "\n",
    "imprecise[imprecise['resolution_size'] < 500]['resolution_size'].hist(bins=10, ax=ax[1][0])\n",
    "ax[1][0].set_title('Resolution size < 500')\n",
    "\n",
    "imprecise[imprecise['resolution_size'] < 100]['resolution_size'].hist(bins=10, ax=ax[1][1])\n",
    "ax[1][1].set_title('Resolution size < 100')\n",
    "\n",
    "imprecise[imprecise['resolution_size'] < 50]['resolution_size'].hist(bins=10, ax=ax[1][2])\n",
    "ax[1][2].set_title('Resolution size < 50')\n",
    "\n",
    "for i in range(2):\n",
    "    for j in range(3):\n",
    "        ax[i][j].set_xlabel(\"Resolution Size\")\n",
    "        ax[i][j].set_ylabel(\"# of Chunks\")\n",
    "fig.tight_layout()"
   ]
  },
  {
   "cell_type": "code",
   "execution_count": null,
   "metadata": {},
   "outputs": [],
   "source": []
  }
 ],
 "metadata": {
  "interpreter": {
   "hash": "ba8b8902bd6837e679b9c6dd4fd4f388514857329c6f0a22599e2859d4d8f900"
  },
  "kernelspec": {
   "display_name": "Python 3",
   "language": "python",
   "name": "python3"
  },
  "language_info": {
   "codemirror_mode": {
    "name": "ipython",
    "version": 3
   },
   "file_extension": ".py",
   "mimetype": "text/x-python",
   "name": "python",
   "nbconvert_exporter": "python",
   "pygments_lexer": "ipython3",
   "version": "3.8.5"
  }
 },
 "nbformat": 4,
 "nbformat_minor": 2
}
