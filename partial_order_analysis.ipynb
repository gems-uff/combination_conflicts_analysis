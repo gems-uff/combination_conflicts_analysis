{
 "cells": [
  {
   "cell_type": "code",
   "execution_count": 1,
   "metadata": {},
   "outputs": [],
   "source": [
    "import pandas as pd\n",
    "import matplotlib.pyplot as plt\n",
    "from inspect_util import Chunk"
   ]
  },
  {
   "cell_type": "code",
   "execution_count": 2,
   "metadata": {},
   "outputs": [
    {
     "data": {
      "text/html": [
       "<div>\n",
       "<style scoped>\n",
       "    .dataframe tbody tr th:only-of-type {\n",
       "        vertical-align: middle;\n",
       "    }\n",
       "\n",
       "    .dataframe tbody tr th {\n",
       "        vertical-align: top;\n",
       "    }\n",
       "\n",
       "    .dataframe thead th {\n",
       "        text-align: right;\n",
       "    }\n",
       "</style>\n",
       "<table border=\"1\" class=\"dataframe\">\n",
       "  <thead>\n",
       "    <tr style=\"text-align: right;\">\n",
       "      <th></th>\n",
       "      <th>chunk_id</th>\n",
       "      <th>violates_partial_order</th>\n",
       "      <th>chunk_size</th>\n",
       "      <th>resolution_size</th>\n",
       "    </tr>\n",
       "  </thead>\n",
       "  <tbody>\n",
       "    <tr>\n",
       "      <th>0</th>\n",
       "      <td>776662</td>\n",
       "      <td>False</td>\n",
       "      <td>25</td>\n",
       "      <td>13</td>\n",
       "    </tr>\n",
       "    <tr>\n",
       "      <th>1</th>\n",
       "      <td>776782</td>\n",
       "      <td>True</td>\n",
       "      <td>121</td>\n",
       "      <td>102</td>\n",
       "    </tr>\n",
       "    <tr>\n",
       "      <th>2</th>\n",
       "      <td>776793</td>\n",
       "      <td>False</td>\n",
       "      <td>13</td>\n",
       "      <td>6</td>\n",
       "    </tr>\n",
       "    <tr>\n",
       "      <th>3</th>\n",
       "      <td>776828</td>\n",
       "      <td>False</td>\n",
       "      <td>12</td>\n",
       "      <td>4</td>\n",
       "    </tr>\n",
       "    <tr>\n",
       "      <th>4</th>\n",
       "      <td>776863</td>\n",
       "      <td>False</td>\n",
       "      <td>13</td>\n",
       "      <td>6</td>\n",
       "    </tr>\n",
       "  </tbody>\n",
       "</table>\n",
       "</div>"
      ],
      "text/plain": [
       "   chunk_id violates_partial_order  chunk_size  resolution_size\n",
       "0    776662                  False          25               13\n",
       "1    776782                   True         121              102\n",
       "2    776793                  False          13                6\n",
       "3    776828                  False          12                4\n",
       "4    776863                  False          13                6"
      ]
     },
     "execution_count": 2,
     "metadata": {},
     "output_type": "execute_result"
    }
   ],
   "source": [
    "df = pd.read_csv('data/partial_order_result.csv')\n",
    "df.head()"
   ]
  },
  {
   "cell_type": "markdown",
   "metadata": {},
   "source": [
    "### What is the percentage of chunks that violates the partial order in the resolution?"
   ]
  },
  {
   "cell_type": "code",
   "execution_count": 3,
   "metadata": {},
   "outputs": [
    {
     "name": "stdout",
     "output_type": "stream",
     "text": [
      "16.92%\n"
     ]
    }
   ],
   "source": [
    "violates_partial_order = df[df['violates_partial_order'] == True]\n",
    "does_not_violate = df[df['violates_partial_order'] == False]\n",
    "print(f'{(len(violates_partial_order)/len(df))*100:.2f}%')"
   ]
  },
  {
   "cell_type": "markdown",
   "metadata": {},
   "source": [
    "### Characteristics of chunks where the resolution violates the partial order"
   ]
  },
  {
   "cell_type": "code",
   "execution_count": 4,
   "metadata": {},
   "outputs": [
    {
     "data": {
      "text/html": [
       "<div>\n",
       "<style scoped>\n",
       "    .dataframe tbody tr th:only-of-type {\n",
       "        vertical-align: middle;\n",
       "    }\n",
       "\n",
       "    .dataframe tbody tr th {\n",
       "        vertical-align: top;\n",
       "    }\n",
       "\n",
       "    .dataframe thead th {\n",
       "        text-align: right;\n",
       "    }\n",
       "</style>\n",
       "<table border=\"1\" class=\"dataframe\">\n",
       "  <thead>\n",
       "    <tr style=\"text-align: right;\">\n",
       "      <th></th>\n",
       "      <th>chunk_size</th>\n",
       "      <th>resolution_size</th>\n",
       "    </tr>\n",
       "  </thead>\n",
       "  <tbody>\n",
       "    <tr>\n",
       "      <th>count</th>\n",
       "      <td>2297.00</td>\n",
       "      <td>2297.00</td>\n",
       "    </tr>\n",
       "    <tr>\n",
       "      <th>mean</th>\n",
       "      <td>354.12</td>\n",
       "      <td>183.37</td>\n",
       "    </tr>\n",
       "    <tr>\n",
       "      <th>std</th>\n",
       "      <td>1209.98</td>\n",
       "      <td>605.56</td>\n",
       "    </tr>\n",
       "    <tr>\n",
       "      <th>min</th>\n",
       "      <td>10.00</td>\n",
       "      <td>3.00</td>\n",
       "    </tr>\n",
       "    <tr>\n",
       "      <th>25%</th>\n",
       "      <td>29.00</td>\n",
       "      <td>15.00</td>\n",
       "    </tr>\n",
       "    <tr>\n",
       "      <th>50%</th>\n",
       "      <td>55.00</td>\n",
       "      <td>32.00</td>\n",
       "    </tr>\n",
       "    <tr>\n",
       "      <th>75%</th>\n",
       "      <td>206.00</td>\n",
       "      <td>115.00</td>\n",
       "    </tr>\n",
       "    <tr>\n",
       "      <th>max</th>\n",
       "      <td>27116.00</td>\n",
       "      <td>13034.00</td>\n",
       "    </tr>\n",
       "  </tbody>\n",
       "</table>\n",
       "</div>"
      ],
      "text/plain": [
       "       chunk_size  resolution_size\n",
       "count     2297.00          2297.00\n",
       "mean       354.12           183.37\n",
       "std       1209.98           605.56\n",
       "min         10.00             3.00\n",
       "25%         29.00            15.00\n",
       "50%         55.00            32.00\n",
       "75%        206.00           115.00\n",
       "max      27116.00         13034.00"
      ]
     },
     "execution_count": 4,
     "metadata": {},
     "output_type": "execute_result"
    }
   ],
   "source": [
    "violates_partial_order[['chunk_size','resolution_size']].describe().round(2)"
   ]
  },
  {
   "cell_type": "code",
   "execution_count": 5,
   "metadata": {},
   "outputs": [
    {
     "data": {
      "text/plain": [
       "<AxesSubplot:>"
      ]
     },
     "execution_count": 5,
     "metadata": {},
     "output_type": "execute_result"
    },
    {
     "data": {
      "image/png": "[encoded data removed]",
      "text/plain": [
       "<Figure size 432x288 with 1 Axes>"
      ]
     },
     "metadata": {
      "needs_background": "light"
     },
     "output_type": "display_data"
    }
   ],
   "source": [
    "violates_partial_order[['chunk_size', 'resolution_size']].boxplot(showfliers=False)"
   ]
  },
  {
   "cell_type": "code",
   "execution_count": 6,
   "metadata": {},
   "outputs": [
    {
     "data": {
      "text/plain": [
       "Text(0.5, 1.0, 'Chunk size < 50')"
      ]
     },
     "execution_count": 6,
     "metadata": {},
     "output_type": "execute_result"
    },
    {
     "data": {
      "image/png": "[encoded data removed]",
      "text/plain": [
       "<Figure size 1080x720 with 6 Axes>"
      ]
     },
     "metadata": {
      "needs_background": "light"
     },
     "output_type": "display_data"
    }
   ],
   "source": [
    "fig, ax = plt.subplots(2, 3, figsize=(15, 10))\n",
    "violates_partial_order['chunk_size'].hist(bins=10, ax=ax[0][0])\n",
    "ax[0][0].set_title('All chunk sizes')\n",
    "\n",
    "violates_partial_order[violates_partial_order['chunk_size'] < 5000]['chunk_size'].hist(bins=10, ax=ax[0][1])\n",
    "ax[0][1].set_title('Chunk size < 5000')\n",
    "\n",
    "violates_partial_order[violates_partial_order['chunk_size'] < 1000]['chunk_size'].hist(bins=10, ax=ax[0][2])\n",
    "ax[0][2].set_title('Chunk size < 1000')\n",
    "\n",
    "violates_partial_order[violates_partial_order['chunk_size'] < 500]['chunk_size'].hist(bins=10, ax=ax[1][0])\n",
    "ax[1][0].set_title('Chunk size < 500')\n",
    "\n",
    "violates_partial_order[violates_partial_order['chunk_size'] < 100]['chunk_size'].hist(bins=10, ax=ax[1][1])\n",
    "ax[1][1].set_title('Chunk size < 100')\n",
    "\n",
    "violates_partial_order[violates_partial_order['chunk_size'] < 50]['chunk_size'].hist(bins=10, ax=ax[1][2])\n",
    "ax[1][2].set_title('Chunk size < 50')"
   ]
  },
  {
   "cell_type": "code",
   "execution_count": 7,
   "metadata": {},
   "outputs": [
    {
     "data": {
      "text/plain": [
       "Text(0.5, 1.0, 'Resolution size < 50')"
      ]
     },
     "execution_count": 7,
     "metadata": {},
     "output_type": "execute_result"
    },
    {
     "data": {
      "image/png": "[encoded data removed]",
      "text/plain": [
       "<Figure size 1080x720 with 6 Axes>"
      ]
     },
     "metadata": {
      "needs_background": "light"
     },
     "output_type": "display_data"
    }
   ],
   "source": [
    "fig, ax = plt.subplots(2, 3, figsize=(15, 10))\n",
    "violates_partial_order['resolution_size'].hist(bins=10, ax=ax[0][0])\n",
    "ax[0][0].set_title('All resolution sizes')\n",
    "\n",
    "violates_partial_order[violates_partial_order['resolution_size'] < 5000]['resolution_size'].hist(bins=10, ax=ax[0][1])\n",
    "ax[0][1].set_title('Resolution size < 5000')\n",
    "\n",
    "violates_partial_order[violates_partial_order['resolution_size'] < 1000]['resolution_size'].hist(bins=10, ax=ax[0][2])\n",
    "ax[0][2].set_title('Resolution size < 1000')\n",
    "\n",
    "violates_partial_order[violates_partial_order['resolution_size'] < 500]['resolution_size'].hist(bins=10, ax=ax[1][0])\n",
    "ax[1][0].set_title('Resolution size < 500')\n",
    "\n",
    "violates_partial_order[violates_partial_order['resolution_size'] < 100]['resolution_size'].hist(bins=10, ax=ax[1][1])\n",
    "ax[1][1].set_title('Resolution size < 100')\n",
    "\n",
    "violates_partial_order[violates_partial_order['resolution_size'] < 50]['resolution_size'].hist(bins=10, ax=ax[1][2])\n",
    "ax[1][2].set_title('Resolution size < 50')"
   ]
  },
  {
   "cell_type": "markdown",
   "metadata": {},
   "source": [
    "### Characteristics of chunks where the resolution does not violate the partial order"
   ]
  },
  {
   "cell_type": "code",
   "execution_count": 8,
   "metadata": {},
   "outputs": [
    {
     "data": {
      "text/html": [
       "<div>\n",
       "<style scoped>\n",
       "    .dataframe tbody tr th:only-of-type {\n",
       "        vertical-align: middle;\n",
       "    }\n",
       "\n",
       "    .dataframe tbody tr th {\n",
       "        vertical-align: top;\n",
       "    }\n",
       "\n",
       "    .dataframe thead th {\n",
       "        text-align: right;\n",
       "    }\n",
       "</style>\n",
       "<table border=\"1\" class=\"dataframe\">\n",
       "  <thead>\n",
       "    <tr style=\"text-align: right;\">\n",
       "      <th></th>\n",
       "      <th>chunk_size</th>\n",
       "      <th>resolution_size</th>\n",
       "    </tr>\n",
       "  </thead>\n",
       "  <tbody>\n",
       "    <tr>\n",
       "      <th>count</th>\n",
       "      <td>11261.00</td>\n",
       "      <td>11261.00</td>\n",
       "    </tr>\n",
       "    <tr>\n",
       "      <th>mean</th>\n",
       "      <td>18.06</td>\n",
       "      <td>6.23</td>\n",
       "    </tr>\n",
       "    <tr>\n",
       "      <th>std</th>\n",
       "      <td>45.72</td>\n",
       "      <td>6.61</td>\n",
       "    </tr>\n",
       "    <tr>\n",
       "      <th>min</th>\n",
       "      <td>8.00</td>\n",
       "      <td>2.00</td>\n",
       "    </tr>\n",
       "    <tr>\n",
       "      <th>25%</th>\n",
       "      <td>11.00</td>\n",
       "      <td>3.00</td>\n",
       "    </tr>\n",
       "    <tr>\n",
       "      <th>50%</th>\n",
       "      <td>13.00</td>\n",
       "      <td>4.00</td>\n",
       "    </tr>\n",
       "    <tr>\n",
       "      <th>75%</th>\n",
       "      <td>18.00</td>\n",
       "      <td>7.00</td>\n",
       "    </tr>\n",
       "    <tr>\n",
       "      <th>max</th>\n",
       "      <td>2637.00</td>\n",
       "      <td>175.00</td>\n",
       "    </tr>\n",
       "  </tbody>\n",
       "</table>\n",
       "</div>"
      ],
      "text/plain": [
       "       chunk_size  resolution_size\n",
       "count    11261.00         11261.00\n",
       "mean        18.06             6.23\n",
       "std         45.72             6.61\n",
       "min          8.00             2.00\n",
       "25%         11.00             3.00\n",
       "50%         13.00             4.00\n",
       "75%         18.00             7.00\n",
       "max       2637.00           175.00"
      ]
     },
     "execution_count": 8,
     "metadata": {},
     "output_type": "execute_result"
    }
   ],
   "source": [
    "does_not_violate[['chunk_size','resolution_size']].describe().round(2)"
   ]
  },
  {
   "cell_type": "code",
   "execution_count": 9,
   "metadata": {},
   "outputs": [
    {
     "data": {
      "text/plain": [
       "<AxesSubplot:>"
      ]
     },
     "execution_count": 9,
     "metadata": {},
     "output_type": "execute_result"
    },
    {
     "data": {
      "image/png": "[encoded data removed]",
      "text/plain": [
       "<Figure size 432x288 with 1 Axes>"
      ]
     },
     "metadata": {
      "needs_background": "light"
     },
     "output_type": "display_data"
    }
   ],
   "source": [
    "does_not_violate[['chunk_size', 'resolution_size']].boxplot(showfliers=False)"
   ]
  },
  {
   "cell_type": "code",
   "execution_count": 11,
   "metadata": {},
   "outputs": [
    {
     "data": {
      "text/plain": [
       "Text(0.5, 1.0, 'Chunk size < 50')"
      ]
     },
     "execution_count": 11,
     "metadata": {},
     "output_type": "execute_result"
    },
    {
     "data": {
      "image/png": "[encoded data removed]",
      "text/plain": [
       "<Figure size 1080x720 with 6 Axes>"
      ]
     },
     "metadata": {
      "needs_background": "light"
     },
     "output_type": "display_data"
    }
   ],
   "source": [
    "fig, ax = plt.subplots(2, 3, figsize=(15, 10))\n",
    "does_not_violate['chunk_size'].hist(bins=10, ax=ax[0][0])\n",
    "ax[0][0].set_title('All chunk sizes')\n",
    "\n",
    "does_not_violate[does_not_violate['chunk_size'] < 5000]['chunk_size'].hist(bins=10, ax=ax[0][1])\n",
    "ax[0][1].set_title('Chunk size < 5000')\n",
    "\n",
    "does_not_violate[does_not_violate['chunk_size'] < 1000]['chunk_size'].hist(bins=10, ax=ax[0][2])\n",
    "ax[0][2].set_title('Chunk size < 1000')\n",
    "\n",
    "does_not_violate[does_not_violate['chunk_size'] < 500]['chunk_size'].hist(bins=10, ax=ax[1][0])\n",
    "ax[1][0].set_title('Chunk size < 500')\n",
    "\n",
    "does_not_violate[does_not_violate['chunk_size'] < 100]['chunk_size'].hist(bins=10, ax=ax[1][1])\n",
    "ax[1][1].set_title('Chunk size < 100')\n",
    "\n",
    "does_not_violate[does_not_violate['chunk_size'] < 50]['chunk_size'].hist(bins=10, ax=ax[1][2])\n",
    "ax[1][2].set_title('Chunk size < 50')"
   ]
  },
  {
   "cell_type": "code",
   "execution_count": 12,
   "metadata": {},
   "outputs": [
    {
     "data": {
      "text/plain": [
       "Text(0.5, 1.0, 'Resolution size < 50')"
      ]
     },
     "execution_count": 12,
     "metadata": {},
     "output_type": "execute_result"
    },
    {
     "data": {
      "image/png": "[encoded data removed]",
      "text/plain": [
       "<Figure size 1080x720 with 6 Axes>"
      ]
     },
     "metadata": {
      "needs_background": "light"
     },
     "output_type": "display_data"
    }
   ],
   "source": [
    "fig, ax = plt.subplots(2, 3, figsize=(15, 10))\n",
    "does_not_violate['resolution_size'].hist(bins=10, ax=ax[0][0])\n",
    "ax[0][0].set_title('All resolution sizes')\n",
    "\n",
    "does_not_violate[does_not_violate['resolution_size'] < 5000]['resolution_size'].hist(bins=10, ax=ax[0][1])\n",
    "ax[0][1].set_title('Resolution size < 5000')\n",
    "\n",
    "does_not_violate[does_not_violate['resolution_size'] < 1000]['resolution_size'].hist(bins=10, ax=ax[0][2])\n",
    "ax[0][2].set_title('Resolution size < 1000')\n",
    "\n",
    "does_not_violate[does_not_violate['resolution_size'] < 500]['resolution_size'].hist(bins=10, ax=ax[1][0])\n",
    "ax[1][0].set_title('Resolution size < 500')\n",
    "\n",
    "does_not_violate[does_not_violate['resolution_size'] < 100]['resolution_size'].hist(bins=10, ax=ax[1][1])\n",
    "ax[1][1].set_title('Resolution size < 100')\n",
    "\n",
    "does_not_violate[does_not_violate['resolution_size'] < 50]['resolution_size'].hist(bins=10, ax=ax[1][2])\n",
    "ax[1][2].set_title('Resolution size < 50')"
   ]
  },
  {
   "cell_type": "markdown",
   "metadata": {},
   "source": [
    "### Random sample of small chunks that violate the partial order"
   ]
  },
  {
   "cell_type": "code",
   "execution_count": 13,
   "metadata": {},
   "outputs": [
    {
     "data": {
      "text/html": [
       "<div>\n",
       "<style scoped>\n",
       "    .dataframe tbody tr th:only-of-type {\n",
       "        vertical-align: middle;\n",
       "    }\n",
       "\n",
       "    .dataframe tbody tr th {\n",
       "        vertical-align: top;\n",
       "    }\n",
       "\n",
       "    .dataframe thead th {\n",
       "        text-align: right;\n",
       "    }\n",
       "</style>\n",
       "<table border=\"1\" class=\"dataframe\">\n",
       "  <thead>\n",
       "    <tr style=\"text-align: right;\">\n",
       "      <th></th>\n",
       "      <th>chunk_id</th>\n",
       "      <th>violates_partial_order</th>\n",
       "      <th>chunk_size</th>\n",
       "      <th>resolution_size</th>\n",
       "    </tr>\n",
       "  </thead>\n",
       "  <tbody>\n",
       "    <tr>\n",
       "      <th>11921</th>\n",
       "      <td>1410297</td>\n",
       "      <td>True</td>\n",
       "      <td>12</td>\n",
       "      <td>4</td>\n",
       "    </tr>\n",
       "    <tr>\n",
       "      <th>6741</th>\n",
       "      <td>1076439</td>\n",
       "      <td>True</td>\n",
       "      <td>11</td>\n",
       "      <td>6</td>\n",
       "    </tr>\n",
       "    <tr>\n",
       "      <th>10064</th>\n",
       "      <td>1288373</td>\n",
       "      <td>True</td>\n",
       "      <td>12</td>\n",
       "      <td>4</td>\n",
       "    </tr>\n",
       "    <tr>\n",
       "      <th>8449</th>\n",
       "      <td>1140412</td>\n",
       "      <td>True</td>\n",
       "      <td>12</td>\n",
       "      <td>5</td>\n",
       "    </tr>\n",
       "    <tr>\n",
       "      <th>3585</th>\n",
       "      <td>960947</td>\n",
       "      <td>True</td>\n",
       "      <td>12</td>\n",
       "      <td>4</td>\n",
       "    </tr>\n",
       "  </tbody>\n",
       "</table>\n",
       "</div>"
      ],
      "text/plain": [
       "       chunk_id violates_partial_order  chunk_size  resolution_size\n",
       "11921   1410297                   True          12                4\n",
       "6741    1076439                   True          11                6\n",
       "10064   1288373                   True          12                4\n",
       "8449    1140412                   True          12                5\n",
       "3585     960947                   True          12                4"
      ]
     },
     "execution_count": 13,
     "metadata": {},
     "output_type": "execute_result"
    }
   ],
   "source": [
    "sample = violates_partial_order[violates_partial_order['chunk_size'] <= 12].sample(10, random_state = 42)\n",
    "sample.head()"
   ]
  },
  {
   "cell_type": "markdown",
   "metadata": {},
   "source": [
    "#### Chunk 1"
   ]
  },
  {
   "cell_type": "code",
   "execution_count": 14,
   "metadata": {},
   "outputs": [],
   "source": [
    "chunk1 = Chunk(sample.iloc[0]['chunk_id'])"
   ]
  },
  {
   "cell_type": "markdown",
   "metadata": {},
   "source": [
    "##### Conflicting chunk text"
   ]
  },
  {
   "cell_type": "code",
   "execution_count": 15,
   "metadata": {},
   "outputs": [
    {
     "name": "stdout",
     "output_type": "stream",
     "text": [
      "\n",
      "public class PetStoreContext {\n",
      "\n",
      "<<<<<<<\n",
      "\tprivate static final String JDBC_URL = \"jdbc.url\";\n",
      "    private static final String MYSQL_TEST_DATABASE = \"jdbc:mysql://localhost:3306/petstore_test\";\n",
      "    private static final String MIGRATION_PROPERTIES_FILE = \"/migration.properties\";\n",
      "=======\n",
      "    private static final String JDBC_URL = \"jdbc.url\";\n",
      "    private static final String DEFAULT_MYSQL_TEST_DATABASE = \"jdbc:mysql://localhost:3306/petstore_test\";\n",
      ">>>>>>>\n",
      "\n",
      "    private static ApplicationContext applicationContext;\n",
      "\n",
      "\n",
      "\n"
     ]
    }
   ],
   "source": [
    "print(chunk1.get_conflict_text())"
   ]
  },
  {
   "cell_type": "markdown",
   "metadata": {},
   "source": [
    "##### Resolution"
   ]
  },
  {
   "cell_type": "code",
   "execution_count": 16,
   "metadata": {
    "scrolled": true
   },
   "outputs": [
    {
     "name": "stdout",
     "output_type": "stream",
     "text": [
      "\n",
      "public class PetStoreContext {\n",
      "\n",
      "\tprivate static final String MIGRATION_PROPERTIES_FILE = \"/migration.properties\";\n",
      "    private static final String JDBC_URL = \"jdbc.url\";\n",
      "    private static final String DEFAULT_MYSQL_TEST_DATABASE = \"jdbc:mysql://localhost:3306/petstore_test\";\n",
      "\n",
      "\n",
      "\n"
     ]
    }
   ],
   "source": [
    "print(chunk1.resolution)"
   ]
  },
  {
   "cell_type": "markdown",
   "metadata": {},
   "source": [
    "The line containing \"private static final String MIGRATION_PROPERTIES_FILE = \"/migration.properties\";\" was moved to the top of the resolution."
   ]
  },
  {
   "cell_type": "markdown",
   "metadata": {},
   "source": [
    "#### Chunk 2"
   ]
  },
  {
   "cell_type": "code",
   "execution_count": 17,
   "metadata": {},
   "outputs": [],
   "source": [
    "chunk2 = Chunk(sample.iloc[1]['chunk_id'])"
   ]
  },
  {
   "cell_type": "markdown",
   "metadata": {},
   "source": [
    "##### Conflicting chunk text"
   ]
  },
  {
   "cell_type": "code",
   "execution_count": 18,
   "metadata": {},
   "outputs": [
    {
     "name": "stdout",
     "output_type": "stream",
     "text": [
      "package cuke4duke.internal.java;\n",
      "\n",
      "<<<<<<<\n",
      "import cuke4duke.*;\n",
      "import cuke4duke.internal.language.ProgrammingLanguage;\n",
      "import cuke4duke.internal.language.StepDefinition;\n",
      "import cuke4duke.internal.language.LanguageMixin;\n",
      "\n",
      "=======\n",
      ">>>>>>>\n",
      "import java.lang.reflect.Constructor;\n",
      "import java.lang.reflect.InvocationTargetException;\n",
      "import java.lang.reflect.Method;\n",
      "\n",
      "\n"
     ]
    }
   ],
   "source": [
    "print(chunk2.get_conflict_text())"
   ]
  },
  {
   "cell_type": "markdown",
   "metadata": {},
   "source": [
    "##### "
   ]
  },
  {
   "cell_type": "markdown",
   "metadata": {},
   "source": [
    "##### Resolution"
   ]
  },
  {
   "cell_type": "code",
   "execution_count": 19,
   "metadata": {},
   "outputs": [
    {
     "name": "stdout",
     "output_type": "stream",
     "text": [
      "package cuke4duke.internal.java;\n",
      "\n",
      "import cuke4duke.*;\n",
      "import cuke4duke.internal.language.LanguageMixin;\n",
      "import cuke4duke.internal.language.ProgrammingLanguage;\n",
      "import cuke4duke.internal.language.StepDefinition;\n",
      "\n",
      "import java.lang.reflect.Constructor;\n",
      "import java.lang.reflect.InvocationTargetException;\n",
      "import java.lang.reflect.Method;\n",
      "\n"
     ]
    }
   ],
   "source": [
    "print(chunk2.resolution)"
   ]
  },
  {
   "cell_type": "markdown",
   "metadata": {},
   "source": [
    "The order of the imports was changed in the resolution"
   ]
  },
  {
   "cell_type": "markdown",
   "metadata": {},
   "source": [
    "##### Chunk 3"
   ]
  },
  {
   "cell_type": "code",
   "execution_count": 20,
   "metadata": {},
   "outputs": [],
   "source": [
    "chunk3 = Chunk(sample.iloc[2]['chunk_id'])"
   ]
  },
  {
   "cell_type": "markdown",
   "metadata": {},
   "source": [
    "##### Conflicting chunk text"
   ]
  },
  {
   "cell_type": "code",
   "execution_count": 21,
   "metadata": {},
   "outputs": [
    {
     "name": "stdout",
     "output_type": "stream",
     "text": [
      "\n",
      "import com.nononsenseapps.notepad.FragmentLayout;\n",
      "import com.nononsenseapps.notepad.NotePad;\n",
      "<<<<<<<\n",
      "import com.nononsenseapps.notepad.NotesPreferenceFragment;\n",
      "import com.nononsenseapps.notepad_donate.R;\n",
      "import com.nononsenseapps.notepad_donate.widget.ListWidgetProvider;\n",
      "=======\n",
      "import com.nononsenseapps.notepad.R;\n",
      "import com.nononsenseapps.notepad.prefs.MainPrefs;\n",
      ">>>>>>>\n",
      "\n",
      "import android.app.ActionBar;\n",
      "import android.app.Activity;\n",
      "\n",
      "\n"
     ]
    }
   ],
   "source": [
    "print(chunk3.get_conflict_text())"
   ]
  },
  {
   "cell_type": "markdown",
   "metadata": {},
   "source": [
    "##### Resolution"
   ]
  },
  {
   "cell_type": "code",
   "execution_count": 22,
   "metadata": {
    "scrolled": true
   },
   "outputs": [
    {
     "name": "stdout",
     "output_type": "stream",
     "text": [
      "\n",
      "import com.nononsenseapps.notepad.FragmentLayout;\n",
      "import com.nononsenseapps.notepad.NotePad;\n",
      "import com.nononsenseapps.notepad_donate.widget.ListWidgetProvider;\n",
      "import com.nononsenseapps.notepad_donate.R;\n",
      "import com.nononsenseapps.notepad.prefs.MainPrefs;\n",
      "\n",
      "import android.app.ActionBar;\n",
      "import android.app.Activity;\n",
      "\n"
     ]
    }
   ],
   "source": [
    "print(chunk3.resolution)"
   ]
  },
  {
   "cell_type": "markdown",
   "metadata": {},
   "source": [
    "The line containing \"import com.nononsenseapps.notepad_donate.widget.ListWidgetProvider;\" was changed in the resolution"
   ]
  },
  {
   "cell_type": "markdown",
   "metadata": {},
   "source": [
    "##### Chunk 4"
   ]
  },
  {
   "cell_type": "code",
   "execution_count": 23,
   "metadata": {},
   "outputs": [],
   "source": [
    "chunk4 = Chunk(sample.iloc[3]['chunk_id'])"
   ]
  },
  {
   "cell_type": "markdown",
   "metadata": {},
   "source": [
    "##### Conflicting chunk text"
   ]
  },
  {
   "cell_type": "code",
   "execution_count": 24,
   "metadata": {},
   "outputs": [
    {
     "name": "stdout",
     "output_type": "stream",
     "text": [
      "import com.t_oster.visicut.model.VectorProfile;\n",
      "import com.t_oster.visicut.model.graphicelements.psvgsupport.ParametricPlfPart;\n",
      "import com.t_oster.visicut.model.mapping.MappingSet;\n",
      "<<<<<<<\n",
      "import com.tur0kk.SocialPlatformIcon;\n",
      "import com.tur0kk.facebook.FacebookManager;\n",
      "import com.tur0kk.facebook.gui.FacebookDialog;\n",
      "=======\n",
      "import com.tur0kk.thingiverse.ThingiverseManager;\n",
      "import com.tur0kk.SocialPlatformIcon;\n",
      ">>>>>>>\n",
      "import java.awt.Desktop;\n",
      "import java.awt.Dimension;\n",
      "import java.awt.FileDialog;\n",
      "\n",
      "\n"
     ]
    }
   ],
   "source": [
    "print(chunk4.get_conflict_text())"
   ]
  },
  {
   "cell_type": "markdown",
   "metadata": {},
   "source": [
    "##### Resolution"
   ]
  },
  {
   "cell_type": "code",
   "execution_count": 25,
   "metadata": {
    "scrolled": true
   },
   "outputs": [
    {
     "name": "stdout",
     "output_type": "stream",
     "text": [
      "import com.t_oster.visicut.model.VectorProfile;\n",
      "import com.t_oster.visicut.model.graphicelements.psvgsupport.ParametricPlfPart;\n",
      "import com.t_oster.visicut.model.mapping.MappingSet;\n",
      "import com.tur0kk.SocialPlatformIcon;\n",
      "import com.tur0kk.facebook.FacebookManager;\n",
      "import com.tur0kk.facebook.gui.FacebookDialog;\n",
      "import com.tur0kk.thingiverse.ThingiverseManager;\n",
      "import java.awt.Desktop;\n",
      "import java.awt.Dimension;\n",
      "import java.awt.FileDialog;\n",
      "\n"
     ]
    }
   ],
   "source": [
    "print(chunk4.resolution)"
   ]
  },
  {
   "cell_type": "markdown",
   "metadata": {},
   "source": [
    "The line containing \"import com.tur0kk.SocialPlatformIcon;\" appears in both sides of the chunk. In V1, its index is 1, while in V2 its index is 2. It is the first line in the resolution (after context).\n",
    "The line \"import com.tur0kk.thingiverse.ThingiverseManager;\" appears in V2 at index 1. However it appears in the resolution after the occurrence of the \"import com.tur0kk.SocialPlatformIcon;\" line. Thus, the partial order from V2 is violated."
   ]
  },
  {
   "cell_type": "markdown",
   "metadata": {},
   "source": [
    "##### Chunk 5"
   ]
  },
  {
   "cell_type": "code",
   "execution_count": 26,
   "metadata": {},
   "outputs": [],
   "source": [
    "chunk5 = Chunk(sample.iloc[4]['chunk_id'])"
   ]
  },
  {
   "cell_type": "markdown",
   "metadata": {},
   "source": [
    "##### Conflicting chunk text"
   ]
  },
  {
   "cell_type": "code",
   "execution_count": 27,
   "metadata": {},
   "outputs": [
    {
     "name": "stdout",
     "output_type": "stream",
     "text": [
      "        .put(\"thesuntvpicks\", TheSunModule.class)\n",
      "        .put(\"rovi\", RoviModule.class)\n",
      "        .put(\"rte\", RteModule.class)\n",
      "<<<<<<<\n",
      "        .put(\"btvod\", BtVodModule.class)\n",
      "        .put(\"bbc-audience-data\", AudienceModule.class)\n",
      "=======\n",
      "        .put(\"bt-channels\", BtChannelsModule.class)\n",
      "        .put(\"bbc-audience-data\", AudienceModule.class)\n",
      "        .put(\"btvod\", BtVodModule.class)\n",
      ">>>>>>>\n",
      "    .build();\n",
      "\n",
      "    public Iterable<? extends Class<?>> enabledModules() {\n",
      "\n",
      "\n"
     ]
    }
   ],
   "source": [
    "print(chunk5.get_conflict_text())"
   ]
  },
  {
   "cell_type": "markdown",
   "metadata": {},
   "source": [
    "##### Resolution"
   ]
  },
  {
   "cell_type": "code",
   "execution_count": 28,
   "metadata": {
    "scrolled": true
   },
   "outputs": [
    {
     "name": "stdout",
     "output_type": "stream",
     "text": [
      "        .put(\"thesuntvpicks\", TheSunModule.class)\n",
      "        .put(\"rovi\", RoviModule.class)\n",
      "        .put(\"rte\", RteModule.class)\n",
      "        .put(\"btvod\", BtVodModule.class)\n",
      "        .put(\"bbc-audience-data\", AudienceModule.class)\n",
      "        .put(\"bt-channels\", BtChannelsModule.class)\n",
      "    .build();\n",
      "\n",
      "    public Iterable<? extends Class<?>> enabledModules() {\n",
      "\n"
     ]
    }
   ],
   "source": [
    "print(chunk5.resolution)"
   ]
  },
  {
   "cell_type": "markdown",
   "metadata": {},
   "source": [
    "The line containing \".put(\"btvod\", BtVodModule.class)\" appears in both sides of the chunk. In V1, its index is 1, while in V2 its index is 3. It is the first line in the resolution (after context).\n",
    "The line \".put(\"bbc-audience-data\", AudienceModule.class)\" appears in V2 at index 2. However it appears in the resolution after the occurrence of the \".put(\"btvod\", BtVodModule.class)\" line. Thus, the partial order from V2 is violated."
   ]
  },
  {
   "cell_type": "code",
   "execution_count": null,
   "metadata": {},
   "outputs": [],
   "source": []
  }
 ],
 "metadata": {
  "interpreter": {
   "hash": "ba8b8902bd6837e679b9c6dd4fd4f388514857329c6f0a22599e2859d4d8f900"
  },
  "kernelspec": {
   "display_name": "Python 3",
   "language": "python",
   "name": "python3"
  },
  "language_info": {
   "codemirror_mode": {
    "name": "ipython",
    "version": 3
   },
   "file_extension": ".py",
   "mimetype": "text/x-python",
   "name": "python",
   "nbconvert_exporter": "python",
   "pygments_lexer": "ipython3",
   "version": "3.8.5"
  }
 },
 "nbformat": 4,
 "nbformat_minor": 2
}
